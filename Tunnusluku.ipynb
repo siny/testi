{
 "cells": [
  {
   "cell_type": "markdown",
   "metadata": {},
   "source": [
    "<h1>Tilastollisia tunnuslukuja</h1>\n",
    "\n",
    "Määrällisille muuttujille lasketaan tyypillisesti arvojen lukumäärä, keskiarvo, keskihajonta ja viiden luvun yhteenveto."
   ]
  },
  {
   "cell_type": "code",
   "execution_count": 1,
   "metadata": {},
   "outputs": [],
   "source": [
    "import pandas as pd\n",
    "import matplotlib.pyplot as plt\n",
    "%matplotlib inline\n",
    "\n",
    "# Tyyli vaikuttaa kaavioiden ulkoasuun\n",
    "# Käytettävissä olevat tyylit voit listata komennolla plt.style.available\n",
    "plt.style.use('seaborn-whitegrid')"
   ]
  },
  {
   "cell_type": "code",
   "execution_count": 2,
   "metadata": {},
   "outputs": [
    {
     "data": {
      "text/html": [
       "<div>\n",
       "<style scoped>\n",
       "    .dataframe tbody tr th:only-of-type {\n",
       "        vertical-align: middle;\n",
       "    }\n",
       "\n",
       "    .dataframe tbody tr th {\n",
       "        vertical-align: top;\n",
       "    }\n",
       "\n",
       "    .dataframe thead th {\n",
       "        text-align: right;\n",
       "    }\n",
       "</style>\n",
       "<table border=\"1\" class=\"dataframe\">\n",
       "  <thead>\n",
       "    <tr style=\"text-align: right;\">\n",
       "      <th></th>\n",
       "      <th>nro</th>\n",
       "      <th>sukup</th>\n",
       "      <th>ikä</th>\n",
       "      <th>perhe</th>\n",
       "      <th>koulutus</th>\n",
       "      <th>palveluv</th>\n",
       "      <th>palkka</th>\n",
       "      <th>johto</th>\n",
       "      <th>työtov</th>\n",
       "      <th>työymp</th>\n",
       "      <th>palkkat</th>\n",
       "      <th>työteht</th>\n",
       "      <th>työterv</th>\n",
       "      <th>lomaosa</th>\n",
       "      <th>kuntosa</th>\n",
       "      <th>hieroja</th>\n",
       "    </tr>\n",
       "  </thead>\n",
       "  <tbody>\n",
       "    <tr>\n",
       "      <th>0</th>\n",
       "      <td>1</td>\n",
       "      <td>1</td>\n",
       "      <td>38</td>\n",
       "      <td>1</td>\n",
       "      <td>1.0</td>\n",
       "      <td>22.0</td>\n",
       "      <td>3587</td>\n",
       "      <td>3</td>\n",
       "      <td>3.0</td>\n",
       "      <td>3</td>\n",
       "      <td>3</td>\n",
       "      <td>3</td>\n",
       "      <td>NaN</td>\n",
       "      <td>NaN</td>\n",
       "      <td>NaN</td>\n",
       "      <td>NaN</td>\n",
       "    </tr>\n",
       "    <tr>\n",
       "      <th>1</th>\n",
       "      <td>2</td>\n",
       "      <td>1</td>\n",
       "      <td>29</td>\n",
       "      <td>2</td>\n",
       "      <td>2.0</td>\n",
       "      <td>10.0</td>\n",
       "      <td>2963</td>\n",
       "      <td>1</td>\n",
       "      <td>5.0</td>\n",
       "      <td>2</td>\n",
       "      <td>1</td>\n",
       "      <td>3</td>\n",
       "      <td>NaN</td>\n",
       "      <td>NaN</td>\n",
       "      <td>NaN</td>\n",
       "      <td>NaN</td>\n",
       "    </tr>\n",
       "    <tr>\n",
       "      <th>2</th>\n",
       "      <td>3</td>\n",
       "      <td>1</td>\n",
       "      <td>30</td>\n",
       "      <td>1</td>\n",
       "      <td>1.0</td>\n",
       "      <td>7.0</td>\n",
       "      <td>1989</td>\n",
       "      <td>3</td>\n",
       "      <td>4.0</td>\n",
       "      <td>1</td>\n",
       "      <td>1</td>\n",
       "      <td>3</td>\n",
       "      <td>1.0</td>\n",
       "      <td>NaN</td>\n",
       "      <td>NaN</td>\n",
       "      <td>NaN</td>\n",
       "    </tr>\n",
       "    <tr>\n",
       "      <th>3</th>\n",
       "      <td>4</td>\n",
       "      <td>1</td>\n",
       "      <td>36</td>\n",
       "      <td>2</td>\n",
       "      <td>1.0</td>\n",
       "      <td>14.0</td>\n",
       "      <td>2144</td>\n",
       "      <td>3</td>\n",
       "      <td>3.0</td>\n",
       "      <td>3</td>\n",
       "      <td>3</td>\n",
       "      <td>3</td>\n",
       "      <td>1.0</td>\n",
       "      <td>NaN</td>\n",
       "      <td>NaN</td>\n",
       "      <td>NaN</td>\n",
       "    </tr>\n",
       "    <tr>\n",
       "      <th>4</th>\n",
       "      <td>5</td>\n",
       "      <td>1</td>\n",
       "      <td>24</td>\n",
       "      <td>1</td>\n",
       "      <td>2.0</td>\n",
       "      <td>4.0</td>\n",
       "      <td>2183</td>\n",
       "      <td>2</td>\n",
       "      <td>3.0</td>\n",
       "      <td>2</td>\n",
       "      <td>1</td>\n",
       "      <td>2</td>\n",
       "      <td>1.0</td>\n",
       "      <td>NaN</td>\n",
       "      <td>NaN</td>\n",
       "      <td>NaN</td>\n",
       "    </tr>\n",
       "  </tbody>\n",
       "</table>\n",
       "</div>"
      ],
      "text/plain": [
       "   nro  sukup  ikä  perhe  koulutus  palveluv  palkka  johto  työtov  työymp  \\\n",
       "0    1      1   38      1       1.0      22.0    3587      3     3.0       3   \n",
       "1    2      1   29      2       2.0      10.0    2963      1     5.0       2   \n",
       "2    3      1   30      1       1.0       7.0    1989      3     4.0       1   \n",
       "3    4      1   36      2       1.0      14.0    2144      3     3.0       3   \n",
       "4    5      1   24      1       2.0       4.0    2183      2     3.0       2   \n",
       "\n",
       "   palkkat  työteht  työterv  lomaosa  kuntosa  hieroja  \n",
       "0        3        3      NaN      NaN      NaN      NaN  \n",
       "1        1        3      NaN      NaN      NaN      NaN  \n",
       "2        1        3      1.0      NaN      NaN      NaN  \n",
       "3        3        3      1.0      NaN      NaN      NaN  \n",
       "4        1        2      1.0      NaN      NaN      NaN  "
      ]
     },
     "execution_count": 2,
     "metadata": {},
     "output_type": "execute_result"
    }
   ],
   "source": [
    "# Datan avaaminen\n",
    "df = pd.read_excel('http://taanila.fi/data1.xlsx')\n",
    "df.head()"
   ]
  },
  {
   "cell_type": "markdown",
   "metadata": {},
   "source": [
    "<h2>describe() laskee tunnusluvut</h2>"
   ]
  },
  {
   "cell_type": "code",
   "execution_count": 3,
   "metadata": {},
   "outputs": [
    {
     "data": {
      "text/html": [
       "<style  type=\"text/css\" >\n",
       "</style><table id=\"T_6f956c06_11d3_11ea_9122_d8fc933d7534\" ><thead>    <tr>        <th class=\"blank level0\" ></th>        <th class=\"col_heading level0 col0\" >nro</th>        <th class=\"col_heading level0 col1\" >sukup</th>        <th class=\"col_heading level0 col2\" >ikä</th>        <th class=\"col_heading level0 col3\" >perhe</th>        <th class=\"col_heading level0 col4\" >koulutus</th>        <th class=\"col_heading level0 col5\" >palveluv</th>        <th class=\"col_heading level0 col6\" >palkka</th>        <th class=\"col_heading level0 col7\" >johto</th>        <th class=\"col_heading level0 col8\" >työtov</th>        <th class=\"col_heading level0 col9\" >työymp</th>        <th class=\"col_heading level0 col10\" >palkkat</th>        <th class=\"col_heading level0 col11\" >työteht</th>        <th class=\"col_heading level0 col12\" >työterv</th>        <th class=\"col_heading level0 col13\" >lomaosa</th>        <th class=\"col_heading level0 col14\" >kuntosa</th>        <th class=\"col_heading level0 col15\" >hieroja</th>    </tr></thead><tbody>\n",
       "                <tr>\n",
       "                        <th id=\"T_6f956c06_11d3_11ea_9122_d8fc933d7534level0_row0\" class=\"row_heading level0 row0\" >count</th>\n",
       "                        <td id=\"T_6f956c06_11d3_11ea_9122_d8fc933d7534row0_col0\" class=\"data row0 col0\" >82.00</td>\n",
       "                        <td id=\"T_6f956c06_11d3_11ea_9122_d8fc933d7534row0_col1\" class=\"data row0 col1\" >82.00</td>\n",
       "                        <td id=\"T_6f956c06_11d3_11ea_9122_d8fc933d7534row0_col2\" class=\"data row0 col2\" >82.00</td>\n",
       "                        <td id=\"T_6f956c06_11d3_11ea_9122_d8fc933d7534row0_col3\" class=\"data row0 col3\" >82.00</td>\n",
       "                        <td id=\"T_6f956c06_11d3_11ea_9122_d8fc933d7534row0_col4\" class=\"data row0 col4\" >81.00</td>\n",
       "                        <td id=\"T_6f956c06_11d3_11ea_9122_d8fc933d7534row0_col5\" class=\"data row0 col5\" >80.00</td>\n",
       "                        <td id=\"T_6f956c06_11d3_11ea_9122_d8fc933d7534row0_col6\" class=\"data row0 col6\" >82.00</td>\n",
       "                        <td id=\"T_6f956c06_11d3_11ea_9122_d8fc933d7534row0_col7\" class=\"data row0 col7\" >82.00</td>\n",
       "                        <td id=\"T_6f956c06_11d3_11ea_9122_d8fc933d7534row0_col8\" class=\"data row0 col8\" >81.00</td>\n",
       "                        <td id=\"T_6f956c06_11d3_11ea_9122_d8fc933d7534row0_col9\" class=\"data row0 col9\" >82.00</td>\n",
       "                        <td id=\"T_6f956c06_11d3_11ea_9122_d8fc933d7534row0_col10\" class=\"data row0 col10\" >82.00</td>\n",
       "                        <td id=\"T_6f956c06_11d3_11ea_9122_d8fc933d7534row0_col11\" class=\"data row0 col11\" >82.00</td>\n",
       "                        <td id=\"T_6f956c06_11d3_11ea_9122_d8fc933d7534row0_col12\" class=\"data row0 col12\" >47.00</td>\n",
       "                        <td id=\"T_6f956c06_11d3_11ea_9122_d8fc933d7534row0_col13\" class=\"data row0 col13\" >20.00</td>\n",
       "                        <td id=\"T_6f956c06_11d3_11ea_9122_d8fc933d7534row0_col14\" class=\"data row0 col14\" >9.00</td>\n",
       "                        <td id=\"T_6f956c06_11d3_11ea_9122_d8fc933d7534row0_col15\" class=\"data row0 col15\" >22.00</td>\n",
       "            </tr>\n",
       "            <tr>\n",
       "                        <th id=\"T_6f956c06_11d3_11ea_9122_d8fc933d7534level0_row1\" class=\"row_heading level0 row1\" >mean</th>\n",
       "                        <td id=\"T_6f956c06_11d3_11ea_9122_d8fc933d7534row1_col0\" class=\"data row1 col0\" >41.50</td>\n",
       "                        <td id=\"T_6f956c06_11d3_11ea_9122_d8fc933d7534row1_col1\" class=\"data row1 col1\" >1.23</td>\n",
       "                        <td id=\"T_6f956c06_11d3_11ea_9122_d8fc933d7534row1_col2\" class=\"data row1 col2\" >37.95</td>\n",
       "                        <td id=\"T_6f956c06_11d3_11ea_9122_d8fc933d7534row1_col3\" class=\"data row1 col3\" >1.62</td>\n",
       "                        <td id=\"T_6f956c06_11d3_11ea_9122_d8fc933d7534row1_col4\" class=\"data row1 col4\" >1.99</td>\n",
       "                        <td id=\"T_6f956c06_11d3_11ea_9122_d8fc933d7534row1_col5\" class=\"data row1 col5\" >12.18</td>\n",
       "                        <td id=\"T_6f956c06_11d3_11ea_9122_d8fc933d7534row1_col6\" class=\"data row1 col6\" >2563.88</td>\n",
       "                        <td id=\"T_6f956c06_11d3_11ea_9122_d8fc933d7534row1_col7\" class=\"data row1 col7\" >3.06</td>\n",
       "                        <td id=\"T_6f956c06_11d3_11ea_9122_d8fc933d7534row1_col8\" class=\"data row1 col8\" >4.06</td>\n",
       "                        <td id=\"T_6f956c06_11d3_11ea_9122_d8fc933d7534row1_col9\" class=\"data row1 col9\" >3.22</td>\n",
       "                        <td id=\"T_6f956c06_11d3_11ea_9122_d8fc933d7534row1_col10\" class=\"data row1 col10\" >2.11</td>\n",
       "                        <td id=\"T_6f956c06_11d3_11ea_9122_d8fc933d7534row1_col11\" class=\"data row1 col11\" >3.20</td>\n",
       "                        <td id=\"T_6f956c06_11d3_11ea_9122_d8fc933d7534row1_col12\" class=\"data row1 col12\" >1.00</td>\n",
       "                        <td id=\"T_6f956c06_11d3_11ea_9122_d8fc933d7534row1_col13\" class=\"data row1 col13\" >1.00</td>\n",
       "                        <td id=\"T_6f956c06_11d3_11ea_9122_d8fc933d7534row1_col14\" class=\"data row1 col14\" >1.00</td>\n",
       "                        <td id=\"T_6f956c06_11d3_11ea_9122_d8fc933d7534row1_col15\" class=\"data row1 col15\" >1.00</td>\n",
       "            </tr>\n",
       "            <tr>\n",
       "                        <th id=\"T_6f956c06_11d3_11ea_9122_d8fc933d7534level0_row2\" class=\"row_heading level0 row2\" >std</th>\n",
       "                        <td id=\"T_6f956c06_11d3_11ea_9122_d8fc933d7534row2_col0\" class=\"data row2 col0\" >23.82</td>\n",
       "                        <td id=\"T_6f956c06_11d3_11ea_9122_d8fc933d7534row2_col1\" class=\"data row2 col1\" >0.42</td>\n",
       "                        <td id=\"T_6f956c06_11d3_11ea_9122_d8fc933d7534row2_col2\" class=\"data row2 col2\" >9.77</td>\n",
       "                        <td id=\"T_6f956c06_11d3_11ea_9122_d8fc933d7534row2_col3\" class=\"data row2 col3\" >0.49</td>\n",
       "                        <td id=\"T_6f956c06_11d3_11ea_9122_d8fc933d7534row2_col4\" class=\"data row2 col4\" >0.84</td>\n",
       "                        <td id=\"T_6f956c06_11d3_11ea_9122_d8fc933d7534row2_col5\" class=\"data row2 col5\" >8.81</td>\n",
       "                        <td id=\"T_6f956c06_11d3_11ea_9122_d8fc933d7534row2_col6\" class=\"data row2 col6\" >849.35</td>\n",
       "                        <td id=\"T_6f956c06_11d3_11ea_9122_d8fc933d7534row2_col7\" class=\"data row2 col7\" >1.06</td>\n",
       "                        <td id=\"T_6f956c06_11d3_11ea_9122_d8fc933d7534row2_col8\" class=\"data row2 col8\" >0.83</td>\n",
       "                        <td id=\"T_6f956c06_11d3_11ea_9122_d8fc933d7534row2_col9\" class=\"data row2 col9\" >1.15</td>\n",
       "                        <td id=\"T_6f956c06_11d3_11ea_9122_d8fc933d7534row2_col10\" class=\"data row2 col10\" >1.11</td>\n",
       "                        <td id=\"T_6f956c06_11d3_11ea_9122_d8fc933d7534row2_col11\" class=\"data row2 col11\" >1.05</td>\n",
       "                        <td id=\"T_6f956c06_11d3_11ea_9122_d8fc933d7534row2_col12\" class=\"data row2 col12\" >0.00</td>\n",
       "                        <td id=\"T_6f956c06_11d3_11ea_9122_d8fc933d7534row2_col13\" class=\"data row2 col13\" >0.00</td>\n",
       "                        <td id=\"T_6f956c06_11d3_11ea_9122_d8fc933d7534row2_col14\" class=\"data row2 col14\" >0.00</td>\n",
       "                        <td id=\"T_6f956c06_11d3_11ea_9122_d8fc933d7534row2_col15\" class=\"data row2 col15\" >0.00</td>\n",
       "            </tr>\n",
       "            <tr>\n",
       "                        <th id=\"T_6f956c06_11d3_11ea_9122_d8fc933d7534level0_row3\" class=\"row_heading level0 row3\" >min</th>\n",
       "                        <td id=\"T_6f956c06_11d3_11ea_9122_d8fc933d7534row3_col0\" class=\"data row3 col0\" >1.00</td>\n",
       "                        <td id=\"T_6f956c06_11d3_11ea_9122_d8fc933d7534row3_col1\" class=\"data row3 col1\" >1.00</td>\n",
       "                        <td id=\"T_6f956c06_11d3_11ea_9122_d8fc933d7534row3_col2\" class=\"data row3 col2\" >20.00</td>\n",
       "                        <td id=\"T_6f956c06_11d3_11ea_9122_d8fc933d7534row3_col3\" class=\"data row3 col3\" >1.00</td>\n",
       "                        <td id=\"T_6f956c06_11d3_11ea_9122_d8fc933d7534row3_col4\" class=\"data row3 col4\" >1.00</td>\n",
       "                        <td id=\"T_6f956c06_11d3_11ea_9122_d8fc933d7534row3_col5\" class=\"data row3 col5\" >0.00</td>\n",
       "                        <td id=\"T_6f956c06_11d3_11ea_9122_d8fc933d7534row3_col6\" class=\"data row3 col6\" >1521.00</td>\n",
       "                        <td id=\"T_6f956c06_11d3_11ea_9122_d8fc933d7534row3_col7\" class=\"data row3 col7\" >1.00</td>\n",
       "                        <td id=\"T_6f956c06_11d3_11ea_9122_d8fc933d7534row3_col8\" class=\"data row3 col8\" >2.00</td>\n",
       "                        <td id=\"T_6f956c06_11d3_11ea_9122_d8fc933d7534row3_col9\" class=\"data row3 col9\" >1.00</td>\n",
       "                        <td id=\"T_6f956c06_11d3_11ea_9122_d8fc933d7534row3_col10\" class=\"data row3 col10\" >1.00</td>\n",
       "                        <td id=\"T_6f956c06_11d3_11ea_9122_d8fc933d7534row3_col11\" class=\"data row3 col11\" >1.00</td>\n",
       "                        <td id=\"T_6f956c06_11d3_11ea_9122_d8fc933d7534row3_col12\" class=\"data row3 col12\" >1.00</td>\n",
       "                        <td id=\"T_6f956c06_11d3_11ea_9122_d8fc933d7534row3_col13\" class=\"data row3 col13\" >1.00</td>\n",
       "                        <td id=\"T_6f956c06_11d3_11ea_9122_d8fc933d7534row3_col14\" class=\"data row3 col14\" >1.00</td>\n",
       "                        <td id=\"T_6f956c06_11d3_11ea_9122_d8fc933d7534row3_col15\" class=\"data row3 col15\" >1.00</td>\n",
       "            </tr>\n",
       "            <tr>\n",
       "                        <th id=\"T_6f956c06_11d3_11ea_9122_d8fc933d7534level0_row4\" class=\"row_heading level0 row4\" >25%</th>\n",
       "                        <td id=\"T_6f956c06_11d3_11ea_9122_d8fc933d7534row4_col0\" class=\"data row4 col0\" >21.25</td>\n",
       "                        <td id=\"T_6f956c06_11d3_11ea_9122_d8fc933d7534row4_col1\" class=\"data row4 col1\" >1.00</td>\n",
       "                        <td id=\"T_6f956c06_11d3_11ea_9122_d8fc933d7534row4_col2\" class=\"data row4 col2\" >31.00</td>\n",
       "                        <td id=\"T_6f956c06_11d3_11ea_9122_d8fc933d7534row4_col3\" class=\"data row4 col3\" >1.00</td>\n",
       "                        <td id=\"T_6f956c06_11d3_11ea_9122_d8fc933d7534row4_col4\" class=\"data row4 col4\" >1.00</td>\n",
       "                        <td id=\"T_6f956c06_11d3_11ea_9122_d8fc933d7534row4_col5\" class=\"data row4 col5\" >3.75</td>\n",
       "                        <td id=\"T_6f956c06_11d3_11ea_9122_d8fc933d7534row4_col6\" class=\"data row4 col6\" >2027.00</td>\n",
       "                        <td id=\"T_6f956c06_11d3_11ea_9122_d8fc933d7534row4_col7\" class=\"data row4 col7\" >2.00</td>\n",
       "                        <td id=\"T_6f956c06_11d3_11ea_9122_d8fc933d7534row4_col8\" class=\"data row4 col8\" >4.00</td>\n",
       "                        <td id=\"T_6f956c06_11d3_11ea_9122_d8fc933d7534row4_col9\" class=\"data row4 col9\" >3.00</td>\n",
       "                        <td id=\"T_6f956c06_11d3_11ea_9122_d8fc933d7534row4_col10\" class=\"data row4 col10\" >1.00</td>\n",
       "                        <td id=\"T_6f956c06_11d3_11ea_9122_d8fc933d7534row4_col11\" class=\"data row4 col11\" >3.00</td>\n",
       "                        <td id=\"T_6f956c06_11d3_11ea_9122_d8fc933d7534row4_col12\" class=\"data row4 col12\" >1.00</td>\n",
       "                        <td id=\"T_6f956c06_11d3_11ea_9122_d8fc933d7534row4_col13\" class=\"data row4 col13\" >1.00</td>\n",
       "                        <td id=\"T_6f956c06_11d3_11ea_9122_d8fc933d7534row4_col14\" class=\"data row4 col14\" >1.00</td>\n",
       "                        <td id=\"T_6f956c06_11d3_11ea_9122_d8fc933d7534row4_col15\" class=\"data row4 col15\" >1.00</td>\n",
       "            </tr>\n",
       "            <tr>\n",
       "                        <th id=\"T_6f956c06_11d3_11ea_9122_d8fc933d7534level0_row5\" class=\"row_heading level0 row5\" >50%</th>\n",
       "                        <td id=\"T_6f956c06_11d3_11ea_9122_d8fc933d7534row5_col0\" class=\"data row5 col0\" >41.50</td>\n",
       "                        <td id=\"T_6f956c06_11d3_11ea_9122_d8fc933d7534row5_col1\" class=\"data row5 col1\" >1.00</td>\n",
       "                        <td id=\"T_6f956c06_11d3_11ea_9122_d8fc933d7534row5_col2\" class=\"data row5 col2\" >37.50</td>\n",
       "                        <td id=\"T_6f956c06_11d3_11ea_9122_d8fc933d7534row5_col3\" class=\"data row5 col3\" >2.00</td>\n",
       "                        <td id=\"T_6f956c06_11d3_11ea_9122_d8fc933d7534row5_col4\" class=\"data row5 col4\" >2.00</td>\n",
       "                        <td id=\"T_6f956c06_11d3_11ea_9122_d8fc933d7534row5_col5\" class=\"data row5 col5\" >12.50</td>\n",
       "                        <td id=\"T_6f956c06_11d3_11ea_9122_d8fc933d7534row5_col6\" class=\"data row5 col6\" >2320.00</td>\n",
       "                        <td id=\"T_6f956c06_11d3_11ea_9122_d8fc933d7534row5_col7\" class=\"data row5 col7\" >3.00</td>\n",
       "                        <td id=\"T_6f956c06_11d3_11ea_9122_d8fc933d7534row5_col8\" class=\"data row5 col8\" >4.00</td>\n",
       "                        <td id=\"T_6f956c06_11d3_11ea_9122_d8fc933d7534row5_col9\" class=\"data row5 col9\" >3.00</td>\n",
       "                        <td id=\"T_6f956c06_11d3_11ea_9122_d8fc933d7534row5_col10\" class=\"data row5 col10\" >2.00</td>\n",
       "                        <td id=\"T_6f956c06_11d3_11ea_9122_d8fc933d7534row5_col11\" class=\"data row5 col11\" >3.00</td>\n",
       "                        <td id=\"T_6f956c06_11d3_11ea_9122_d8fc933d7534row5_col12\" class=\"data row5 col12\" >1.00</td>\n",
       "                        <td id=\"T_6f956c06_11d3_11ea_9122_d8fc933d7534row5_col13\" class=\"data row5 col13\" >1.00</td>\n",
       "                        <td id=\"T_6f956c06_11d3_11ea_9122_d8fc933d7534row5_col14\" class=\"data row5 col14\" >1.00</td>\n",
       "                        <td id=\"T_6f956c06_11d3_11ea_9122_d8fc933d7534row5_col15\" class=\"data row5 col15\" >1.00</td>\n",
       "            </tr>\n",
       "            <tr>\n",
       "                        <th id=\"T_6f956c06_11d3_11ea_9122_d8fc933d7534level0_row6\" class=\"row_heading level0 row6\" >75%</th>\n",
       "                        <td id=\"T_6f956c06_11d3_11ea_9122_d8fc933d7534row6_col0\" class=\"data row6 col0\" >61.75</td>\n",
       "                        <td id=\"T_6f956c06_11d3_11ea_9122_d8fc933d7534row6_col1\" class=\"data row6 col1\" >1.00</td>\n",
       "                        <td id=\"T_6f956c06_11d3_11ea_9122_d8fc933d7534row6_col2\" class=\"data row6 col2\" >44.00</td>\n",
       "                        <td id=\"T_6f956c06_11d3_11ea_9122_d8fc933d7534row6_col3\" class=\"data row6 col3\" >2.00</td>\n",
       "                        <td id=\"T_6f956c06_11d3_11ea_9122_d8fc933d7534row6_col4\" class=\"data row6 col4\" >3.00</td>\n",
       "                        <td id=\"T_6f956c06_11d3_11ea_9122_d8fc933d7534row6_col5\" class=\"data row6 col5\" >18.25</td>\n",
       "                        <td id=\"T_6f956c06_11d3_11ea_9122_d8fc933d7534row6_col6\" class=\"data row6 col6\" >2808.00</td>\n",
       "                        <td id=\"T_6f956c06_11d3_11ea_9122_d8fc933d7534row6_col7\" class=\"data row6 col7\" >4.00</td>\n",
       "                        <td id=\"T_6f956c06_11d3_11ea_9122_d8fc933d7534row6_col8\" class=\"data row6 col8\" >5.00</td>\n",
       "                        <td id=\"T_6f956c06_11d3_11ea_9122_d8fc933d7534row6_col9\" class=\"data row6 col9\" >4.00</td>\n",
       "                        <td id=\"T_6f956c06_11d3_11ea_9122_d8fc933d7534row6_col10\" class=\"data row6 col10\" >3.00</td>\n",
       "                        <td id=\"T_6f956c06_11d3_11ea_9122_d8fc933d7534row6_col11\" class=\"data row6 col11\" >4.00</td>\n",
       "                        <td id=\"T_6f956c06_11d3_11ea_9122_d8fc933d7534row6_col12\" class=\"data row6 col12\" >1.00</td>\n",
       "                        <td id=\"T_6f956c06_11d3_11ea_9122_d8fc933d7534row6_col13\" class=\"data row6 col13\" >1.00</td>\n",
       "                        <td id=\"T_6f956c06_11d3_11ea_9122_d8fc933d7534row6_col14\" class=\"data row6 col14\" >1.00</td>\n",
       "                        <td id=\"T_6f956c06_11d3_11ea_9122_d8fc933d7534row6_col15\" class=\"data row6 col15\" >1.00</td>\n",
       "            </tr>\n",
       "            <tr>\n",
       "                        <th id=\"T_6f956c06_11d3_11ea_9122_d8fc933d7534level0_row7\" class=\"row_heading level0 row7\" >max</th>\n",
       "                        <td id=\"T_6f956c06_11d3_11ea_9122_d8fc933d7534row7_col0\" class=\"data row7 col0\" >82.00</td>\n",
       "                        <td id=\"T_6f956c06_11d3_11ea_9122_d8fc933d7534row7_col1\" class=\"data row7 col1\" >2.00</td>\n",
       "                        <td id=\"T_6f956c06_11d3_11ea_9122_d8fc933d7534row7_col2\" class=\"data row7 col2\" >61.00</td>\n",
       "                        <td id=\"T_6f956c06_11d3_11ea_9122_d8fc933d7534row7_col3\" class=\"data row7 col3\" >2.00</td>\n",
       "                        <td id=\"T_6f956c06_11d3_11ea_9122_d8fc933d7534row7_col4\" class=\"data row7 col4\" >4.00</td>\n",
       "                        <td id=\"T_6f956c06_11d3_11ea_9122_d8fc933d7534row7_col5\" class=\"data row7 col5\" >36.00</td>\n",
       "                        <td id=\"T_6f956c06_11d3_11ea_9122_d8fc933d7534row7_col6\" class=\"data row7 col6\" >6278.00</td>\n",
       "                        <td id=\"T_6f956c06_11d3_11ea_9122_d8fc933d7534row7_col7\" class=\"data row7 col7\" >5.00</td>\n",
       "                        <td id=\"T_6f956c06_11d3_11ea_9122_d8fc933d7534row7_col8\" class=\"data row7 col8\" >5.00</td>\n",
       "                        <td id=\"T_6f956c06_11d3_11ea_9122_d8fc933d7534row7_col9\" class=\"data row7 col9\" >5.00</td>\n",
       "                        <td id=\"T_6f956c06_11d3_11ea_9122_d8fc933d7534row7_col10\" class=\"data row7 col10\" >5.00</td>\n",
       "                        <td id=\"T_6f956c06_11d3_11ea_9122_d8fc933d7534row7_col11\" class=\"data row7 col11\" >5.00</td>\n",
       "                        <td id=\"T_6f956c06_11d3_11ea_9122_d8fc933d7534row7_col12\" class=\"data row7 col12\" >1.00</td>\n",
       "                        <td id=\"T_6f956c06_11d3_11ea_9122_d8fc933d7534row7_col13\" class=\"data row7 col13\" >1.00</td>\n",
       "                        <td id=\"T_6f956c06_11d3_11ea_9122_d8fc933d7534row7_col14\" class=\"data row7 col14\" >1.00</td>\n",
       "                        <td id=\"T_6f956c06_11d3_11ea_9122_d8fc933d7534row7_col15\" class=\"data row7 col15\" >1.00</td>\n",
       "            </tr>\n",
       "    </tbody></table>"
      ],
      "text/plain": [
       "<pandas.io.formats.style.Styler at 0x13a179749b0>"
      ]
     },
     "execution_count": 3,
     "metadata": {},
     "output_type": "execute_result"
    }
   ],
   "source": [
    "# Tunnusluvut kahdella desimaalilla\n",
    "df.describe().style.format('{:.2f}')\n",
    "\n",
    "# Vaihtoehdoisesti voin pyöristää round-funktiolla\n",
    "#df.describe().round(2)"
   ]
  },
  {
   "cell_type": "code",
   "execution_count": 4,
   "metadata": {},
   "outputs": [
    {
     "data": {
      "text/html": [
       "<style  type=\"text/css\" >\n",
       "</style><table id=\"T_6fad2dd2_11d3_11ea_bce8_d8fc933d7534\" ><thead>    <tr>        <th class=\"blank level0\" ></th>        <th class=\"col_heading level0 col0\" >ikä</th>        <th class=\"col_heading level0 col1\" >palveluv</th>        <th class=\"col_heading level0 col2\" >palkka</th>    </tr></thead><tbody>\n",
       "                <tr>\n",
       "                        <th id=\"T_6fad2dd2_11d3_11ea_bce8_d8fc933d7534level0_row0\" class=\"row_heading level0 row0\" >count</th>\n",
       "                        <td id=\"T_6fad2dd2_11d3_11ea_bce8_d8fc933d7534row0_col0\" class=\"data row0 col0\" >82.00</td>\n",
       "                        <td id=\"T_6fad2dd2_11d3_11ea_bce8_d8fc933d7534row0_col1\" class=\"data row0 col1\" >80.00</td>\n",
       "                        <td id=\"T_6fad2dd2_11d3_11ea_bce8_d8fc933d7534row0_col2\" class=\"data row0 col2\" >82.00</td>\n",
       "            </tr>\n",
       "            <tr>\n",
       "                        <th id=\"T_6fad2dd2_11d3_11ea_bce8_d8fc933d7534level0_row1\" class=\"row_heading level0 row1\" >mean</th>\n",
       "                        <td id=\"T_6fad2dd2_11d3_11ea_bce8_d8fc933d7534row1_col0\" class=\"data row1 col0\" >37.95</td>\n",
       "                        <td id=\"T_6fad2dd2_11d3_11ea_bce8_d8fc933d7534row1_col1\" class=\"data row1 col1\" >12.18</td>\n",
       "                        <td id=\"T_6fad2dd2_11d3_11ea_bce8_d8fc933d7534row1_col2\" class=\"data row1 col2\" >2563.88</td>\n",
       "            </tr>\n",
       "            <tr>\n",
       "                        <th id=\"T_6fad2dd2_11d3_11ea_bce8_d8fc933d7534level0_row2\" class=\"row_heading level0 row2\" >std</th>\n",
       "                        <td id=\"T_6fad2dd2_11d3_11ea_bce8_d8fc933d7534row2_col0\" class=\"data row2 col0\" >9.77</td>\n",
       "                        <td id=\"T_6fad2dd2_11d3_11ea_bce8_d8fc933d7534row2_col1\" class=\"data row2 col1\" >8.81</td>\n",
       "                        <td id=\"T_6fad2dd2_11d3_11ea_bce8_d8fc933d7534row2_col2\" class=\"data row2 col2\" >849.35</td>\n",
       "            </tr>\n",
       "            <tr>\n",
       "                        <th id=\"T_6fad2dd2_11d3_11ea_bce8_d8fc933d7534level0_row3\" class=\"row_heading level0 row3\" >min</th>\n",
       "                        <td id=\"T_6fad2dd2_11d3_11ea_bce8_d8fc933d7534row3_col0\" class=\"data row3 col0\" >20.00</td>\n",
       "                        <td id=\"T_6fad2dd2_11d3_11ea_bce8_d8fc933d7534row3_col1\" class=\"data row3 col1\" >0.00</td>\n",
       "                        <td id=\"T_6fad2dd2_11d3_11ea_bce8_d8fc933d7534row3_col2\" class=\"data row3 col2\" >1521.00</td>\n",
       "            </tr>\n",
       "            <tr>\n",
       "                        <th id=\"T_6fad2dd2_11d3_11ea_bce8_d8fc933d7534level0_row4\" class=\"row_heading level0 row4\" >25%</th>\n",
       "                        <td id=\"T_6fad2dd2_11d3_11ea_bce8_d8fc933d7534row4_col0\" class=\"data row4 col0\" >31.00</td>\n",
       "                        <td id=\"T_6fad2dd2_11d3_11ea_bce8_d8fc933d7534row4_col1\" class=\"data row4 col1\" >3.75</td>\n",
       "                        <td id=\"T_6fad2dd2_11d3_11ea_bce8_d8fc933d7534row4_col2\" class=\"data row4 col2\" >2027.00</td>\n",
       "            </tr>\n",
       "            <tr>\n",
       "                        <th id=\"T_6fad2dd2_11d3_11ea_bce8_d8fc933d7534level0_row5\" class=\"row_heading level0 row5\" >50%</th>\n",
       "                        <td id=\"T_6fad2dd2_11d3_11ea_bce8_d8fc933d7534row5_col0\" class=\"data row5 col0\" >37.50</td>\n",
       "                        <td id=\"T_6fad2dd2_11d3_11ea_bce8_d8fc933d7534row5_col1\" class=\"data row5 col1\" >12.50</td>\n",
       "                        <td id=\"T_6fad2dd2_11d3_11ea_bce8_d8fc933d7534row5_col2\" class=\"data row5 col2\" >2320.00</td>\n",
       "            </tr>\n",
       "            <tr>\n",
       "                        <th id=\"T_6fad2dd2_11d3_11ea_bce8_d8fc933d7534level0_row6\" class=\"row_heading level0 row6\" >75%</th>\n",
       "                        <td id=\"T_6fad2dd2_11d3_11ea_bce8_d8fc933d7534row6_col0\" class=\"data row6 col0\" >44.00</td>\n",
       "                        <td id=\"T_6fad2dd2_11d3_11ea_bce8_d8fc933d7534row6_col1\" class=\"data row6 col1\" >18.25</td>\n",
       "                        <td id=\"T_6fad2dd2_11d3_11ea_bce8_d8fc933d7534row6_col2\" class=\"data row6 col2\" >2808.00</td>\n",
       "            </tr>\n",
       "            <tr>\n",
       "                        <th id=\"T_6fad2dd2_11d3_11ea_bce8_d8fc933d7534level0_row7\" class=\"row_heading level0 row7\" >max</th>\n",
       "                        <td id=\"T_6fad2dd2_11d3_11ea_bce8_d8fc933d7534row7_col0\" class=\"data row7 col0\" >61.00</td>\n",
       "                        <td id=\"T_6fad2dd2_11d3_11ea_bce8_d8fc933d7534row7_col1\" class=\"data row7 col1\" >36.00</td>\n",
       "                        <td id=\"T_6fad2dd2_11d3_11ea_bce8_d8fc933d7534row7_col2\" class=\"data row7 col2\" >6278.00</td>\n",
       "            </tr>\n",
       "    </tbody></table>"
      ],
      "text/plain": [
       "<pandas.io.formats.style.Styler at 0x13a18084828>"
      ]
     },
     "execution_count": 4,
     "metadata": {},
     "output_type": "execute_result"
    }
   ],
   "source": [
    "# Tunnuslukuja valituille muuttujille\n",
    "df[['ikä', 'palveluv', 'palkka']].describe().style.format('{:.2f}')"
   ]
  },
  {
   "cell_type": "code",
   "execution_count": 5,
   "metadata": {},
   "outputs": [
    {
     "data": {
      "text/html": [
       "<style  type=\"text/css\" >\n",
       "</style><table id=\"T_6fb93600_11d3_11ea_b2ff_d8fc933d7534\" ><thead>    <tr>        <th class=\"blank level0\" ></th>        <th class=\"col_heading level0 col0\" >ikä</th>        <th class=\"col_heading level0 col1\" >palveluv</th>        <th class=\"col_heading level0 col2\" >palkka</th>    </tr></thead><tbody>\n",
       "                <tr>\n",
       "                        <th id=\"T_6fb93600_11d3_11ea_b2ff_d8fc933d7534level0_row0\" class=\"row_heading level0 row0\" >lukumäärä</th>\n",
       "                        <td id=\"T_6fb93600_11d3_11ea_b2ff_d8fc933d7534row0_col0\" class=\"data row0 col0\" >82.00</td>\n",
       "                        <td id=\"T_6fb93600_11d3_11ea_b2ff_d8fc933d7534row0_col1\" class=\"data row0 col1\" >80.00</td>\n",
       "                        <td id=\"T_6fb93600_11d3_11ea_b2ff_d8fc933d7534row0_col2\" class=\"data row0 col2\" >82.00</td>\n",
       "            </tr>\n",
       "            <tr>\n",
       "                        <th id=\"T_6fb93600_11d3_11ea_b2ff_d8fc933d7534level0_row1\" class=\"row_heading level0 row1\" >keskiarvo</th>\n",
       "                        <td id=\"T_6fb93600_11d3_11ea_b2ff_d8fc933d7534row1_col0\" class=\"data row1 col0\" >37.95</td>\n",
       "                        <td id=\"T_6fb93600_11d3_11ea_b2ff_d8fc933d7534row1_col1\" class=\"data row1 col1\" >12.18</td>\n",
       "                        <td id=\"T_6fb93600_11d3_11ea_b2ff_d8fc933d7534row1_col2\" class=\"data row1 col2\" >2563.88</td>\n",
       "            </tr>\n",
       "            <tr>\n",
       "                        <th id=\"T_6fb93600_11d3_11ea_b2ff_d8fc933d7534level0_row2\" class=\"row_heading level0 row2\" >keskihajonta</th>\n",
       "                        <td id=\"T_6fb93600_11d3_11ea_b2ff_d8fc933d7534row2_col0\" class=\"data row2 col0\" >9.77</td>\n",
       "                        <td id=\"T_6fb93600_11d3_11ea_b2ff_d8fc933d7534row2_col1\" class=\"data row2 col1\" >8.81</td>\n",
       "                        <td id=\"T_6fb93600_11d3_11ea_b2ff_d8fc933d7534row2_col2\" class=\"data row2 col2\" >849.35</td>\n",
       "            </tr>\n",
       "            <tr>\n",
       "                        <th id=\"T_6fb93600_11d3_11ea_b2ff_d8fc933d7534level0_row3\" class=\"row_heading level0 row3\" >pienin</th>\n",
       "                        <td id=\"T_6fb93600_11d3_11ea_b2ff_d8fc933d7534row3_col0\" class=\"data row3 col0\" >20.00</td>\n",
       "                        <td id=\"T_6fb93600_11d3_11ea_b2ff_d8fc933d7534row3_col1\" class=\"data row3 col1\" >0.00</td>\n",
       "                        <td id=\"T_6fb93600_11d3_11ea_b2ff_d8fc933d7534row3_col2\" class=\"data row3 col2\" >1521.00</td>\n",
       "            </tr>\n",
       "            <tr>\n",
       "                        <th id=\"T_6fb93600_11d3_11ea_b2ff_d8fc933d7534level0_row4\" class=\"row_heading level0 row4\" >alaneljännes</th>\n",
       "                        <td id=\"T_6fb93600_11d3_11ea_b2ff_d8fc933d7534row4_col0\" class=\"data row4 col0\" >31.00</td>\n",
       "                        <td id=\"T_6fb93600_11d3_11ea_b2ff_d8fc933d7534row4_col1\" class=\"data row4 col1\" >3.75</td>\n",
       "                        <td id=\"T_6fb93600_11d3_11ea_b2ff_d8fc933d7534row4_col2\" class=\"data row4 col2\" >2027.00</td>\n",
       "            </tr>\n",
       "            <tr>\n",
       "                        <th id=\"T_6fb93600_11d3_11ea_b2ff_d8fc933d7534level0_row5\" class=\"row_heading level0 row5\" >mediaani</th>\n",
       "                        <td id=\"T_6fb93600_11d3_11ea_b2ff_d8fc933d7534row5_col0\" class=\"data row5 col0\" >37.50</td>\n",
       "                        <td id=\"T_6fb93600_11d3_11ea_b2ff_d8fc933d7534row5_col1\" class=\"data row5 col1\" >12.50</td>\n",
       "                        <td id=\"T_6fb93600_11d3_11ea_b2ff_d8fc933d7534row5_col2\" class=\"data row5 col2\" >2320.00</td>\n",
       "            </tr>\n",
       "            <tr>\n",
       "                        <th id=\"T_6fb93600_11d3_11ea_b2ff_d8fc933d7534level0_row6\" class=\"row_heading level0 row6\" >yläneljännes</th>\n",
       "                        <td id=\"T_6fb93600_11d3_11ea_b2ff_d8fc933d7534row6_col0\" class=\"data row6 col0\" >44.00</td>\n",
       "                        <td id=\"T_6fb93600_11d3_11ea_b2ff_d8fc933d7534row6_col1\" class=\"data row6 col1\" >18.25</td>\n",
       "                        <td id=\"T_6fb93600_11d3_11ea_b2ff_d8fc933d7534row6_col2\" class=\"data row6 col2\" >2808.00</td>\n",
       "            </tr>\n",
       "            <tr>\n",
       "                        <th id=\"T_6fb93600_11d3_11ea_b2ff_d8fc933d7534level0_row7\" class=\"row_heading level0 row7\" >suurin</th>\n",
       "                        <td id=\"T_6fb93600_11d3_11ea_b2ff_d8fc933d7534row7_col0\" class=\"data row7 col0\" >61.00</td>\n",
       "                        <td id=\"T_6fb93600_11d3_11ea_b2ff_d8fc933d7534row7_col1\" class=\"data row7 col1\" >36.00</td>\n",
       "                        <td id=\"T_6fb93600_11d3_11ea_b2ff_d8fc933d7534row7_col2\" class=\"data row7 col2\" >6278.00</td>\n",
       "            </tr>\n",
       "    </tbody></table>"
      ],
      "text/plain": [
       "<pandas.io.formats.style.Styler at 0x13a18543278>"
      ]
     },
     "execution_count": 5,
     "metadata": {},
     "output_type": "execute_result"
    }
   ],
   "source": [
    "# Suomenkieliset nimet tunnusluvuille \n",
    "df1 = df[['ikä', 'palveluv', 'palkka']].describe()\n",
    "df1.index = ['lukumäärä', 'keskiarvo', 'keskihajonta', 'pienin', 'alaneljännes', 'mediaani',\n",
    "           'yläneljännes', 'suurin']\n",
    "df1.style.format('{:.2f}')"
   ]
  },
  {
   "cell_type": "code",
   "execution_count": 6,
   "metadata": {},
   "outputs": [
    {
     "data": {
      "text/html": [
       "<div>\n",
       "<style scoped>\n",
       "    .dataframe tbody tr th:only-of-type {\n",
       "        vertical-align: middle;\n",
       "    }\n",
       "\n",
       "    .dataframe tbody tr th {\n",
       "        vertical-align: top;\n",
       "    }\n",
       "\n",
       "    .dataframe thead th {\n",
       "        text-align: right;\n",
       "    }\n",
       "</style>\n",
       "<table border=\"1\" class=\"dataframe\">\n",
       "  <thead>\n",
       "    <tr style=\"text-align: right;\">\n",
       "      <th></th>\n",
       "      <th>Keskiarvo</th>\n",
       "    </tr>\n",
       "  </thead>\n",
       "  <tbody>\n",
       "    <tr>\n",
       "      <th>johto</th>\n",
       "      <td>3.060976</td>\n",
       "    </tr>\n",
       "    <tr>\n",
       "      <th>työtov</th>\n",
       "      <td>4.061728</td>\n",
       "    </tr>\n",
       "    <tr>\n",
       "      <th>työymp</th>\n",
       "      <td>3.219512</td>\n",
       "    </tr>\n",
       "    <tr>\n",
       "      <th>palkkat</th>\n",
       "      <td>2.109756</td>\n",
       "    </tr>\n",
       "    <tr>\n",
       "      <th>työteht</th>\n",
       "      <td>3.195122</td>\n",
       "    </tr>\n",
       "  </tbody>\n",
       "</table>\n",
       "</div>"
      ],
      "text/plain": [
       "         Keskiarvo\n",
       "johto     3.060976\n",
       "työtov    4.061728\n",
       "työymp    3.219512\n",
       "palkkat   2.109756\n",
       "työteht   3.195122"
      ]
     },
     "execution_count": 6,
     "metadata": {},
     "output_type": "execute_result"
    }
   ],
   "source": [
    "# Yksittäisen tunnusluvun laskenta (tulos ei ole automaattisesti dataframe, siksi to_frame)\n",
    "df2 = df[['johto', 'työtov', 'työymp', 'palkkat', 'työteht']].mean().to_frame('Keskiarvo')\n",
    "df2"
   ]
  },
  {
   "cell_type": "code",
   "execution_count": 7,
   "metadata": {},
   "outputs": [
    {
     "data": {
      "text/plain": [
       "Text(0.5, 0, 'Tyytyväisyyskeskiarvo')"
      ]
     },
     "execution_count": 7,
     "metadata": {},
     "output_type": "execute_result"
    },
    {
     "data": {
      "image/png": "[encoded data removed]",
      "text/plain": [
       "<Figure size 432x288 with 1 Axes>"
      ]
     },
     "metadata": {
      "needs_background": "light"
     },
     "output_type": "display_data"
    }
   ],
   "source": [
    "# Edellinen pylväinä keskiarvojen mukaisessa järjestyksessä\n",
    "ax1 = df2.sort_values('Keskiarvo').plot.barh(legend=False)\n",
    "ax1.set_xlim(1,5)\n",
    "ax1.set_xlabel('Tyytyväisyyskeskiarvo')"
   ]
  },
  {
   "cell_type": "markdown",
   "metadata": {},
   "source": [
    "<h2>Seaborn-kirjastoa kannattaa hyödyntää</h2>"
   ]
  },
  {
   "cell_type": "code",
   "execution_count": 8,
   "metadata": {},
   "outputs": [],
   "source": [
    "import seaborn as sns"
   ]
  },
  {
   "cell_type": "code",
   "execution_count": 9,
   "metadata": {},
   "outputs": [
    {
     "data": {
      "text/plain": [
       "Text(0.5, 0, 'Tyytyväisyyskeskiarvo')"
      ]
     },
     "execution_count": 9,
     "metadata": {},
     "output_type": "execute_result"
    },
    {
     "data": {
      "image/png": "[encoded data removed]",
      "text/plain": [
       "<Figure size 432x288 with 1 Axes>"
      ]
     },
     "metadata": {
      "needs_background": "light"
     },
     "output_type": "display_data"
    }
   ],
   "source": [
    "# Tyytyväisyyskeskiarvot seaborn-kirjaston barplot-kaaviona; mukaan tulee myös keskiarvojen virhemarginaalit\n",
    "ax2 = sns.barplot(data=df[['työtov', 'työymp', 'työteht', 'johto', 'palkkat']], orient='h')\n",
    "ax2.set_xlim(1,5)\n",
    "ax2.set_xlabel('Tyytyväisyyskeskiarvo')"
   ]
  },
  {
   "cell_type": "code",
   "execution_count": 10,
   "metadata": {},
   "outputs": [
    {
     "data": {
      "text/plain": [
       "<matplotlib.axes._subplots.AxesSubplot at 0x13a1ab75f28>"
      ]
     },
     "execution_count": 10,
     "metadata": {},
     "output_type": "execute_result"
    },
    {
     "data": {
      "image/png": "[encoded data removed]",
      "text/plain": [
       "<Figure size 432x288 with 1 Axes>"
      ]
     },
     "metadata": {
      "needs_background": "light"
     },
     "output_type": "display_data"
    }
   ],
   "source": [
    "# Viiden luvun yhteenveto (pienin, alaneljännes, mediaani, yläneljännes, suurin) seabornin boxplottina\n",
    "sns.boxplot(df['palkka'])"
   ]
  },
  {
   "cell_type": "code",
   "execution_count": 11,
   "metadata": {},
   "outputs": [
    {
     "data": {
      "text/plain": [
       "<matplotlib.axes._subplots.AxesSubplot at 0x13a1abcdf98>"
      ]
     },
     "execution_count": 11,
     "metadata": {},
     "output_type": "execute_result"
    },
    {
     "data": {
      "image/png": "[encoded data removed]",
      "text/plain": [
       "<Figure size 432x288 with 1 Axes>"
      ]
     },
     "metadata": {
      "needs_background": "light"
     },
     "output_type": "display_data"
    }
   ],
   "source": [
    "# Viiden luvun yhteenveto tyytyväisyyksistä boxplottina\n",
    "sns.boxplot(data=df[['työtov', 'työymp', 'työteht', 'johto', 'palkkat']])"
   ]
  }
 ],
 "metadata": {
  "kernelspec": {
   "display_name": "Python 3",
   "language": "python",
   "name": "python3"
  },
  "language_info": {
   "codemirror_mode": {
    "name": "ipython",
    "version": 3
   },
   "file_extension": ".py",
   "mimetype": "text/x-python",
   "name": "python",
   "nbconvert_exporter": "python",
   "pygments_lexer": "ipython3",
   "version": "3.7.3"
  }
 },
 "nbformat": 4,
 "nbformat_minor": 2
}
