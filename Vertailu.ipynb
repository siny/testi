{
 "cells": [
  {
   "cell_type": "markdown",
   "metadata": {},
   "source": [
    "<h1>Tunnuslukujen vertailua ryhmien välillä</h1>"
   ]
  },
  {
   "cell_type": "code",
   "execution_count": 1,
   "metadata": {},
   "outputs": [],
   "source": [
    "import pandas as pd\n",
    "import matplotlib.pyplot as plt\n",
    "import seaborn as sns\n",
    "%matplotlib inline\n",
    "\n",
    "plt.style.use('seaborn-whitegrid')"
   ]
  },
  {
   "cell_type": "code",
   "execution_count": 2,
   "metadata": {},
   "outputs": [
    {
     "data": {
      "text/html": [
       "<div>\n",
       "<style scoped>\n",
       "    .dataframe tbody tr th:only-of-type {\n",
       "        vertical-align: middle;\n",
       "    }\n",
       "\n",
       "    .dataframe tbody tr th {\n",
       "        vertical-align: top;\n",
       "    }\n",
       "\n",
       "    .dataframe thead th {\n",
       "        text-align: right;\n",
       "    }\n",
       "</style>\n",
       "<table border=\"1\" class=\"dataframe\">\n",
       "  <thead>\n",
       "    <tr style=\"text-align: right;\">\n",
       "      <th></th>\n",
       "      <th>nro</th>\n",
       "      <th>sukup</th>\n",
       "      <th>ikä</th>\n",
       "      <th>perhe</th>\n",
       "      <th>koulutus</th>\n",
       "      <th>palveluv</th>\n",
       "      <th>palkka</th>\n",
       "      <th>johto</th>\n",
       "      <th>työtov</th>\n",
       "      <th>työymp</th>\n",
       "      <th>palkkat</th>\n",
       "      <th>työteht</th>\n",
       "      <th>työterv</th>\n",
       "      <th>lomaosa</th>\n",
       "      <th>kuntosa</th>\n",
       "      <th>hieroja</th>\n",
       "    </tr>\n",
       "  </thead>\n",
       "  <tbody>\n",
       "    <tr>\n",
       "      <th>0</th>\n",
       "      <td>1</td>\n",
       "      <td>1</td>\n",
       "      <td>38</td>\n",
       "      <td>1</td>\n",
       "      <td>1.0</td>\n",
       "      <td>22.0</td>\n",
       "      <td>3587</td>\n",
       "      <td>3</td>\n",
       "      <td>3.0</td>\n",
       "      <td>3</td>\n",
       "      <td>3</td>\n",
       "      <td>3</td>\n",
       "      <td>NaN</td>\n",
       "      <td>NaN</td>\n",
       "      <td>NaN</td>\n",
       "      <td>NaN</td>\n",
       "    </tr>\n",
       "    <tr>\n",
       "      <th>1</th>\n",
       "      <td>2</td>\n",
       "      <td>1</td>\n",
       "      <td>29</td>\n",
       "      <td>2</td>\n",
       "      <td>2.0</td>\n",
       "      <td>10.0</td>\n",
       "      <td>2963</td>\n",
       "      <td>1</td>\n",
       "      <td>5.0</td>\n",
       "      <td>2</td>\n",
       "      <td>1</td>\n",
       "      <td>3</td>\n",
       "      <td>NaN</td>\n",
       "      <td>NaN</td>\n",
       "      <td>NaN</td>\n",
       "      <td>NaN</td>\n",
       "    </tr>\n",
       "    <tr>\n",
       "      <th>2</th>\n",
       "      <td>3</td>\n",
       "      <td>1</td>\n",
       "      <td>30</td>\n",
       "      <td>1</td>\n",
       "      <td>1.0</td>\n",
       "      <td>7.0</td>\n",
       "      <td>1989</td>\n",
       "      <td>3</td>\n",
       "      <td>4.0</td>\n",
       "      <td>1</td>\n",
       "      <td>1</td>\n",
       "      <td>3</td>\n",
       "      <td>1.0</td>\n",
       "      <td>NaN</td>\n",
       "      <td>NaN</td>\n",
       "      <td>NaN</td>\n",
       "    </tr>\n",
       "    <tr>\n",
       "      <th>3</th>\n",
       "      <td>4</td>\n",
       "      <td>1</td>\n",
       "      <td>36</td>\n",
       "      <td>2</td>\n",
       "      <td>1.0</td>\n",
       "      <td>14.0</td>\n",
       "      <td>2144</td>\n",
       "      <td>3</td>\n",
       "      <td>3.0</td>\n",
       "      <td>3</td>\n",
       "      <td>3</td>\n",
       "      <td>3</td>\n",
       "      <td>1.0</td>\n",
       "      <td>NaN</td>\n",
       "      <td>NaN</td>\n",
       "      <td>NaN</td>\n",
       "    </tr>\n",
       "    <tr>\n",
       "      <th>4</th>\n",
       "      <td>5</td>\n",
       "      <td>1</td>\n",
       "      <td>24</td>\n",
       "      <td>1</td>\n",
       "      <td>2.0</td>\n",
       "      <td>4.0</td>\n",
       "      <td>2183</td>\n",
       "      <td>2</td>\n",
       "      <td>3.0</td>\n",
       "      <td>2</td>\n",
       "      <td>1</td>\n",
       "      <td>2</td>\n",
       "      <td>1.0</td>\n",
       "      <td>NaN</td>\n",
       "      <td>NaN</td>\n",
       "      <td>NaN</td>\n",
       "    </tr>\n",
       "  </tbody>\n",
       "</table>\n",
       "</div>"
      ],
      "text/plain": [
       "   nro  sukup  ikä  perhe  koulutus  palveluv  palkka  johto  työtov  työymp  \\\n",
       "0    1      1   38      1       1.0      22.0    3587      3     3.0       3   \n",
       "1    2      1   29      2       2.0      10.0    2963      1     5.0       2   \n",
       "2    3      1   30      1       1.0       7.0    1989      3     4.0       1   \n",
       "3    4      1   36      2       1.0      14.0    2144      3     3.0       3   \n",
       "4    5      1   24      1       2.0       4.0    2183      2     3.0       2   \n",
       "\n",
       "   palkkat  työteht  työterv  lomaosa  kuntosa  hieroja  \n",
       "0        3        3      NaN      NaN      NaN      NaN  \n",
       "1        1        3      NaN      NaN      NaN      NaN  \n",
       "2        1        3      1.0      NaN      NaN      NaN  \n",
       "3        3        3      1.0      NaN      NaN      NaN  \n",
       "4        1        2      1.0      NaN      NaN      NaN  "
      ]
     },
     "execution_count": 2,
     "metadata": {},
     "output_type": "execute_result"
    }
   ],
   "source": [
    "df = pd.read_excel('http://taanila.fi/data1.xlsx')\n",
    "df.head()"
   ]
  },
  {
   "cell_type": "code",
   "execution_count": 3,
   "metadata": {},
   "outputs": [],
   "source": [
    "# Sukupuolen ja koulutuksen tekstimuotoiset arvot\n",
    "sukup = ['Mies', 'Nainen']\n",
    "koulutus = ['Peruskoulu', '2. aste', 'Korkeakoulu', 'Ylempi korkeakoulu']"
   ]
  },
  {
   "cell_type": "markdown",
   "metadata": {},
   "source": [
    "<h2>groupby + describe()</h2>\n",
    "\n",
    "Voit jakaa datan ryhmiin <b>groupby</b>-funktiolla ja laskea tunnusluvut tämän jälkeen."
   ]
  },
  {
   "cell_type": "code",
   "execution_count": 4,
   "metadata": {},
   "outputs": [
    {
     "data": {
      "text/html": [
       "<style  type=\"text/css\" >\n",
       "</style><table id=\"T_15b155f6_5871_11ea_9ae9_5cb901ac75b5\" ><thead>    <tr>        <th class=\"blank level0\" ></th>        <th class=\"col_heading level0 col0\" >count</th>        <th class=\"col_heading level0 col1\" >mean</th>        <th class=\"col_heading level0 col2\" >std</th>        <th class=\"col_heading level0 col3\" >min</th>        <th class=\"col_heading level0 col4\" >25%</th>        <th class=\"col_heading level0 col5\" >50%</th>        <th class=\"col_heading level0 col6\" >75%</th>        <th class=\"col_heading level0 col7\" >max</th>    </tr></thead><tbody>\n",
       "                <tr>\n",
       "                        <th id=\"T_15b155f6_5871_11ea_9ae9_5cb901ac75b5level0_row0\" class=\"row_heading level0 row0\" >Mies</th>\n",
       "                        <td id=\"T_15b155f6_5871_11ea_9ae9_5cb901ac75b5row0_col0\" class=\"data row0 col0\" >63</td>\n",
       "                        <td id=\"T_15b155f6_5871_11ea_9ae9_5cb901ac75b5row0_col1\" class=\"data row0 col1\" >2664</td>\n",
       "                        <td id=\"T_15b155f6_5871_11ea_9ae9_5cb901ac75b5row0_col2\" class=\"data row0 col2\" >930</td>\n",
       "                        <td id=\"T_15b155f6_5871_11ea_9ae9_5cb901ac75b5row0_col3\" class=\"data row0 col3\" >1521</td>\n",
       "                        <td id=\"T_15b155f6_5871_11ea_9ae9_5cb901ac75b5row0_col4\" class=\"data row0 col4\" >2086</td>\n",
       "                        <td id=\"T_15b155f6_5871_11ea_9ae9_5cb901ac75b5row0_col5\" class=\"data row0 col5\" >2417</td>\n",
       "                        <td id=\"T_15b155f6_5871_11ea_9ae9_5cb901ac75b5row0_col6\" class=\"data row0 col6\" >2925</td>\n",
       "                        <td id=\"T_15b155f6_5871_11ea_9ae9_5cb901ac75b5row0_col7\" class=\"data row0 col7\" >6278</td>\n",
       "            </tr>\n",
       "            <tr>\n",
       "                        <th id=\"T_15b155f6_5871_11ea_9ae9_5cb901ac75b5level0_row1\" class=\"row_heading level0 row1\" >Nainen</th>\n",
       "                        <td id=\"T_15b155f6_5871_11ea_9ae9_5cb901ac75b5row1_col0\" class=\"data row1 col0\" >19</td>\n",
       "                        <td id=\"T_15b155f6_5871_11ea_9ae9_5cb901ac75b5row1_col1\" class=\"data row1 col1\" >2233</td>\n",
       "                        <td id=\"T_15b155f6_5871_11ea_9ae9_5cb901ac75b5row1_col2\" class=\"data row1 col2\" >341</td>\n",
       "                        <td id=\"T_15b155f6_5871_11ea_9ae9_5cb901ac75b5row1_col3\" class=\"data row1 col3\" >1715</td>\n",
       "                        <td id=\"T_15b155f6_5871_11ea_9ae9_5cb901ac75b5row1_col4\" class=\"data row1 col4\" >1969</td>\n",
       "                        <td id=\"T_15b155f6_5871_11ea_9ae9_5cb901ac75b5row1_col5\" class=\"data row1 col5\" >2144</td>\n",
       "                        <td id=\"T_15b155f6_5871_11ea_9ae9_5cb901ac75b5row1_col6\" class=\"data row1 col6\" >2574</td>\n",
       "                        <td id=\"T_15b155f6_5871_11ea_9ae9_5cb901ac75b5row1_col7\" class=\"data row1 col7\" >2729</td>\n",
       "            </tr>\n",
       "    </tbody></table>"
      ],
      "text/plain": [
       "<pandas.io.formats.style.Styler at 0x233ac5c5c88>"
      ]
     },
     "execution_count": 4,
     "metadata": {},
     "output_type": "execute_result"
    }
   ],
   "source": [
    "# Palkan tunnuslukujen vertailu sukupuolen mukaan\n",
    "df1 = df.groupby('sukup')['palkka'].describe()\n",
    "df1.index = sukup\n",
    "df1.style.format('{:.0f}')"
   ]
  },
  {
   "cell_type": "code",
   "execution_count": 5,
   "metadata": {},
   "outputs": [
    {
     "data": {
      "text/html": [
       "<style  type=\"text/css\" >\n",
       "</style><table id=\"T_15bd4174_5871_11ea_af93_5cb901ac75b5\" ><thead>    <tr>        <th class=\"blank level0\" ></th>        <th class=\"col_heading level0 col0\" >count</th>        <th class=\"col_heading level0 col1\" >mean</th>        <th class=\"col_heading level0 col2\" >std</th>        <th class=\"col_heading level0 col3\" >min</th>        <th class=\"col_heading level0 col4\" >25%</th>        <th class=\"col_heading level0 col5\" >50%</th>        <th class=\"col_heading level0 col6\" >75%</th>        <th class=\"col_heading level0 col7\" >max</th>    </tr></thead><tbody>\n",
       "                <tr>\n",
       "                        <th id=\"T_15bd4174_5871_11ea_af93_5cb901ac75b5level0_row0\" class=\"row_heading level0 row0\" >Peruskoulu</th>\n",
       "                        <td id=\"T_15bd4174_5871_11ea_af93_5cb901ac75b5row0_col0\" class=\"data row0 col0\" >27</td>\n",
       "                        <td id=\"T_15bd4174_5871_11ea_af93_5cb901ac75b5row0_col1\" class=\"data row0 col1\" >2310</td>\n",
       "                        <td id=\"T_15bd4174_5871_11ea_af93_5cb901ac75b5row0_col2\" class=\"data row0 col2\" >473</td>\n",
       "                        <td id=\"T_15bd4174_5871_11ea_af93_5cb901ac75b5row0_col3\" class=\"data row0 col3\" >1638</td>\n",
       "                        <td id=\"T_15bd4174_5871_11ea_af93_5cb901ac75b5row0_col4\" class=\"data row0 col4\" >2008</td>\n",
       "                        <td id=\"T_15bd4174_5871_11ea_af93_5cb901ac75b5row0_col5\" class=\"data row0 col5\" >2144</td>\n",
       "                        <td id=\"T_15bd4174_5871_11ea_af93_5cb901ac75b5row0_col6\" class=\"data row0 col6\" >2534</td>\n",
       "                        <td id=\"T_15bd4174_5871_11ea_af93_5cb901ac75b5row0_col7\" class=\"data row0 col7\" >3587</td>\n",
       "            </tr>\n",
       "            <tr>\n",
       "                        <th id=\"T_15bd4174_5871_11ea_af93_5cb901ac75b5level0_row1\" class=\"row_heading level0 row1\" >2. aste</th>\n",
       "                        <td id=\"T_15bd4174_5871_11ea_af93_5cb901ac75b5row1_col0\" class=\"data row1 col0\" >30</td>\n",
       "                        <td id=\"T_15bd4174_5871_11ea_af93_5cb901ac75b5row1_col1\" class=\"data row1 col1\" >2403</td>\n",
       "                        <td id=\"T_15bd4174_5871_11ea_af93_5cb901ac75b5row1_col2\" class=\"data row1 col2\" >534</td>\n",
       "                        <td id=\"T_15bd4174_5871_11ea_af93_5cb901ac75b5row1_col3\" class=\"data row1 col3\" >1521</td>\n",
       "                        <td id=\"T_15bd4174_5871_11ea_af93_5cb901ac75b5row1_col4\" class=\"data row1 col4\" >2008</td>\n",
       "                        <td id=\"T_15bd4174_5871_11ea_af93_5cb901ac75b5row1_col5\" class=\"data row1 col5\" >2378</td>\n",
       "                        <td id=\"T_15bd4174_5871_11ea_af93_5cb901ac75b5row1_col6\" class=\"data row1 col6\" >2729</td>\n",
       "                        <td id=\"T_15bd4174_5871_11ea_af93_5cb901ac75b5row1_col7\" class=\"data row1 col7\" >3510</td>\n",
       "            </tr>\n",
       "            <tr>\n",
       "                        <th id=\"T_15bd4174_5871_11ea_af93_5cb901ac75b5level0_row2\" class=\"row_heading level0 row2\" >Korkeakoulu</th>\n",
       "                        <td id=\"T_15bd4174_5871_11ea_af93_5cb901ac75b5row2_col0\" class=\"data row2 col0\" >22</td>\n",
       "                        <td id=\"T_15bd4174_5871_11ea_af93_5cb901ac75b5row2_col1\" class=\"data row2 col1\" >2887</td>\n",
       "                        <td id=\"T_15bd4174_5871_11ea_af93_5cb901ac75b5row2_col2\" class=\"data row2 col2\" >1108</td>\n",
       "                        <td id=\"T_15bd4174_5871_11ea_af93_5cb901ac75b5row2_col3\" class=\"data row2 col3\" >1559</td>\n",
       "                        <td id=\"T_15bd4174_5871_11ea_af93_5cb901ac75b5row2_col4\" class=\"data row2 col4\" >2222</td>\n",
       "                        <td id=\"T_15bd4174_5871_11ea_af93_5cb901ac75b5row2_col5\" class=\"data row2 col5\" >2710</td>\n",
       "                        <td id=\"T_15bd4174_5871_11ea_af93_5cb901ac75b5row2_col6\" class=\"data row2 col6\" >2925</td>\n",
       "                        <td id=\"T_15bd4174_5871_11ea_af93_5cb901ac75b5row2_col7\" class=\"data row2 col7\" >6278</td>\n",
       "            </tr>\n",
       "            <tr>\n",
       "                        <th id=\"T_15bd4174_5871_11ea_af93_5cb901ac75b5level0_row3\" class=\"row_heading level0 row3\" >Ylempi korkeakoulu</th>\n",
       "                        <td id=\"T_15bd4174_5871_11ea_af93_5cb901ac75b5row3_col0\" class=\"data row3 col0\" >2</td>\n",
       "                        <td id=\"T_15bd4174_5871_11ea_af93_5cb901ac75b5row3_col1\" class=\"data row3 col1\" >5147</td>\n",
       "                        <td id=\"T_15bd4174_5871_11ea_af93_5cb901ac75b5row3_col2\" class=\"data row3 col2\" >110</td>\n",
       "                        <td id=\"T_15bd4174_5871_11ea_af93_5cb901ac75b5row3_col3\" class=\"data row3 col3\" >5069</td>\n",
       "                        <td id=\"T_15bd4174_5871_11ea_af93_5cb901ac75b5row3_col4\" class=\"data row3 col4\" >5108</td>\n",
       "                        <td id=\"T_15bd4174_5871_11ea_af93_5cb901ac75b5row3_col5\" class=\"data row3 col5\" >5147</td>\n",
       "                        <td id=\"T_15bd4174_5871_11ea_af93_5cb901ac75b5row3_col6\" class=\"data row3 col6\" >5186</td>\n",
       "                        <td id=\"T_15bd4174_5871_11ea_af93_5cb901ac75b5row3_col7\" class=\"data row3 col7\" >5225</td>\n",
       "            </tr>\n",
       "    </tbody></table>"
      ],
      "text/plain": [
       "<pandas.io.formats.style.Styler at 0x233b0265160>"
      ]
     },
     "execution_count": 5,
     "metadata": {},
     "output_type": "execute_result"
    }
   ],
   "source": [
    "# Palkan tunnuslukujen vertailu koulutuksen mukaan\n",
    "df2 = df.groupby('koulutus')['palkka'].describe()\n",
    "df2.index = koulutus\n",
    "df2.style.format('{:.0f}')"
   ]
  },
  {
   "cell_type": "markdown",
   "metadata": {},
   "source": [
    "<h2>Boxplot</h2>\n",
    "\n",
    "Boxplot eli ruutu- ja janakaavio on havainnollinen tapa vertailuun. Boxplot näyttää viiden luvun yhteenvedon (pienin, alaneljännes, mediaani, yläneljännes, suurin) ja erityisen poikkeavat arvot."
   ]
  },
  {
   "cell_type": "code",
   "execution_count": 6,
   "metadata": {},
   "outputs": [
    {
     "data": {
      "text/plain": [
       "<matplotlib.axes._subplots.AxesSubplot at 0x233b1643940>"
      ]
     },
     "execution_count": 6,
     "metadata": {},
     "output_type": "execute_result"
    },
    {
     "data": {
      "image/png": "[encoded data removed]",
      "text/plain": [
       "<Figure size 432x288 with 1 Axes>"
      ]
     },
     "metadata": {},
     "output_type": "display_data"
    }
   ],
   "source": [
    "# Palkan vertailu sukupuolen mukaan boxplottina\n",
    "sns.boxplot(x='sukup', y='palkka', data=df)"
   ]
  },
  {
   "cell_type": "code",
   "execution_count": 7,
   "metadata": {},
   "outputs": [
    {
     "data": {
      "text/plain": [
       "<matplotlib.axes._subplots.AxesSubplot at 0x233b1961160>"
      ]
     },
     "execution_count": 7,
     "metadata": {},
     "output_type": "execute_result"
    },
    {
     "data": {
      "image/png": "[encoded data removed]",
      "text/plain": [
       "<Figure size 432x288 with 1 Axes>"
      ]
     },
     "metadata": {},
     "output_type": "display_data"
    }
   ],
   "source": [
    "# Palkan vertailu koulutuksen mukaan boxplottina\n",
    "sns.boxplot(x='koulutus', y='palkka', data=df)"
   ]
  },
  {
   "cell_type": "markdown",
   "metadata": {},
   "source": [
    "<h2>Pivot_table</h2>\n",
    "\n",
    "Pivot-taulukkoon lasketaan oletuksena keskiarvoja."
   ]
  },
  {
   "cell_type": "code",
   "execution_count": 8,
   "metadata": {},
   "outputs": [
    {
     "data": {
      "text/html": [
       "<style  type=\"text/css\" >\n",
       "</style><table id=\"T_1628894a_5871_11ea_81b9_5cb901ac75b5\" ><thead>    <tr>        <th class=\"blank level0\" ></th>        <th class=\"col_heading level0 col0\" >Mies</th>        <th class=\"col_heading level0 col1\" >Nainen</th>        <th class=\"col_heading level0 col2\" >Kaikki</th>    </tr></thead><tbody>\n",
       "                <tr>\n",
       "                        <th id=\"T_1628894a_5871_11ea_81b9_5cb901ac75b5level0_row0\" class=\"row_heading level0 row0\" >Peruskoulu</th>\n",
       "                        <td id=\"T_1628894a_5871_11ea_81b9_5cb901ac75b5row0_col0\" class=\"data row0 col0\" >2354</td>\n",
       "                        <td id=\"T_1628894a_5871_11ea_81b9_5cb901ac75b5row0_col1\" class=\"data row0 col1\" >2121</td>\n",
       "                        <td id=\"T_1628894a_5871_11ea_81b9_5cb901ac75b5row0_col2\" class=\"data row0 col2\" >2310</td>\n",
       "            </tr>\n",
       "            <tr>\n",
       "                        <th id=\"T_1628894a_5871_11ea_81b9_5cb901ac75b5level0_row1\" class=\"row_heading level0 row1\" >2. aste</th>\n",
       "                        <td id=\"T_1628894a_5871_11ea_81b9_5cb901ac75b5row1_col0\" class=\"data row1 col0\" >2461</td>\n",
       "                        <td id=\"T_1628894a_5871_11ea_81b9_5cb901ac75b5row1_col1\" class=\"data row1 col1\" >2211</td>\n",
       "                        <td id=\"T_1628894a_5871_11ea_81b9_5cb901ac75b5row1_col2\" class=\"data row1 col2\" >2403</td>\n",
       "            </tr>\n",
       "            <tr>\n",
       "                        <th id=\"T_1628894a_5871_11ea_81b9_5cb901ac75b5level0_row2\" class=\"row_heading level0 row2\" >Korkeakoulu</th>\n",
       "                        <td id=\"T_1628894a_5871_11ea_81b9_5cb901ac75b5row2_col0\" class=\"data row2 col0\" >3145</td>\n",
       "                        <td id=\"T_1628894a_5871_11ea_81b9_5cb901ac75b5row2_col1\" class=\"data row2 col1\" >2334</td>\n",
       "                        <td id=\"T_1628894a_5871_11ea_81b9_5cb901ac75b5row2_col2\" class=\"data row2 col2\" >2887</td>\n",
       "            </tr>\n",
       "            <tr>\n",
       "                        <th id=\"T_1628894a_5871_11ea_81b9_5cb901ac75b5level0_row3\" class=\"row_heading level0 row3\" >Ylempi korkeakoulu</th>\n",
       "                        <td id=\"T_1628894a_5871_11ea_81b9_5cb901ac75b5row3_col0\" class=\"data row3 col0\" >5147</td>\n",
       "                        <td id=\"T_1628894a_5871_11ea_81b9_5cb901ac75b5row3_col1\" class=\"data row3 col1\" >nan</td>\n",
       "                        <td id=\"T_1628894a_5871_11ea_81b9_5cb901ac75b5row3_col2\" class=\"data row3 col2\" >5147</td>\n",
       "            </tr>\n",
       "            <tr>\n",
       "                        <th id=\"T_1628894a_5871_11ea_81b9_5cb901ac75b5level0_row4\" class=\"row_heading level0 row4\" >Kaikki</th>\n",
       "                        <td id=\"T_1628894a_5871_11ea_81b9_5cb901ac75b5row4_col0\" class=\"data row4 col0\" >2675</td>\n",
       "                        <td id=\"T_1628894a_5871_11ea_81b9_5cb901ac75b5row4_col1\" class=\"data row4 col1\" >2233</td>\n",
       "                        <td id=\"T_1628894a_5871_11ea_81b9_5cb901ac75b5row4_col2\" class=\"data row4 col2\" >2571</td>\n",
       "            </tr>\n",
       "    </tbody></table>"
      ],
      "text/plain": [
       "<pandas.io.formats.style.Styler at 0x233b1961be0>"
      ]
     },
     "execution_count": 8,
     "metadata": {},
     "output_type": "execute_result"
    }
   ],
   "source": [
    "# Palkkakeskiarvojen vertailua sukupuolen ja koulutuksen mukaan \n",
    "df3 = df.pivot_table(values='palkka', index='koulutus', columns='sukup', margins=True)\n",
    "df3.index = koulutus + ['Kaikki']\n",
    "df3.columns = sukup + ['Kaikki']\n",
    "df3.style.format('{:.0f}')"
   ]
  },
  {
   "cell_type": "markdown",
   "metadata": {},
   "source": [
    "<h2>Ovatko erot tilastollisesti merkitseviä?</h2>\n",
    "\n",
    "Otoksessa havaitut ryhmien väliset erot voivat olla liian pieniä, jotta niitä voisi yleistää laajempaan perusjoukkoon, josta otos on otettu. Kyseessä voi olla otantavirheen (sattuman) aiheuttama ero.\n",
    "\n",
    "Eroa sanotaan merkitseväksi, jos sen perusteella voidaan tehdä yleistys laajempaan perusjoukkoon, josta otos on otettu. Eron merkitsevyyttä voit testata laskemalla niin kutsuttu <b>p-arvo</b>. Mitä pienempi p-arvo, sitä merkitsevämpi ero. Yleensä alle 0,05 (5 %) suuruisia p-arvoja pidetään osoituksena merkitsevästä erosta.\n",
    "\n",
    "Kahden ryhmän keskiarvojen vertailuun liittyvän p-arvon voit laskea kahden riippumattoman otoksen t-testillä (ttest).\n",
    "\n",
    "Useamman ryhmän keskiarvojen vertailuun liittyvän p-arvon voit laskea F-testillä (f_oneway)."
   ]
  },
  {
   "cell_type": "code",
   "execution_count": 9,
   "metadata": {},
   "outputs": [
    {
     "data": {
      "text/plain": [
       "Ttest_indResult(statistic=3.0597612743474714, pvalue=0.003048272029697872)"
      ]
     },
     "execution_count": 9,
     "metadata": {},
     "output_type": "execute_result"
    }
   ],
   "source": [
    "# Vertailtavien ryhmien muodostaminen\n",
    "s1 = df['palkka'][df['sukup']==1] # miehet\n",
    "s2 = df['palkka'][df['sukup']==2] # naiset\n",
    "\n",
    "# Kahden riippumattoman (ind) otoksen t-testi\n",
    "from scipy.stats import ttest_ind\n",
    "ttest_ind(s1, s2, equal_var=False)"
   ]
  },
  {
   "cell_type": "markdown",
   "metadata": {},
   "source": [
    "Miesten (keskiarvo 2664 euroa) ja naisten (keskiarvo 2233 euroa) palkkakeskiarvojen välillä on tilastollisesti merkitsevä ero (kahden riippumattoman otoksen 2-suuntaisen t-testin p = 0,003)."
   ]
  },
  {
   "cell_type": "code",
   "execution_count": 10,
   "metadata": {},
   "outputs": [
    {
     "data": {
      "text/plain": [
       "F_onewayResult(statistic=11.675086950951924, pvalue=2.186573534680074e-06)"
      ]
     },
     "execution_count": 10,
     "metadata": {},
     "output_type": "execute_result"
    }
   ],
   "source": [
    "# Vertailtavien ryhmien muodostaminen\n",
    "k1 = df['palkka'][df['koulutus']==1] # peruskoulu\n",
    "k2 = df['palkka'][df['koulutus']==2] # 2. aste\n",
    "k3 = df['palkka'][df['koulutus']==3] # korkeakoulu\n",
    "k4 = df['palkka'][df['koulutus']==4] # ylempi korkeakoulu\n",
    "\n",
    "# F-testi\n",
    "from scipy.stats import f_oneway\n",
    "f_oneway(k1, k2, k3, k4)"
   ]
  },
  {
   "cell_type": "markdown",
   "metadata": {},
   "source": [
    "Eri koulutuksen suorittaneiden välillä on tilastollisesti merkitseviä eroja palkkakeskiarvoissa (F-testin p-arvo on 0,000002)."
   ]
  },
  {
   "cell_type": "markdown",
   "metadata": {},
   "source": [
    "<h2>Lisätietoa merkitsevyystestauksesta</h2>\n",
    "\n",
    "Onko ryhmien välinen ero tilastolliseti merkitsevä:\n",
    "https://tilastoapu.wordpress.com/2012/04/14/onko-ryhmien-valinen-ero-tilastollisesti-merkitseva/\n",
    "\n",
    "Lisätietoa p-arvoista:\n",
    "https://tilastoapu.wordpress.com/2012/02/14/p-arvo/\n",
    "\n",
    "p-arvoja Pythonilla eri testaustilanteisiin:\n",
    "https://nbviewer.jupyter.org/github/taanila/tilastoapu/blob/master/p.ipynb"
   ]
  }
 ],
 "metadata": {
  "kernelspec": {
   "display_name": "Python 3",
   "language": "python",
   "name": "python3"
  },
  "language_info": {
   "codemirror_mode": {
    "name": "ipython",
    "version": 3
   },
   "file_extension": ".py",
   "mimetype": "text/x-python",
   "name": "python",
   "nbconvert_exporter": "python",
   "pygments_lexer": "ipython3",
   "version": "3.7.3"
  }
 },
 "nbformat": 4,
 "nbformat_minor": 2
}
