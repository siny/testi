{
 "cells": [
  {
   "cell_type": "markdown",
   "metadata": {},
   "source": [
    "<h1>Aikasarjojen kuvailua ja analysointia</h1>"
   ]
  },
  {
   "cell_type": "code",
   "execution_count": 1,
   "metadata": {},
   "outputs": [],
   "source": [
    "import pandas as pd\n",
    "import matplotlib.pyplot as plt\n",
    "%matplotlib inline\n",
    "\n",
    "# Kaavioiden tyyliasetus (ei ole pakollinen)\n",
    "plt.style.use('seaborn-whitegrid')\n",
    "\n",
    "# Jotkin kirjastoversiot eivät osaa automaattisesti säätää jakoviivoja mielekkäällä tavalla\n",
    "# Siispä tuunaan oman Locatorin ja Formatterin\n",
    "from matplotlib.ticker import MultipleLocator\n",
    "from matplotlib.dates import DateFormatter\n",
    "\n",
    "# Tätä käyttäen voin säätää kaavion vaaka-akselin jakoviivat 14 päivän välein\n",
    "myLoc = MultipleLocator(14)\n",
    "\n",
    "# Tätä käyttäen voin esittää kaavion vaaka-akselin jakoviivat muodossa 13/01\n",
    "myFmt = DateFormatter('%d/%m')"
   ]
  },
  {
   "cell_type": "markdown",
   "metadata": {},
   "source": [
    "<h2>Tiedostojen avaaminen</h2>\n",
    "\n",
    "Elisan ja Telian kurssihistoriat ovat tiedostoissa\n",
    "<ul>\n",
    "    <li>jotka ovat csv-muotoisia</li>\n",
    "    <li>joissa erotinmerkkinä (<b>sep</b>) on suomalaiseen tapaan puolipiste ;</li>\n",
    "    <li>joissa desimaalipisteenä (<b>decimal</b>) on suomalaiseen tapaan pilkku ,</li>\n",
    "    <li>joissa on alussa yksi dataan kuulumaton rivi, jota ei pidä ottaa mukaan (<b>skiprows</b>).</li>\n",
    "</ul>"
   ]
  },
  {
   "cell_type": "code",
   "execution_count": 2,
   "metadata": {},
   "outputs": [
    {
     "data": {
      "text/html": [
       "<div>\n",
       "<style scoped>\n",
       "    .dataframe tbody tr th:only-of-type {\n",
       "        vertical-align: middle;\n",
       "    }\n",
       "\n",
       "    .dataframe tbody tr th {\n",
       "        vertical-align: top;\n",
       "    }\n",
       "\n",
       "    .dataframe thead th {\n",
       "        text-align: right;\n",
       "    }\n",
       "</style>\n",
       "<table border=\"1\" class=\"dataframe\">\n",
       "  <thead>\n",
       "    <tr style=\"text-align: right;\">\n",
       "      <th></th>\n",
       "      <th>Date</th>\n",
       "      <th>Bid</th>\n",
       "      <th>Ask</th>\n",
       "      <th>Opening price</th>\n",
       "      <th>High price</th>\n",
       "      <th>Low price</th>\n",
       "      <th>Closing price</th>\n",
       "      <th>Average price</th>\n",
       "      <th>Total volume</th>\n",
       "      <th>Turnover</th>\n",
       "      <th>Trades</th>\n",
       "      <th>Unnamed: 11</th>\n",
       "    </tr>\n",
       "  </thead>\n",
       "  <tbody>\n",
       "    <tr>\n",
       "      <th>0</th>\n",
       "      <td>2020-05-12</td>\n",
       "      <td>55.84</td>\n",
       "      <td>55.90</td>\n",
       "      <td>55.00</td>\n",
       "      <td>56.04</td>\n",
       "      <td>54.54</td>\n",
       "      <td>56.02</td>\n",
       "      <td>55.644</td>\n",
       "      <td>475560</td>\n",
       "      <td>26457067.27</td>\n",
       "      <td>3992</td>\n",
       "      <td>NaN</td>\n",
       "    </tr>\n",
       "    <tr>\n",
       "      <th>1</th>\n",
       "      <td>2020-05-11</td>\n",
       "      <td>55.26</td>\n",
       "      <td>55.34</td>\n",
       "      <td>54.76</td>\n",
       "      <td>55.88</td>\n",
       "      <td>54.32</td>\n",
       "      <td>55.12</td>\n",
       "      <td>55.161</td>\n",
       "      <td>422923</td>\n",
       "      <td>23328498.42</td>\n",
       "      <td>2989</td>\n",
       "      <td>NaN</td>\n",
       "    </tr>\n",
       "    <tr>\n",
       "      <th>2</th>\n",
       "      <td>2020-05-08</td>\n",
       "      <td>54.62</td>\n",
       "      <td>54.66</td>\n",
       "      <td>54.00</td>\n",
       "      <td>54.72</td>\n",
       "      <td>53.72</td>\n",
       "      <td>54.62</td>\n",
       "      <td>54.435</td>\n",
       "      <td>232821</td>\n",
       "      <td>12673084.50</td>\n",
       "      <td>1782</td>\n",
       "      <td>NaN</td>\n",
       "    </tr>\n",
       "    <tr>\n",
       "      <th>3</th>\n",
       "      <td>2020-05-07</td>\n",
       "      <td>53.40</td>\n",
       "      <td>53.46</td>\n",
       "      <td>54.18</td>\n",
       "      <td>54.32</td>\n",
       "      <td>53.04</td>\n",
       "      <td>53.62</td>\n",
       "      <td>53.528</td>\n",
       "      <td>428959</td>\n",
       "      <td>22960682.61</td>\n",
       "      <td>3577</td>\n",
       "      <td>NaN</td>\n",
       "    </tr>\n",
       "    <tr>\n",
       "      <th>4</th>\n",
       "      <td>2020-05-06</td>\n",
       "      <td>54.10</td>\n",
       "      <td>54.18</td>\n",
       "      <td>55.60</td>\n",
       "      <td>55.64</td>\n",
       "      <td>54.04</td>\n",
       "      <td>54.12</td>\n",
       "      <td>54.439</td>\n",
       "      <td>364779</td>\n",
       "      <td>19861304.24</td>\n",
       "      <td>3650</td>\n",
       "      <td>NaN</td>\n",
       "    </tr>\n",
       "  </tbody>\n",
       "</table>\n",
       "</div>"
      ],
      "text/plain": [
       "         Date    Bid    Ask  Opening price  High price  Low price  \\\n",
       "0  2020-05-12  55.84  55.90          55.00       56.04      54.54   \n",
       "1  2020-05-11  55.26  55.34          54.76       55.88      54.32   \n",
       "2  2020-05-08  54.62  54.66          54.00       54.72      53.72   \n",
       "3  2020-05-07  53.40  53.46          54.18       54.32      53.04   \n",
       "4  2020-05-06  54.10  54.18          55.60       55.64      54.04   \n",
       "\n",
       "   Closing price  Average price  Total volume     Turnover  Trades  \\\n",
       "0          56.02         55.644        475560  26457067.27    3992   \n",
       "1          55.12         55.161        422923  23328498.42    2989   \n",
       "2          54.62         54.435        232821  12673084.50    1782   \n",
       "3          53.62         53.528        428959  22960682.61    3577   \n",
       "4          54.12         54.439        364779  19861304.24    3650   \n",
       "\n",
       "   Unnamed: 11  \n",
       "0          NaN  \n",
       "1          NaN  \n",
       "2          NaN  \n",
       "3          NaN  \n",
       "4          NaN  "
      ]
     },
     "execution_count": 2,
     "metadata": {},
     "output_type": "execute_result"
    }
   ],
   "source": [
    "# Datojen avaaminen\n",
    "elisa = pd.read_csv('http://taanila.fi/elisa.csv', sep = ';', decimal = ',', skiprows=1)\n",
    "telia = pd.read_csv('http://taanila.fi/telia.csv', sep = ';', decimal = ',', skiprows=1)\n",
    "\n",
    "# Katsotaan miltä data näyttää\n",
    "elisa.head()"
   ]
  },
  {
   "cell_type": "code",
   "execution_count": 3,
   "metadata": {},
   "outputs": [
    {
     "data": {
      "text/html": [
       "<div>\n",
       "<style scoped>\n",
       "    .dataframe tbody tr th:only-of-type {\n",
       "        vertical-align: middle;\n",
       "    }\n",
       "\n",
       "    .dataframe tbody tr th {\n",
       "        vertical-align: top;\n",
       "    }\n",
       "\n",
       "    .dataframe thead th {\n",
       "        text-align: right;\n",
       "    }\n",
       "</style>\n",
       "<table border=\"1\" class=\"dataframe\">\n",
       "  <thead>\n",
       "    <tr style=\"text-align: right;\">\n",
       "      <th></th>\n",
       "      <th>Date</th>\n",
       "      <th>Bid</th>\n",
       "      <th>Ask</th>\n",
       "      <th>Opening price</th>\n",
       "      <th>High price</th>\n",
       "      <th>Low price</th>\n",
       "      <th>Closing price</th>\n",
       "      <th>Average price</th>\n",
       "      <th>Total volume</th>\n",
       "      <th>Turnover</th>\n",
       "      <th>Trades</th>\n",
       "      <th>Unnamed: 11</th>\n",
       "    </tr>\n",
       "  </thead>\n",
       "  <tbody>\n",
       "    <tr>\n",
       "      <th>0</th>\n",
       "      <td>2020-05-12</td>\n",
       "      <td>3.088</td>\n",
       "      <td>3.091</td>\n",
       "      <td>3.054</td>\n",
       "      <td>3.098</td>\n",
       "      <td>3.033</td>\n",
       "      <td>3.098</td>\n",
       "      <td>3.078</td>\n",
       "      <td>982804</td>\n",
       "      <td>3024660.46</td>\n",
       "      <td>1029</td>\n",
       "      <td>NaN</td>\n",
       "    </tr>\n",
       "    <tr>\n",
       "      <th>1</th>\n",
       "      <td>2020-05-11</td>\n",
       "      <td>3.059</td>\n",
       "      <td>3.063</td>\n",
       "      <td>3.090</td>\n",
       "      <td>3.100</td>\n",
       "      <td>3.050</td>\n",
       "      <td>3.057</td>\n",
       "      <td>3.068</td>\n",
       "      <td>789912</td>\n",
       "      <td>2423424.15</td>\n",
       "      <td>955</td>\n",
       "      <td>NaN</td>\n",
       "    </tr>\n",
       "    <tr>\n",
       "      <th>2</th>\n",
       "      <td>2020-05-08</td>\n",
       "      <td>3.086</td>\n",
       "      <td>3.088</td>\n",
       "      <td>3.062</td>\n",
       "      <td>3.088</td>\n",
       "      <td>3.050</td>\n",
       "      <td>3.087</td>\n",
       "      <td>3.073</td>\n",
       "      <td>715194</td>\n",
       "      <td>2197628.11</td>\n",
       "      <td>860</td>\n",
       "      <td>NaN</td>\n",
       "    </tr>\n",
       "    <tr>\n",
       "      <th>3</th>\n",
       "      <td>2020-05-07</td>\n",
       "      <td>3.048</td>\n",
       "      <td>3.050</td>\n",
       "      <td>3.053</td>\n",
       "      <td>3.065</td>\n",
       "      <td>3.028</td>\n",
       "      <td>3.050</td>\n",
       "      <td>3.043</td>\n",
       "      <td>833788</td>\n",
       "      <td>2537557.20</td>\n",
       "      <td>944</td>\n",
       "      <td>NaN</td>\n",
       "    </tr>\n",
       "    <tr>\n",
       "      <th>4</th>\n",
       "      <td>2020-05-06</td>\n",
       "      <td>3.031</td>\n",
       "      <td>3.034</td>\n",
       "      <td>3.108</td>\n",
       "      <td>3.108</td>\n",
       "      <td>3.028</td>\n",
       "      <td>3.030</td>\n",
       "      <td>3.057</td>\n",
       "      <td>1114591</td>\n",
       "      <td>3406956.46</td>\n",
       "      <td>1292</td>\n",
       "      <td>NaN</td>\n",
       "    </tr>\n",
       "  </tbody>\n",
       "</table>\n",
       "</div>"
      ],
      "text/plain": [
       "         Date    Bid    Ask  Opening price  High price  Low price  \\\n",
       "0  2020-05-12  3.088  3.091          3.054       3.098      3.033   \n",
       "1  2020-05-11  3.059  3.063          3.090       3.100      3.050   \n",
       "2  2020-05-08  3.086  3.088          3.062       3.088      3.050   \n",
       "3  2020-05-07  3.048  3.050          3.053       3.065      3.028   \n",
       "4  2020-05-06  3.031  3.034          3.108       3.108      3.028   \n",
       "\n",
       "   Closing price  Average price  Total volume    Turnover  Trades  Unnamed: 11  \n",
       "0          3.098          3.078        982804  3024660.46    1029          NaN  \n",
       "1          3.057          3.068        789912  2423424.15     955          NaN  \n",
       "2          3.087          3.073        715194  2197628.11     860          NaN  \n",
       "3          3.050          3.043        833788  2537557.20     944          NaN  \n",
       "4          3.030          3.057       1114591  3406956.46    1292          NaN  "
      ]
     },
     "execution_count": 3,
     "metadata": {},
     "output_type": "execute_result"
    }
   ],
   "source": [
    "telia.head()"
   ]
  },
  {
   "cell_type": "markdown",
   "metadata": {},
   "source": [
    "<h2>Aikaleimat indeksiin</h2>\n",
    "\n",
    "Aikaleimat täytyy muuntaa Pythonin ymmärtämään muotoon (<b>pd.to_datetime()</b>) ja siirtää dataframen indeksiin."
   ]
  },
  {
   "cell_type": "code",
   "execution_count": 4,
   "metadata": {},
   "outputs": [
    {
     "data": {
      "text/html": [
       "<div>\n",
       "<style scoped>\n",
       "    .dataframe tbody tr th:only-of-type {\n",
       "        vertical-align: middle;\n",
       "    }\n",
       "\n",
       "    .dataframe tbody tr th {\n",
       "        vertical-align: top;\n",
       "    }\n",
       "\n",
       "    .dataframe thead th {\n",
       "        text-align: right;\n",
       "    }\n",
       "</style>\n",
       "<table border=\"1\" class=\"dataframe\">\n",
       "  <thead>\n",
       "    <tr style=\"text-align: right;\">\n",
       "      <th></th>\n",
       "      <th>Date</th>\n",
       "      <th>Bid</th>\n",
       "      <th>Ask</th>\n",
       "      <th>Opening price</th>\n",
       "      <th>High price</th>\n",
       "      <th>Low price</th>\n",
       "      <th>Closing price</th>\n",
       "      <th>Average price</th>\n",
       "      <th>Total volume</th>\n",
       "      <th>Turnover</th>\n",
       "      <th>Trades</th>\n",
       "      <th>Unnamed: 11</th>\n",
       "    </tr>\n",
       "    <tr>\n",
       "      <th>Date</th>\n",
       "      <th></th>\n",
       "      <th></th>\n",
       "      <th></th>\n",
       "      <th></th>\n",
       "      <th></th>\n",
       "      <th></th>\n",
       "      <th></th>\n",
       "      <th></th>\n",
       "      <th></th>\n",
       "      <th></th>\n",
       "      <th></th>\n",
       "      <th></th>\n",
       "    </tr>\n",
       "  </thead>\n",
       "  <tbody>\n",
       "    <tr>\n",
       "      <th>2015-01-02</th>\n",
       "      <td>2015-01-02</td>\n",
       "      <td>5.300</td>\n",
       "      <td>5.305</td>\n",
       "      <td>5.34</td>\n",
       "      <td>5.36</td>\n",
       "      <td>5.285</td>\n",
       "      <td>5.305</td>\n",
       "      <td>5.308</td>\n",
       "      <td>1039894</td>\n",
       "      <td>5519434.117</td>\n",
       "      <td>792</td>\n",
       "      <td>NaN</td>\n",
       "    </tr>\n",
       "    <tr>\n",
       "      <th>2015-01-05</th>\n",
       "      <td>2015-01-05</td>\n",
       "      <td>5.205</td>\n",
       "      <td>5.215</td>\n",
       "      <td>5.29</td>\n",
       "      <td>5.30</td>\n",
       "      <td>5.205</td>\n",
       "      <td>5.205</td>\n",
       "      <td>5.248</td>\n",
       "      <td>929121</td>\n",
       "      <td>4876272.285</td>\n",
       "      <td>915</td>\n",
       "      <td>NaN</td>\n",
       "    </tr>\n",
       "    <tr>\n",
       "      <th>2015-01-07</th>\n",
       "      <td>2015-01-07</td>\n",
       "      <td>5.230</td>\n",
       "      <td>5.245</td>\n",
       "      <td>5.24</td>\n",
       "      <td>5.30</td>\n",
       "      <td>5.220</td>\n",
       "      <td>5.245</td>\n",
       "      <td>5.269</td>\n",
       "      <td>860595</td>\n",
       "      <td>4532003.330</td>\n",
       "      <td>621</td>\n",
       "      <td>NaN</td>\n",
       "    </tr>\n",
       "    <tr>\n",
       "      <th>2015-01-08</th>\n",
       "      <td>2015-01-08</td>\n",
       "      <td>5.405</td>\n",
       "      <td>5.410</td>\n",
       "      <td>5.26</td>\n",
       "      <td>5.41</td>\n",
       "      <td>5.260</td>\n",
       "      <td>5.405</td>\n",
       "      <td>5.329</td>\n",
       "      <td>1001285</td>\n",
       "      <td>5335848.695</td>\n",
       "      <td>684</td>\n",
       "      <td>NaN</td>\n",
       "    </tr>\n",
       "    <tr>\n",
       "      <th>2015-01-09</th>\n",
       "      <td>2015-01-09</td>\n",
       "      <td>5.290</td>\n",
       "      <td>5.295</td>\n",
       "      <td>5.40</td>\n",
       "      <td>5.42</td>\n",
       "      <td>5.290</td>\n",
       "      <td>5.295</td>\n",
       "      <td>5.354</td>\n",
       "      <td>917754</td>\n",
       "      <td>4913679.525</td>\n",
       "      <td>679</td>\n",
       "      <td>NaN</td>\n",
       "    </tr>\n",
       "  </tbody>\n",
       "</table>\n",
       "</div>"
      ],
      "text/plain": [
       "                  Date    Bid    Ask  Opening price  High price  Low price  \\\n",
       "Date                                                                         \n",
       "2015-01-02  2015-01-02  5.300  5.305           5.34        5.36      5.285   \n",
       "2015-01-05  2015-01-05  5.205  5.215           5.29        5.30      5.205   \n",
       "2015-01-07  2015-01-07  5.230  5.245           5.24        5.30      5.220   \n",
       "2015-01-08  2015-01-08  5.405  5.410           5.26        5.41      5.260   \n",
       "2015-01-09  2015-01-09  5.290  5.295           5.40        5.42      5.290   \n",
       "\n",
       "            Closing price  Average price  Total volume     Turnover  Trades  \\\n",
       "Date                                                                          \n",
       "2015-01-02          5.305          5.308       1039894  5519434.117     792   \n",
       "2015-01-05          5.205          5.248        929121  4876272.285     915   \n",
       "2015-01-07          5.245          5.269        860595  4532003.330     621   \n",
       "2015-01-08          5.405          5.329       1001285  5335848.695     684   \n",
       "2015-01-09          5.295          5.354        917754  4913679.525     679   \n",
       "\n",
       "            Unnamed: 11  \n",
       "Date                     \n",
       "2015-01-02          NaN  \n",
       "2015-01-05          NaN  \n",
       "2015-01-07          NaN  \n",
       "2015-01-08          NaN  \n",
       "2015-01-09          NaN  "
      ]
     },
     "execution_count": 4,
     "metadata": {},
     "output_type": "execute_result"
    }
   ],
   "source": [
    "# Aikaleimat indeksiin\n",
    "elisa.index = pd.to_datetime(elisa['Date'])\n",
    "telia.index = pd.to_datetime(telia['Date'])\n",
    "\n",
    "# Järjestys vanhimmasta uusimpaan\n",
    "elisa = elisa.sort_index()\n",
    "telia = telia.sort_index()\n",
    "\n",
    "# Katsotaan onnistuiko\n",
    "telia.head()"
   ]
  },
  {
   "cell_type": "markdown",
   "metadata": {},
   "source": [
    "<h2>Viivakaavioita</h2>"
   ]
  },
  {
   "cell_type": "code",
   "execution_count": 5,
   "metadata": {},
   "outputs": [
    {
     "data": {
      "text/plain": [
       "<matplotlib.axes._subplots.AxesSubplot at 0x1eb5729eb08>"
      ]
     },
     "execution_count": 5,
     "metadata": {},
     "output_type": "execute_result"
    },
    {
     "data": {
      "image/png": "[encoded data removed]",
      "text/plain": [
       "<Figure size 432x288 with 1 Axes>"
      ]
     },
     "metadata": {},
     "output_type": "display_data"
    }
   ],
   "source": [
    "elisa['Closing price'].plot()"
   ]
  },
  {
   "cell_type": "code",
   "execution_count": 6,
   "metadata": {},
   "outputs": [
    {
     "data": {
      "image/png": "[encoded data removed]",
      "text/plain": [
       "<Figure size 432x288 with 1 Axes>"
      ]
     },
     "metadata": {},
     "output_type": "display_data"
    }
   ],
   "source": [
    "# Vuoden 2020 alusta\n",
    "ax1 = elisa['Closing price']['2020':].plot()\n",
    "\n",
    "# Aika-akselin jakoviivojen tuunaus\n",
    "ax1.xaxis.set_major_locator(myLoc)\n",
    "ax1.xaxis.set_major_formatter(myFmt)"
   ]
  },
  {
   "cell_type": "markdown",
   "metadata": {},
   "source": [
    "<b>resample()</b> aggregoi aikasarjan esimerkiksi päivätasolta kuukausitasolle. Seuraavassa esitetään kuukausikeskiarvot."
   ]
  },
  {
   "cell_type": "code",
   "execution_count": 7,
   "metadata": {},
   "outputs": [
    {
     "data": {
      "text/plain": [
       "<matplotlib.axes._subplots.AxesSubplot at 0x1eb57ccfbc8>"
      ]
     },
     "execution_count": 7,
     "metadata": {},
     "output_type": "execute_result"
    },
    {
     "data": {
      "image/png": "[encoded data removed]",
      "text/plain": [
       "<Figure size 432x288 with 1 Axes>"
      ]
     },
     "metadata": {},
     "output_type": "display_data"
    }
   ],
   "source": [
    "# Kuukausittaiset keskiarvohinnat\n",
    "elisa['Closing price'].resample('M').mean().plot()"
   ]
  },
  {
   "cell_type": "markdown",
   "metadata": {},
   "source": [
    "<b>resample()</b>-toiminnon parametrina käytettäviä arvoja: \n",
    "    \n",
    "https://pandas.pydata.org/pandas-docs/stable/user_guide/timeseries.html#offset-aliases\n",
    "        "
   ]
  },
  {
   "cell_type": "code",
   "execution_count": 8,
   "metadata": {},
   "outputs": [
    {
     "data": {
      "text/plain": [
       "<matplotlib.axes._subplots.AxesSubplot at 0x1eb57d76388>"
      ]
     },
     "execution_count": 8,
     "metadata": {},
     "output_type": "execute_result"
    },
    {
     "data": {
      "image/png": "[encoded data removed]",
      "text/plain": [
       "<Figure size 432x288 with 1 Axes>"
      ]
     },
     "metadata": {},
     "output_type": "display_data"
    }
   ],
   "source": [
    "# Vuosineljännesten keskiarvohinnat\n",
    "elisa['Closing price'].resample('Q').mean().plot()"
   ]
  },
  {
   "cell_type": "code",
   "execution_count": 9,
   "metadata": {},
   "outputs": [
    {
     "data": {
      "text/plain": [
       "<matplotlib.axes._subplots.AxesSubplot at 0x1eb57df5d88>"
      ]
     },
     "execution_count": 9,
     "metadata": {},
     "output_type": "execute_result"
    },
    {
     "data": {
      "image/png": "[encoded data removed]",
      "text/plain": [
       "<Figure size 432x288 with 1 Axes>"
      ]
     },
     "metadata": {},
     "output_type": "display_data"
    }
   ],
   "source": [
    "# Vuosien keskiarvohinnat\n",
    "elisa['Closing price'].resample('Y').mean().plot()"
   ]
  },
  {
   "cell_type": "code",
   "execution_count": 10,
   "metadata": {},
   "outputs": [
    {
     "data": {
      "text/plain": [
       "<matplotlib.axes._subplots.AxesSubplot at 0x1eb57e5b6c8>"
      ]
     },
     "execution_count": 10,
     "metadata": {},
     "output_type": "execute_result"
    },
    {
     "data": {
      "image/png": "[encoded data removed]",
      "text/plain": [
       "<Figure size 432x288 with 1 Axes>"
      ]
     },
     "metadata": {},
     "output_type": "display_data"
    }
   ],
   "source": [
    "# Vaihto osakkeiden lukumääränä vuosineljänneksittäin\n",
    "elisa['Total volume'].resample('Q').sum().plot()"
   ]
  },
  {
   "cell_type": "markdown",
   "metadata": {},
   "source": [
    "<h2>Liukuvia keskiarvoja</h2>\n",
    "\n",
    "Liukuvilla keskiarvoilla tasoitetaan yksittäisiin ajankohtiin liittyviä satunnaisia piikkejä.\n",
    "\n",
    "Teknisessä analyysissä aikasarjan ja liukuvien keskiarvojen leikkauskohtia käytetään osto- ja myyntisignaaleina."
   ]
  },
  {
   "cell_type": "code",
   "execution_count": 11,
   "metadata": {},
   "outputs": [
    {
     "data": {
      "text/plain": [
       "<matplotlib.axes._subplots.AxesSubplot at 0x1eb57eef2c8>"
      ]
     },
     "execution_count": 11,
     "metadata": {},
     "output_type": "execute_result"
    },
    {
     "data": {
      "image/png": "[encoded data removed]",
      "text/plain": [
       "<Figure size 432x288 with 1 Axes>"
      ]
     },
     "metadata": {},
     "output_type": "display_data"
    }
   ],
   "source": [
    "elisa['Closing price'].plot()\n",
    "\n",
    "# Lisätään viivakaavioon 50 päivän ja 200 päivän liukuvat keskiarvot\n",
    "elisa['Closing price'].rolling(50).mean().plot()\n",
    "elisa['Closing price'].rolling(200).mean().plot()"
   ]
  },
  {
   "cell_type": "markdown",
   "metadata": {},
   "source": [
    "<h2>Muutosprosentit</h2>\n",
    "\n",
    "Muutosprosentit on kätevää laskea <b>pct_change()</b>-funktiolla."
   ]
  },
  {
   "cell_type": "code",
   "execution_count": 12,
   "metadata": {},
   "outputs": [],
   "source": [
    "# Hinnan muutokset prosentteina edellisestä päivästä\n",
    "elisa['Elisa%'] = elisa['Closing price'].pct_change()\n",
    "telia['Telia%'] = telia['Closing price'].pct_change()"
   ]
  },
  {
   "cell_type": "code",
   "execution_count": 13,
   "metadata": {},
   "outputs": [
    {
     "data": {
      "text/html": [
       "<div>\n",
       "<style scoped>\n",
       "    .dataframe tbody tr th:only-of-type {\n",
       "        vertical-align: middle;\n",
       "    }\n",
       "\n",
       "    .dataframe tbody tr th {\n",
       "        vertical-align: top;\n",
       "    }\n",
       "\n",
       "    .dataframe thead th {\n",
       "        text-align: right;\n",
       "    }\n",
       "</style>\n",
       "<table border=\"1\" class=\"dataframe\">\n",
       "  <thead>\n",
       "    <tr style=\"text-align: right;\">\n",
       "      <th></th>\n",
       "      <th>Elisa%</th>\n",
       "      <th>Telia%</th>\n",
       "    </tr>\n",
       "    <tr>\n",
       "      <th>Date</th>\n",
       "      <th></th>\n",
       "      <th></th>\n",
       "    </tr>\n",
       "  </thead>\n",
       "  <tbody>\n",
       "    <tr>\n",
       "      <th>2015-01-02</th>\n",
       "      <td>NaN</td>\n",
       "      <td>NaN</td>\n",
       "    </tr>\n",
       "    <tr>\n",
       "      <th>2015-01-05</th>\n",
       "      <td>-0.012346</td>\n",
       "      <td>-0.018850</td>\n",
       "    </tr>\n",
       "    <tr>\n",
       "      <th>2015-01-07</th>\n",
       "      <td>0.023214</td>\n",
       "      <td>0.007685</td>\n",
       "    </tr>\n",
       "    <tr>\n",
       "      <th>2015-01-08</th>\n",
       "      <td>-0.003927</td>\n",
       "      <td>0.030505</td>\n",
       "    </tr>\n",
       "    <tr>\n",
       "      <th>2015-01-09</th>\n",
       "      <td>0.001314</td>\n",
       "      <td>-0.020352</td>\n",
       "    </tr>\n",
       "  </tbody>\n",
       "</table>\n",
       "</div>"
      ],
      "text/plain": [
       "              Elisa%    Telia%\n",
       "Date                          \n",
       "2015-01-02       NaN       NaN\n",
       "2015-01-05 -0.012346 -0.018850\n",
       "2015-01-07  0.023214  0.007685\n",
       "2015-01-08 -0.003927  0.030505\n",
       "2015-01-09  0.001314 -0.020352"
      ]
     },
     "execution_count": 13,
     "metadata": {},
     "output_type": "execute_result"
    }
   ],
   "source": [
    "# Yhdistän Elisan ja Telian muutosprosentit samaan dataframeen\n",
    "muutokset = pd.concat([elisa['Elisa%'], telia['Telia%']], axis = 1)\n",
    "muutokset.head()"
   ]
  },
  {
   "cell_type": "code",
   "execution_count": 14,
   "metadata": {},
   "outputs": [
    {
     "data": {
      "image/png": "[encoded data removed]",
      "text/plain": [
       "<Figure size 432x288 with 1 Axes>"
      ]
     },
     "metadata": {},
     "output_type": "display_data"
    }
   ],
   "source": [
    "# Muutokset vuoden alusta\n",
    "ax2 = muutokset['2020':].plot()\n",
    "\n",
    "ax2.set_ylabel('Muutos')\n",
    "\n",
    "# Aika-akselin jakoviivojen tuunaus\n",
    "ax2.xaxis.set_major_locator(myLoc)\n",
    "ax2.xaxis.set_major_formatter(myFmt)"
   ]
  },
  {
   "cell_type": "code",
   "execution_count": 15,
   "metadata": {},
   "outputs": [
    {
     "data": {
      "text/html": [
       "<div>\n",
       "<style scoped>\n",
       "    .dataframe tbody tr th:only-of-type {\n",
       "        vertical-align: middle;\n",
       "    }\n",
       "\n",
       "    .dataframe tbody tr th {\n",
       "        vertical-align: top;\n",
       "    }\n",
       "\n",
       "    .dataframe thead th {\n",
       "        text-align: right;\n",
       "    }\n",
       "</style>\n",
       "<table border=\"1\" class=\"dataframe\">\n",
       "  <thead>\n",
       "    <tr style=\"text-align: right;\">\n",
       "      <th></th>\n",
       "      <th>Elisa%</th>\n",
       "      <th>Telia%</th>\n",
       "    </tr>\n",
       "  </thead>\n",
       "  <tbody>\n",
       "    <tr>\n",
       "      <th>count</th>\n",
       "      <td>1344.000000</td>\n",
       "      <td>1344.000000</td>\n",
       "    </tr>\n",
       "    <tr>\n",
       "      <th>mean</th>\n",
       "      <td>0.000790</td>\n",
       "      <td>-0.000296</td>\n",
       "    </tr>\n",
       "    <tr>\n",
       "      <th>std</th>\n",
       "      <td>0.015296</td>\n",
       "      <td>0.014367</td>\n",
       "    </tr>\n",
       "    <tr>\n",
       "      <th>min</th>\n",
       "      <td>-0.092226</td>\n",
       "      <td>-0.134499</td>\n",
       "    </tr>\n",
       "    <tr>\n",
       "      <th>25%</th>\n",
       "      <td>-0.006348</td>\n",
       "      <td>-0.006940</td>\n",
       "    </tr>\n",
       "    <tr>\n",
       "      <th>50%</th>\n",
       "      <td>0.000890</td>\n",
       "      <td>-0.000494</td>\n",
       "    </tr>\n",
       "    <tr>\n",
       "      <th>75%</th>\n",
       "      <td>0.008058</td>\n",
       "      <td>0.007358</td>\n",
       "    </tr>\n",
       "    <tr>\n",
       "      <th>max</th>\n",
       "      <td>0.164016</td>\n",
       "      <td>0.109976</td>\n",
       "    </tr>\n",
       "  </tbody>\n",
       "</table>\n",
       "</div>"
      ],
      "text/plain": [
       "            Elisa%       Telia%\n",
       "count  1344.000000  1344.000000\n",
       "mean      0.000790    -0.000296\n",
       "std       0.015296     0.014367\n",
       "min      -0.092226    -0.134499\n",
       "25%      -0.006348    -0.006940\n",
       "50%       0.000890    -0.000494\n",
       "75%       0.008058     0.007358\n",
       "max       0.164016     0.109976"
      ]
     },
     "execution_count": 15,
     "metadata": {},
     "output_type": "execute_result"
    }
   ],
   "source": [
    "# Tunnuslukuja muutosprosenteille\n",
    "muutokset.describe()"
   ]
  },
  {
   "cell_type": "code",
   "execution_count": 16,
   "metadata": {},
   "outputs": [
    {
     "data": {
      "text/html": [
       "<div>\n",
       "<style scoped>\n",
       "    .dataframe tbody tr th:only-of-type {\n",
       "        vertical-align: middle;\n",
       "    }\n",
       "\n",
       "    .dataframe tbody tr th {\n",
       "        vertical-align: top;\n",
       "    }\n",
       "\n",
       "    .dataframe thead th {\n",
       "        text-align: right;\n",
       "    }\n",
       "</style>\n",
       "<table border=\"1\" class=\"dataframe\">\n",
       "  <thead>\n",
       "    <tr style=\"text-align: right;\">\n",
       "      <th></th>\n",
       "      <th>Elisa%</th>\n",
       "      <th>Telia%</th>\n",
       "    </tr>\n",
       "    <tr>\n",
       "      <th>Date</th>\n",
       "      <th></th>\n",
       "      <th></th>\n",
       "    </tr>\n",
       "  </thead>\n",
       "  <tbody>\n",
       "    <tr>\n",
       "      <th>2015-03-27</th>\n",
       "      <td>-0.075697</td>\n",
       "      <td>-0.012712</td>\n",
       "    </tr>\n",
       "    <tr>\n",
       "      <th>2015-04-09</th>\n",
       "      <td>0.011499</td>\n",
       "      <td>-0.066554</td>\n",
       "    </tr>\n",
       "    <tr>\n",
       "      <th>2015-04-16</th>\n",
       "      <td>0.055984</td>\n",
       "      <td>0.006346</td>\n",
       "    </tr>\n",
       "    <tr>\n",
       "      <th>2015-08-24</th>\n",
       "      <td>-0.055172</td>\n",
       "      <td>-0.058611</td>\n",
       "    </tr>\n",
       "    <tr>\n",
       "      <th>2015-08-25</th>\n",
       "      <td>0.065693</td>\n",
       "      <td>0.047335</td>\n",
       "    </tr>\n",
       "    <tr>\n",
       "      <th>2015-09-03</th>\n",
       "      <td>0.057869</td>\n",
       "      <td>0.032323</td>\n",
       "    </tr>\n",
       "    <tr>\n",
       "      <th>2015-09-25</th>\n",
       "      <td>0.061796</td>\n",
       "      <td>0.025510</td>\n",
       "    </tr>\n",
       "    <tr>\n",
       "      <th>2016-01-22</th>\n",
       "      <td>0.051540</td>\n",
       "      <td>0.037919</td>\n",
       "    </tr>\n",
       "    <tr>\n",
       "      <th>2016-04-01</th>\n",
       "      <td>-0.052092</td>\n",
       "      <td>-0.009645</td>\n",
       "    </tr>\n",
       "    <tr>\n",
       "      <th>2016-06-27</th>\n",
       "      <td>-0.046049</td>\n",
       "      <td>-0.079728</td>\n",
       "    </tr>\n",
       "    <tr>\n",
       "      <th>2017-04-07</th>\n",
       "      <td>-0.055222</td>\n",
       "      <td>-0.006459</td>\n",
       "    </tr>\n",
       "    <tr>\n",
       "      <th>2017-10-18</th>\n",
       "      <td>-0.053899</td>\n",
       "      <td>-0.006816</td>\n",
       "    </tr>\n",
       "    <tr>\n",
       "      <th>2018-01-31</th>\n",
       "      <td>0.058061</td>\n",
       "      <td>0.013300</td>\n",
       "    </tr>\n",
       "    <tr>\n",
       "      <th>2018-04-20</th>\n",
       "      <td>-0.001125</td>\n",
       "      <td>0.083107</td>\n",
       "    </tr>\n",
       "    <tr>\n",
       "      <th>2018-07-13</th>\n",
       "      <td>-0.092226</td>\n",
       "      <td>-0.009455</td>\n",
       "    </tr>\n",
       "    <tr>\n",
       "      <th>2018-10-18</th>\n",
       "      <td>-0.074751</td>\n",
       "      <td>-0.000496</td>\n",
       "    </tr>\n",
       "    <tr>\n",
       "      <th>2018-11-05</th>\n",
       "      <td>0.057805</td>\n",
       "      <td>0.014457</td>\n",
       "    </tr>\n",
       "    <tr>\n",
       "      <th>2019-01-25</th>\n",
       "      <td>-0.009144</td>\n",
       "      <td>-0.050542</td>\n",
       "    </tr>\n",
       "    <tr>\n",
       "      <th>2019-01-31</th>\n",
       "      <td>-0.051635</td>\n",
       "      <td>-0.008364</td>\n",
       "    </tr>\n",
       "    <tr>\n",
       "      <th>2019-04-04</th>\n",
       "      <td>-0.063350</td>\n",
       "      <td>-0.007843</td>\n",
       "    </tr>\n",
       "    <tr>\n",
       "      <th>2019-10-17</th>\n",
       "      <td>0.068757</td>\n",
       "      <td>-0.062849</td>\n",
       "    </tr>\n",
       "    <tr>\n",
       "      <th>2020-03-09</th>\n",
       "      <td>-0.040785</td>\n",
       "      <td>-0.064356</td>\n",
       "    </tr>\n",
       "    <tr>\n",
       "      <th>2020-03-12</th>\n",
       "      <td>-0.084077</td>\n",
       "      <td>-0.134499</td>\n",
       "    </tr>\n",
       "    <tr>\n",
       "      <th>2020-03-17</th>\n",
       "      <td>0.164016</td>\n",
       "      <td>0.109976</td>\n",
       "    </tr>\n",
       "    <tr>\n",
       "      <th>2020-03-18</th>\n",
       "      <td>0.055873</td>\n",
       "      <td>-0.061963</td>\n",
       "    </tr>\n",
       "    <tr>\n",
       "      <th>2020-03-19</th>\n",
       "      <td>0.036694</td>\n",
       "      <td>0.051014</td>\n",
       "    </tr>\n",
       "    <tr>\n",
       "      <th>2020-04-03</th>\n",
       "      <td>-0.076739</td>\n",
       "      <td>-0.066333</td>\n",
       "    </tr>\n",
       "    <tr>\n",
       "      <th>2020-04-22</th>\n",
       "      <td>0.059656</td>\n",
       "      <td>-0.006086</td>\n",
       "    </tr>\n",
       "  </tbody>\n",
       "</table>\n",
       "</div>"
      ],
      "text/plain": [
       "              Elisa%    Telia%\n",
       "Date                          \n",
       "2015-03-27 -0.075697 -0.012712\n",
       "2015-04-09  0.011499 -0.066554\n",
       "2015-04-16  0.055984  0.006346\n",
       "2015-08-24 -0.055172 -0.058611\n",
       "2015-08-25  0.065693  0.047335\n",
       "2015-09-03  0.057869  0.032323\n",
       "2015-09-25  0.061796  0.025510\n",
       "2016-01-22  0.051540  0.037919\n",
       "2016-04-01 -0.052092 -0.009645\n",
       "2016-06-27 -0.046049 -0.079728\n",
       "2017-04-07 -0.055222 -0.006459\n",
       "2017-10-18 -0.053899 -0.006816\n",
       "2018-01-31  0.058061  0.013300\n",
       "2018-04-20 -0.001125  0.083107\n",
       "2018-07-13 -0.092226 -0.009455\n",
       "2018-10-18 -0.074751 -0.000496\n",
       "2018-11-05  0.057805  0.014457\n",
       "2019-01-25 -0.009144 -0.050542\n",
       "2019-01-31 -0.051635 -0.008364\n",
       "2019-04-04 -0.063350 -0.007843\n",
       "2019-10-17  0.068757 -0.062849\n",
       "2020-03-09 -0.040785 -0.064356\n",
       "2020-03-12 -0.084077 -0.134499\n",
       "2020-03-17  0.164016  0.109976\n",
       "2020-03-18  0.055873 -0.061963\n",
       "2020-03-19  0.036694  0.051014\n",
       "2020-04-03 -0.076739 -0.066333\n",
       "2020-04-22  0.059656 -0.006086"
      ]
     },
     "execution_count": 16,
     "metadata": {},
     "output_type": "execute_result"
    }
   ],
   "source": [
    "# Päivät, jolloin muutosprosentti ollut suurempi kuin 5 %\n",
    "muutokset[(abs(muutokset['Elisa%']) > 0.05) | (abs(muutokset['Telia%']) > 0.05)]"
   ]
  },
  {
   "cell_type": "markdown",
   "metadata": {},
   "source": [
    "<h2>Onko viikonpäivällä yhteyttä tuottoprosenttiin?</h2>"
   ]
  },
  {
   "cell_type": "code",
   "execution_count": 17,
   "metadata": {},
   "outputs": [
    {
     "data": {
      "text/html": [
       "<div>\n",
       "<style scoped>\n",
       "    .dataframe tbody tr th:only-of-type {\n",
       "        vertical-align: middle;\n",
       "    }\n",
       "\n",
       "    .dataframe tbody tr th {\n",
       "        vertical-align: top;\n",
       "    }\n",
       "\n",
       "    .dataframe thead th {\n",
       "        text-align: right;\n",
       "    }\n",
       "</style>\n",
       "<table border=\"1\" class=\"dataframe\">\n",
       "  <thead>\n",
       "    <tr style=\"text-align: right;\">\n",
       "      <th></th>\n",
       "      <th>count</th>\n",
       "      <th>mean</th>\n",
       "      <th>std</th>\n",
       "      <th>min</th>\n",
       "      <th>25%</th>\n",
       "      <th>50%</th>\n",
       "      <th>75%</th>\n",
       "      <th>max</th>\n",
       "    </tr>\n",
       "    <tr>\n",
       "      <th>Weekday</th>\n",
       "      <th></th>\n",
       "      <th></th>\n",
       "      <th></th>\n",
       "      <th></th>\n",
       "      <th></th>\n",
       "      <th></th>\n",
       "      <th></th>\n",
       "      <th></th>\n",
       "    </tr>\n",
       "  </thead>\n",
       "  <tbody>\n",
       "    <tr>\n",
       "      <th>0</th>\n",
       "      <td>267.0</td>\n",
       "      <td>0.001107</td>\n",
       "      <td>0.013506</td>\n",
       "      <td>-0.055172</td>\n",
       "      <td>-0.005134</td>\n",
       "      <td>0.000842</td>\n",
       "      <td>0.007842</td>\n",
       "      <td>0.057805</td>\n",
       "    </tr>\n",
       "    <tr>\n",
       "      <th>1</th>\n",
       "      <td>272.0</td>\n",
       "      <td>0.001424</td>\n",
       "      <td>0.016388</td>\n",
       "      <td>-0.038976</td>\n",
       "      <td>-0.006934</td>\n",
       "      <td>0.000691</td>\n",
       "      <td>0.007790</td>\n",
       "      <td>0.164016</td>\n",
       "    </tr>\n",
       "    <tr>\n",
       "      <th>2</th>\n",
       "      <td>273.0</td>\n",
       "      <td>0.001073</td>\n",
       "      <td>0.013395</td>\n",
       "      <td>-0.053899</td>\n",
       "      <td>-0.005659</td>\n",
       "      <td>0.000359</td>\n",
       "      <td>0.008081</td>\n",
       "      <td>0.059656</td>\n",
       "    </tr>\n",
       "    <tr>\n",
       "      <th>3</th>\n",
       "      <td>270.0</td>\n",
       "      <td>0.000712</td>\n",
       "      <td>0.016206</td>\n",
       "      <td>-0.084077</td>\n",
       "      <td>-0.006738</td>\n",
       "      <td>0.001115</td>\n",
       "      <td>0.008628</td>\n",
       "      <td>0.068757</td>\n",
       "    </tr>\n",
       "    <tr>\n",
       "      <th>4</th>\n",
       "      <td>262.0</td>\n",
       "      <td>-0.000408</td>\n",
       "      <td>0.016717</td>\n",
       "      <td>-0.092226</td>\n",
       "      <td>-0.006363</td>\n",
       "      <td>0.001135</td>\n",
       "      <td>0.007727</td>\n",
       "      <td>0.061796</td>\n",
       "    </tr>\n",
       "  </tbody>\n",
       "</table>\n",
       "</div>"
      ],
      "text/plain": [
       "         count      mean       std       min       25%       50%       75%  \\\n",
       "Weekday                                                                      \n",
       "0        267.0  0.001107  0.013506 -0.055172 -0.005134  0.000842  0.007842   \n",
       "1        272.0  0.001424  0.016388 -0.038976 -0.006934  0.000691  0.007790   \n",
       "2        273.0  0.001073  0.013395 -0.053899 -0.005659  0.000359  0.008081   \n",
       "3        270.0  0.000712  0.016206 -0.084077 -0.006738  0.001115  0.008628   \n",
       "4        262.0 -0.000408  0.016717 -0.092226 -0.006363  0.001135  0.007727   \n",
       "\n",
       "              max  \n",
       "Weekday            \n",
       "0        0.057805  \n",
       "1        0.164016  \n",
       "2        0.059656  \n",
       "3        0.068757  \n",
       "4        0.061796  "
      ]
     },
     "execution_count": 17,
     "metadata": {},
     "output_type": "execute_result"
    }
   ],
   "source": [
    "# Viikonpäivät omaan sarakkeeseen (0 = maanantai)\n",
    "muutokset['Weekday'] = muutokset.index.weekday\n",
    "\n",
    "muutokset.groupby('Weekday')['Elisa%'].describe()"
   ]
  },
  {
   "cell_type": "code",
   "execution_count": 18,
   "metadata": {},
   "outputs": [
    {
     "data": {
      "text/html": [
       "<div>\n",
       "<style scoped>\n",
       "    .dataframe tbody tr th:only-of-type {\n",
       "        vertical-align: middle;\n",
       "    }\n",
       "\n",
       "    .dataframe tbody tr th {\n",
       "        vertical-align: top;\n",
       "    }\n",
       "\n",
       "    .dataframe thead th {\n",
       "        text-align: right;\n",
       "    }\n",
       "</style>\n",
       "<table border=\"1\" class=\"dataframe\">\n",
       "  <thead>\n",
       "    <tr style=\"text-align: right;\">\n",
       "      <th></th>\n",
       "      <th>count</th>\n",
       "      <th>mean</th>\n",
       "      <th>std</th>\n",
       "      <th>min</th>\n",
       "      <th>25%</th>\n",
       "      <th>50%</th>\n",
       "      <th>75%</th>\n",
       "      <th>max</th>\n",
       "    </tr>\n",
       "    <tr>\n",
       "      <th>Weekday</th>\n",
       "      <th></th>\n",
       "      <th></th>\n",
       "      <th></th>\n",
       "      <th></th>\n",
       "      <th></th>\n",
       "      <th></th>\n",
       "      <th></th>\n",
       "      <th></th>\n",
       "    </tr>\n",
       "  </thead>\n",
       "  <tbody>\n",
       "    <tr>\n",
       "      <th>0</th>\n",
       "      <td>267.0</td>\n",
       "      <td>-0.000988</td>\n",
       "      <td>0.014703</td>\n",
       "      <td>-0.079728</td>\n",
       "      <td>-0.007445</td>\n",
       "      <td>-0.001145</td>\n",
       "      <td>0.007258</td>\n",
       "      <td>0.039216</td>\n",
       "    </tr>\n",
       "    <tr>\n",
       "      <th>1</th>\n",
       "      <td>272.0</td>\n",
       "      <td>0.000783</td>\n",
       "      <td>0.014157</td>\n",
       "      <td>-0.040565</td>\n",
       "      <td>-0.006406</td>\n",
       "      <td>-0.000503</td>\n",
       "      <td>0.007406</td>\n",
       "      <td>0.109976</td>\n",
       "    </tr>\n",
       "    <tr>\n",
       "      <th>2</th>\n",
       "      <td>273.0</td>\n",
       "      <td>-0.000202</td>\n",
       "      <td>0.012127</td>\n",
       "      <td>-0.061963</td>\n",
       "      <td>-0.006093</td>\n",
       "      <td>-0.000533</td>\n",
       "      <td>0.007426</td>\n",
       "      <td>0.042407</td>\n",
       "    </tr>\n",
       "    <tr>\n",
       "      <th>3</th>\n",
       "      <td>270.0</td>\n",
       "      <td>-0.001198</td>\n",
       "      <td>0.016089</td>\n",
       "      <td>-0.134499</td>\n",
       "      <td>-0.007937</td>\n",
       "      <td>-0.000122</td>\n",
       "      <td>0.006882</td>\n",
       "      <td>0.051014</td>\n",
       "    </tr>\n",
       "    <tr>\n",
       "      <th>4</th>\n",
       "      <td>262.0</td>\n",
       "      <td>0.000119</td>\n",
       "      <td>0.014525</td>\n",
       "      <td>-0.066333</td>\n",
       "      <td>-0.007024</td>\n",
       "      <td>0.000508</td>\n",
       "      <td>0.008030</td>\n",
       "      <td>0.083107</td>\n",
       "    </tr>\n",
       "  </tbody>\n",
       "</table>\n",
       "</div>"
      ],
      "text/plain": [
       "         count      mean       std       min       25%       50%       75%  \\\n",
       "Weekday                                                                      \n",
       "0        267.0 -0.000988  0.014703 -0.079728 -0.007445 -0.001145  0.007258   \n",
       "1        272.0  0.000783  0.014157 -0.040565 -0.006406 -0.000503  0.007406   \n",
       "2        273.0 -0.000202  0.012127 -0.061963 -0.006093 -0.000533  0.007426   \n",
       "3        270.0 -0.001198  0.016089 -0.134499 -0.007937 -0.000122  0.006882   \n",
       "4        262.0  0.000119  0.014525 -0.066333 -0.007024  0.000508  0.008030   \n",
       "\n",
       "              max  \n",
       "Weekday            \n",
       "0        0.039216  \n",
       "1        0.109976  \n",
       "2        0.042407  \n",
       "3        0.051014  \n",
       "4        0.083107  "
      ]
     },
     "execution_count": 18,
     "metadata": {},
     "output_type": "execute_result"
    }
   ],
   "source": [
    "muutokset.groupby('Weekday')['Telia%'].describe()"
   ]
  },
  {
   "cell_type": "markdown",
   "metadata": {},
   "source": [
    "<h2>Muutosprosenttien välinen korrelaatio</h2>"
   ]
  },
  {
   "cell_type": "code",
   "execution_count": 19,
   "metadata": {},
   "outputs": [
    {
     "data": {
      "text/html": [
       "<div>\n",
       "<style scoped>\n",
       "    .dataframe tbody tr th:only-of-type {\n",
       "        vertical-align: middle;\n",
       "    }\n",
       "\n",
       "    .dataframe tbody tr th {\n",
       "        vertical-align: top;\n",
       "    }\n",
       "\n",
       "    .dataframe thead th {\n",
       "        text-align: right;\n",
       "    }\n",
       "</style>\n",
       "<table border=\"1\" class=\"dataframe\">\n",
       "  <thead>\n",
       "    <tr style=\"text-align: right;\">\n",
       "      <th></th>\n",
       "      <th>Elisa%</th>\n",
       "      <th>Telia%</th>\n",
       "    </tr>\n",
       "  </thead>\n",
       "  <tbody>\n",
       "    <tr>\n",
       "      <th>Elisa%</th>\n",
       "      <td>1.00000</td>\n",
       "      <td>0.50687</td>\n",
       "    </tr>\n",
       "    <tr>\n",
       "      <th>Telia%</th>\n",
       "      <td>0.50687</td>\n",
       "      <td>1.00000</td>\n",
       "    </tr>\n",
       "  </tbody>\n",
       "</table>\n",
       "</div>"
      ],
      "text/plain": [
       "         Elisa%   Telia%\n",
       "Elisa%  1.00000  0.50687\n",
       "Telia%  0.50687  1.00000"
      ]
     },
     "execution_count": 19,
     "metadata": {},
     "output_type": "execute_result"
    }
   ],
   "source": [
    "# Elisan ja Telian muutosprosentit korreloivat positiivisesti\n",
    "muutokset.drop('Weekday', axis = 1).corr()"
   ]
  },
  {
   "cell_type": "code",
   "execution_count": 20,
   "metadata": {},
   "outputs": [
    {
     "data": {
      "text/plain": [
       "<matplotlib.axes._subplots.AxesSubplot at 0x1eb59072588>"
      ]
     },
     "execution_count": 20,
     "metadata": {},
     "output_type": "execute_result"
    },
    {
     "data": {
      "image/png": "[encoded data removed]",
      "text/plain": [
       "<Figure size 432x288 with 1 Axes>"
      ]
     },
     "metadata": {},
     "output_type": "display_data"
    }
   ],
   "source": [
    "# Muutosprosenttien positiivinen korrelaatio näkyy hyvin hajontakaaviossa\n",
    "muutokset.plot.scatter(x = 'Elisa%', y = 'Telia%')"
   ]
  },
  {
   "cell_type": "code",
   "execution_count": 21,
   "metadata": {},
   "outputs": [
    {
     "data": {
      "text/plain": [
       "<matplotlib.axes._subplots.AxesSubplot at 0x1eb590e0488>"
      ]
     },
     "execution_count": 21,
     "metadata": {},
     "output_type": "execute_result"
    },
    {
     "data": {
      "image/png": "[encoded data removed]",
      "text/plain": [
       "<Figure size 432x288 with 1 Axes>"
      ]
     },
     "metadata": {},
     "output_type": "display_data"
    }
   ],
   "source": [
    "# Liukuva korrelaatio kertoo miten muutosprosentit korreloivat eri aikoina\n",
    "muutokset['Elisa%'].rolling(100).corr(muutokset['Telia%']).plot()"
   ]
  },
  {
   "cell_type": "markdown",
   "metadata": {},
   "source": [
    "<h2>Liukuva volatiliteetti</h2>\n",
    "\n",
    "Volatiliteetti kuvaa osakkeeseen liittyvää riskiä.\n",
    "\n",
    "Volatiliteetti voidaan laska päivittäisten muutosprosenttien keskihajontana ja se skaaltaaan vuositasolle kertomalla vuoden kaupantekopäivien lukumäärän neliöjuurella.\n",
    "\n",
    "Liukuva volatiliteetti kuvaa, miten volatiliteetti on muuttunut ajan kuluessa."
   ]
  },
  {
   "cell_type": "code",
   "execution_count": 22,
   "metadata": {},
   "outputs": [
    {
     "data": {
      "text/plain": [
       "<matplotlib.axes._subplots.AxesSubplot at 0x1eb59154088>"
      ]
     },
     "execution_count": 22,
     "metadata": {},
     "output_type": "execute_result"
    },
    {
     "data": {
      "image/png": "[encoded data removed]",
      "text/plain": [
       "<Figure size 432x288 with 1 Axes>"
      ]
     },
     "metadata": {},
     "output_type": "display_data"
    }
   ],
   "source": [
    "# 252 päivän liukuva volatiliteetti\n",
    "(muutokset['Elisa%'].rolling(252).std() * (252**0.5)).plot(label = 'Elisa', legend = True)\n",
    "(muutokset['Telia%'].rolling(252).std() * (252**0.5)).plot(label = 'Telia', legend = True)"
   ]
  },
  {
   "cell_type": "markdown",
   "metadata": {},
   "source": [
    "<h2>Kahden arvoakselin viivakaavio</h2>"
   ]
  },
  {
   "cell_type": "code",
   "execution_count": 23,
   "metadata": {},
   "outputs": [
    {
     "data": {
      "text/plain": [
       "(3, 7)"
      ]
     },
     "execution_count": 23,
     "metadata": {},
     "output_type": "execute_result"
    },
    {
     "data": {
      "image/png": "[encoded data removed]",
      "text/plain": [
       "<Figure size 432x288 with 2 Axes>"
      ]
     },
     "metadata": {},
     "output_type": "display_data"
    }
   ],
   "source": [
    "# Viivakaavio Elisan päätöshinnoista (ax3)\n",
    "ax3 = elisa['Closing price'].plot(color = 'C0')\n",
    "ax3.set_ylabel('Elisa', color='C0', fontsize=14)\n",
    "ax3.set_ylim(20,60)\n",
    "\n",
    "# Luon Telialle toisen axes-olion (ax4), jolla on yhteinen x-akseli ax3-olion kanssa\n",
    "ax4 = ax3.twinx()\n",
    "telia['Closing price'].plot(ax = ax4, color='C1')\n",
    "ax4.set_ylabel('Telia', color='C1', fontsize=14)\n",
    "ax4.set_ylim(3,7)"
   ]
  }
 ],
 "metadata": {
  "kernelspec": {
   "display_name": "Python 3",
   "language": "python",
   "name": "python3"
  },
  "language_info": {
   "codemirror_mode": {
    "name": "ipython",
    "version": 3
   },
   "file_extension": ".py",
   "mimetype": "text/x-python",
   "name": "python",
   "nbconvert_exporter": "python",
   "pygments_lexer": "ipython3",
   "version": "3.7.6"
  }
 },
 "nbformat": 4,
 "nbformat_minor": 2
}
