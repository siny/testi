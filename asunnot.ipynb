{
 "cells": [
  {
   "cell_type": "markdown",
   "metadata": {},
   "source": [
    "<h2>Tilastokeskuksen tietokannat</h2>\n",
    "\n",
    "Tilastokeskuksen tietokannoista voit tallentaa päivittyvän linkin kyselyn tuloksiin.\n",
    "\n",
    "Seuraavassa käytetään kyselyä osakeasuntojen kuukausittaisista hinnoista, jotka löytyvät osoitteesta http://stat.fi/til/ashi/tau.html"
   ]
  },
  {
   "cell_type": "code",
   "execution_count": 1,
   "metadata": {},
   "outputs": [],
   "source": [
    "import pandas as pd\n",
    "import matplotlib.pyplot as plt\n",
    "\n",
    "%matplotlib inline"
   ]
  },
  {
   "cell_type": "code",
   "execution_count": 2,
   "metadata": {},
   "outputs": [
    {
     "data": {
      "text/html": [
       "<div>\n",
       "<style scoped>\n",
       "    .dataframe tbody tr th:only-of-type {\n",
       "        vertical-align: middle;\n",
       "    }\n",
       "\n",
       "    .dataframe tbody tr th {\n",
       "        vertical-align: top;\n",
       "    }\n",
       "\n",
       "    .dataframe thead th {\n",
       "        text-align: right;\n",
       "    }\n",
       "</style>\n",
       "<table border=\"1\" class=\"dataframe\">\n",
       "  <thead>\n",
       "    <tr style=\"text-align: right;\">\n",
       "      <th></th>\n",
       "      <th>Kuukausi</th>\n",
       "      <th>Koko maa</th>\n",
       "      <th>Pääkaupunkiseutu (PKS)</th>\n",
       "      <th>Muu Suomi (koko maa pl. PKS)</th>\n",
       "    </tr>\n",
       "  </thead>\n",
       "  <tbody>\n",
       "    <tr>\n",
       "      <th>0</th>\n",
       "      <td>2015M01</td>\n",
       "      <td>2119.0</td>\n",
       "      <td>3520.0</td>\n",
       "      <td>1605.0</td>\n",
       "    </tr>\n",
       "    <tr>\n",
       "      <th>1</th>\n",
       "      <td>2015M02</td>\n",
       "      <td>2140.0</td>\n",
       "      <td>3581.0</td>\n",
       "      <td>1614.0</td>\n",
       "    </tr>\n",
       "    <tr>\n",
       "      <th>2</th>\n",
       "      <td>2015M03</td>\n",
       "      <td>2184.0</td>\n",
       "      <td>3689.0</td>\n",
       "      <td>1639.0</td>\n",
       "    </tr>\n",
       "    <tr>\n",
       "      <th>3</th>\n",
       "      <td>2015M04</td>\n",
       "      <td>2150.0</td>\n",
       "      <td>3597.0</td>\n",
       "      <td>1622.0</td>\n",
       "    </tr>\n",
       "    <tr>\n",
       "      <th>4</th>\n",
       "      <td>2015M05</td>\n",
       "      <td>2155.0</td>\n",
       "      <td>3565.0</td>\n",
       "      <td>1636.0</td>\n",
       "    </tr>\n",
       "  </tbody>\n",
       "</table>\n",
       "</div>"
      ],
      "text/plain": [
       "  Kuukausi  Koko maa  Pääkaupunkiseutu (PKS)  Muu Suomi (koko maa pl. PKS)\n",
       "0  2015M01    2119.0                  3520.0                        1605.0\n",
       "1  2015M02    2140.0                  3581.0                        1614.0\n",
       "2  2015M03    2184.0                  3689.0                        1639.0\n",
       "3  2015M04    2150.0                  3597.0                        1622.0\n",
       "4  2015M05    2155.0                  3565.0                        1636.0"
      ]
     },
     "execution_count": 2,
     "metadata": {},
     "output_type": "execute_result"
    }
   ],
   "source": [
    "# Avaan kyselyn\n",
    "# En ota mukaan kolmea ensimmäistä riviä ja vain tietyt sarakkeet\n",
    "df = pd.read_excel('http://pxnet2.stat.fi/PXWeb/sq/6ef1c06a-ab7a-4d2f-acee-c4216b99ff1f', \n",
    "                   skiprows = 3, usecols = [1, 2, 3, 4])\n",
    "\n",
    "# Huonosti nimetyn sarakkeen uudelleen nimeäminen\n",
    "df = df.rename(columns = {'Unnamed: 1' : 'Kuukausi'})\n",
    "\n",
    "df.head()"
   ]
  },
  {
   "cell_type": "code",
   "execution_count": 3,
   "metadata": {},
   "outputs": [
    {
     "data": {
      "text/plain": [
       "array(['2015M01', '2015M02', '2015M03', '2015M04', '2015M05', '2015M06',\n",
       "       '2015M07', '2015M08', '2015M09', '2015M10', '2015M11', '2015M12',\n",
       "       '2016M01', '2016M02', '2016M03', '2016M04', '2016M05', '2016M06',\n",
       "       '2016M07', '2016M08', '2016M09', '2016M10', '2016M11', '2016M12',\n",
       "       '2017M01', '2017M02', '2017M03', '2017M04', '2017M05', '2017M06',\n",
       "       '2017M07', '2017M08', '2017M09', '2017M10', '2017M11', '2017M12',\n",
       "       '2018M01', '2018M02', '2018M03', '2018M04', '2018M05', '2018M06',\n",
       "       '2018M07', '2018M08', '2018M09', '2018M10', '2018M11', '2018M12',\n",
       "       '2019M01', '2019M02', '2019M03', '2019M04', '2019M05', '2019M06',\n",
       "       '2019M07', '2019M08', '2019M09', '2019M10', '2019M11', '2019M12',\n",
       "       '2020M01*', '2020M02*', '2020M03*', '2020M04*', '2020M05*',\n",
       "       '2020M06*', '2020M07*', '2020M08*', '2020M09*', nan, nan, nan, nan,\n",
       "       nan, nan, nan, nan, nan, nan, nan, nan, nan, nan, nan, nan, nan,\n",
       "       nan, nan, nan, nan, nan, nan, nan, nan, nan, nan, nan, nan, nan,\n",
       "       nan, nan, nan, nan, nan, nan, nan, nan, nan, nan, nan, nan, nan,\n",
       "       nan, nan, nan, nan, nan, nan, nan, nan, nan, nan, nan, nan, nan,\n",
       "       nan, nan, nan, nan, nan, nan, nan, nan, nan, nan, nan, nan, nan,\n",
       "       nan, nan, nan, nan, nan, nan, nan, nan, nan, nan, nan, nan],\n",
       "      dtype=object)"
      ]
     },
     "execution_count": 3,
     "metadata": {},
     "output_type": "execute_result"
    }
   ],
   "source": [
    "# Uusimmat tiedot ovat tähdellä merkittyjä ennakkotietoja, jotka voivat vielä tarkentua\n",
    "df['Kuukausi'].values"
   ]
  },
  {
   "cell_type": "code",
   "execution_count": 4,
   "metadata": {},
   "outputs": [
    {
     "data": {
      "text/html": [
       "<div>\n",
       "<style scoped>\n",
       "    .dataframe tbody tr th:only-of-type {\n",
       "        vertical-align: middle;\n",
       "    }\n",
       "\n",
       "    .dataframe tbody tr th {\n",
       "        vertical-align: top;\n",
       "    }\n",
       "\n",
       "    .dataframe thead th {\n",
       "        text-align: right;\n",
       "    }\n",
       "</style>\n",
       "<table border=\"1\" class=\"dataframe\">\n",
       "  <thead>\n",
       "    <tr style=\"text-align: right;\">\n",
       "      <th></th>\n",
       "      <th>Kuukausi</th>\n",
       "      <th>Koko maa</th>\n",
       "      <th>Pääkaupunkiseutu (PKS)</th>\n",
       "      <th>Muu Suomi (koko maa pl. PKS)</th>\n",
       "    </tr>\n",
       "    <tr>\n",
       "      <th>Kuukausi</th>\n",
       "      <th></th>\n",
       "      <th></th>\n",
       "      <th></th>\n",
       "      <th></th>\n",
       "    </tr>\n",
       "  </thead>\n",
       "  <tbody>\n",
       "    <tr>\n",
       "      <th>2020-05-01</th>\n",
       "      <td>2020M05</td>\n",
       "      <td>2298.0</td>\n",
       "      <td>4200.0</td>\n",
       "      <td>1640.0</td>\n",
       "    </tr>\n",
       "    <tr>\n",
       "      <th>2020-06-01</th>\n",
       "      <td>2020M06</td>\n",
       "      <td>2342.0</td>\n",
       "      <td>4228.0</td>\n",
       "      <td>1683.0</td>\n",
       "    </tr>\n",
       "    <tr>\n",
       "      <th>2020-07-01</th>\n",
       "      <td>2020M07</td>\n",
       "      <td>2340.0</td>\n",
       "      <td>4157.0</td>\n",
       "      <td>1696.0</td>\n",
       "    </tr>\n",
       "    <tr>\n",
       "      <th>2020-08-01</th>\n",
       "      <td>2020M08</td>\n",
       "      <td>2351.0</td>\n",
       "      <td>4284.0</td>\n",
       "      <td>1680.0</td>\n",
       "    </tr>\n",
       "    <tr>\n",
       "      <th>2020-09-01</th>\n",
       "      <td>2020M09</td>\n",
       "      <td>2395.0</td>\n",
       "      <td>4280.0</td>\n",
       "      <td>1730.0</td>\n",
       "    </tr>\n",
       "  </tbody>\n",
       "</table>\n",
       "</div>"
      ],
      "text/plain": [
       "           Kuukausi  Koko maa  Pääkaupunkiseutu (PKS)  \\\n",
       "Kuukausi                                                \n",
       "2020-05-01  2020M05    2298.0                  4200.0   \n",
       "2020-06-01  2020M06    2342.0                  4228.0   \n",
       "2020-07-01  2020M07    2340.0                  4157.0   \n",
       "2020-08-01  2020M08    2351.0                  4284.0   \n",
       "2020-09-01  2020M09    2395.0                  4280.0   \n",
       "\n",
       "            Muu Suomi (koko maa pl. PKS)  \n",
       "Kuukausi                                  \n",
       "2020-05-01                        1640.0  \n",
       "2020-06-01                        1683.0  \n",
       "2020-07-01                        1696.0  \n",
       "2020-08-01                        1680.0  \n",
       "2020-09-01                        1730.0  "
      ]
     },
     "execution_count": 4,
     "metadata": {},
     "output_type": "execute_result"
    }
   ],
   "source": [
    "# Poistetaan puuttuvia tietoja sisältävä rivit\n",
    "df = df.dropna(subset = ['Kuukausi'])\n",
    "\n",
    "# Poistetaan tähdet\n",
    "df['Kuukausi'] = df['Kuukausi'].astype(str).str.strip('*')\n",
    "\n",
    "# Lisätään aikaleimat indeksiin\n",
    "df.index = pd.to_datetime(df['Kuukausi'], format = '%YM%m')\n",
    "\n",
    "df.tail()"
   ]
  },
  {
   "cell_type": "code",
   "execution_count": 5,
   "metadata": {},
   "outputs": [
    {
     "data": {
      "text/plain": [
       "<matplotlib.axes._subplots.AxesSubplot at 0x2aef6591070>"
      ]
     },
     "execution_count": 5,
     "metadata": {},
     "output_type": "execute_result"
    },
    {
     "data": {
      "image/png": "[encoded data removed]",
      "text/plain": [
       "<Figure size 432x288 with 1 Axes>"
      ]
     },
     "metadata": {
      "needs_background": "light"
     },
     "output_type": "display_data"
    }
   ],
   "source": [
    "df[['Koko maa', 'Pääkaupunkiseutu (PKS)']].plot()"
   ]
  }
 ],
 "metadata": {
  "kernelspec": {
   "display_name": "Python 3",
   "language": "python",
   "name": "python3"
  },
  "language_info": {
   "codemirror_mode": {
    "name": "ipython",
    "version": 3
   },
   "file_extension": ".py",
   "mimetype": "text/x-python",
   "name": "python",
   "nbconvert_exporter": "python",
   "pygments_lexer": "ipython3",
   "version": "3.8.3"
  }
 },
 "nbformat": 4,
 "nbformat_minor": 4
}
