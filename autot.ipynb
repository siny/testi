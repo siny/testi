{
 "cells": [
  {
   "cell_type": "markdown",
   "metadata": {},
   "source": [
    "Ajoneuvojen avoin data sisältää kaikkien liikennekäytössä olevien ajoneuvojen rekisteröinti-, hyväksyntä- ja teknisiä tietoja Traficomin ylläpitämästä liikenneasioiden rekisteristä. Dataa päivitetään säännöllisesti. Samasta osoitteesta löytyy myös aineistokuvaus ja muuttujaluettelo Excel-muodossa:\n",
    "\n",
    "https://www.traficom.fi/fi/ajankohtaista/avoin-data\n",
    "\n",
    "Seuraavassa oletetaan, että data on tallennettu samaan kansioon Jupyter notebookin kanssa."
   ]
  },
  {
   "cell_type": "code",
   "execution_count": 1,
   "metadata": {},
   "outputs": [],
   "source": [
    "import pandas as pd"
   ]
  },
  {
   "cell_type": "code",
   "execution_count": 2,
   "metadata": {},
   "outputs": [
    {
     "name": "stderr",
     "output_type": "stream",
     "text": [
      "C:\\Users\\Aki\\anaconda3\\lib\\site-packages\\IPython\\core\\interactiveshell.py:3071: DtypeWarning: Columns (18,27,32) have mixed types.Specify dtype option on import or set low_memory=False.\n",
      "  has_raised = await self.run_ast_nodes(code_ast.body, cell_name,\n"
     ]
    },
    {
     "data": {
      "text/plain": [
       "(5170482, 38)"
      ]
     },
     "execution_count": 2,
     "metadata": {},
     "output_type": "execute_result"
    }
   ],
   "source": [
    "# Datan avaus\n",
    "df = pd.read_csv('TieliikenneAvoinData_5_12.csv', sep = ';', encoding = 'cp1252')\n",
    "\n",
    "# Kuinka monta riviä ja saraketta datassa on?\n",
    "df.shape"
   ]
  },
  {
   "cell_type": "code",
   "execution_count": 3,
   "metadata": {},
   "outputs": [
    {
     "name": "stdout",
     "output_type": "stream",
     "text": [
      "<class 'pandas.core.frame.DataFrame'>\n",
      "RangeIndex: 5170482 entries, 0 to 5170481\n",
      "Data columns (total 38 columns):\n",
      " #   Column                     Dtype  \n",
      "---  ------                     -----  \n",
      " 0   ajoneuvoluokka             object \n",
      " 1   ensirekisterointipvm       object \n",
      " 2   ajoneuvoryhma              float64\n",
      " 3   ajoneuvonkaytto            float64\n",
      " 4   variantti                  object \n",
      " 5   versio                     object \n",
      " 6   kayttoonottopvm            int64  \n",
      " 7   vari                       object \n",
      " 8   ovienLukumaara             float64\n",
      " 9   korityyppi                 object \n",
      " 10  ohjaamotyyppi              float64\n",
      " 11  istumapaikkojenLkm         float64\n",
      " 12  omamassa                   float64\n",
      " 13  teknSuurSallKokmassa       float64\n",
      " 14  tieliikSuurSallKokmassa    float64\n",
      " 15  ajonKokPituus              float64\n",
      " 16  ajonLeveys                 float64\n",
      " 17  ajonKorkeus                float64\n",
      " 18  kayttovoima                object \n",
      " 19  iskutilavuus               float64\n",
      " 20  suurinNettoteho            float64\n",
      " 21  sylintereidenLkm           float64\n",
      " 22  ahdin                      object \n",
      " 23  sahkohybridi               object \n",
      " 24  sahkohybridinluokka        float64\n",
      " 25  merkkiSelvakielinen        object \n",
      " 26  mallimerkinta              object \n",
      " 27  vaihteisto                 object \n",
      " 28  vaihteidenLkm              float64\n",
      " 29  kaupallinenNimi            object \n",
      " 30  voimanvalJaTehostamistapa  float64\n",
      " 31  tyyppihyvaksyntanro        object \n",
      " 32  yksittaisKayttovoima       object \n",
      " 33  kunta                      float64\n",
      " 34  Co2                        float64\n",
      " 35  matkamittarilukema         float64\n",
      " 36  valmistenumero2            object \n",
      " 37  jarnro                     int64  \n",
      "dtypes: float64(20), int64(2), object(16)\n",
      "memory usage: 1.5+ GB\n"
     ]
    }
   ],
   "source": [
    "# Tietoa muuttujista\n",
    "df.info()"
   ]
  },
  {
   "cell_type": "code",
   "execution_count": 4,
   "metadata": {},
   "outputs": [],
   "source": [
    "# Poimitaan datasta vain henkilöautot (ajoneuvoluokat M1 ja M1G)\n",
    "df = df[df['ajoneuvoluokka'].isin(['M1', 'M1G'])]"
   ]
  },
  {
   "cell_type": "code",
   "execution_count": 5,
   "metadata": {},
   "outputs": [],
   "source": [
    "# Varmistetaan, että päivämäärät tunnistuvat päivämääriksi\n",
    "df['ensirekisterointipvm'] = pd.to_datetime(df['ensirekisterointipvm'], format = '%Y-%m-%d')"
   ]
  },
  {
   "cell_type": "code",
   "execution_count": 6,
   "metadata": {},
   "outputs": [],
   "source": [
    "# Rajoitutaan vuoden 2019 alusta lähtien rekisteröityihin\n",
    "df = df[df['ensirekisterointipvm'] > '2019-01-01'].sort_values(by = 'ensirekisterointipvm')"
   ]
  },
  {
   "cell_type": "code",
   "execution_count": 7,
   "metadata": {},
   "outputs": [
    {
     "data": {
      "text/plain": [
       "(266414, 33)"
      ]
     },
     "execution_count": 7,
     "metadata": {},
     "output_type": "execute_result"
    }
   ],
   "source": [
    "# Poistetaan osa muuttujista\n",
    "df = df.drop(['variantti', 'versio', 'tyyppihyvaksyntanro', 'valmistenumero2', 'jarnro'], axis = 1)\n",
    "\n",
    "# Kuinka monta riviä ja saraketta datassa on?\n",
    "df.shape"
   ]
  },
  {
   "cell_type": "code",
   "execution_count": 8,
   "metadata": {},
   "outputs": [],
   "source": [
    "# Tallennus csv-muotoon\n",
    "df.to_csv('autot.csv', index = False)"
   ]
  }
 ],
 "metadata": {
  "kernelspec": {
   "display_name": "Python 3",
   "language": "python",
   "name": "python3"
  },
  "language_info": {
   "codemirror_mode": {
    "name": "ipython",
    "version": 3
   },
   "file_extension": ".py",
   "mimetype": "text/x-python",
   "name": "python",
   "nbconvert_exporter": "python",
   "pygments_lexer": "ipython3",
   "version": "3.8.3"
  }
 },
 "nbformat": 4,
 "nbformat_minor": 4
}
