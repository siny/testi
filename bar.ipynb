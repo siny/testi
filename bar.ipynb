{
 "cells": [
  {
   "cell_type": "markdown",
   "metadata": {},
   "source": [
    "# Pylväskaavioita\n",
    "\n",
    "Seuraavassa keskityn ainoastaan kaavioiden laatimiseen ja viimeistelyyn. Taulukoiden viimeistely on tekemättä mikäli se ei vaikuta kaavioon. Kaavioiden lähteenä käytettävien taulukoiden laskennan ja viimeistelyn olen selittänyt toisaalla: https://github.com/taanila/tilastoapu/blob/master/lkm.ipynb\n",
    "\n",
    "Pääsäännöt:\n",
    "<ul><li>Lasken dataframe-muotoisen yhteenvetotaulukon.</li>\n",
    "    <li>Laadin kaavion <b>plot</b>-komennolla dataframesta.</li>\n",
    "    <li>Joitain muotoilu-/lisäasetuksia annan plot-komennon parametreina.</li>\n",
    "    <li>Sijoitan kaavion <b>Axes</b>-luokan olion arvoksi.</li>\n",
    "    <li>Muotoilen kaaviota Axes-luokan olion kautta.</li></ul>\n"
   ]
  },
  {
   "cell_type": "code",
   "execution_count": 1,
   "metadata": {},
   "outputs": [],
   "source": [
    "import pandas as pd\n",
    "\n",
    "#Keskeinen kirjasto kaavioiden luomiseen:\n",
    "import matplotlib.pyplot as plt\n",
    "\n",
    "#Tämän ansiosta kaaviot tulostuvat ilman erillisiä tulostuskomentoja:\n",
    "%matplotlib inline\n",
    "\n",
    "#Tämä vaikuttaa kaavioiden ulkonäköön:\n",
    "plt.style.use('seaborn-whitegrid')"
   ]
  },
  {
   "cell_type": "code",
   "execution_count": 2,
   "metadata": {},
   "outputs": [
    {
     "data": {
      "text/html": [
       "<div>\n",
       "<style scoped>\n",
       "    .dataframe tbody tr th:only-of-type {\n",
       "        vertical-align: middle;\n",
       "    }\n",
       "\n",
       "    .dataframe tbody tr th {\n",
       "        vertical-align: top;\n",
       "    }\n",
       "\n",
       "    .dataframe thead th {\n",
       "        text-align: right;\n",
       "    }\n",
       "</style>\n",
       "<table border=\"1\" class=\"dataframe\">\n",
       "  <thead>\n",
       "    <tr style=\"text-align: right;\">\n",
       "      <th></th>\n",
       "      <th>nro</th>\n",
       "      <th>sukup</th>\n",
       "      <th>ikä</th>\n",
       "      <th>perhe</th>\n",
       "      <th>koulutus</th>\n",
       "      <th>palveluv</th>\n",
       "      <th>palkka</th>\n",
       "      <th>johto</th>\n",
       "      <th>työtov</th>\n",
       "      <th>työymp</th>\n",
       "      <th>palkkat</th>\n",
       "      <th>työteht</th>\n",
       "      <th>työterv</th>\n",
       "      <th>lomaosa</th>\n",
       "      <th>kuntosa</th>\n",
       "      <th>hieroja</th>\n",
       "    </tr>\n",
       "  </thead>\n",
       "  <tbody>\n",
       "    <tr>\n",
       "      <th>0</th>\n",
       "      <td>1</td>\n",
       "      <td>1</td>\n",
       "      <td>38</td>\n",
       "      <td>1</td>\n",
       "      <td>1.0</td>\n",
       "      <td>22.0</td>\n",
       "      <td>3587</td>\n",
       "      <td>3</td>\n",
       "      <td>3.0</td>\n",
       "      <td>3</td>\n",
       "      <td>3</td>\n",
       "      <td>3</td>\n",
       "      <td>NaN</td>\n",
       "      <td>NaN</td>\n",
       "      <td>NaN</td>\n",
       "      <td>NaN</td>\n",
       "    </tr>\n",
       "    <tr>\n",
       "      <th>1</th>\n",
       "      <td>2</td>\n",
       "      <td>1</td>\n",
       "      <td>29</td>\n",
       "      <td>2</td>\n",
       "      <td>2.0</td>\n",
       "      <td>10.0</td>\n",
       "      <td>2963</td>\n",
       "      <td>1</td>\n",
       "      <td>5.0</td>\n",
       "      <td>2</td>\n",
       "      <td>1</td>\n",
       "      <td>3</td>\n",
       "      <td>NaN</td>\n",
       "      <td>NaN</td>\n",
       "      <td>NaN</td>\n",
       "      <td>NaN</td>\n",
       "    </tr>\n",
       "    <tr>\n",
       "      <th>2</th>\n",
       "      <td>3</td>\n",
       "      <td>1</td>\n",
       "      <td>30</td>\n",
       "      <td>1</td>\n",
       "      <td>1.0</td>\n",
       "      <td>7.0</td>\n",
       "      <td>1989</td>\n",
       "      <td>3</td>\n",
       "      <td>4.0</td>\n",
       "      <td>1</td>\n",
       "      <td>1</td>\n",
       "      <td>3</td>\n",
       "      <td>1.0</td>\n",
       "      <td>NaN</td>\n",
       "      <td>NaN</td>\n",
       "      <td>NaN</td>\n",
       "    </tr>\n",
       "    <tr>\n",
       "      <th>3</th>\n",
       "      <td>4</td>\n",
       "      <td>1</td>\n",
       "      <td>36</td>\n",
       "      <td>2</td>\n",
       "      <td>1.0</td>\n",
       "      <td>14.0</td>\n",
       "      <td>2144</td>\n",
       "      <td>3</td>\n",
       "      <td>3.0</td>\n",
       "      <td>3</td>\n",
       "      <td>3</td>\n",
       "      <td>3</td>\n",
       "      <td>1.0</td>\n",
       "      <td>NaN</td>\n",
       "      <td>NaN</td>\n",
       "      <td>NaN</td>\n",
       "    </tr>\n",
       "    <tr>\n",
       "      <th>4</th>\n",
       "      <td>5</td>\n",
       "      <td>1</td>\n",
       "      <td>24</td>\n",
       "      <td>1</td>\n",
       "      <td>2.0</td>\n",
       "      <td>4.0</td>\n",
       "      <td>2183</td>\n",
       "      <td>2</td>\n",
       "      <td>3.0</td>\n",
       "      <td>2</td>\n",
       "      <td>1</td>\n",
       "      <td>2</td>\n",
       "      <td>1.0</td>\n",
       "      <td>NaN</td>\n",
       "      <td>NaN</td>\n",
       "      <td>NaN</td>\n",
       "    </tr>\n",
       "  </tbody>\n",
       "</table>\n",
       "</div>"
      ],
      "text/plain": [
       "   nro  sukup  ikä  perhe  koulutus  palveluv  palkka  johto  työtov  työymp  \\\n",
       "0    1      1   38      1       1.0      22.0    3587      3     3.0       3   \n",
       "1    2      1   29      2       2.0      10.0    2963      1     5.0       2   \n",
       "2    3      1   30      1       1.0       7.0    1989      3     4.0       1   \n",
       "3    4      1   36      2       1.0      14.0    2144      3     3.0       3   \n",
       "4    5      1   24      1       2.0       4.0    2183      2     3.0       2   \n",
       "\n",
       "   palkkat  työteht  työterv  lomaosa  kuntosa  hieroja  \n",
       "0        3        3      NaN      NaN      NaN      NaN  \n",
       "1        1        3      NaN      NaN      NaN      NaN  \n",
       "2        1        3      1.0      NaN      NaN      NaN  \n",
       "3        3        3      1.0      NaN      NaN      NaN  \n",
       "4        1        2      1.0      NaN      NaN      NaN  "
      ]
     },
     "execution_count": 2,
     "metadata": {},
     "output_type": "execute_result"
    }
   ],
   "source": [
    "#Avaan datan dataframeen.\n",
    "#Vanhemmissa pandas-versioissa pitää käyttää sheet_name sijasta sheetname.\n",
    "df = pd.read_excel('http://taanila.fi/data1.xlsx', sheet_name = 'Data')\n",
    "\n",
    "#Tulostan viisi ensimmäistä riviä:\n",
    "df.head()"
   ]
  },
  {
   "cell_type": "code",
   "execution_count": 3,
   "metadata": {},
   "outputs": [],
   "source": [
    "#Muutamia listoja jatkoa varten:\n",
    "koulutus = ['Peruskoulu','2.aste','Korkeakoulu','Ylempi korkeakoulu']\n",
    "mielipideasteikko = ['Erittäin tyytymätön','Tyytymätön','Neutraali',\n",
    "          'Tyytyväinen','Erittäin tyytyväinen']\n",
    "tyytyväisyydet = ['Johtoon','Työtovereihin','Työympäristöön','Palkkaan','Työtehtäviin']\n",
    "monivalinnat = ['Kuntosali','Lomaosake','Hieroja','Työterveyshuolto']"
   ]
  },
  {
   "cell_type": "code",
   "execution_count": 4,
   "metadata": {},
   "outputs": [
    {
     "data": {
      "text/html": [
       "<div>\n",
       "<style scoped>\n",
       "    .dataframe tbody tr th:only-of-type {\n",
       "        vertical-align: middle;\n",
       "    }\n",
       "\n",
       "    .dataframe tbody tr th {\n",
       "        vertical-align: top;\n",
       "    }\n",
       "\n",
       "    .dataframe thead th {\n",
       "        text-align: right;\n",
       "    }\n",
       "</style>\n",
       "<table border=\"1\" class=\"dataframe\">\n",
       "  <thead>\n",
       "    <tr style=\"text-align: right;\">\n",
       "      <th></th>\n",
       "      <th>koulutus</th>\n",
       "      <th>%</th>\n",
       "    </tr>\n",
       "  </thead>\n",
       "  <tbody>\n",
       "    <tr>\n",
       "      <th>Peruskoulu</th>\n",
       "      <td>27</td>\n",
       "      <td>33.333333</td>\n",
       "    </tr>\n",
       "    <tr>\n",
       "      <th>2.aste</th>\n",
       "      <td>30</td>\n",
       "      <td>37.037037</td>\n",
       "    </tr>\n",
       "    <tr>\n",
       "      <th>Korkeakoulu</th>\n",
       "      <td>22</td>\n",
       "      <td>27.160494</td>\n",
       "    </tr>\n",
       "    <tr>\n",
       "      <th>Ylempi korkeakoulu</th>\n",
       "      <td>2</td>\n",
       "      <td>2.469136</td>\n",
       "    </tr>\n",
       "  </tbody>\n",
       "</table>\n",
       "</div>"
      ],
      "text/plain": [
       "                    koulutus          %\n",
       "Peruskoulu                27  33.333333\n",
       "2.aste                    30  37.037037\n",
       "Korkeakoulu               22  27.160494\n",
       "Ylempi korkeakoulu         2   2.469136"
      ]
     },
     "execution_count": 4,
     "metadata": {},
     "output_type": "execute_result"
    }
   ],
   "source": [
    "#Frekvenssitaulukko koulutukselle:\n",
    "df1 = df['koulutus'].value_counts(sort = False).to_frame()\n",
    "df1.index = koulutus\n",
    "n=df1['koulutus'].sum()\n",
    "df1['%'] = df1['koulutus'] / n * 100\n",
    "df1"
   ]
  },
  {
   "cell_type": "code",
   "execution_count": 5,
   "metadata": {},
   "outputs": [
    {
     "data": {
      "text/plain": [
       "[Text(0, 0, '0 %'),\n",
       " Text(0, 0, '10 %'),\n",
       " Text(0, 0, '20 %'),\n",
       " Text(0, 0, '30 %'),\n",
       " Text(0, 0, '40 %')]"
      ]
     },
     "execution_count": 5,
     "metadata": {},
     "output_type": "execute_result"
    },
    {
     "data": {
      "image/png": "[encoded data removed]",
      "text/plain": [
       "<Figure size 432x288 with 1 Axes>"
      ]
     },
     "metadata": {
      "needs_background": "light"
     },
     "output_type": "display_data"
    }
   ],
   "source": [
    "#Koulutusten frekvenssiprosentit pylväinä:\n",
    "ax1=df1['%'].plot.barh(color='C0')\n",
    "\n",
    "#Prosenttien yhteydessä tarvitaan n-arvo (mistä lukumäärästä prosentit laskettu?).\n",
    "ax1.set_xlabel('Prosenttia (n='+str(n)+')')\n",
    "\n",
    "#Luvun ja prosenttimerkin väliin tulee suomen kielessä välilyönti.\n",
    "ax1.set_xticks([0,10,20,30,40])\n",
    "ax1.set_xticklabels(['0 %','10 %','20 %','30 %','40 %'])"
   ]
  },
  {
   "cell_type": "code",
   "execution_count": 6,
   "metadata": {},
   "outputs": [
    {
     "data": {
      "text/html": [
       "<div>\n",
       "<style scoped>\n",
       "    .dataframe tbody tr th:only-of-type {\n",
       "        vertical-align: middle;\n",
       "    }\n",
       "\n",
       "    .dataframe tbody tr th {\n",
       "        vertical-align: top;\n",
       "    }\n",
       "\n",
       "    .dataframe thead th {\n",
       "        text-align: right;\n",
       "    }\n",
       "</style>\n",
       "<table border=\"1\" class=\"dataframe\">\n",
       "  <thead>\n",
       "    <tr style=\"text-align: right;\">\n",
       "      <th></th>\n",
       "      <th>ikä</th>\n",
       "    </tr>\n",
       "  </thead>\n",
       "  <tbody>\n",
       "    <tr>\n",
       "      <th>(19.999, 29.0]</th>\n",
       "      <td>17</td>\n",
       "    </tr>\n",
       "    <tr>\n",
       "      <th>(29.0, 39.0]</th>\n",
       "      <td>30</td>\n",
       "    </tr>\n",
       "    <tr>\n",
       "      <th>(39.0, 49.0]</th>\n",
       "      <td>23</td>\n",
       "    </tr>\n",
       "    <tr>\n",
       "      <th>(49.0, 59.0]</th>\n",
       "      <td>11</td>\n",
       "    </tr>\n",
       "    <tr>\n",
       "      <th>(59.0, 70.0]</th>\n",
       "      <td>1</td>\n",
       "    </tr>\n",
       "  </tbody>\n",
       "</table>\n",
       "</div>"
      ],
      "text/plain": [
       "                ikä\n",
       "(19.999, 29.0]   17\n",
       "(29.0, 39.0]     30\n",
       "(39.0, 49.0]     23\n",
       "(49.0, 59.0]     11\n",
       "(59.0, 70.0]      1"
      ]
     },
     "execution_count": 6,
     "metadata": {},
     "output_type": "execute_result"
    }
   ],
   "source": [
    "#Ikäluokkien frekvenssit:\n",
    "df3 = df['ikä'].value_counts(sort = False, bins = [20,29,39,49,59,70]).to_frame()\n",
    "df3"
   ]
  },
  {
   "cell_type": "code",
   "execution_count": 7,
   "metadata": {},
   "outputs": [
    {
     "data": {
      "text/plain": [
       "Text(0, 0.5, 'Lukumäärä')"
      ]
     },
     "execution_count": 7,
     "metadata": {},
     "output_type": "execute_result"
    },
    {
     "data": {
      "image/png": "[encoded data removed]",
      "text/plain": [
       "<Figure size 432x288 with 1 Axes>"
      ]
     },
     "metadata": {
      "needs_background": "light"
     },
     "output_type": "display_data"
    }
   ],
   "source": [
    "#Historgrammin ikäluokittain voin tehdä suoraan alkuperäisestä aineistosta.\n",
    "#Ikäluokat samat kuin yllä lasketussa taulukossa: [20,30); [30,40); [40,40); [50,60); [60,70].\n",
    "ax3=df['ikä'].plot.hist(bins=[20,30,40,50,60,70], edgecolor='black')\n",
    "\n",
    "ax3.set_xlabel('Ikä')\n",
    "ax3.set_ylabel('Lukumäärä')"
   ]
  },
  {
   "cell_type": "code",
   "execution_count": 8,
   "metadata": {},
   "outputs": [
    {
     "name": "stderr",
     "output_type": "stream",
     "text": [
      "C:\\Users\\taaak\\AppData\\Local\\Continuum\\anaconda3\\lib\\site-packages\\matplotlib\\axes\\_axes.py:6510: MatplotlibDeprecationWarning: \n",
      "The 'normed' kwarg was deprecated in Matplotlib 2.1 and will be removed in 3.1. Use 'density' instead.\n",
      "  alternative=\"'density'\", removal=\"3.1\")\n"
     ]
    },
    {
     "data": {
      "text/plain": [
       "[Text(0, 0, '0 %'),\n",
       " Text(0, 0, '20 %'),\n",
       " Text(0, 0, '40 %'),\n",
       " Text(0, 0, '60 %'),\n",
       " Text(0, 0, '80 %'),\n",
       " Text(0, 0, '100 %'),\n",
       " Text(0, 0, '120 %')]"
      ]
     },
     "execution_count": 8,
     "metadata": {},
     "output_type": "execute_result"
    },
    {
     "data": {
      "image/png": "[encoded data removed]",
      "text/plain": [
       "<Figure size 432x288 with 1 Axes>"
      ]
     },
     "metadata": {
      "needs_background": "light"
     },
     "output_type": "display_data"
    }
   ],
   "source": [
    "#Histogrammin voin esittää myös kumulatiivisena.\n",
    "#Normed-parametrilla lukumäärät näytetään prosentteina.\n",
    "ax4=df['ikä'].plot.hist(cumulative=True, bins=[20,30,40,50,60,70], normed=1, edgecolor='black')\n",
    "\n",
    "ax4.set_xlabel('Ikä')\n",
    "ax4.set_ylabel('Prosenttia')\n",
    "\n",
    "#Prosenttien ulkoasun muotoilu vaatii omat kikkailunsa:\n",
    "vals = ax4.get_yticks()\n",
    "ax4.set_yticklabels(['{:.0f} %'.format(y*100) for y in vals])"
   ]
  },
  {
   "cell_type": "code",
   "execution_count": 9,
   "metadata": {},
   "outputs": [
    {
     "data": {
      "text/html": [
       "<div>\n",
       "<style scoped>\n",
       "    .dataframe tbody tr th:only-of-type {\n",
       "        vertical-align: middle;\n",
       "    }\n",
       "\n",
       "    .dataframe tbody tr th {\n",
       "        vertical-align: top;\n",
       "    }\n",
       "\n",
       "    .dataframe thead th {\n",
       "        text-align: right;\n",
       "    }\n",
       "</style>\n",
       "<table border=\"1\" class=\"dataframe\">\n",
       "  <thead>\n",
       "    <tr style=\"text-align: right;\">\n",
       "      <th></th>\n",
       "      <th>Lkm</th>\n",
       "    </tr>\n",
       "  </thead>\n",
       "  <tbody>\n",
       "    <tr>\n",
       "      <th>Kuntosali</th>\n",
       "      <td>9.0</td>\n",
       "    </tr>\n",
       "    <tr>\n",
       "      <th>Lomaosake</th>\n",
       "      <td>20.0</td>\n",
       "    </tr>\n",
       "    <tr>\n",
       "      <th>Hieroja</th>\n",
       "      <td>22.0</td>\n",
       "    </tr>\n",
       "    <tr>\n",
       "      <th>Työterveyshuolto</th>\n",
       "      <td>47.0</td>\n",
       "    </tr>\n",
       "  </tbody>\n",
       "</table>\n",
       "</div>"
      ],
      "text/plain": [
       "                   Lkm\n",
       "Kuntosali          9.0\n",
       "Lomaosake         20.0\n",
       "Hieroja           22.0\n",
       "Työterveyshuolto  47.0"
      ]
     },
     "execution_count": 9,
     "metadata": {},
     "output_type": "execute_result"
    }
   ],
   "source": [
    "#Monivalintakysymyksen valintojen lukumäärät suuruusjärjestyksessä:\n",
    "df5 = df[['työterv','lomaosa','kuntosa','hieroja']].sum().sort_values(ascending = True).to_frame()\n",
    "df5 = df5.rename(columns = {0: 'Lkm'})\n",
    "df5.index=monivalinnat\n",
    "df5"
   ]
  },
  {
   "cell_type": "code",
   "execution_count": 10,
   "metadata": {},
   "outputs": [
    {
     "data": {
      "image/png": "[encoded data removed]",
      "text/plain": [
       "<Figure size 432x288 with 1 Axes>"
      ]
     },
     "metadata": {
      "needs_background": "light"
     },
     "output_type": "display_data"
    }
   ],
   "source": [
    "#Taulukon alin arvo näkyy aina vaakapylväskaaviossa ylimpänä pylväänä.\n",
    "ax5=df5.plot.barh(title='Etuisuuksia käyttäneiden lukumäärät')"
   ]
  },
  {
   "cell_type": "code",
   "execution_count": 11,
   "metadata": {},
   "outputs": [
    {
     "data": {
      "text/html": [
       "<div>\n",
       "<style scoped>\n",
       "    .dataframe tbody tr th:only-of-type {\n",
       "        vertical-align: middle;\n",
       "    }\n",
       "\n",
       "    .dataframe tbody tr th {\n",
       "        vertical-align: top;\n",
       "    }\n",
       "\n",
       "    .dataframe thead th {\n",
       "        text-align: right;\n",
       "    }\n",
       "</style>\n",
       "<table border=\"1\" class=\"dataframe\">\n",
       "  <thead>\n",
       "    <tr style=\"text-align: right;\">\n",
       "      <th></th>\n",
       "      <th>Mies</th>\n",
       "      <th>Nainen</th>\n",
       "    </tr>\n",
       "  </thead>\n",
       "  <tbody>\n",
       "    <tr>\n",
       "      <th>Peruskoulu</th>\n",
       "      <td>22</td>\n",
       "      <td>5</td>\n",
       "    </tr>\n",
       "    <tr>\n",
       "      <th>2.aste</th>\n",
       "      <td>23</td>\n",
       "      <td>7</td>\n",
       "    </tr>\n",
       "    <tr>\n",
       "      <th>Korkeakoulu</th>\n",
       "      <td>15</td>\n",
       "      <td>7</td>\n",
       "    </tr>\n",
       "    <tr>\n",
       "      <th>Ylempi korkeakoulu</th>\n",
       "      <td>2</td>\n",
       "      <td>0</td>\n",
       "    </tr>\n",
       "  </tbody>\n",
       "</table>\n",
       "</div>"
      ],
      "text/plain": [
       "                    Mies  Nainen\n",
       "Peruskoulu            22       5\n",
       "2.aste                23       7\n",
       "Korkeakoulu           15       7\n",
       "Ylempi korkeakoulu     2       0"
      ]
     },
     "execution_count": 11,
     "metadata": {},
     "output_type": "execute_result"
    }
   ],
   "source": [
    "#Sukupuolen ja koulutuksen ristiintaulukointi:\n",
    "df6 = pd.crosstab(df['koulutus'], df['sukup'])\n",
    "df6.index = koulutus\n",
    "df6.columns = ['Mies','Nainen']\n",
    "df6"
   ]
  },
  {
   "cell_type": "code",
   "execution_count": 12,
   "metadata": {},
   "outputs": [
    {
     "data": {
      "text/plain": [
       "Text(0.5, 0, 'Lukumäärä')"
      ]
     },
     "execution_count": 12,
     "metadata": {},
     "output_type": "execute_result"
    },
    {
     "data": {
      "image/png": "[encoded data removed]",
      "text/plain": [
       "<Figure size 432x288 with 1 Axes>"
      ]
     },
     "metadata": {
      "needs_background": "light"
     },
     "output_type": "display_data"
    }
   ],
   "source": [
    "#Ristiintaulukointi pylväinä:\n",
    "# -width vaikuttaa pylväiden paksuuteen\n",
    "# -legend='reverse' vaihtaa selitteen järjestyksen.\n",
    "ax6=df6.plot.barh(width=0.7, legend='reverse')\n",
    "\n",
    "ax6.set_xlabel('Lukumäärä')"
   ]
  },
  {
   "cell_type": "code",
   "execution_count": 13,
   "metadata": {},
   "outputs": [
    {
     "data": {
      "text/html": [
       "<div>\n",
       "<style scoped>\n",
       "    .dataframe tbody tr th:only-of-type {\n",
       "        vertical-align: middle;\n",
       "    }\n",
       "\n",
       "    .dataframe tbody tr th {\n",
       "        vertical-align: top;\n",
       "    }\n",
       "\n",
       "    .dataframe thead th {\n",
       "        text-align: right;\n",
       "    }\n",
       "</style>\n",
       "<table border=\"1\" class=\"dataframe\">\n",
       "  <thead>\n",
       "    <tr style=\"text-align: right;\">\n",
       "      <th></th>\n",
       "      <th>Mies</th>\n",
       "      <th>Nainen</th>\n",
       "      <th>Yhteensä</th>\n",
       "    </tr>\n",
       "  </thead>\n",
       "  <tbody>\n",
       "    <tr>\n",
       "      <th>Peruskoulu</th>\n",
       "      <td>0.354839</td>\n",
       "      <td>0.263158</td>\n",
       "      <td>0.333333</td>\n",
       "    </tr>\n",
       "    <tr>\n",
       "      <th>2.aste</th>\n",
       "      <td>0.370968</td>\n",
       "      <td>0.368421</td>\n",
       "      <td>0.370370</td>\n",
       "    </tr>\n",
       "    <tr>\n",
       "      <th>Korkeakoulu</th>\n",
       "      <td>0.241935</td>\n",
       "      <td>0.368421</td>\n",
       "      <td>0.271605</td>\n",
       "    </tr>\n",
       "    <tr>\n",
       "      <th>Ylempi korkeakoulu</th>\n",
       "      <td>0.032258</td>\n",
       "      <td>0.000000</td>\n",
       "      <td>0.024691</td>\n",
       "    </tr>\n",
       "  </tbody>\n",
       "</table>\n",
       "</div>"
      ],
      "text/plain": [
       "                        Mies    Nainen  Yhteensä\n",
       "Peruskoulu          0.354839  0.263158  0.333333\n",
       "2.aste              0.370968  0.368421  0.370370\n",
       "Korkeakoulu         0.241935  0.368421  0.271605\n",
       "Ylempi korkeakoulu  0.032258  0.000000  0.024691"
      ]
     },
     "execution_count": 13,
     "metadata": {},
     "output_type": "execute_result"
    }
   ],
   "source": [
    "#Ristiintaulukointi prosentteina:\n",
    "df7 = pd.crosstab(df['koulutus'], df['sukup'], margins = True, normalize = 'columns')\n",
    "df7.index = koulutus\n",
    "df7.columns = ['Mies','Nainen','Yhteensä']\n",
    "df7"
   ]
  },
  {
   "cell_type": "code",
   "execution_count": 14,
   "metadata": {},
   "outputs": [
    {
     "data": {
      "text/plain": [
       "[Text(0, 0, '0 %'),\n",
       " Text(0, 0, '20 %'),\n",
       " Text(0, 0, '40 %'),\n",
       " Text(0, 0, '60 %'),\n",
       " Text(0, 0, '80 %'),\n",
       " Text(0, 0, '100 %'),\n",
       " Text(0, 0, '120 %')]"
      ]
     },
     "execution_count": 14,
     "metadata": {},
     "output_type": "execute_result"
    },
    {
     "data": {
      "image/png": "[encoded data removed]",
      "text/plain": [
       "<Figure size 432x288 with 1 Axes>"
      ]
     },
     "metadata": {
      "needs_background": "light"
     },
     "output_type": "display_data"
    }
   ],
   "source": [
    "#transpose() vaihtaa arvosarjat ja luokat keskenään.\n",
    "#stacked=True tarkoittaa pinottua kaaviota.\n",
    "ax7=df7[['Mies','Nainen']].transpose().plot.barh(stacked=True)\n",
    "\n",
    "ax7.set_xlabel('Prosenttia sukupuolesta')\n",
    "\n",
    "#Selitteen asettaminen sopivaan kohtaan on konstikasta.\n",
    "#ncol=4 laittaa kaikkien neljän värin selitteet vierekkäin.\n",
    "ax7.legend(loc='upper center', bbox_to_anchor=(0.5, 1.2), ncol=4)\n",
    "\n",
    "#Prosenttien ulkoasun muotoilu vaatii omat kikkailunsa:\n",
    "vals = ax7.get_xticks()\n",
    "ax7.set_xticklabels(['{:.0f} %'.format(x*100) for x in vals])"
   ]
  },
  {
   "cell_type": "code",
   "execution_count": 15,
   "metadata": {},
   "outputs": [
    {
     "data": {
      "text/html": [
       "<div>\n",
       "<style scoped>\n",
       "    .dataframe tbody tr th:only-of-type {\n",
       "        vertical-align: middle;\n",
       "    }\n",
       "\n",
       "    .dataframe tbody tr th {\n",
       "        vertical-align: top;\n",
       "    }\n",
       "\n",
       "    .dataframe thead th {\n",
       "        text-align: right;\n",
       "    }\n",
       "</style>\n",
       "<table border=\"1\" class=\"dataframe\">\n",
       "  <thead>\n",
       "    <tr style=\"text-align: right;\">\n",
       "      <th></th>\n",
       "      <th>Kuntosali</th>\n",
       "      <th>Lomaosake</th>\n",
       "      <th>Hieroja</th>\n",
       "      <th>Työterveyshuolto</th>\n",
       "    </tr>\n",
       "  </thead>\n",
       "  <tbody>\n",
       "    <tr>\n",
       "      <th>Mies</th>\n",
       "      <td>35.0</td>\n",
       "      <td>16.0</td>\n",
       "      <td>8.0</td>\n",
       "      <td>13.0</td>\n",
       "    </tr>\n",
       "    <tr>\n",
       "      <th>Nainen</th>\n",
       "      <td>12.0</td>\n",
       "      <td>4.0</td>\n",
       "      <td>1.0</td>\n",
       "      <td>9.0</td>\n",
       "    </tr>\n",
       "  </tbody>\n",
       "</table>\n",
       "</div>"
      ],
      "text/plain": [
       "        Kuntosali  Lomaosake  Hieroja  Työterveyshuolto\n",
       "Mies         35.0       16.0      8.0              13.0\n",
       "Nainen       12.0        4.0      1.0               9.0"
      ]
     },
     "execution_count": 15,
     "metadata": {},
     "output_type": "execute_result"
    }
   ],
   "source": [
    "#Monivalinnan vaihtoehtojen lukumäärät sukupuolen mukaan:\n",
    "df9 = df.groupby('sukup')['työterv','lomaosa','kuntosa','hieroja'].sum()\n",
    "df9.index = ['Mies','Nainen']\n",
    "df9.columns=monivalinnat\n",
    "df9"
   ]
  },
  {
   "cell_type": "code",
   "execution_count": 16,
   "metadata": {},
   "outputs": [
    {
     "data": {
      "text/plain": [
       "Text(0, 0.5, 'Lukumäärä')"
      ]
     },
     "execution_count": 16,
     "metadata": {},
     "output_type": "execute_result"
    },
    {
     "data": {
      "image/png": "[encoded data removed]",
      "text/plain": [
       "<Figure size 432x288 with 1 Axes>"
      ]
     },
     "metadata": {
      "needs_background": "light"
     },
     "output_type": "display_data"
    }
   ],
   "source": [
    "#rot=0 kääntää x-akselin otsikot (Mies, Nainen) vaakasuoraan.\n",
    "ax9 = df9.plot.bar(rot=0)\n",
    "\n",
    "ax9.set_ylabel('Lukumäärä')"
   ]
  },
  {
   "cell_type": "code",
   "execution_count": 17,
   "metadata": {},
   "outputs": [
    {
     "data": {
      "text/html": [
       "<div>\n",
       "<style scoped>\n",
       "    .dataframe tbody tr th:only-of-type {\n",
       "        vertical-align: middle;\n",
       "    }\n",
       "\n",
       "    .dataframe tbody tr th {\n",
       "        vertical-align: top;\n",
       "    }\n",
       "\n",
       "    .dataframe thead th {\n",
       "        text-align: right;\n",
       "    }\n",
       "</style>\n",
       "<table border=\"1\" class=\"dataframe\">\n",
       "  <thead>\n",
       "    <tr style=\"text-align: right;\">\n",
       "      <th></th>\n",
       "      <th>Kuntosali</th>\n",
       "      <th>Lomaosake</th>\n",
       "      <th>Hieroja</th>\n",
       "      <th>Työterveyshuolto</th>\n",
       "    </tr>\n",
       "  </thead>\n",
       "  <tbody>\n",
       "    <tr>\n",
       "      <th>Mies, n=63</th>\n",
       "      <td>0.555556</td>\n",
       "      <td>0.253968</td>\n",
       "      <td>0.126984</td>\n",
       "      <td>0.206349</td>\n",
       "    </tr>\n",
       "    <tr>\n",
       "      <th>Nainen, n=19</th>\n",
       "      <td>0.631579</td>\n",
       "      <td>0.210526</td>\n",
       "      <td>0.052632</td>\n",
       "      <td>0.473684</td>\n",
       "    </tr>\n",
       "  </tbody>\n",
       "</table>\n",
       "</div>"
      ],
      "text/plain": [
       "              Kuntosali  Lomaosake   Hieroja  Työterveyshuolto\n",
       "Mies, n=63     0.555556   0.253968  0.126984          0.206349\n",
       "Nainen, n=19   0.631579   0.210526  0.052632          0.473684"
      ]
     },
     "execution_count": 17,
     "metadata": {},
     "output_type": "execute_result"
    }
   ],
   "source": [
    "#Prosentit sukupuolesta:\n",
    "df10 = df.groupby('sukup')['työterv','lomaosa','kuntosa','hieroja'].sum()\n",
    "df10.columns = monivalinnat\n",
    "miehet = df['sukup'].value_counts()[1]\n",
    "naiset = df['sukup'].value_counts()[2]\n",
    "df10.iloc[0] = df10.iloc[0] / miehet\n",
    "df10.iloc[1] = df10.iloc[1] / naiset\n",
    "df10.index = ['Mies, n=' + str(miehet) ,'Nainen, n=' + str(naiset)]\n",
    "df10"
   ]
  },
  {
   "cell_type": "code",
   "execution_count": 18,
   "metadata": {},
   "outputs": [
    {
     "data": {
      "text/plain": [
       "[Text(0, 0, '0 %'),\n",
       " Text(0, 0, '10 %'),\n",
       " Text(0, 0, '20 %'),\n",
       " Text(0, 0, '30 %'),\n",
       " Text(0, 0, '40 %'),\n",
       " Text(0, 0, '50 %'),\n",
       " Text(0, 0, '60 %'),\n",
       " Text(0, 0, '70 %')]"
      ]
     },
     "execution_count": 18,
     "metadata": {},
     "output_type": "execute_result"
    },
    {
     "data": {
      "image/png": "[encoded data removed]",
      "text/plain": [
       "<Figure size 432x288 with 1 Axes>"
      ]
     },
     "metadata": {
      "needs_background": "light"
     },
     "output_type": "display_data"
    }
   ],
   "source": [
    "#Edellinen pylväinä:\n",
    "ax10 = df10.plot.bar(rot=0)\n",
    "\n",
    "ax10.set_ylabel('Prosenttia sukupuolesta')\n",
    "ax10.legend(loc='upper center', bbox_to_anchor=(0.5, 1.2), ncol=4)\n",
    "\n",
    "vals = ax10.get_yticks()\n",
    "ax10.set_yticklabels(['{:.0f} %'.format(x*100) for x in vals])"
   ]
  },
  {
   "cell_type": "code",
   "execution_count": 19,
   "metadata": {},
   "outputs": [
    {
     "data": {
      "text/plain": [
       "[Text(0, 0, '0 %'),\n",
       " Text(0, 0, '10 %'),\n",
       " Text(0, 0, '20 %'),\n",
       " Text(0, 0, '30 %'),\n",
       " Text(0, 0, '40 %'),\n",
       " Text(0, 0, '50 %'),\n",
       " Text(0, 0, '60 %'),\n",
       " Text(0, 0, '70 %')]"
      ]
     },
     "execution_count": 19,
     "metadata": {},
     "output_type": "execute_result"
    },
    {
     "data": {
      "image/png": "[encoded data removed]",
      "text/plain": [
       "<Figure size 432x288 with 1 Axes>"
      ]
     },
     "metadata": {
      "needs_background": "light"
     },
     "output_type": "display_data"
    }
   ],
   "source": [
    "#Edellinen arvosarjojen ja luokkien vaihdon jälkeen:\n",
    "ax10=df10.transpose().plot.bar(rot=0)\n",
    "\n",
    "ax10.set_ylabel('Prosenttia sukupuolesta')\n",
    "\n",
    "vals = ax10.get_yticks()\n",
    "ax10.set_yticklabels(['{:.0f} %'.format(x*100) for x in vals])"
   ]
  },
  {
   "cell_type": "code",
   "execution_count": 20,
   "metadata": {},
   "outputs": [
    {
     "data": {
      "text/html": [
       "<div>\n",
       "<style scoped>\n",
       "    .dataframe tbody tr th:only-of-type {\n",
       "        vertical-align: middle;\n",
       "    }\n",
       "\n",
       "    .dataframe tbody tr th {\n",
       "        vertical-align: top;\n",
       "    }\n",
       "\n",
       "    .dataframe thead th {\n",
       "        text-align: right;\n",
       "    }\n",
       "</style>\n",
       "<table border=\"1\" class=\"dataframe\">\n",
       "  <thead>\n",
       "    <tr style=\"text-align: right;\">\n",
       "      <th></th>\n",
       "      <th>Johtoon</th>\n",
       "      <th>Työtovereihin</th>\n",
       "      <th>Työympäristöön</th>\n",
       "      <th>Palkkaan</th>\n",
       "      <th>Työtehtäviin</th>\n",
       "    </tr>\n",
       "  </thead>\n",
       "  <tbody>\n",
       "    <tr>\n",
       "      <th>Erittäin tyytymätön</th>\n",
       "      <td>7</td>\n",
       "      <td>NaN</td>\n",
       "      <td>9</td>\n",
       "      <td>33</td>\n",
       "      <td>5</td>\n",
       "    </tr>\n",
       "    <tr>\n",
       "      <th>Tyytymätön</th>\n",
       "      <td>16</td>\n",
       "      <td>3.0</td>\n",
       "      <td>9</td>\n",
       "      <td>19</td>\n",
       "      <td>15</td>\n",
       "    </tr>\n",
       "    <tr>\n",
       "      <th>Neutraali</th>\n",
       "      <td>30</td>\n",
       "      <td>16.0</td>\n",
       "      <td>30</td>\n",
       "      <td>19</td>\n",
       "      <td>29</td>\n",
       "    </tr>\n",
       "    <tr>\n",
       "      <th>Tyytyväinen</th>\n",
       "      <td>23</td>\n",
       "      <td>35.0</td>\n",
       "      <td>23</td>\n",
       "      <td>10</td>\n",
       "      <td>25</td>\n",
       "    </tr>\n",
       "    <tr>\n",
       "      <th>Erittäin tyytyväinen</th>\n",
       "      <td>6</td>\n",
       "      <td>27.0</td>\n",
       "      <td>11</td>\n",
       "      <td>1</td>\n",
       "      <td>8</td>\n",
       "    </tr>\n",
       "  </tbody>\n",
       "</table>\n",
       "</div>"
      ],
      "text/plain": [
       "                      Johtoon  Työtovereihin  Työympäristöön  Palkkaan  \\\n",
       "Erittäin tyytymätön         7            NaN               9        33   \n",
       "Tyytymätön                 16            3.0               9        19   \n",
       "Neutraali                  30           16.0              30        19   \n",
       "Tyytyväinen                23           35.0              23        10   \n",
       "Erittäin tyytyväinen        6           27.0              11         1   \n",
       "\n",
       "                      Työtehtäviin  \n",
       "Erittäin tyytymätön              5  \n",
       "Tyytymätön                      15  \n",
       "Neutraali                       29  \n",
       "Tyytyväinen                     25  \n",
       "Erittäin tyytyväinen             8  "
      ]
     },
     "execution_count": 20,
     "metadata": {},
     "output_type": "execute_result"
    }
   ],
   "source": [
    "#Koontitaulukko tyytyväisyyksistä:\n",
    "df11=df['johto'].value_counts(sort = False).to_frame()\n",
    "df11['työtov'] = df['työtov'].value_counts(sort = False)\n",
    "df11['työymp'] = df['työymp'].value_counts(sort = False)\n",
    "df11['palkkat'] = df['palkkat'].value_counts(sort = False)\n",
    "df11['työteht'] = df['työteht'].value_counts(sort = False)\n",
    "df11.index = mielipideasteikko\n",
    "df11.columns = tyytyväisyydet\n",
    "df11"
   ]
  },
  {
   "cell_type": "code",
   "execution_count": 21,
   "metadata": {
    "scrolled": true
   },
   "outputs": [
    {
     "data": {
      "text/plain": [
       "<matplotlib.legend.Legend at 0x226960077f0>"
      ]
     },
     "execution_count": 21,
     "metadata": {},
     "output_type": "execute_result"
    },
    {
     "data": {
      "image/png": "[encoded data removed]",
      "text/plain": [
       "<Figure size 432x288 with 1 Axes>"
      ]
     },
     "metadata": {
      "needs_background": "light"
     },
     "output_type": "display_data"
    }
   ],
   "source": [
    "ax11=df11.transpose().plot.barh(stacked=True, color=['#C44E52','#D65F5F','grey','#4878CF','#4C72B0'])\n",
    "\n",
    "ax11.set_xlabel('Lukumäärä')\n",
    "ax11.legend(bbox_to_anchor=(1, 0.7))"
   ]
  },
  {
   "cell_type": "code",
   "execution_count": 22,
   "metadata": {},
   "outputs": [
    {
     "data": {
      "text/plain": [
       "[Text(0, 0, 'Erittäin tyytymätön'),\n",
       " Text(0, 0, 'Tyytymätön'),\n",
       " Text(0, 0, 'Neutraali'),\n",
       " Text(0, 0, 'Tyytyväinen'),\n",
       " Text(0, 0, 'Erittäin tyytyväinen')]"
      ]
     },
     "execution_count": 22,
     "metadata": {},
     "output_type": "execute_result"
    },
    {
     "data": {
      "image/png": "[encoded data removed]",
      "text/plain": [
       "<Figure size 432x288 with 1 Axes>"
      ]
     },
     "metadata": {
      "needs_background": "light"
     },
     "output_type": "display_data"
    }
   ],
   "source": [
    "df12=df[['johto','työtov','työymp','palkka','työteht']].mean().sort_values()\n",
    "\n",
    "ax12=df12.plot.barh(xlim=(1,5), title='Tyytyväisyyskeskiarvoja',color='C0')\n",
    "\n",
    "ax12.set_xticks([1,2,3,4,5])\n",
    "ax12.set_yticklabels(tyytyväisyydet)\n",
    "ax12.set_xticklabels(mielipideasteikko, rotation=30)"
   ]
  },
  {
   "cell_type": "markdown",
   "metadata": {},
   "source": [
    "Matplotlib mahdollistaa monenlaisia toteutuksia. Seuraavassa laadin viiden kaavion yhdistelmän:\n",
    "<ul><li>Lisämääreellä <b>subplots=True</b> määritän, että Figure-objektiin sijoitetaan useita kaavioita.</li>\n",
    "    <li>Lisämääreellä <b>layout=(1,5)</b> määritän, että kaaviot sijoitetaan 1 riville, 5 rinnakkain.</li>\n",
    "    <li>Lisämääreillä <b>sharex=True</b>, <b>sharey=True</b> määritän, että kaikilla kaavioilla on yhteiset akselit.</li>\n",
    "    <li>Lisämääreellä <b>figsize=(12,2)</b> määritän kuvion koon.</li>\n",
    "    <li>Lisämääreellä <b>color='maroon'</b> määritän pylväiden väriksi maroon.</li>\n",
    "    <li>Lisämääreellä <b>legend=False</b> jätän kaavioista selitteet pois.</li></ul>"
   ]
  },
  {
   "cell_type": "code",
   "execution_count": 23,
   "metadata": {},
   "outputs": [
    {
     "data": {
      "text/plain": [
       "array([[<matplotlib.axes._subplots.AxesSubplot object at 0x000002269600E470>,\n",
       "        <matplotlib.axes._subplots.AxesSubplot object at 0x00000226960D3DD8>,\n",
       "        <matplotlib.axes._subplots.AxesSubplot object at 0x00000226961014A8>,\n",
       "        <matplotlib.axes._subplots.AxesSubplot object at 0x0000022696126B70>,\n",
       "        <matplotlib.axes._subplots.AxesSubplot object at 0x0000022696155278>]],\n",
       "      dtype=object)"
      ]
     },
     "execution_count": 23,
     "metadata": {},
     "output_type": "execute_result"
    },
    {
     "data": {
      "image/png": "[encoded data removed]",
      "text/plain": [
       "<Figure size 864x144 with 5 Axes>"
      ]
     },
     "metadata": {
      "needs_background": "light"
     },
     "output_type": "display_data"
    }
   ],
   "source": [
    "df11.plot.bar(subplots=True, layout=(1,5), sharex=True, sharey=True, \n",
    "              figsize=(12,2), color='maroon', legend=False)"
   ]
  }
 ],
 "metadata": {
  "kernelspec": {
   "display_name": "Python 3",
   "language": "python",
   "name": "python3"
  },
  "language_info": {
   "codemirror_mode": {
    "name": "ipython",
    "version": 3
   },
   "file_extension": ".py",
   "mimetype": "text/x-python",
   "name": "python",
   "nbconvert_exporter": "python",
   "pygments_lexer": "ipython3",
   "version": "3.7.0"
  }
 },
 "nbformat": 4,
 "nbformat_minor": 2
}
