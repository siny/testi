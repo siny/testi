{
 "cells": [
  {
   "cell_type": "markdown",
   "metadata": {},
   "source": [
    "# Pylväskaavioita"
   ]
  },
  {
   "cell_type": "code",
   "execution_count": 1,
   "metadata": {},
   "outputs": [
    {
     "data": {
      "text/html": [
       "<div>\n",
       "<style scoped>\n",
       "    .dataframe tbody tr th:only-of-type {\n",
       "        vertical-align: middle;\n",
       "    }\n",
       "\n",
       "    .dataframe tbody tr th {\n",
       "        vertical-align: top;\n",
       "    }\n",
       "\n",
       "    .dataframe thead th {\n",
       "        text-align: right;\n",
       "    }\n",
       "</style>\n",
       "<table border=\"1\" class=\"dataframe\">\n",
       "  <thead>\n",
       "    <tr style=\"text-align: right;\">\n",
       "      <th></th>\n",
       "      <th>nro</th>\n",
       "      <th>sukupuoli</th>\n",
       "      <th>ikä</th>\n",
       "      <th>perhe</th>\n",
       "      <th>koulutus</th>\n",
       "      <th>palvelusvuodet</th>\n",
       "      <th>palkka</th>\n",
       "      <th>johtoon</th>\n",
       "      <th>työtovereihin</th>\n",
       "      <th>työympäristöön</th>\n",
       "      <th>palkkaan</th>\n",
       "      <th>työtehtäviin</th>\n",
       "      <th>työterveyshuolto</th>\n",
       "      <th>lomaosake</th>\n",
       "      <th>kuntosali</th>\n",
       "      <th>hieroja</th>\n",
       "    </tr>\n",
       "  </thead>\n",
       "  <tbody>\n",
       "    <tr>\n",
       "      <th>0</th>\n",
       "      <td>1</td>\n",
       "      <td>1</td>\n",
       "      <td>38</td>\n",
       "      <td>1</td>\n",
       "      <td>1.0</td>\n",
       "      <td>22.0</td>\n",
       "      <td>3587</td>\n",
       "      <td>3</td>\n",
       "      <td>3.0</td>\n",
       "      <td>3</td>\n",
       "      <td>3</td>\n",
       "      <td>3</td>\n",
       "      <td>NaN</td>\n",
       "      <td>NaN</td>\n",
       "      <td>NaN</td>\n",
       "      <td>NaN</td>\n",
       "    </tr>\n",
       "    <tr>\n",
       "      <th>1</th>\n",
       "      <td>2</td>\n",
       "      <td>1</td>\n",
       "      <td>29</td>\n",
       "      <td>2</td>\n",
       "      <td>2.0</td>\n",
       "      <td>10.0</td>\n",
       "      <td>2963</td>\n",
       "      <td>1</td>\n",
       "      <td>5.0</td>\n",
       "      <td>2</td>\n",
       "      <td>1</td>\n",
       "      <td>3</td>\n",
       "      <td>NaN</td>\n",
       "      <td>NaN</td>\n",
       "      <td>NaN</td>\n",
       "      <td>NaN</td>\n",
       "    </tr>\n",
       "    <tr>\n",
       "      <th>2</th>\n",
       "      <td>3</td>\n",
       "      <td>1</td>\n",
       "      <td>30</td>\n",
       "      <td>1</td>\n",
       "      <td>1.0</td>\n",
       "      <td>7.0</td>\n",
       "      <td>1989</td>\n",
       "      <td>3</td>\n",
       "      <td>4.0</td>\n",
       "      <td>1</td>\n",
       "      <td>1</td>\n",
       "      <td>3</td>\n",
       "      <td>1.0</td>\n",
       "      <td>NaN</td>\n",
       "      <td>NaN</td>\n",
       "      <td>NaN</td>\n",
       "    </tr>\n",
       "    <tr>\n",
       "      <th>3</th>\n",
       "      <td>4</td>\n",
       "      <td>1</td>\n",
       "      <td>36</td>\n",
       "      <td>2</td>\n",
       "      <td>1.0</td>\n",
       "      <td>14.0</td>\n",
       "      <td>2144</td>\n",
       "      <td>3</td>\n",
       "      <td>3.0</td>\n",
       "      <td>3</td>\n",
       "      <td>3</td>\n",
       "      <td>3</td>\n",
       "      <td>1.0</td>\n",
       "      <td>NaN</td>\n",
       "      <td>NaN</td>\n",
       "      <td>NaN</td>\n",
       "    </tr>\n",
       "    <tr>\n",
       "      <th>4</th>\n",
       "      <td>5</td>\n",
       "      <td>1</td>\n",
       "      <td>24</td>\n",
       "      <td>1</td>\n",
       "      <td>2.0</td>\n",
       "      <td>4.0</td>\n",
       "      <td>2183</td>\n",
       "      <td>2</td>\n",
       "      <td>3.0</td>\n",
       "      <td>2</td>\n",
       "      <td>1</td>\n",
       "      <td>2</td>\n",
       "      <td>1.0</td>\n",
       "      <td>NaN</td>\n",
       "      <td>NaN</td>\n",
       "      <td>NaN</td>\n",
       "    </tr>\n",
       "  </tbody>\n",
       "</table>\n",
       "</div>"
      ],
      "text/plain": [
       "   nro  sukupuoli  ikä  perhe  koulutus  palvelusvuodet  palkka  johtoon  \\\n",
       "0    1          1   38      1       1.0            22.0    3587        3   \n",
       "1    2          1   29      2       2.0            10.0    2963        1   \n",
       "2    3          1   30      1       1.0             7.0    1989        3   \n",
       "3    4          1   36      2       1.0            14.0    2144        3   \n",
       "4    5          1   24      1       2.0             4.0    2183        2   \n",
       "\n",
       "   työtovereihin  työympäristöön  palkkaan  työtehtäviin  työterveyshuolto  \\\n",
       "0            3.0               3         3             3               NaN   \n",
       "1            5.0               2         1             3               NaN   \n",
       "2            4.0               1         1             3               1.0   \n",
       "3            3.0               3         3             3               1.0   \n",
       "4            3.0               2         1             2               1.0   \n",
       "\n",
       "   lomaosake  kuntosali  hieroja  \n",
       "0        NaN        NaN      NaN  \n",
       "1        NaN        NaN      NaN  \n",
       "2        NaN        NaN      NaN  \n",
       "3        NaN        NaN      NaN  \n",
       "4        NaN        NaN      NaN  "
      ]
     },
     "execution_count": 1,
     "metadata": {},
     "output_type": "execute_result"
    }
   ],
   "source": [
    "import pandas as pd\n",
    "import matplotlib.pyplot as plt\n",
    "%matplotlib inline\n",
    "plt.style.use('seaborn-whitegrid')\n",
    "\n",
    "df = pd.read_excel('http://www.elisanet.fi/taanila/data1.xlsx', sheet_name = 'Data')\n",
    "df.rename(columns = {'tyytyväisyys johtoon': 'johtoon', 'tyytyväisyys työtovereihin': 'työtovereihin',\n",
    "                  'tyytyväisyys työympäristöön': 'työympäristöön', 'tyytyväisyys palkkaan': 'palkkaan',\n",
    "                  'tyytyväisyys työtehtäviin': 'työtehtäviin'}, inplace = True)\n",
    "df.head()"
   ]
  },
  {
   "cell_type": "code",
   "execution_count": 2,
   "metadata": {},
   "outputs": [
    {
     "data": {
      "text/html": [
       "<style  type=\"text/css\" >\n",
       "</style>  \n",
       "<table id=\"T_604c5e42_972c_11e8_aff4_00e18c75b321\" > \n",
       "<thead>    <tr> \n",
       "        <th class=\"blank level0\" ></th> \n",
       "        <th class=\"col_heading level0 col0\" >lkm</th> \n",
       "        <th class=\"col_heading level0 col1\" >%</th> \n",
       "    </tr></thead> \n",
       "<tbody>    <tr> \n",
       "        <th id=\"T_604c5e42_972c_11e8_aff4_00e18c75b321level0_row0\" class=\"row_heading level0 row0\" >peruskoulu</th> \n",
       "        <td id=\"T_604c5e42_972c_11e8_aff4_00e18c75b321row0_col0\" class=\"data row0 col0\" >27</td> \n",
       "        <td id=\"T_604c5e42_972c_11e8_aff4_00e18c75b321row0_col1\" class=\"data row0 col1\" >33.3 %</td> \n",
       "    </tr>    <tr> \n",
       "        <th id=\"T_604c5e42_972c_11e8_aff4_00e18c75b321level0_row1\" class=\"row_heading level0 row1\" >2.aste</th> \n",
       "        <td id=\"T_604c5e42_972c_11e8_aff4_00e18c75b321row1_col0\" class=\"data row1 col0\" >30</td> \n",
       "        <td id=\"T_604c5e42_972c_11e8_aff4_00e18c75b321row1_col1\" class=\"data row1 col1\" >37.0 %</td> \n",
       "    </tr>    <tr> \n",
       "        <th id=\"T_604c5e42_972c_11e8_aff4_00e18c75b321level0_row2\" class=\"row_heading level0 row2\" >korkeakoulu</th> \n",
       "        <td id=\"T_604c5e42_972c_11e8_aff4_00e18c75b321row2_col0\" class=\"data row2 col0\" >22</td> \n",
       "        <td id=\"T_604c5e42_972c_11e8_aff4_00e18c75b321row2_col1\" class=\"data row2 col1\" >27.2 %</td> \n",
       "    </tr>    <tr> \n",
       "        <th id=\"T_604c5e42_972c_11e8_aff4_00e18c75b321level0_row3\" class=\"row_heading level0 row3\" >ylempi korkeakoulu</th> \n",
       "        <td id=\"T_604c5e42_972c_11e8_aff4_00e18c75b321row3_col0\" class=\"data row3 col0\" >2</td> \n",
       "        <td id=\"T_604c5e42_972c_11e8_aff4_00e18c75b321row3_col1\" class=\"data row3 col1\" >2.5 %</td> \n",
       "    </tr></tbody> \n",
       "</table> "
      ],
      "text/plain": [
       "<pandas.io.formats.style.Styler at 0x1b5b41de940>"
      ]
     },
     "execution_count": 2,
     "metadata": {},
     "output_type": "execute_result"
    }
   ],
   "source": [
    "#frekvenssitaulukko koulutukselle\n",
    "df1 = df['koulutus'].value_counts(sort = False).to_frame()\n",
    "df1.index = ['peruskoulu','2.aste','korkeakoulu','ylempi korkeakoulu']\n",
    "df1 = df1.rename(columns = {'koulutus': 'lkm'})\n",
    "n=df1['lkm'].sum()\n",
    "df1['%'] = df1['lkm'] / n * 100\n",
    "df1.style.format({'%': '{:,.1f} %'})"
   ]
  },
  {
   "cell_type": "code",
   "execution_count": 23,
   "metadata": {},
   "outputs": [
    {
     "data": {
      "text/plain": [
       "Text(0.5,0,'prosenttia (n=81)')"
      ]
     },
     "execution_count": 23,
     "metadata": {},
     "output_type": "execute_result"
    },
    {
     "data": {
      "image/png": "[encoded data removed]",
      "text/plain": [
       "<Figure size 432x288 with 1 Axes>"
      ]
     },
     "metadata": {},
     "output_type": "display_data"
    }
   ],
   "source": [
    "#koulutusten frekvenssit pylväinä\n",
    "df1['%'].plot.barh(color='C0')\n",
    "plt.xlabel('prosenttia (n='+str(n)+')')"
   ]
  },
  {
   "cell_type": "code",
   "execution_count": 4,
   "metadata": {},
   "outputs": [
    {
     "data": {
      "text/html": [
       "<div>\n",
       "<style scoped>\n",
       "    .dataframe tbody tr th:only-of-type {\n",
       "        vertical-align: middle;\n",
       "    }\n",
       "\n",
       "    .dataframe tbody tr th {\n",
       "        vertical-align: top;\n",
       "    }\n",
       "\n",
       "    .dataframe thead th {\n",
       "        text-align: right;\n",
       "    }\n",
       "</style>\n",
       "<table border=\"1\" class=\"dataframe\">\n",
       "  <thead>\n",
       "    <tr style=\"text-align: right;\">\n",
       "      <th></th>\n",
       "      <th>ikä</th>\n",
       "    </tr>\n",
       "  </thead>\n",
       "  <tbody>\n",
       "    <tr>\n",
       "      <th>(19.999, 29.0]</th>\n",
       "      <td>17</td>\n",
       "    </tr>\n",
       "    <tr>\n",
       "      <th>(29.0, 39.0]</th>\n",
       "      <td>30</td>\n",
       "    </tr>\n",
       "    <tr>\n",
       "      <th>(39.0, 49.0]</th>\n",
       "      <td>23</td>\n",
       "    </tr>\n",
       "    <tr>\n",
       "      <th>(49.0, 59.0]</th>\n",
       "      <td>11</td>\n",
       "    </tr>\n",
       "    <tr>\n",
       "      <th>(59.0, 70.0]</th>\n",
       "      <td>1</td>\n",
       "    </tr>\n",
       "  </tbody>\n",
       "</table>\n",
       "</div>"
      ],
      "text/plain": [
       "                ikä\n",
       "(19.999, 29.0]   17\n",
       "(29.0, 39.0]     30\n",
       "(39.0, 49.0]     23\n",
       "(49.0, 59.0]     11\n",
       "(59.0, 70.0]      1"
      ]
     },
     "execution_count": 4,
     "metadata": {},
     "output_type": "execute_result"
    }
   ],
   "source": [
    "#ikäluokkien frekvenssit\n",
    "df3 = df['ikä'].value_counts(sort = False, bins = [20,29,39,49,59,70]).to_frame()\n",
    "df3"
   ]
  },
  {
   "cell_type": "code",
   "execution_count": 5,
   "metadata": {},
   "outputs": [
    {
     "data": {
      "text/plain": [
       "Text(0,0.5,'Lukumäärä')"
      ]
     },
     "execution_count": 5,
     "metadata": {},
     "output_type": "execute_result"
    },
    {
     "data": {
      "image/png": "[encoded data removed]",
      "text/plain": [
       "<Figure size 432x288 with 1 Axes>"
      ]
     },
     "metadata": {},
     "output_type": "display_data"
    }
   ],
   "source": [
    "#historgrammin ikäluokittain voin tehdä suoraan alkuperäisestä aineistosta\n",
    "#ikäluokat samat kuin yllä lasketussa taulukossa: [20,30); [30,40); [40,40); [50,60); [60,70]\n",
    "df['ikä'].plot.hist(bins=[20,30,40,50,60,70], edgecolor='grey')\n",
    "plt.xlabel('Ikä')\n",
    "plt.ylabel('Lukumäärä')"
   ]
  },
  {
   "cell_type": "code",
   "execution_count": 22,
   "metadata": {},
   "outputs": [
    {
     "name": "stderr",
     "output_type": "stream",
     "text": [
      "C:\\Users\\Aki\\Anaconda3\\lib\\site-packages\\matplotlib\\axes\\_axes.py:6462: UserWarning: The 'normed' kwarg is deprecated, and has been replaced by the 'density' kwarg.\n",
      "  warnings.warn(\"The 'normed' kwarg is deprecated, and has been \"\n"
     ]
    },
    {
     "data": {
      "text/plain": [
       "[Text(0,0,'0 %'),\n",
       " Text(0,0,'20 %'),\n",
       " Text(0,0,'40 %'),\n",
       " Text(0,0,'60 %'),\n",
       " Text(0,0,'80 %'),\n",
       " Text(0,0,'100 %'),\n",
       " Text(0,0,'120 %')]"
      ]
     },
     "execution_count": 22,
     "metadata": {},
     "output_type": "execute_result"
    },
    {
     "data": {
      "image/png": "[encoded data removed]",
      "text/plain": [
       "<Figure size 432x288 with 1 Axes>"
      ]
     },
     "metadata": {},
     "output_type": "display_data"
    }
   ],
   "source": [
    "#histogrammin voin esittää myös kumulatiivisena\n",
    "#normed-argumentilla lukumäärät näytetään prosentteina\n",
    "ax=df['ikä'].plot.hist(cumulative=True, bins=[20,30,40,50,60,70], normed=1, edgecolor='grey')\n",
    "plt.xlabel('Ikä')\n",
    "plt.ylabel('Prosenttia')\n",
    "\n",
    "#prosenttien ulkoasun muotoilu vaatii omat kikkailunsa:\n",
    "vals = ax.get_yticks()\n",
    "ax.set_yticklabels(['{:.0f} %'.format(y*100) for y in vals])"
   ]
  },
  {
   "cell_type": "code",
   "execution_count": 7,
   "metadata": {},
   "outputs": [
    {
     "data": {
      "text/html": [
       "<style  type=\"text/css\" >\n",
       "</style>  \n",
       "<table id=\"T_608a955c_972c_11e8_928e_00e18c75b321\" > \n",
       "<thead>    <tr> \n",
       "        <th class=\"blank level0\" ></th> \n",
       "        <th class=\"col_heading level0 col0\" >lkm</th> \n",
       "    </tr></thead> \n",
       "<tbody>    <tr> \n",
       "        <th id=\"T_608a955c_972c_11e8_928e_00e18c75b321level0_row0\" class=\"row_heading level0 row0\" >kuntosali</th> \n",
       "        <td id=\"T_608a955c_972c_11e8_928e_00e18c75b321row0_col0\" class=\"data row0 col0\" >9</td> \n",
       "    </tr>    <tr> \n",
       "        <th id=\"T_608a955c_972c_11e8_928e_00e18c75b321level0_row1\" class=\"row_heading level0 row1\" >lomaosake</th> \n",
       "        <td id=\"T_608a955c_972c_11e8_928e_00e18c75b321row1_col0\" class=\"data row1 col0\" >20</td> \n",
       "    </tr>    <tr> \n",
       "        <th id=\"T_608a955c_972c_11e8_928e_00e18c75b321level0_row2\" class=\"row_heading level0 row2\" >hieroja</th> \n",
       "        <td id=\"T_608a955c_972c_11e8_928e_00e18c75b321row2_col0\" class=\"data row2 col0\" >22</td> \n",
       "    </tr>    <tr> \n",
       "        <th id=\"T_608a955c_972c_11e8_928e_00e18c75b321level0_row3\" class=\"row_heading level0 row3\" >työterveyshuolto</th> \n",
       "        <td id=\"T_608a955c_972c_11e8_928e_00e18c75b321row3_col0\" class=\"data row3 col0\" >47</td> \n",
       "    </tr></tbody> \n",
       "</table> "
      ],
      "text/plain": [
       "<pandas.io.formats.style.Styler at 0x1b5b4308748>"
      ]
     },
     "execution_count": 7,
     "metadata": {},
     "output_type": "execute_result"
    }
   ],
   "source": [
    "#monivalintakysymyksen valintojen lukumäärät suuruusjärjestyksessä\n",
    "df5 = df[['työterveyshuolto','lomaosake','kuntosali','hieroja']].sum().sort_values(ascending = True).to_frame()\n",
    "df5 = df5.rename(columns = {0: 'lkm'})\n",
    "df5.style.format('{:.0f}')"
   ]
  },
  {
   "cell_type": "code",
   "execution_count": 25,
   "metadata": {},
   "outputs": [
    {
     "data": {
      "text/plain": [
       "<matplotlib.axes._subplots.AxesSubplot at 0x1b5b5caa208>"
      ]
     },
     "execution_count": 25,
     "metadata": {},
     "output_type": "execute_result"
    },
    {
     "data": {
      "image/png": "[encoded data removed]",
      "text/plain": [
       "<Figure size 432x288 with 1 Axes>"
      ]
     },
     "metadata": {},
     "output_type": "display_data"
    }
   ],
   "source": [
    "#taulukon alin arvo näkyy aina vaakapylväskaaviossa ylimpänä pylväänä\n",
    "df5.plot.barh(color='darkgreen')"
   ]
  },
  {
   "cell_type": "code",
   "execution_count": 9,
   "metadata": {},
   "outputs": [
    {
     "data": {
      "text/html": [
       "<div>\n",
       "<style scoped>\n",
       "    .dataframe tbody tr th:only-of-type {\n",
       "        vertical-align: middle;\n",
       "    }\n",
       "\n",
       "    .dataframe tbody tr th {\n",
       "        vertical-align: top;\n",
       "    }\n",
       "\n",
       "    .dataframe thead th {\n",
       "        text-align: right;\n",
       "    }\n",
       "</style>\n",
       "<table border=\"1\" class=\"dataframe\">\n",
       "  <thead>\n",
       "    <tr style=\"text-align: right;\">\n",
       "      <th></th>\n",
       "      <th>mies</th>\n",
       "      <th>nainen</th>\n",
       "    </tr>\n",
       "  </thead>\n",
       "  <tbody>\n",
       "    <tr>\n",
       "      <th>peruskoulu</th>\n",
       "      <td>22</td>\n",
       "      <td>5</td>\n",
       "    </tr>\n",
       "    <tr>\n",
       "      <th>2.aste</th>\n",
       "      <td>23</td>\n",
       "      <td>7</td>\n",
       "    </tr>\n",
       "    <tr>\n",
       "      <th>korkeakoulu</th>\n",
       "      <td>15</td>\n",
       "      <td>7</td>\n",
       "    </tr>\n",
       "    <tr>\n",
       "      <th>ylempi korkeakoulu</th>\n",
       "      <td>2</td>\n",
       "      <td>0</td>\n",
       "    </tr>\n",
       "  </tbody>\n",
       "</table>\n",
       "</div>"
      ],
      "text/plain": [
       "                    mies  nainen\n",
       "peruskoulu            22       5\n",
       "2.aste                23       7\n",
       "korkeakoulu           15       7\n",
       "ylempi korkeakoulu     2       0"
      ]
     },
     "execution_count": 9,
     "metadata": {},
     "output_type": "execute_result"
    }
   ],
   "source": [
    "#sukupuolen ja koulutuksen ristiintaulukointi\n",
    "df6 = pd.crosstab(df['koulutus'], df['sukupuoli'])\n",
    "df6.index = ['peruskoulu','2.aste','korkeakoulu','ylempi korkeakoulu']\n",
    "df6.columns = ['mies','nainen']\n",
    "df6"
   ]
  },
  {
   "cell_type": "code",
   "execution_count": 10,
   "metadata": {},
   "outputs": [
    {
     "data": {
      "text/plain": [
       "<matplotlib.legend.Legend at 0x1b5b5809828>"
      ]
     },
     "execution_count": 10,
     "metadata": {},
     "output_type": "execute_result"
    },
    {
     "data": {
      "image/png": "[encoded data removed]",
      "text/plain": [
       "<Figure size 432x288 with 1 Axes>"
      ]
     },
     "metadata": {},
     "output_type": "display_data"
    }
   ],
   "source": [
    "#ristiintaulukointi pylväinä\n",
    "ax=df6.plot.barh()\n",
    "plt.xlabel('Lukumäärä')\n",
    "\n",
    "#seuraavan tarvitsen, jos haluan värien olevan selitteessä pylväiden mukaisessa järjestyksessä (punainen ylempänä) \n",
    "handles, labels = ax.get_legend_handles_labels()\n",
    "ax.legend(reversed(handles), reversed(labels), loc='best')"
   ]
  },
  {
   "cell_type": "code",
   "execution_count": 11,
   "metadata": {},
   "outputs": [
    {
     "data": {
      "text/html": [
       "<style  type=\"text/css\" >\n",
       "</style>  \n",
       "<table id=\"T_60b489b6_972c_11e8_98a4_00e18c75b321\" > \n",
       "<thead>    <tr> \n",
       "        <th class=\"blank level0\" ></th> \n",
       "        <th class=\"col_heading level0 col0\" >mies</th> \n",
       "        <th class=\"col_heading level0 col1\" >nainen</th> \n",
       "        <th class=\"col_heading level0 col2\" >yhteensä</th> \n",
       "    </tr></thead> \n",
       "<tbody>    <tr> \n",
       "        <th id=\"T_60b489b6_972c_11e8_98a4_00e18c75b321level0_row0\" class=\"row_heading level0 row0\" >peruskoulu</th> \n",
       "        <td id=\"T_60b489b6_972c_11e8_98a4_00e18c75b321row0_col0\" class=\"data row0 col0\" >35.5%</td> \n",
       "        <td id=\"T_60b489b6_972c_11e8_98a4_00e18c75b321row0_col1\" class=\"data row0 col1\" >26.3%</td> \n",
       "        <td id=\"T_60b489b6_972c_11e8_98a4_00e18c75b321row0_col2\" class=\"data row0 col2\" >33.3%</td> \n",
       "    </tr>    <tr> \n",
       "        <th id=\"T_60b489b6_972c_11e8_98a4_00e18c75b321level0_row1\" class=\"row_heading level0 row1\" >2.aste</th> \n",
       "        <td id=\"T_60b489b6_972c_11e8_98a4_00e18c75b321row1_col0\" class=\"data row1 col0\" >37.1%</td> \n",
       "        <td id=\"T_60b489b6_972c_11e8_98a4_00e18c75b321row1_col1\" class=\"data row1 col1\" >36.8%</td> \n",
       "        <td id=\"T_60b489b6_972c_11e8_98a4_00e18c75b321row1_col2\" class=\"data row1 col2\" >37.0%</td> \n",
       "    </tr>    <tr> \n",
       "        <th id=\"T_60b489b6_972c_11e8_98a4_00e18c75b321level0_row2\" class=\"row_heading level0 row2\" >korkeakoulu</th> \n",
       "        <td id=\"T_60b489b6_972c_11e8_98a4_00e18c75b321row2_col0\" class=\"data row2 col0\" >24.2%</td> \n",
       "        <td id=\"T_60b489b6_972c_11e8_98a4_00e18c75b321row2_col1\" class=\"data row2 col1\" >36.8%</td> \n",
       "        <td id=\"T_60b489b6_972c_11e8_98a4_00e18c75b321row2_col2\" class=\"data row2 col2\" >27.2%</td> \n",
       "    </tr>    <tr> \n",
       "        <th id=\"T_60b489b6_972c_11e8_98a4_00e18c75b321level0_row3\" class=\"row_heading level0 row3\" >ylempi korkeakoulu</th> \n",
       "        <td id=\"T_60b489b6_972c_11e8_98a4_00e18c75b321row3_col0\" class=\"data row3 col0\" >3.2%</td> \n",
       "        <td id=\"T_60b489b6_972c_11e8_98a4_00e18c75b321row3_col1\" class=\"data row3 col1\" >0.0%</td> \n",
       "        <td id=\"T_60b489b6_972c_11e8_98a4_00e18c75b321row3_col2\" class=\"data row3 col2\" >2.5%</td> \n",
       "    </tr></tbody> \n",
       "</table> "
      ],
      "text/plain": [
       "<pandas.io.formats.style.Styler at 0x1b5b5809470>"
      ]
     },
     "execution_count": 11,
     "metadata": {},
     "output_type": "execute_result"
    }
   ],
   "source": [
    "#ristiintaulukointi prosentteina\n",
    "df7 = pd.crosstab(df['koulutus'], df['sukupuoli'], margins = True, normalize = 'columns')\n",
    "df7.index = ['peruskoulu','2.aste','korkeakoulu','ylempi korkeakoulu']\n",
    "df7.columns = ['mies','nainen','yhteensä']\n",
    "df7.style.format('{:.1%}')"
   ]
  },
  {
   "cell_type": "code",
   "execution_count": 12,
   "metadata": {},
   "outputs": [
    {
     "data": {
      "text/plain": [
       "[Text(0,0,'0 %'),\n",
       " Text(0,0,'20 %'),\n",
       " Text(0,0,'40 %'),\n",
       " Text(0,0,'60 %'),\n",
       " Text(0,0,'80 %'),\n",
       " Text(0,0,'100 %'),\n",
       " Text(0,0,'120 %')]"
      ]
     },
     "execution_count": 12,
     "metadata": {},
     "output_type": "execute_result"
    },
    {
     "data": {
      "image/png": "[encoded data removed]",
      "text/plain": [
       "<Figure size 432x288 with 1 Axes>"
      ]
     },
     "metadata": {},
     "output_type": "display_data"
    }
   ],
   "source": [
    "ax=df7[['mies','nainen']].transpose().plot.barh(stacked=True)\n",
    "plt.xlabel('Prosenttia sukupuolesta')\n",
    "\n",
    "#selitteen asettaminen sopivaan kohtaan kuvion ulkopuolelle on konstikasta\n",
    "plt.legend(loc='upper center', bbox_to_anchor=(0.5, 1.2), ncol=4)\n",
    "\n",
    "#prosenttien ulkoasun muotoilu vaatii omat kikkailunsa\n",
    "vals = ax.get_xticks()\n",
    "ax.set_xticklabels(['{:.0f} %'.format(x*100) for x in vals])"
   ]
  },
  {
   "cell_type": "code",
   "execution_count": 13,
   "metadata": {},
   "outputs": [
    {
     "data": {
      "text/html": [
       "<style  type=\"text/css\" >\n",
       "</style>  \n",
       "<table id=\"T_60c8a40c_972c_11e8_beee_00e18c75b321\" > \n",
       "<thead>    <tr> \n",
       "        <th class=\"blank level0\" ></th> \n",
       "        <th class=\"col_heading level0 col0\" >työterveyshuolto</th> \n",
       "        <th class=\"col_heading level0 col1\" >lomaosake</th> \n",
       "        <th class=\"col_heading level0 col2\" >kuntosali</th> \n",
       "        <th class=\"col_heading level0 col3\" >hieroja</th> \n",
       "    </tr></thead> \n",
       "<tbody>    <tr> \n",
       "        <th id=\"T_60c8a40c_972c_11e8_beee_00e18c75b321level0_row0\" class=\"row_heading level0 row0\" >mies</th> \n",
       "        <td id=\"T_60c8a40c_972c_11e8_beee_00e18c75b321row0_col0\" class=\"data row0 col0\" >35</td> \n",
       "        <td id=\"T_60c8a40c_972c_11e8_beee_00e18c75b321row0_col1\" class=\"data row0 col1\" >16</td> \n",
       "        <td id=\"T_60c8a40c_972c_11e8_beee_00e18c75b321row0_col2\" class=\"data row0 col2\" >8</td> \n",
       "        <td id=\"T_60c8a40c_972c_11e8_beee_00e18c75b321row0_col3\" class=\"data row0 col3\" >13</td> \n",
       "    </tr>    <tr> \n",
       "        <th id=\"T_60c8a40c_972c_11e8_beee_00e18c75b321level0_row1\" class=\"row_heading level0 row1\" >nainen</th> \n",
       "        <td id=\"T_60c8a40c_972c_11e8_beee_00e18c75b321row1_col0\" class=\"data row1 col0\" >12</td> \n",
       "        <td id=\"T_60c8a40c_972c_11e8_beee_00e18c75b321row1_col1\" class=\"data row1 col1\" >4</td> \n",
       "        <td id=\"T_60c8a40c_972c_11e8_beee_00e18c75b321row1_col2\" class=\"data row1 col2\" >1</td> \n",
       "        <td id=\"T_60c8a40c_972c_11e8_beee_00e18c75b321row1_col3\" class=\"data row1 col3\" >9</td> \n",
       "    </tr></tbody> \n",
       "</table> "
      ],
      "text/plain": [
       "<pandas.io.formats.style.Styler at 0x1b5b47cad68>"
      ]
     },
     "execution_count": 13,
     "metadata": {},
     "output_type": "execute_result"
    }
   ],
   "source": [
    "#monivalinnan vaihtoehtojen lukumäärät sukupuolen mukaan\n",
    "df9 = df.groupby('sukupuoli')['työterveyshuolto','lomaosake','kuntosali','hieroja'].sum()\n",
    "df9.index = ['mies','nainen']\n",
    "df9.style.format('{:.0f}')"
   ]
  },
  {
   "cell_type": "code",
   "execution_count": 14,
   "metadata": {},
   "outputs": [
    {
     "data": {
      "text/plain": [
       "(array([0, 1]), <a list of 2 Text xticklabel objects>)"
      ]
     },
     "execution_count": 14,
     "metadata": {},
     "output_type": "execute_result"
    },
    {
     "data": {
      "image/png": "[encoded data removed]",
      "text/plain": [
       "<Figure size 432x288 with 1 Axes>"
      ]
     },
     "metadata": {},
     "output_type": "display_data"
    }
   ],
   "source": [
    "df9.plot.bar()\n",
    "plt.ylabel('lukumäärä')\n",
    "plt.xticks(rotation='horizontal')"
   ]
  },
  {
   "cell_type": "code",
   "execution_count": 15,
   "metadata": {},
   "outputs": [
    {
     "data": {
      "text/html": [
       "<style  type=\"text/css\" >\n",
       "</style>  \n",
       "<table id=\"T_60dddd92_972c_11e8_835e_00e18c75b321\" > \n",
       "<thead>    <tr> \n",
       "        <th class=\"blank level0\" ></th> \n",
       "        <th class=\"col_heading level0 col0\" >työterveyshuolto</th> \n",
       "        <th class=\"col_heading level0 col1\" >lomaosake</th> \n",
       "        <th class=\"col_heading level0 col2\" >kuntosali</th> \n",
       "        <th class=\"col_heading level0 col3\" >hieroja</th> \n",
       "    </tr></thead> \n",
       "<tbody>    <tr> \n",
       "        <th id=\"T_60dddd92_972c_11e8_835e_00e18c75b321level0_row0\" class=\"row_heading level0 row0\" >mies</th> \n",
       "        <td id=\"T_60dddd92_972c_11e8_835e_00e18c75b321row0_col0\" class=\"data row0 col0\" >55.6%</td> \n",
       "        <td id=\"T_60dddd92_972c_11e8_835e_00e18c75b321row0_col1\" class=\"data row0 col1\" >25.4%</td> \n",
       "        <td id=\"T_60dddd92_972c_11e8_835e_00e18c75b321row0_col2\" class=\"data row0 col2\" >12.7%</td> \n",
       "        <td id=\"T_60dddd92_972c_11e8_835e_00e18c75b321row0_col3\" class=\"data row0 col3\" >20.6%</td> \n",
       "    </tr>    <tr> \n",
       "        <th id=\"T_60dddd92_972c_11e8_835e_00e18c75b321level0_row1\" class=\"row_heading level0 row1\" >nainen</th> \n",
       "        <td id=\"T_60dddd92_972c_11e8_835e_00e18c75b321row1_col0\" class=\"data row1 col0\" >63.2%</td> \n",
       "        <td id=\"T_60dddd92_972c_11e8_835e_00e18c75b321row1_col1\" class=\"data row1 col1\" >21.1%</td> \n",
       "        <td id=\"T_60dddd92_972c_11e8_835e_00e18c75b321row1_col2\" class=\"data row1 col2\" >5.3%</td> \n",
       "        <td id=\"T_60dddd92_972c_11e8_835e_00e18c75b321row1_col3\" class=\"data row1 col3\" >47.4%</td> \n",
       "    </tr></tbody> \n",
       "</table> "
      ],
      "text/plain": [
       "<pandas.io.formats.style.Styler at 0x1b5b47b51d0>"
      ]
     },
     "execution_count": 15,
     "metadata": {},
     "output_type": "execute_result"
    }
   ],
   "source": [
    "#prosentit sukupuolesta\n",
    "df10 = df.groupby('sukupuoli')['työterveyshuolto','lomaosake','kuntosali','hieroja'].sum()\n",
    "df10.index = ['mies','nainen']\n",
    "miehet = df['sukupuoli'].value_counts()[1]\n",
    "naiset = df['sukupuoli'].value_counts()[2]\n",
    "df10.loc['mies'] = df10.loc['mies'] / miehet\n",
    "df10.loc['nainen'] = df10.loc['nainen'] / naiset\n",
    "df10.style.format('{:.1%}')"
   ]
  },
  {
   "cell_type": "code",
   "execution_count": 16,
   "metadata": {},
   "outputs": [
    {
     "data": {
      "text/plain": [
       "[Text(0,0,'0 %'),\n",
       " Text(0,0,'10 %'),\n",
       " Text(0,0,'20 %'),\n",
       " Text(0,0,'30 %'),\n",
       " Text(0,0,'40 %'),\n",
       " Text(0,0,'50 %'),\n",
       " Text(0,0,'60 %'),\n",
       " Text(0,0,'70 %')]"
      ]
     },
     "execution_count": 16,
     "metadata": {},
     "output_type": "execute_result"
    },
    {
     "data": {
      "image/png": "[encoded data removed]",
      "text/plain": [
       "<Figure size 432x288 with 1 Axes>"
      ]
     },
     "metadata": {},
     "output_type": "display_data"
    }
   ],
   "source": [
    "ax=df10.plot.bar()\n",
    "plt.ylabel('prosenttia sukupuolesta')\n",
    "plt.xticks(rotation='horizontal')\n",
    "plt.legend(loc='upper center', bbox_to_anchor=(0.5, 1.2), ncol=4)\n",
    "\n",
    "vals = ax.get_yticks()\n",
    "ax.set_yticklabels(['{:.0f} %'.format(x*100) for x in vals])"
   ]
  },
  {
   "cell_type": "code",
   "execution_count": 17,
   "metadata": {},
   "outputs": [
    {
     "data": {
      "text/plain": [
       "[Text(0,0,'0 %'),\n",
       " Text(0,0,'10 %'),\n",
       " Text(0,0,'20 %'),\n",
       " Text(0,0,'30 %'),\n",
       " Text(0,0,'40 %'),\n",
       " Text(0,0,'50 %'),\n",
       " Text(0,0,'60 %'),\n",
       " Text(0,0,'70 %')]"
      ]
     },
     "execution_count": 17,
     "metadata": {},
     "output_type": "execute_result"
    },
    {
     "data": {
      "image/png": "[encoded data removed]",
      "text/plain": [
       "<Figure size 432x288 with 1 Axes>"
      ]
     },
     "metadata": {},
     "output_type": "display_data"
    }
   ],
   "source": [
    "ax=df10.transpose().plot.bar()\n",
    "plt.ylabel('prosenttia sukupuolesta')\n",
    "plt.xticks(rotation='horizontal')\n",
    "\n",
    "vals = ax.get_yticks()\n",
    "ax.set_yticklabels(['{:.0f} %'.format(x*100) for x in vals])"
   ]
  },
  {
   "cell_type": "code",
   "execution_count": 18,
   "metadata": {},
   "outputs": [
    {
     "data": {
      "text/html": [
       "<div>\n",
       "<style scoped>\n",
       "    .dataframe tbody tr th:only-of-type {\n",
       "        vertical-align: middle;\n",
       "    }\n",
       "\n",
       "    .dataframe tbody tr th {\n",
       "        vertical-align: top;\n",
       "    }\n",
       "\n",
       "    .dataframe thead th {\n",
       "        text-align: right;\n",
       "    }\n",
       "</style>\n",
       "<table border=\"1\" class=\"dataframe\">\n",
       "  <thead>\n",
       "    <tr style=\"text-align: right;\">\n",
       "      <th></th>\n",
       "      <th>johtoon</th>\n",
       "      <th>työtovereihin</th>\n",
       "      <th>työympäristöön</th>\n",
       "      <th>palkkaan</th>\n",
       "      <th>työtehtäviin</th>\n",
       "    </tr>\n",
       "  </thead>\n",
       "  <tbody>\n",
       "    <tr>\n",
       "      <th>erittäin tyytymätön</th>\n",
       "      <td>7</td>\n",
       "      <td>NaN</td>\n",
       "      <td>9</td>\n",
       "      <td>33</td>\n",
       "      <td>5</td>\n",
       "    </tr>\n",
       "    <tr>\n",
       "      <th>tyytymätön</th>\n",
       "      <td>16</td>\n",
       "      <td>3.0</td>\n",
       "      <td>9</td>\n",
       "      <td>19</td>\n",
       "      <td>15</td>\n",
       "    </tr>\n",
       "    <tr>\n",
       "      <th>neutraali</th>\n",
       "      <td>30</td>\n",
       "      <td>16.0</td>\n",
       "      <td>30</td>\n",
       "      <td>19</td>\n",
       "      <td>29</td>\n",
       "    </tr>\n",
       "    <tr>\n",
       "      <th>tyytyväinen</th>\n",
       "      <td>23</td>\n",
       "      <td>35.0</td>\n",
       "      <td>23</td>\n",
       "      <td>10</td>\n",
       "      <td>25</td>\n",
       "    </tr>\n",
       "    <tr>\n",
       "      <th>erittäin tyytyväinen</th>\n",
       "      <td>6</td>\n",
       "      <td>27.0</td>\n",
       "      <td>11</td>\n",
       "      <td>1</td>\n",
       "      <td>8</td>\n",
       "    </tr>\n",
       "  </tbody>\n",
       "</table>\n",
       "</div>"
      ],
      "text/plain": [
       "                      johtoon  työtovereihin  työympäristöön  palkkaan  \\\n",
       "erittäin tyytymätön         7            NaN               9        33   \n",
       "tyytymätön                 16            3.0               9        19   \n",
       "neutraali                  30           16.0              30        19   \n",
       "tyytyväinen                23           35.0              23        10   \n",
       "erittäin tyytyväinen        6           27.0              11         1   \n",
       "\n",
       "                      työtehtäviin  \n",
       "erittäin tyytymätön              5  \n",
       "tyytymätön                      15  \n",
       "neutraali                       29  \n",
       "tyytyväinen                     25  \n",
       "erittäin tyytyväinen             8  "
      ]
     },
     "execution_count": 18,
     "metadata": {},
     "output_type": "execute_result"
    }
   ],
   "source": [
    "#koontitaulukko tyytyväisyyksistä\n",
    "df11=df['johtoon'].value_counts(sort = False).to_frame()\n",
    "df11['työtovereihin'] = df['työtovereihin'].value_counts(sort = False)\n",
    "df11['työympäristöön'] = df['työympäristöön'].value_counts(sort = False)\n",
    "df11['palkkaan'] = df['palkkaan'].value_counts(sort = False)\n",
    "df11['työtehtäviin'] = df['työtehtäviin'].value_counts(sort = False)\n",
    "df11.index = ['erittäin tyytymätön','tyytymätön','neutraali',\n",
    "          'tyytyväinen','erittäin tyytyväinen']\n",
    "df11"
   ]
  },
  {
   "cell_type": "code",
   "execution_count": 19,
   "metadata": {
    "scrolled": true
   },
   "outputs": [
    {
     "data": {
      "text/plain": [
       "<matplotlib.legend.Legend at 0x1b5b586f470>"
      ]
     },
     "execution_count": 19,
     "metadata": {},
     "output_type": "execute_result"
    },
    {
     "data": {
      "image/png": "[encoded data removed]",
      "text/plain": [
       "<Figure size 432x288 with 1 Axes>"
      ]
     },
     "metadata": {},
     "output_type": "display_data"
    }
   ],
   "source": [
    "df11.transpose().plot.barh(stacked=True, color=['#C44E52','#D65F5F','grey','#4878CF','#4C72B0'])\n",
    "plt.xlabel('Lukumäärä')\n",
    "plt.legend(bbox_to_anchor=(1, 0.5))"
   ]
  },
  {
   "cell_type": "code",
   "execution_count": 24,
   "metadata": {},
   "outputs": [
    {
     "data": {
      "text/plain": [
       "[Text(0,0,'erittäin tyytymätön'),\n",
       " Text(0,0,'tyytymätön'),\n",
       " Text(0,0,'neutraali'),\n",
       " Text(0,0,'tyytyväinen'),\n",
       " Text(0,0,'erittäin tyytyväinen')]"
      ]
     },
     "execution_count": 24,
     "metadata": {},
     "output_type": "execute_result"
    },
    {
     "data": {
      "image/png": "[encoded data removed]",
      "text/plain": [
       "<Figure size 432x288 with 1 Axes>"
      ]
     },
     "metadata": {},
     "output_type": "display_data"
    }
   ],
   "source": [
    "df12=df[['johtoon','työtovereihin','työympäristöön','palkkaan','työtehtäviin']].mean().sort_values()\n",
    "ax=df12.plot.barh(color='C0')\n",
    "plt.xlim(1,5)\n",
    "plt.title('Tyytyväisyyskeskiarvoja')\n",
    "ax.set(xticks=[1,2,3,4,5])\n",
    "ax.set_xticklabels(['erittäin tyytymätön','tyytymätön','neutraali','tyytyväinen','erittäin tyytyväinen'], rotation=30)"
   ]
  },
  {
   "cell_type": "code",
   "execution_count": null,
   "metadata": {},
   "outputs": [],
   "source": []
  }
 ],
 "metadata": {
  "kernelspec": {
   "display_name": "Python 3",
   "language": "python",
   "name": "python3"
  },
  "language_info": {
   "codemirror_mode": {
    "name": "ipython",
    "version": 3
   },
   "file_extension": ".py",
   "mimetype": "text/x-python",
   "name": "python",
   "nbconvert_exporter": "python",
   "pygments_lexer": "ipython3",
   "version": "3.6.6"
  }
 },
 "nbformat": 4,
 "nbformat_minor": 2
}
