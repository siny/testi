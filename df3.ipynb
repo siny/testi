{
 "cells": [
  {
   "cell_type": "markdown",
   "metadata": {},
   "source": [
    "# Ryhmittelyjä groupby-toiminnolla"
   ]
  },
  {
   "cell_type": "code",
   "execution_count": 1,
   "metadata": {
    "collapsed": true
   },
   "outputs": [],
   "source": [
    "import pandas as pd\n",
    "\n",
    "#avaan Excel-datan dataframeen:\n",
    "df = pd.read_excel('http://www.elisanet.fi/taanila/data1.xlsx',sheetname = 'Data')"
   ]
  },
  {
   "cell_type": "code",
   "execution_count": 2,
   "metadata": {},
   "outputs": [
    {
     "data": {
      "text/html": [
       "<style  type=\"text/css\" >\n",
       "</style>  \n",
       "<table id=\"T_c360f782_e312_11e7_a85f_5cb901ac75b5\" > \n",
       "<thead>    <tr> \n",
       "        <th class=\"blank level0\" ></th> \n",
       "        <th class=\"col_heading level0 col0\" >count</th> \n",
       "        <th class=\"col_heading level0 col1\" >mean</th> \n",
       "        <th class=\"col_heading level0 col2\" >std</th> \n",
       "        <th class=\"col_heading level0 col3\" >min</th> \n",
       "        <th class=\"col_heading level0 col4\" >25%</th> \n",
       "        <th class=\"col_heading level0 col5\" >50%</th> \n",
       "        <th class=\"col_heading level0 col6\" >75%</th> \n",
       "        <th class=\"col_heading level0 col7\" >max</th> \n",
       "    </tr>    <tr> \n",
       "        <th class=\"index_name level0\" >koulutus</th> \n",
       "        <th class=\"blank\" ></th> \n",
       "        <th class=\"blank\" ></th> \n",
       "        <th class=\"blank\" ></th> \n",
       "        <th class=\"blank\" ></th> \n",
       "        <th class=\"blank\" ></th> \n",
       "        <th class=\"blank\" ></th> \n",
       "        <th class=\"blank\" ></th> \n",
       "        <th class=\"blank\" ></th> \n",
       "    </tr></thead> \n",
       "<tbody>    <tr> \n",
       "        <th id=\"T_c360f782_e312_11e7_a85f_5cb901ac75b5level0_row0\" class=\"row_heading level0 row0\" >1.0</th> \n",
       "        <td id=\"T_c360f782_e312_11e7_a85f_5cb901ac75b5row0_col0\" class=\"data row0 col0\" >27</td> \n",
       "        <td id=\"T_c360f782_e312_11e7_a85f_5cb901ac75b5row0_col1\" class=\"data row0 col1\" >2310</td> \n",
       "        <td id=\"T_c360f782_e312_11e7_a85f_5cb901ac75b5row0_col2\" class=\"data row0 col2\" >473</td> \n",
       "        <td id=\"T_c360f782_e312_11e7_a85f_5cb901ac75b5row0_col3\" class=\"data row0 col3\" >1638</td> \n",
       "        <td id=\"T_c360f782_e312_11e7_a85f_5cb901ac75b5row0_col4\" class=\"data row0 col4\" >2008</td> \n",
       "        <td id=\"T_c360f782_e312_11e7_a85f_5cb901ac75b5row0_col5\" class=\"data row0 col5\" >2144</td> \n",
       "        <td id=\"T_c360f782_e312_11e7_a85f_5cb901ac75b5row0_col6\" class=\"data row0 col6\" >2534</td> \n",
       "        <td id=\"T_c360f782_e312_11e7_a85f_5cb901ac75b5row0_col7\" class=\"data row0 col7\" >3587</td> \n",
       "    </tr>    <tr> \n",
       "        <th id=\"T_c360f782_e312_11e7_a85f_5cb901ac75b5level0_row1\" class=\"row_heading level0 row1\" >2.0</th> \n",
       "        <td id=\"T_c360f782_e312_11e7_a85f_5cb901ac75b5row1_col0\" class=\"data row1 col0\" >30</td> \n",
       "        <td id=\"T_c360f782_e312_11e7_a85f_5cb901ac75b5row1_col1\" class=\"data row1 col1\" >2403</td> \n",
       "        <td id=\"T_c360f782_e312_11e7_a85f_5cb901ac75b5row1_col2\" class=\"data row1 col2\" >534</td> \n",
       "        <td id=\"T_c360f782_e312_11e7_a85f_5cb901ac75b5row1_col3\" class=\"data row1 col3\" >1521</td> \n",
       "        <td id=\"T_c360f782_e312_11e7_a85f_5cb901ac75b5row1_col4\" class=\"data row1 col4\" >2008</td> \n",
       "        <td id=\"T_c360f782_e312_11e7_a85f_5cb901ac75b5row1_col5\" class=\"data row1 col5\" >2378</td> \n",
       "        <td id=\"T_c360f782_e312_11e7_a85f_5cb901ac75b5row1_col6\" class=\"data row1 col6\" >2729</td> \n",
       "        <td id=\"T_c360f782_e312_11e7_a85f_5cb901ac75b5row1_col7\" class=\"data row1 col7\" >3510</td> \n",
       "    </tr>    <tr> \n",
       "        <th id=\"T_c360f782_e312_11e7_a85f_5cb901ac75b5level0_row2\" class=\"row_heading level0 row2\" >3.0</th> \n",
       "        <td id=\"T_c360f782_e312_11e7_a85f_5cb901ac75b5row2_col0\" class=\"data row2 col0\" >22</td> \n",
       "        <td id=\"T_c360f782_e312_11e7_a85f_5cb901ac75b5row2_col1\" class=\"data row2 col1\" >2887</td> \n",
       "        <td id=\"T_c360f782_e312_11e7_a85f_5cb901ac75b5row2_col2\" class=\"data row2 col2\" >1108</td> \n",
       "        <td id=\"T_c360f782_e312_11e7_a85f_5cb901ac75b5row2_col3\" class=\"data row2 col3\" >1559</td> \n",
       "        <td id=\"T_c360f782_e312_11e7_a85f_5cb901ac75b5row2_col4\" class=\"data row2 col4\" >2222</td> \n",
       "        <td id=\"T_c360f782_e312_11e7_a85f_5cb901ac75b5row2_col5\" class=\"data row2 col5\" >2710</td> \n",
       "        <td id=\"T_c360f782_e312_11e7_a85f_5cb901ac75b5row2_col6\" class=\"data row2 col6\" >2925</td> \n",
       "        <td id=\"T_c360f782_e312_11e7_a85f_5cb901ac75b5row2_col7\" class=\"data row2 col7\" >6278</td> \n",
       "    </tr>    <tr> \n",
       "        <th id=\"T_c360f782_e312_11e7_a85f_5cb901ac75b5level0_row3\" class=\"row_heading level0 row3\" >4.0</th> \n",
       "        <td id=\"T_c360f782_e312_11e7_a85f_5cb901ac75b5row3_col0\" class=\"data row3 col0\" >2</td> \n",
       "        <td id=\"T_c360f782_e312_11e7_a85f_5cb901ac75b5row3_col1\" class=\"data row3 col1\" >5147</td> \n",
       "        <td id=\"T_c360f782_e312_11e7_a85f_5cb901ac75b5row3_col2\" class=\"data row3 col2\" >110</td> \n",
       "        <td id=\"T_c360f782_e312_11e7_a85f_5cb901ac75b5row3_col3\" class=\"data row3 col3\" >5069</td> \n",
       "        <td id=\"T_c360f782_e312_11e7_a85f_5cb901ac75b5row3_col4\" class=\"data row3 col4\" >5108</td> \n",
       "        <td id=\"T_c360f782_e312_11e7_a85f_5cb901ac75b5row3_col5\" class=\"data row3 col5\" >5147</td> \n",
       "        <td id=\"T_c360f782_e312_11e7_a85f_5cb901ac75b5row3_col6\" class=\"data row3 col6\" >5186</td> \n",
       "        <td id=\"T_c360f782_e312_11e7_a85f_5cb901ac75b5row3_col7\" class=\"data row3 col7\" >5225</td> \n",
       "    </tr></tbody> \n",
       "</table> "
      ],
      "text/plain": [
       "<pandas.io.formats.style.Styler at 0x24fb66b3f60>"
      ]
     },
     "execution_count": 2,
     "metadata": {},
     "output_type": "execute_result"
    }
   ],
   "source": [
    "#palkan tunnuslukuja koulutuksen määräämissä ryhmissä:\n",
    "df1 = df['palkka'].groupby(df['koulutus']).describe()\n",
    "\n",
    "#esitän ilman desimaaleja:\n",
    "df1.style.format('{:.0f}')"
   ]
  },
  {
   "cell_type": "code",
   "execution_count": 3,
   "metadata": {},
   "outputs": [
    {
     "data": {
      "text/html": [
       "<style  type=\"text/css\" >\n",
       "</style>  \n",
       "<table id=\"T_c36de188_e312_11e7_bb14_5cb901ac75b5\" > \n",
       "<thead>    <tr> \n",
       "        <th class=\"index_name level0\" >koulutus</th> \n",
       "        <th class=\"col_heading level0 col0\" >1.0</th> \n",
       "        <th class=\"col_heading level0 col1\" >2.0</th> \n",
       "        <th class=\"col_heading level0 col2\" >3.0</th> \n",
       "        <th class=\"col_heading level0 col3\" >4.0</th> \n",
       "    </tr>    <tr> \n",
       "        <th class=\"index_name level0\" >sukupuoli</th> \n",
       "        <th class=\"blank\" ></th> \n",
       "        <th class=\"blank\" ></th> \n",
       "        <th class=\"blank\" ></th> \n",
       "        <th class=\"blank\" ></th> \n",
       "    </tr></thead> \n",
       "<tbody>    <tr> \n",
       "        <th id=\"T_c36de188_e312_11e7_bb14_5cb901ac75b5level0_row0\" class=\"row_heading level0 row0\" >1</th> \n",
       "        <td id=\"T_c36de188_e312_11e7_bb14_5cb901ac75b5row0_col0\" class=\"data row0 col0\" >2354</td> \n",
       "        <td id=\"T_c36de188_e312_11e7_bb14_5cb901ac75b5row0_col1\" class=\"data row0 col1\" >2461</td> \n",
       "        <td id=\"T_c36de188_e312_11e7_bb14_5cb901ac75b5row0_col2\" class=\"data row0 col2\" >3145</td> \n",
       "        <td id=\"T_c36de188_e312_11e7_bb14_5cb901ac75b5row0_col3\" class=\"data row0 col3\" >5147</td> \n",
       "    </tr>    <tr> \n",
       "        <th id=\"T_c36de188_e312_11e7_bb14_5cb901ac75b5level0_row1\" class=\"row_heading level0 row1\" >2</th> \n",
       "        <td id=\"T_c36de188_e312_11e7_bb14_5cb901ac75b5row1_col0\" class=\"data row1 col0\" >2121</td> \n",
       "        <td id=\"T_c36de188_e312_11e7_bb14_5cb901ac75b5row1_col1\" class=\"data row1 col1\" >2211</td> \n",
       "        <td id=\"T_c36de188_e312_11e7_bb14_5cb901ac75b5row1_col2\" class=\"data row1 col2\" >2334</td> \n",
       "        <td id=\"T_c36de188_e312_11e7_bb14_5cb901ac75b5row1_col3\" class=\"data row1 col3\" >nan</td> \n",
       "    </tr></tbody> \n",
       "</table> "
      ],
      "text/plain": [
       "<pandas.io.formats.style.Styler at 0x24fb9c4aeb8>"
      ]
     },
     "execution_count": 3,
     "metadata": {},
     "output_type": "execute_result"
    }
   ],
   "source": [
    "#palkkakeskiarvoja sukupuolen ja koulutuksen määräämissä ryhmissä\n",
    "#unstack siirtää koulutukset sarakkeisiin:\n",
    "df2 = df['palkka'].groupby([df['sukupuoli'], df['koulutus']]).mean().unstack()\n",
    "df2.style.format('{:.0f}')"
   ]
  },
  {
   "cell_type": "code",
   "execution_count": 4,
   "metadata": {},
   "outputs": [
    {
     "data": {
      "text/html": [
       "<style  type=\"text/css\" >\n",
       "</style>  \n",
       "<table id=\"T_c3761a9c_e312_11e7_8253_5cb901ac75b5\" > \n",
       "<thead>    <tr> \n",
       "        <th class=\"blank\" ></th> \n",
       "        <th class=\"blank level0\" ></th> \n",
       "        <th class=\"col_heading level0 col0\" >palkka</th> \n",
       "        <th class=\"col_heading level0 col1\" >tyytyväisyys palkkaan</th> \n",
       "    </tr>    <tr> \n",
       "        <th class=\"index_name level0\" >koulutus</th> \n",
       "        <th class=\"index_name level1\" >sukupuoli</th> \n",
       "        <th class=\"blank\" ></th> \n",
       "        <th class=\"blank\" ></th> \n",
       "    </tr></thead> \n",
       "<tbody>    <tr> \n",
       "        <th id=\"T_c3761a9c_e312_11e7_8253_5cb901ac75b5level0_row0\" class=\"row_heading level0 row0\" rowspan=2>1.0</th> \n",
       "        <th id=\"T_c3761a9c_e312_11e7_8253_5cb901ac75b5level1_row0\" class=\"row_heading level1 row0\" >1</th> \n",
       "        <td id=\"T_c3761a9c_e312_11e7_8253_5cb901ac75b5row0_col0\" class=\"data row0 col0\" >2353.55</td> \n",
       "        <td id=\"T_c3761a9c_e312_11e7_8253_5cb901ac75b5row0_col1\" class=\"data row0 col1\" >1.59</td> \n",
       "    </tr>    <tr> \n",
       "        <th id=\"T_c3761a9c_e312_11e7_8253_5cb901ac75b5level1_row1\" class=\"row_heading level1 row1\" >2</th> \n",
       "        <td id=\"T_c3761a9c_e312_11e7_8253_5cb901ac75b5row1_col0\" class=\"data row1 col0\" >2121.00</td> \n",
       "        <td id=\"T_c3761a9c_e312_11e7_8253_5cb901ac75b5row1_col1\" class=\"data row1 col1\" >2.80</td> \n",
       "    </tr>    <tr> \n",
       "        <th id=\"T_c3761a9c_e312_11e7_8253_5cb901ac75b5level0_row2\" class=\"row_heading level0 row2\" rowspan=2>2.0</th> \n",
       "        <th id=\"T_c3761a9c_e312_11e7_8253_5cb901ac75b5level1_row2\" class=\"row_heading level1 row2\" >1</th> \n",
       "        <td id=\"T_c3761a9c_e312_11e7_8253_5cb901ac75b5row2_col0\" class=\"data row2 col0\" >2461.43</td> \n",
       "        <td id=\"T_c3761a9c_e312_11e7_8253_5cb901ac75b5row2_col1\" class=\"data row2 col1\" >1.78</td> \n",
       "    </tr>    <tr> \n",
       "        <th id=\"T_c3761a9c_e312_11e7_8253_5cb901ac75b5level1_row3\" class=\"row_heading level1 row3\" >2</th> \n",
       "        <td id=\"T_c3761a9c_e312_11e7_8253_5cb901ac75b5row3_col0\" class=\"data row3 col0\" >2211.43</td> \n",
       "        <td id=\"T_c3761a9c_e312_11e7_8253_5cb901ac75b5row3_col1\" class=\"data row3 col1\" >2.86</td> \n",
       "    </tr>    <tr> \n",
       "        <th id=\"T_c3761a9c_e312_11e7_8253_5cb901ac75b5level0_row4\" class=\"row_heading level0 row4\" rowspan=2>3.0</th> \n",
       "        <th id=\"T_c3761a9c_e312_11e7_8253_5cb901ac75b5level1_row4\" class=\"row_heading level1 row4\" >1</th> \n",
       "        <td id=\"T_c3761a9c_e312_11e7_8253_5cb901ac75b5row4_col0\" class=\"data row4 col0\" >3145.47</td> \n",
       "        <td id=\"T_c3761a9c_e312_11e7_8253_5cb901ac75b5row4_col1\" class=\"data row4 col1\" >2.33</td> \n",
       "    </tr>    <tr> \n",
       "        <th id=\"T_c3761a9c_e312_11e7_8253_5cb901ac75b5level1_row5\" class=\"row_heading level1 row5\" >2</th> \n",
       "        <td id=\"T_c3761a9c_e312_11e7_8253_5cb901ac75b5row5_col0\" class=\"data row5 col0\" >2333.86</td> \n",
       "        <td id=\"T_c3761a9c_e312_11e7_8253_5cb901ac75b5row5_col1\" class=\"data row5 col1\" >2.71</td> \n",
       "    </tr>    <tr> \n",
       "        <th id=\"T_c3761a9c_e312_11e7_8253_5cb901ac75b5level0_row6\" class=\"row_heading level0 row6\" >4.0</th> \n",
       "        <th id=\"T_c3761a9c_e312_11e7_8253_5cb901ac75b5level1_row6\" class=\"row_heading level1 row6\" >1</th> \n",
       "        <td id=\"T_c3761a9c_e312_11e7_8253_5cb901ac75b5row6_col0\" class=\"data row6 col0\" >5147.00</td> \n",
       "        <td id=\"T_c3761a9c_e312_11e7_8253_5cb901ac75b5row6_col1\" class=\"data row6 col1\" >3.00</td> \n",
       "    </tr></tbody> \n",
       "</table> "
      ],
      "text/plain": [
       "<pandas.io.formats.style.Styler at 0x24fb9c79da0>"
      ]
     },
     "execution_count": 4,
     "metadata": {},
     "output_type": "execute_result"
    }
   ],
   "source": [
    "#Keskiarvoja koulutuksen ja sukupuolen määräämissä ryhmissä\n",
    "df3 = df.groupby(['koulutus', 'sukupuoli']).agg({'palkka':'mean', 'tyytyväisyys palkkaan':'mean'})\n",
    "df3.style.format('{:.2f}')"
   ]
  },
  {
   "cell_type": "code",
   "execution_count": 5,
   "metadata": {},
   "outputs": [
    {
     "data": {
      "text/html": [
       "<style  type=\"text/css\" >\n",
       "</style>  \n",
       "<table id=\"T_c38165da_e312_11e7_8c87_5cb901ac75b5\" > \n",
       "<thead>    <tr> \n",
       "        <th class=\"blank\" ></th> \n",
       "        <th class=\"blank level0\" ></th> \n",
       "        <th class=\"col_heading level0 col0\" >tyytyväisyys johtoon</th> \n",
       "        <th class=\"col_heading level0 col1\" >tyytyväisyys työtovereihin</th> \n",
       "    </tr>    <tr> \n",
       "        <th class=\"index_name level0\" >sukupuoli</th> \n",
       "        <th class=\"index_name level1\" >koulutus</th> \n",
       "        <th class=\"blank\" ></th> \n",
       "        <th class=\"blank\" ></th> \n",
       "    </tr></thead> \n",
       "<tbody>    <tr> \n",
       "        <th id=\"T_c38165da_e312_11e7_8c87_5cb901ac75b5level0_row0\" class=\"row_heading level0 row0\" rowspan=4>1</th> \n",
       "        <th id=\"T_c38165da_e312_11e7_8c87_5cb901ac75b5level1_row0\" class=\"row_heading level1 row0\" >1.0</th> \n",
       "        <td id=\"T_c38165da_e312_11e7_8c87_5cb901ac75b5row0_col0\" class=\"data row0 col0\" >2.82</td> \n",
       "        <td id=\"T_c38165da_e312_11e7_8c87_5cb901ac75b5row0_col1\" class=\"data row0 col1\" >4.00</td> \n",
       "    </tr>    <tr> \n",
       "        <th id=\"T_c38165da_e312_11e7_8c87_5cb901ac75b5level1_row1\" class=\"row_heading level1 row1\" >2.0</th> \n",
       "        <td id=\"T_c38165da_e312_11e7_8c87_5cb901ac75b5row1_col0\" class=\"data row1 col0\" >2.61</td> \n",
       "        <td id=\"T_c38165da_e312_11e7_8c87_5cb901ac75b5row1_col1\" class=\"data row1 col1\" >4.23</td> \n",
       "    </tr>    <tr> \n",
       "        <th id=\"T_c38165da_e312_11e7_8c87_5cb901ac75b5level1_row2\" class=\"row_heading level1 row2\" >3.0</th> \n",
       "        <td id=\"T_c38165da_e312_11e7_8c87_5cb901ac75b5row2_col0\" class=\"data row2 col0\" >3.13</td> \n",
       "        <td id=\"T_c38165da_e312_11e7_8c87_5cb901ac75b5row2_col1\" class=\"data row2 col1\" >4.13</td> \n",
       "    </tr>    <tr> \n",
       "        <th id=\"T_c38165da_e312_11e7_8c87_5cb901ac75b5level1_row3\" class=\"row_heading level1 row3\" >4.0</th> \n",
       "        <td id=\"T_c38165da_e312_11e7_8c87_5cb901ac75b5row3_col0\" class=\"data row3 col0\" >4.00</td> \n",
       "        <td id=\"T_c38165da_e312_11e7_8c87_5cb901ac75b5row3_col1\" class=\"data row3 col1\" >4.50</td> \n",
       "    </tr>    <tr> \n",
       "        <th id=\"T_c38165da_e312_11e7_8c87_5cb901ac75b5level0_row4\" class=\"row_heading level0 row4\" rowspan=3>2</th> \n",
       "        <th id=\"T_c38165da_e312_11e7_8c87_5cb901ac75b5level1_row4\" class=\"row_heading level1 row4\" >1.0</th> \n",
       "        <td id=\"T_c38165da_e312_11e7_8c87_5cb901ac75b5row4_col0\" class=\"data row4 col0\" >3.60</td> \n",
       "        <td id=\"T_c38165da_e312_11e7_8c87_5cb901ac75b5row4_col1\" class=\"data row4 col1\" >4.20</td> \n",
       "    </tr>    <tr> \n",
       "        <th id=\"T_c38165da_e312_11e7_8c87_5cb901ac75b5level1_row5\" class=\"row_heading level1 row5\" >2.0</th> \n",
       "        <td id=\"T_c38165da_e312_11e7_8c87_5cb901ac75b5row5_col0\" class=\"data row5 col0\" >4.00</td> \n",
       "        <td id=\"T_c38165da_e312_11e7_8c87_5cb901ac75b5row5_col1\" class=\"data row5 col1\" >4.00</td> \n",
       "    </tr>    <tr> \n",
       "        <th id=\"T_c38165da_e312_11e7_8c87_5cb901ac75b5level1_row6\" class=\"row_heading level1 row6\" >3.0</th> \n",
       "        <td id=\"T_c38165da_e312_11e7_8c87_5cb901ac75b5row6_col0\" class=\"data row6 col0\" >3.43</td> \n",
       "        <td id=\"T_c38165da_e312_11e7_8c87_5cb901ac75b5row6_col1\" class=\"data row6 col1\" >3.43</td> \n",
       "    </tr></tbody> \n",
       "</table> "
      ],
      "text/plain": [
       "<pandas.io.formats.style.Styler at 0x24fb9c74320>"
      ]
     },
     "execution_count": 5,
     "metadata": {},
     "output_type": "execute_result"
    }
   ],
   "source": [
    "df4 = df.groupby(['sukupuoli', 'koulutus'])[['tyytyväisyys johtoon','tyytyväisyys työtovereihin']].mean()\n",
    "df4.style.format('{:.2f}')"
   ]
  },
  {
   "cell_type": "code",
   "execution_count": 6,
   "metadata": {},
   "outputs": [
    {
     "data": {
      "text/plain": [
       "sukupuoli\n",
       "1    2657.538462\n",
       "2    2317.888889\n",
       "Name: palkka, dtype: float64"
      ]
     },
     "execution_count": 6,
     "metadata": {},
     "output_type": "execute_result"
    }
   ],
   "source": [
    "#keskiarvopalkat hierojaa käyttäneille sukupuolittain:\n",
    "df[df['hieroja'] == 1].groupby('sukupuoli')['palkka'].mean()"
   ]
  },
  {
   "cell_type": "code",
   "execution_count": 7,
   "metadata": {},
   "outputs": [
    {
     "data": {
      "text/html": [
       "<div>\n",
       "<style>\n",
       "    .dataframe thead tr:only-child th {\n",
       "        text-align: right;\n",
       "    }\n",
       "\n",
       "    .dataframe thead th {\n",
       "        text-align: left;\n",
       "    }\n",
       "\n",
       "    .dataframe tbody tr th {\n",
       "        vertical-align: top;\n",
       "    }\n",
       "</style>\n",
       "<table border=\"1\" class=\"dataframe\">\n",
       "  <thead>\n",
       "    <tr style=\"text-align: right;\">\n",
       "      <th></th>\n",
       "      <th>count</th>\n",
       "      <th>mean</th>\n",
       "      <th>std</th>\n",
       "      <th>min</th>\n",
       "      <th>25%</th>\n",
       "      <th>50%</th>\n",
       "      <th>75%</th>\n",
       "      <th>max</th>\n",
       "    </tr>\n",
       "    <tr>\n",
       "      <th>sukupuoli</th>\n",
       "      <th></th>\n",
       "      <th></th>\n",
       "      <th></th>\n",
       "      <th></th>\n",
       "      <th></th>\n",
       "      <th></th>\n",
       "      <th></th>\n",
       "      <th></th>\n",
       "    </tr>\n",
       "  </thead>\n",
       "  <tbody>\n",
       "    <tr>\n",
       "      <th>1</th>\n",
       "      <td>12.0</td>\n",
       "      <td>2641.833333</td>\n",
       "      <td>905.392214</td>\n",
       "      <td>1521.0</td>\n",
       "      <td>2134.5</td>\n",
       "      <td>2457.0</td>\n",
       "      <td>2973.5</td>\n",
       "      <td>5069.0</td>\n",
       "    </tr>\n",
       "    <tr>\n",
       "      <th>2</th>\n",
       "      <td>7.0</td>\n",
       "      <td>2245.000000</td>\n",
       "      <td>382.385495</td>\n",
       "      <td>1715.0</td>\n",
       "      <td>1969.0</td>\n",
       "      <td>2223.0</td>\n",
       "      <td>2574.0</td>\n",
       "      <td>2691.0</td>\n",
       "    </tr>\n",
       "  </tbody>\n",
       "</table>\n",
       "</div>"
      ],
      "text/plain": [
       "           count         mean         std     min     25%     50%     75%  \\\n",
       "sukupuoli                                                                   \n",
       "1           12.0  2641.833333  905.392214  1521.0  2134.5  2457.0  2973.5   \n",
       "2            7.0  2245.000000  382.385495  1715.0  1969.0  2223.0  2574.0   \n",
       "\n",
       "              max  \n",
       "sukupuoli          \n",
       "1          5069.0  \n",
       "2          2691.0  "
      ]
     },
     "execution_count": 7,
     "metadata": {},
     "output_type": "execute_result"
    }
   ],
   "source": [
    "#palkan tunnuslukuja sukupuolittain hierojaa ja työterveyshuoltoa käyttäneillä:\n",
    "df[(df['hieroja'] == 1) & (df['työterveyshuolto'] == 1)].groupby('sukupuoli')['palkka'].describe()"
   ]
  }
 ],
 "metadata": {
  "kernelspec": {
   "display_name": "Python 3",
   "language": "python",
   "name": "python3"
  },
  "language_info": {
   "codemirror_mode": {
    "name": "ipython",
    "version": 3
   },
   "file_extension": ".py",
   "mimetype": "text/x-python",
   "name": "python",
   "nbconvert_exporter": "python",
   "pygments_lexer": "ipython3",
   "version": "3.6.2"
  }
 },
 "nbformat": 4,
 "nbformat_minor": 2
}
