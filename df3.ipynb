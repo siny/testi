{
 "cells": [
  {
   "cell_type": "markdown",
   "metadata": {},
   "source": [
    "# Ryhmittelyjä groupby-toiminnolla\n",
    "\n",
    "Tätä työkalua ei kannata ohittaa!"
   ]
  },
  {
   "cell_type": "code",
   "execution_count": 1,
   "metadata": {},
   "outputs": [],
   "source": [
    "import pandas as pd\n",
    "\n",
    "#Avaan Excel-datan dataframeen ja näytän viisi ensimmäistä riviä.\n",
    "#Vanhemmissa pandas-versioissa <b>sheet_name</b> sijasta täytyy käyttää <b>sheetname</b>.\n",
    "df = pd.read_excel('http://taanila.fi/data1.xlsx', sheet_name = 'Data')"
   ]
  },
  {
   "cell_type": "code",
   "execution_count": 2,
   "metadata": {},
   "outputs": [],
   "source": [
    "#Kaksi listaa, joita hyödynnän jatkossa:\n",
    "sukup = ['Mies','Nainen']\n",
    "koulutus = ['Peruskoulu','2. aste','Korkeakoulu','Ylempi korkeakoulu']"
   ]
  },
  {
   "cell_type": "code",
   "execution_count": 3,
   "metadata": {},
   "outputs": [
    {
     "data": {
      "text/html": [
       "<style  type=\"text/css\" >\n",
       "</style>  \n",
       "<table id=\"T_b1aebb3e_306f_11e9_8657_5cb901ac75b5\" > \n",
       "<thead>    <tr> \n",
       "        <th class=\"blank level0\" ></th> \n",
       "        <th class=\"col_heading level0 col0\" >count</th> \n",
       "        <th class=\"col_heading level0 col1\" >mean</th> \n",
       "        <th class=\"col_heading level0 col2\" >std</th> \n",
       "        <th class=\"col_heading level0 col3\" >min</th> \n",
       "        <th class=\"col_heading level0 col4\" >25%</th> \n",
       "        <th class=\"col_heading level0 col5\" >50%</th> \n",
       "        <th class=\"col_heading level0 col6\" >75%</th> \n",
       "        <th class=\"col_heading level0 col7\" >max</th> \n",
       "    </tr></thead> \n",
       "<tbody>    <tr> \n",
       "        <th id=\"T_b1aebb3e_306f_11e9_8657_5cb901ac75b5level0_row0\" class=\"row_heading level0 row0\" >Peruskoulu</th> \n",
       "        <td id=\"T_b1aebb3e_306f_11e9_8657_5cb901ac75b5row0_col0\" class=\"data row0 col0\" >27</td> \n",
       "        <td id=\"T_b1aebb3e_306f_11e9_8657_5cb901ac75b5row0_col1\" class=\"data row0 col1\" >2310</td> \n",
       "        <td id=\"T_b1aebb3e_306f_11e9_8657_5cb901ac75b5row0_col2\" class=\"data row0 col2\" >473</td> \n",
       "        <td id=\"T_b1aebb3e_306f_11e9_8657_5cb901ac75b5row0_col3\" class=\"data row0 col3\" >1638</td> \n",
       "        <td id=\"T_b1aebb3e_306f_11e9_8657_5cb901ac75b5row0_col4\" class=\"data row0 col4\" >2008</td> \n",
       "        <td id=\"T_b1aebb3e_306f_11e9_8657_5cb901ac75b5row0_col5\" class=\"data row0 col5\" >2144</td> \n",
       "        <td id=\"T_b1aebb3e_306f_11e9_8657_5cb901ac75b5row0_col6\" class=\"data row0 col6\" >2534</td> \n",
       "        <td id=\"T_b1aebb3e_306f_11e9_8657_5cb901ac75b5row0_col7\" class=\"data row0 col7\" >3587</td> \n",
       "    </tr>    <tr> \n",
       "        <th id=\"T_b1aebb3e_306f_11e9_8657_5cb901ac75b5level0_row1\" class=\"row_heading level0 row1\" >2. aste</th> \n",
       "        <td id=\"T_b1aebb3e_306f_11e9_8657_5cb901ac75b5row1_col0\" class=\"data row1 col0\" >30</td> \n",
       "        <td id=\"T_b1aebb3e_306f_11e9_8657_5cb901ac75b5row1_col1\" class=\"data row1 col1\" >2403</td> \n",
       "        <td id=\"T_b1aebb3e_306f_11e9_8657_5cb901ac75b5row1_col2\" class=\"data row1 col2\" >534</td> \n",
       "        <td id=\"T_b1aebb3e_306f_11e9_8657_5cb901ac75b5row1_col3\" class=\"data row1 col3\" >1521</td> \n",
       "        <td id=\"T_b1aebb3e_306f_11e9_8657_5cb901ac75b5row1_col4\" class=\"data row1 col4\" >2008</td> \n",
       "        <td id=\"T_b1aebb3e_306f_11e9_8657_5cb901ac75b5row1_col5\" class=\"data row1 col5\" >2378</td> \n",
       "        <td id=\"T_b1aebb3e_306f_11e9_8657_5cb901ac75b5row1_col6\" class=\"data row1 col6\" >2729</td> \n",
       "        <td id=\"T_b1aebb3e_306f_11e9_8657_5cb901ac75b5row1_col7\" class=\"data row1 col7\" >3510</td> \n",
       "    </tr>    <tr> \n",
       "        <th id=\"T_b1aebb3e_306f_11e9_8657_5cb901ac75b5level0_row2\" class=\"row_heading level0 row2\" >Korkeakoulu</th> \n",
       "        <td id=\"T_b1aebb3e_306f_11e9_8657_5cb901ac75b5row2_col0\" class=\"data row2 col0\" >22</td> \n",
       "        <td id=\"T_b1aebb3e_306f_11e9_8657_5cb901ac75b5row2_col1\" class=\"data row2 col1\" >2887</td> \n",
       "        <td id=\"T_b1aebb3e_306f_11e9_8657_5cb901ac75b5row2_col2\" class=\"data row2 col2\" >1108</td> \n",
       "        <td id=\"T_b1aebb3e_306f_11e9_8657_5cb901ac75b5row2_col3\" class=\"data row2 col3\" >1559</td> \n",
       "        <td id=\"T_b1aebb3e_306f_11e9_8657_5cb901ac75b5row2_col4\" class=\"data row2 col4\" >2222</td> \n",
       "        <td id=\"T_b1aebb3e_306f_11e9_8657_5cb901ac75b5row2_col5\" class=\"data row2 col5\" >2710</td> \n",
       "        <td id=\"T_b1aebb3e_306f_11e9_8657_5cb901ac75b5row2_col6\" class=\"data row2 col6\" >2925</td> \n",
       "        <td id=\"T_b1aebb3e_306f_11e9_8657_5cb901ac75b5row2_col7\" class=\"data row2 col7\" >6278</td> \n",
       "    </tr>    <tr> \n",
       "        <th id=\"T_b1aebb3e_306f_11e9_8657_5cb901ac75b5level0_row3\" class=\"row_heading level0 row3\" >Ylempi korkeakoulu</th> \n",
       "        <td id=\"T_b1aebb3e_306f_11e9_8657_5cb901ac75b5row3_col0\" class=\"data row3 col0\" >2</td> \n",
       "        <td id=\"T_b1aebb3e_306f_11e9_8657_5cb901ac75b5row3_col1\" class=\"data row3 col1\" >5147</td> \n",
       "        <td id=\"T_b1aebb3e_306f_11e9_8657_5cb901ac75b5row3_col2\" class=\"data row3 col2\" >110</td> \n",
       "        <td id=\"T_b1aebb3e_306f_11e9_8657_5cb901ac75b5row3_col3\" class=\"data row3 col3\" >5069</td> \n",
       "        <td id=\"T_b1aebb3e_306f_11e9_8657_5cb901ac75b5row3_col4\" class=\"data row3 col4\" >5108</td> \n",
       "        <td id=\"T_b1aebb3e_306f_11e9_8657_5cb901ac75b5row3_col5\" class=\"data row3 col5\" >5147</td> \n",
       "        <td id=\"T_b1aebb3e_306f_11e9_8657_5cb901ac75b5row3_col6\" class=\"data row3 col6\" >5186</td> \n",
       "        <td id=\"T_b1aebb3e_306f_11e9_8657_5cb901ac75b5row3_col7\" class=\"data row3 col7\" >5225</td> \n",
       "    </tr></tbody> \n",
       "</table> "
      ],
      "text/plain": [
       "<pandas.io.formats.style.Styler at 0x290d5018198>"
      ]
     },
     "execution_count": 3,
     "metadata": {},
     "output_type": "execute_result"
    }
   ],
   "source": [
    "#Palkan tunnuslukuja koulutuksen määräämissä ryhmissä:\n",
    "df1 = df.groupby('koulutus')['palkka'].describe()\n",
    "\n",
    "#Koulutusten oikeat nimet numeroiden 1, 2, 3, 4 sijasta:\n",
    "df1.index = koulutus\n",
    "\n",
    "#Esitän tulokset ilman desimaaleja:\n",
    "df1.style.format('{:.0f}')"
   ]
  },
  {
   "cell_type": "code",
   "execution_count": 4,
   "metadata": {},
   "outputs": [
    {
     "data": {
      "text/html": [
       "<style  type=\"text/css\" >\n",
       "</style>  \n",
       "<table id=\"T_b1b4abdc_306f_11e9_9317_5cb901ac75b5\" > \n",
       "<thead>    <tr> \n",
       "        <th class=\"blank level0\" ></th> \n",
       "        <th class=\"col_heading level0 col0\" >Peruskoulu</th> \n",
       "        <th class=\"col_heading level0 col1\" >2. aste</th> \n",
       "        <th class=\"col_heading level0 col2\" >Korkeakoulu</th> \n",
       "        <th class=\"col_heading level0 col3\" >Ylempi korkeakoulu</th> \n",
       "    </tr></thead> \n",
       "<tbody>    <tr> \n",
       "        <th id=\"T_b1b4abdc_306f_11e9_9317_5cb901ac75b5level0_row0\" class=\"row_heading level0 row0\" >Mies</th> \n",
       "        <td id=\"T_b1b4abdc_306f_11e9_9317_5cb901ac75b5row0_col0\" class=\"data row0 col0\" >2354</td> \n",
       "        <td id=\"T_b1b4abdc_306f_11e9_9317_5cb901ac75b5row0_col1\" class=\"data row0 col1\" >2461</td> \n",
       "        <td id=\"T_b1b4abdc_306f_11e9_9317_5cb901ac75b5row0_col2\" class=\"data row0 col2\" >3145</td> \n",
       "        <td id=\"T_b1b4abdc_306f_11e9_9317_5cb901ac75b5row0_col3\" class=\"data row0 col3\" >5147</td> \n",
       "    </tr>    <tr> \n",
       "        <th id=\"T_b1b4abdc_306f_11e9_9317_5cb901ac75b5level0_row1\" class=\"row_heading level0 row1\" >Nainen</th> \n",
       "        <td id=\"T_b1b4abdc_306f_11e9_9317_5cb901ac75b5row1_col0\" class=\"data row1 col0\" >2121</td> \n",
       "        <td id=\"T_b1b4abdc_306f_11e9_9317_5cb901ac75b5row1_col1\" class=\"data row1 col1\" >2211</td> \n",
       "        <td id=\"T_b1b4abdc_306f_11e9_9317_5cb901ac75b5row1_col2\" class=\"data row1 col2\" >2334</td> \n",
       "        <td id=\"T_b1b4abdc_306f_11e9_9317_5cb901ac75b5row1_col3\" class=\"data row1 col3\" >nan</td> \n",
       "    </tr></tbody> \n",
       "</table> "
      ],
      "text/plain": [
       "<pandas.io.formats.style.Styler at 0x290d5d81a58>"
      ]
     },
     "execution_count": 4,
     "metadata": {},
     "output_type": "execute_result"
    }
   ],
   "source": [
    "#Palkkakeskiarvoja sukupuolen ja koulutuksen määräämissä ryhmissä.\n",
    "#Unstack siirtää koulutukset sarakkeisiin:\n",
    "df2 = df.groupby(['sukup','koulutus'])['palkka'].mean().unstack()\n",
    "\n",
    "#Sukupuolen ja koulutuksen arvojen nimet numeroiden sijasta:\n",
    "df2.index = sukup\n",
    "df2.columns = koulutus\n",
    "\n",
    "#Esitän tulokset ilman desimaaleja:\n",
    "df2.style.format('{:.0f}')"
   ]
  },
  {
   "cell_type": "code",
   "execution_count": 5,
   "metadata": {},
   "outputs": [
    {
     "data": {
      "text/html": [
       "<style  type=\"text/css\" >\n",
       "</style>  \n",
       "<table id=\"T_b1bbe7e2_306f_11e9_977d_5cb901ac75b5\" > \n",
       "<thead>    <tr> \n",
       "        <th class=\"blank\" ></th> \n",
       "        <th class=\"blank level0\" ></th> \n",
       "        <th class=\"col_heading level0 col0\" >palkka</th> \n",
       "        <th class=\"col_heading level0 col1\" >palkkat</th> \n",
       "    </tr>    <tr> \n",
       "        <th class=\"index_name level0\" >koulutus</th> \n",
       "        <th class=\"index_name level1\" >sukup</th> \n",
       "        <th class=\"blank\" ></th> \n",
       "        <th class=\"blank\" ></th> \n",
       "    </tr></thead> \n",
       "<tbody>    <tr> \n",
       "        <th id=\"T_b1bbe7e2_306f_11e9_977d_5cb901ac75b5level0_row0\" class=\"row_heading level0 row0\" rowspan=2>Peruskoulu</th> \n",
       "        <th id=\"T_b1bbe7e2_306f_11e9_977d_5cb901ac75b5level1_row0\" class=\"row_heading level1 row0\" >Mies</th> \n",
       "        <td id=\"T_b1bbe7e2_306f_11e9_977d_5cb901ac75b5row0_col0\" class=\"data row0 col0\" >2353.55</td> \n",
       "        <td id=\"T_b1bbe7e2_306f_11e9_977d_5cb901ac75b5row0_col1\" class=\"data row0 col1\" >1.59</td> \n",
       "    </tr>    <tr> \n",
       "        <th id=\"T_b1bbe7e2_306f_11e9_977d_5cb901ac75b5level1_row1\" class=\"row_heading level1 row1\" >Nainen</th> \n",
       "        <td id=\"T_b1bbe7e2_306f_11e9_977d_5cb901ac75b5row1_col0\" class=\"data row1 col0\" >2121.00</td> \n",
       "        <td id=\"T_b1bbe7e2_306f_11e9_977d_5cb901ac75b5row1_col1\" class=\"data row1 col1\" >2.80</td> \n",
       "    </tr>    <tr> \n",
       "        <th id=\"T_b1bbe7e2_306f_11e9_977d_5cb901ac75b5level0_row2\" class=\"row_heading level0 row2\" rowspan=2>2. aste</th> \n",
       "        <th id=\"T_b1bbe7e2_306f_11e9_977d_5cb901ac75b5level1_row2\" class=\"row_heading level1 row2\" >Mies</th> \n",
       "        <td id=\"T_b1bbe7e2_306f_11e9_977d_5cb901ac75b5row2_col0\" class=\"data row2 col0\" >2461.43</td> \n",
       "        <td id=\"T_b1bbe7e2_306f_11e9_977d_5cb901ac75b5row2_col1\" class=\"data row2 col1\" >1.78</td> \n",
       "    </tr>    <tr> \n",
       "        <th id=\"T_b1bbe7e2_306f_11e9_977d_5cb901ac75b5level1_row3\" class=\"row_heading level1 row3\" >Nainen</th> \n",
       "        <td id=\"T_b1bbe7e2_306f_11e9_977d_5cb901ac75b5row3_col0\" class=\"data row3 col0\" >2211.43</td> \n",
       "        <td id=\"T_b1bbe7e2_306f_11e9_977d_5cb901ac75b5row3_col1\" class=\"data row3 col1\" >2.86</td> \n",
       "    </tr>    <tr> \n",
       "        <th id=\"T_b1bbe7e2_306f_11e9_977d_5cb901ac75b5level0_row4\" class=\"row_heading level0 row4\" rowspan=2>Korkeakoulu</th> \n",
       "        <th id=\"T_b1bbe7e2_306f_11e9_977d_5cb901ac75b5level1_row4\" class=\"row_heading level1 row4\" >Mies</th> \n",
       "        <td id=\"T_b1bbe7e2_306f_11e9_977d_5cb901ac75b5row4_col0\" class=\"data row4 col0\" >3145.47</td> \n",
       "        <td id=\"T_b1bbe7e2_306f_11e9_977d_5cb901ac75b5row4_col1\" class=\"data row4 col1\" >2.33</td> \n",
       "    </tr>    <tr> \n",
       "        <th id=\"T_b1bbe7e2_306f_11e9_977d_5cb901ac75b5level1_row5\" class=\"row_heading level1 row5\" >Nainen</th> \n",
       "        <td id=\"T_b1bbe7e2_306f_11e9_977d_5cb901ac75b5row5_col0\" class=\"data row5 col0\" >2333.86</td> \n",
       "        <td id=\"T_b1bbe7e2_306f_11e9_977d_5cb901ac75b5row5_col1\" class=\"data row5 col1\" >2.71</td> \n",
       "    </tr>    <tr> \n",
       "        <th id=\"T_b1bbe7e2_306f_11e9_977d_5cb901ac75b5level0_row6\" class=\"row_heading level0 row6\" >Ylempi korkeakoulu</th> \n",
       "        <th id=\"T_b1bbe7e2_306f_11e9_977d_5cb901ac75b5level1_row6\" class=\"row_heading level1 row6\" >Mies</th> \n",
       "        <td id=\"T_b1bbe7e2_306f_11e9_977d_5cb901ac75b5row6_col0\" class=\"data row6 col0\" >5147.00</td> \n",
       "        <td id=\"T_b1bbe7e2_306f_11e9_977d_5cb901ac75b5row6_col1\" class=\"data row6 col1\" >3.00</td> \n",
       "    </tr></tbody> \n",
       "</table> "
      ],
      "text/plain": [
       "<pandas.io.formats.style.Styler at 0x290d5d613c8>"
      ]
     },
     "execution_count": 5,
     "metadata": {},
     "output_type": "execute_result"
    }
   ],
   "source": [
    "#Keskiarvoja koulutuksen ja sukupuolen määräämissä ryhmissä:\n",
    "df3 = df.groupby(['koulutus', 'sukup'])[['palkka','palkkat']].mean()\n",
    "\n",
    "#Hierarkinen indeksi vaatii omat niksinsä tekstiarvojen sijoittamiseen:\n",
    "df3.index = df3.index.set_levels(koulutus, level=0)\n",
    "df3.index = df3.index.set_levels(sukup, level=1)\n",
    "\n",
    "#Esitän tulokset kahdella desimaalilla\n",
    "df3.style.format('{:.2f}')"
   ]
  },
  {
   "cell_type": "code",
   "execution_count": 6,
   "metadata": {},
   "outputs": [
    {
     "data": {
      "text/html": [
       "<style  type=\"text/css\" >\n",
       "</style>  \n",
       "<table id=\"T_b1c4f7c6_306f_11e9_91f7_5cb901ac75b5\" > \n",
       "<thead>    <tr> \n",
       "        <th class=\"blank\" ></th> \n",
       "        <th class=\"blank level0\" ></th> \n",
       "        <th class=\"col_heading level0 col0\" >johto</th> \n",
       "        <th class=\"col_heading level0 col1\" >työtov</th> \n",
       "    </tr>    <tr> \n",
       "        <th class=\"index_name level0\" >sukup</th> \n",
       "        <th class=\"index_name level1\" >koulutus</th> \n",
       "        <th class=\"blank\" ></th> \n",
       "        <th class=\"blank\" ></th> \n",
       "    </tr></thead> \n",
       "<tbody>    <tr> \n",
       "        <th id=\"T_b1c4f7c6_306f_11e9_91f7_5cb901ac75b5level0_row0\" class=\"row_heading level0 row0\" rowspan=4>Mies</th> \n",
       "        <th id=\"T_b1c4f7c6_306f_11e9_91f7_5cb901ac75b5level1_row0\" class=\"row_heading level1 row0\" >Peruskoulu</th> \n",
       "        <td id=\"T_b1c4f7c6_306f_11e9_91f7_5cb901ac75b5row0_col0\" class=\"data row0 col0\" >2.82</td> \n",
       "        <td id=\"T_b1c4f7c6_306f_11e9_91f7_5cb901ac75b5row0_col1\" class=\"data row0 col1\" >4.00</td> \n",
       "    </tr>    <tr> \n",
       "        <th id=\"T_b1c4f7c6_306f_11e9_91f7_5cb901ac75b5level1_row1\" class=\"row_heading level1 row1\" >2. aste</th> \n",
       "        <td id=\"T_b1c4f7c6_306f_11e9_91f7_5cb901ac75b5row1_col0\" class=\"data row1 col0\" >2.61</td> \n",
       "        <td id=\"T_b1c4f7c6_306f_11e9_91f7_5cb901ac75b5row1_col1\" class=\"data row1 col1\" >4.23</td> \n",
       "    </tr>    <tr> \n",
       "        <th id=\"T_b1c4f7c6_306f_11e9_91f7_5cb901ac75b5level1_row2\" class=\"row_heading level1 row2\" >Korkeakoulu</th> \n",
       "        <td id=\"T_b1c4f7c6_306f_11e9_91f7_5cb901ac75b5row2_col0\" class=\"data row2 col0\" >3.13</td> \n",
       "        <td id=\"T_b1c4f7c6_306f_11e9_91f7_5cb901ac75b5row2_col1\" class=\"data row2 col1\" >4.13</td> \n",
       "    </tr>    <tr> \n",
       "        <th id=\"T_b1c4f7c6_306f_11e9_91f7_5cb901ac75b5level1_row3\" class=\"row_heading level1 row3\" >Ylempi korkeakoulu</th> \n",
       "        <td id=\"T_b1c4f7c6_306f_11e9_91f7_5cb901ac75b5row3_col0\" class=\"data row3 col0\" >4.00</td> \n",
       "        <td id=\"T_b1c4f7c6_306f_11e9_91f7_5cb901ac75b5row3_col1\" class=\"data row3 col1\" >4.50</td> \n",
       "    </tr>    <tr> \n",
       "        <th id=\"T_b1c4f7c6_306f_11e9_91f7_5cb901ac75b5level0_row4\" class=\"row_heading level0 row4\" rowspan=3>Nainen</th> \n",
       "        <th id=\"T_b1c4f7c6_306f_11e9_91f7_5cb901ac75b5level1_row4\" class=\"row_heading level1 row4\" >Peruskoulu</th> \n",
       "        <td id=\"T_b1c4f7c6_306f_11e9_91f7_5cb901ac75b5row4_col0\" class=\"data row4 col0\" >3.60</td> \n",
       "        <td id=\"T_b1c4f7c6_306f_11e9_91f7_5cb901ac75b5row4_col1\" class=\"data row4 col1\" >4.20</td> \n",
       "    </tr>    <tr> \n",
       "        <th id=\"T_b1c4f7c6_306f_11e9_91f7_5cb901ac75b5level1_row5\" class=\"row_heading level1 row5\" >2. aste</th> \n",
       "        <td id=\"T_b1c4f7c6_306f_11e9_91f7_5cb901ac75b5row5_col0\" class=\"data row5 col0\" >4.00</td> \n",
       "        <td id=\"T_b1c4f7c6_306f_11e9_91f7_5cb901ac75b5row5_col1\" class=\"data row5 col1\" >4.00</td> \n",
       "    </tr>    <tr> \n",
       "        <th id=\"T_b1c4f7c6_306f_11e9_91f7_5cb901ac75b5level1_row6\" class=\"row_heading level1 row6\" >Korkeakoulu</th> \n",
       "        <td id=\"T_b1c4f7c6_306f_11e9_91f7_5cb901ac75b5row6_col0\" class=\"data row6 col0\" >3.43</td> \n",
       "        <td id=\"T_b1c4f7c6_306f_11e9_91f7_5cb901ac75b5row6_col1\" class=\"data row6 col1\" >3.43</td> \n",
       "    </tr></tbody> \n",
       "</table> "
      ],
      "text/plain": [
       "<pandas.io.formats.style.Styler at 0x290d5d96b70>"
      ]
     },
     "execution_count": 6,
     "metadata": {},
     "output_type": "execute_result"
    }
   ],
   "source": [
    "#Tyytyväisyyskeskiarvoja sukupuolen ja koulutuksen mukaan.\n",
    "#Vertaa toteutusta edellisen solun agg-toteutukseen.\n",
    "df4 = df.groupby(['sukup', 'koulutus'])[['johto','työtov']].mean()\n",
    "\n",
    "df4.index = df4.index.set_levels(sukup, level=0)\n",
    "df4.index = df4.index.set_levels(koulutus, level=1)\n",
    "\n",
    "df4.style.format('{:.2f}')"
   ]
  },
  {
   "cell_type": "code",
   "execution_count": 7,
   "metadata": {},
   "outputs": [
    {
     "data": {
      "text/html": [
       "<style  type=\"text/css\" >\n",
       "</style>  \n",
       "<table id=\"T_b1c90108_306f_11e9_9141_5cb901ac75b5\" > \n",
       "<thead>    <tr> \n",
       "        <th class=\"blank level0\" ></th> \n",
       "        <th class=\"col_heading level0 col0\" >palkka</th> \n",
       "    </tr></thead> \n",
       "<tbody>    <tr> \n",
       "        <th id=\"T_b1c90108_306f_11e9_9141_5cb901ac75b5level0_row0\" class=\"row_heading level0 row0\" >Mies</th> \n",
       "        <td id=\"T_b1c90108_306f_11e9_9141_5cb901ac75b5row0_col0\" class=\"data row0 col0\" >2658</td> \n",
       "    </tr>    <tr> \n",
       "        <th id=\"T_b1c90108_306f_11e9_9141_5cb901ac75b5level0_row1\" class=\"row_heading level0 row1\" >Nainen</th> \n",
       "        <td id=\"T_b1c90108_306f_11e9_9141_5cb901ac75b5row1_col0\" class=\"data row1 col0\" >2318</td> \n",
       "    </tr></tbody> \n",
       "</table> "
      ],
      "text/plain": [
       "<pandas.io.formats.style.Styler at 0x290d5d96d68>"
      ]
     },
     "execution_count": 7,
     "metadata": {},
     "output_type": "execute_result"
    }
   ],
   "source": [
    "#Keskiarvopalkat hierojaa käyttäneille sukupuolittain\n",
    "df5 = df[df['hieroja'] == 1].groupby('sukup')['palkka'].mean()\n",
    "\n",
    "#Sukupuolten oikeat nimet numeroiden sijasta:\n",
    "df5.index = sukup\n",
    "\n",
    "#mean-funktiolla laskettu yksisarakkeinen tulostaulukko ei ole dataframe,\n",
    "#joten muunnan sen dataframeksi:\n",
    "pd.DataFrame(df5).style.format('{:.0f}')"
   ]
  },
  {
   "cell_type": "code",
   "execution_count": 8,
   "metadata": {},
   "outputs": [
    {
     "data": {
      "text/html": [
       "<style  type=\"text/css\" >\n",
       "</style>  \n",
       "<table id=\"T_b1d13a9a_306f_11e9_8275_5cb901ac75b5\" > \n",
       "<thead>    <tr> \n",
       "        <th class=\"blank level0\" ></th> \n",
       "        <th class=\"col_heading level0 col0\" >count</th> \n",
       "        <th class=\"col_heading level0 col1\" >mean</th> \n",
       "        <th class=\"col_heading level0 col2\" >std</th> \n",
       "        <th class=\"col_heading level0 col3\" >min</th> \n",
       "        <th class=\"col_heading level0 col4\" >25%</th> \n",
       "        <th class=\"col_heading level0 col5\" >50%</th> \n",
       "        <th class=\"col_heading level0 col6\" >75%</th> \n",
       "        <th class=\"col_heading level0 col7\" >max</th> \n",
       "    </tr></thead> \n",
       "<tbody>    <tr> \n",
       "        <th id=\"T_b1d13a9a_306f_11e9_8275_5cb901ac75b5level0_row0\" class=\"row_heading level0 row0\" >Mies</th> \n",
       "        <td id=\"T_b1d13a9a_306f_11e9_8275_5cb901ac75b5row0_col0\" class=\"data row0 col0\" >12</td> \n",
       "        <td id=\"T_b1d13a9a_306f_11e9_8275_5cb901ac75b5row0_col1\" class=\"data row0 col1\" >2642</td> \n",
       "        <td id=\"T_b1d13a9a_306f_11e9_8275_5cb901ac75b5row0_col2\" class=\"data row0 col2\" >905</td> \n",
       "        <td id=\"T_b1d13a9a_306f_11e9_8275_5cb901ac75b5row0_col3\" class=\"data row0 col3\" >1521</td> \n",
       "        <td id=\"T_b1d13a9a_306f_11e9_8275_5cb901ac75b5row0_col4\" class=\"data row0 col4\" >2134</td> \n",
       "        <td id=\"T_b1d13a9a_306f_11e9_8275_5cb901ac75b5row0_col5\" class=\"data row0 col5\" >2457</td> \n",
       "        <td id=\"T_b1d13a9a_306f_11e9_8275_5cb901ac75b5row0_col6\" class=\"data row0 col6\" >2974</td> \n",
       "        <td id=\"T_b1d13a9a_306f_11e9_8275_5cb901ac75b5row0_col7\" class=\"data row0 col7\" >5069</td> \n",
       "    </tr>    <tr> \n",
       "        <th id=\"T_b1d13a9a_306f_11e9_8275_5cb901ac75b5level0_row1\" class=\"row_heading level0 row1\" >Nainen</th> \n",
       "        <td id=\"T_b1d13a9a_306f_11e9_8275_5cb901ac75b5row1_col0\" class=\"data row1 col0\" >7</td> \n",
       "        <td id=\"T_b1d13a9a_306f_11e9_8275_5cb901ac75b5row1_col1\" class=\"data row1 col1\" >2245</td> \n",
       "        <td id=\"T_b1d13a9a_306f_11e9_8275_5cb901ac75b5row1_col2\" class=\"data row1 col2\" >382</td> \n",
       "        <td id=\"T_b1d13a9a_306f_11e9_8275_5cb901ac75b5row1_col3\" class=\"data row1 col3\" >1715</td> \n",
       "        <td id=\"T_b1d13a9a_306f_11e9_8275_5cb901ac75b5row1_col4\" class=\"data row1 col4\" >1969</td> \n",
       "        <td id=\"T_b1d13a9a_306f_11e9_8275_5cb901ac75b5row1_col5\" class=\"data row1 col5\" >2223</td> \n",
       "        <td id=\"T_b1d13a9a_306f_11e9_8275_5cb901ac75b5row1_col6\" class=\"data row1 col6\" >2574</td> \n",
       "        <td id=\"T_b1d13a9a_306f_11e9_8275_5cb901ac75b5row1_col7\" class=\"data row1 col7\" >2691</td> \n",
       "    </tr></tbody> \n",
       "</table> "
      ],
      "text/plain": [
       "<pandas.io.formats.style.Styler at 0x290d2d8fc88>"
      ]
     },
     "execution_count": 8,
     "metadata": {},
     "output_type": "execute_result"
    }
   ],
   "source": [
    "#Palkan tunnuslukuja sukupuolittain hierojaa ja työterveyshuoltoa käyttäneillä\n",
    "df6 = df[(df['hieroja'] == 1) & (df['työterv'] == 1)].groupby('sukup')['palkka'].describe()\n",
    "\n",
    "df6.index = sukup\n",
    "\n",
    "df6.style.format('{:.0f}')"
   ]
  }
 ],
 "metadata": {
  "kernelspec": {
   "display_name": "Python 3",
   "language": "python",
   "name": "python3"
  },
  "language_info": {
   "codemirror_mode": {
    "name": "ipython",
    "version": 3
   },
   "file_extension": ".py",
   "mimetype": "text/x-python",
   "name": "python",
   "nbconvert_exporter": "python",
   "pygments_lexer": "ipython3",
   "version": "3.7.0"
  }
 },
 "nbformat": 4,
 "nbformat_minor": 2
}
