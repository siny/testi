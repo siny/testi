{
 "cells": [
  {
   "cell_type": "markdown",
   "metadata": {},
   "source": [
    "<h2>Dummy-muuttujien yhteenveto</h2>\n",
    "\n",
    "Dummy-muuttujaksi (binäärinen, dikotominen) kutsutaan muuttujaa, joka saa arvokseen joko 0 (joskus tämän sijasta käytetään tyhjää solua) tai 1. \n",
    "\n",
    "Esimerkiksi kyselytutkimuksessa monivalintakysymys, jonka vaihtoehdoista vastaaja saa valita useammankin kuin yhden, koodataan dummy-muuttujiksi: Jokainen kysymyksen vaihtoehto on muuttuja, joka saa arvokseen 1, jos vastaaja on sen valinnut. Muussa tapauksessa arvo on 0 tai tyhjä."
   ]
  },
  {
   "cell_type": "code",
   "execution_count": 1,
   "metadata": {},
   "outputs": [],
   "source": [
    "import pandas as pd\n",
    "import matplotlib.pyplot as plt\n",
    "%matplotlib inline\n",
    "\n",
    "# Tyyli vaikuttaa kaavioiden ulkoasuun\n",
    "# Käytettävissä olevat tyylit voit listata komennolla plt.style.available\n",
    "plt.style.use('fivethirtyeight')"
   ]
  },
  {
   "cell_type": "code",
   "execution_count": 2,
   "metadata": {},
   "outputs": [
    {
     "data": {
      "text/html": [
       "<div>\n",
       "<style scoped>\n",
       "    .dataframe tbody tr th:only-of-type {\n",
       "        vertical-align: middle;\n",
       "    }\n",
       "\n",
       "    .dataframe tbody tr th {\n",
       "        vertical-align: top;\n",
       "    }\n",
       "\n",
       "    .dataframe thead th {\n",
       "        text-align: right;\n",
       "    }\n",
       "</style>\n",
       "<table border=\"1\" class=\"dataframe\">\n",
       "  <thead>\n",
       "    <tr style=\"text-align: right;\">\n",
       "      <th></th>\n",
       "      <th>nro</th>\n",
       "      <th>sukup</th>\n",
       "      <th>ikä</th>\n",
       "      <th>perhe</th>\n",
       "      <th>koulutus</th>\n",
       "      <th>palveluv</th>\n",
       "      <th>palkka</th>\n",
       "      <th>johto</th>\n",
       "      <th>työtov</th>\n",
       "      <th>työymp</th>\n",
       "      <th>palkkat</th>\n",
       "      <th>työteht</th>\n",
       "      <th>työterv</th>\n",
       "      <th>lomaosa</th>\n",
       "      <th>kuntosa</th>\n",
       "      <th>hieroja</th>\n",
       "    </tr>\n",
       "  </thead>\n",
       "  <tbody>\n",
       "    <tr>\n",
       "      <th>0</th>\n",
       "      <td>1</td>\n",
       "      <td>1</td>\n",
       "      <td>38</td>\n",
       "      <td>1</td>\n",
       "      <td>1.0</td>\n",
       "      <td>22.0</td>\n",
       "      <td>3587</td>\n",
       "      <td>3</td>\n",
       "      <td>3.0</td>\n",
       "      <td>3</td>\n",
       "      <td>3</td>\n",
       "      <td>3</td>\n",
       "      <td>NaN</td>\n",
       "      <td>NaN</td>\n",
       "      <td>NaN</td>\n",
       "      <td>NaN</td>\n",
       "    </tr>\n",
       "    <tr>\n",
       "      <th>1</th>\n",
       "      <td>2</td>\n",
       "      <td>1</td>\n",
       "      <td>29</td>\n",
       "      <td>2</td>\n",
       "      <td>2.0</td>\n",
       "      <td>10.0</td>\n",
       "      <td>2963</td>\n",
       "      <td>1</td>\n",
       "      <td>5.0</td>\n",
       "      <td>2</td>\n",
       "      <td>1</td>\n",
       "      <td>3</td>\n",
       "      <td>NaN</td>\n",
       "      <td>NaN</td>\n",
       "      <td>NaN</td>\n",
       "      <td>NaN</td>\n",
       "    </tr>\n",
       "    <tr>\n",
       "      <th>2</th>\n",
       "      <td>3</td>\n",
       "      <td>1</td>\n",
       "      <td>30</td>\n",
       "      <td>1</td>\n",
       "      <td>1.0</td>\n",
       "      <td>7.0</td>\n",
       "      <td>1989</td>\n",
       "      <td>3</td>\n",
       "      <td>4.0</td>\n",
       "      <td>1</td>\n",
       "      <td>1</td>\n",
       "      <td>3</td>\n",
       "      <td>1.0</td>\n",
       "      <td>NaN</td>\n",
       "      <td>NaN</td>\n",
       "      <td>NaN</td>\n",
       "    </tr>\n",
       "    <tr>\n",
       "      <th>3</th>\n",
       "      <td>4</td>\n",
       "      <td>1</td>\n",
       "      <td>36</td>\n",
       "      <td>2</td>\n",
       "      <td>1.0</td>\n",
       "      <td>14.0</td>\n",
       "      <td>2144</td>\n",
       "      <td>3</td>\n",
       "      <td>3.0</td>\n",
       "      <td>3</td>\n",
       "      <td>3</td>\n",
       "      <td>3</td>\n",
       "      <td>1.0</td>\n",
       "      <td>NaN</td>\n",
       "      <td>NaN</td>\n",
       "      <td>NaN</td>\n",
       "    </tr>\n",
       "    <tr>\n",
       "      <th>4</th>\n",
       "      <td>5</td>\n",
       "      <td>1</td>\n",
       "      <td>24</td>\n",
       "      <td>1</td>\n",
       "      <td>2.0</td>\n",
       "      <td>4.0</td>\n",
       "      <td>2183</td>\n",
       "      <td>2</td>\n",
       "      <td>3.0</td>\n",
       "      <td>2</td>\n",
       "      <td>1</td>\n",
       "      <td>2</td>\n",
       "      <td>1.0</td>\n",
       "      <td>NaN</td>\n",
       "      <td>NaN</td>\n",
       "      <td>NaN</td>\n",
       "    </tr>\n",
       "  </tbody>\n",
       "</table>\n",
       "</div>"
      ],
      "text/plain": [
       "   nro  sukup  ikä  perhe  koulutus  palveluv  palkka  johto  työtov  työymp  \\\n",
       "0    1      1   38      1       1.0      22.0    3587      3     3.0       3   \n",
       "1    2      1   29      2       2.0      10.0    2963      1     5.0       2   \n",
       "2    3      1   30      1       1.0       7.0    1989      3     4.0       1   \n",
       "3    4      1   36      2       1.0      14.0    2144      3     3.0       3   \n",
       "4    5      1   24      1       2.0       4.0    2183      2     3.0       2   \n",
       "\n",
       "   palkkat  työteht  työterv  lomaosa  kuntosa  hieroja  \n",
       "0        3        3      NaN      NaN      NaN      NaN  \n",
       "1        1        3      NaN      NaN      NaN      NaN  \n",
       "2        1        3      1.0      NaN      NaN      NaN  \n",
       "3        3        3      1.0      NaN      NaN      NaN  \n",
       "4        1        2      1.0      NaN      NaN      NaN  "
      ]
     },
     "execution_count": 2,
     "metadata": {},
     "output_type": "execute_result"
    }
   ],
   "source": [
    "# Datan avaaminen\n",
    "df = pd.read_excel('http://taanila.fi/data1.xlsx')\n",
    "df.head()"
   ]
  },
  {
   "cell_type": "code",
   "execution_count": 3,
   "metadata": {},
   "outputs": [],
   "source": [
    "# Yhteenvetoon otettavien muuttujien nimet\n",
    "monivalinta = ['työterv', 'lomaosa', 'kuntosa', 'hieroja']"
   ]
  },
  {
   "cell_type": "code",
   "execution_count": 4,
   "metadata": {},
   "outputs": [
    {
     "data": {
      "text/html": [
       "<style  type=\"text/css\" >\n",
       "</style><table id=\"T_dffa2030_dea8_11e9_870b_5cb901ac75b5\" ><thead>    <tr>        <th class=\"blank level0\" ></th>        <th class=\"col_heading level0 col0\" >lkm</th>        <th class=\"col_heading level0 col1\" >% vastaajista</th>    </tr></thead><tbody>\n",
       "                <tr>\n",
       "                        <th id=\"T_dffa2030_dea8_11e9_870b_5cb901ac75b5level0_row0\" class=\"row_heading level0 row0\" >Työterveyshuolto</th>\n",
       "                        <td id=\"T_dffa2030_dea8_11e9_870b_5cb901ac75b5row0_col0\" class=\"data row0 col0\" >47</td>\n",
       "                        <td id=\"T_dffa2030_dea8_11e9_870b_5cb901ac75b5row0_col1\" class=\"data row0 col1\" >57.3 %</td>\n",
       "            </tr>\n",
       "            <tr>\n",
       "                        <th id=\"T_dffa2030_dea8_11e9_870b_5cb901ac75b5level0_row1\" class=\"row_heading level0 row1\" >Lomaosake</th>\n",
       "                        <td id=\"T_dffa2030_dea8_11e9_870b_5cb901ac75b5row1_col0\" class=\"data row1 col0\" >22</td>\n",
       "                        <td id=\"T_dffa2030_dea8_11e9_870b_5cb901ac75b5row1_col1\" class=\"data row1 col1\" >26.8 %</td>\n",
       "            </tr>\n",
       "            <tr>\n",
       "                        <th id=\"T_dffa2030_dea8_11e9_870b_5cb901ac75b5level0_row2\" class=\"row_heading level0 row2\" >Kuntosali</th>\n",
       "                        <td id=\"T_dffa2030_dea8_11e9_870b_5cb901ac75b5row2_col0\" class=\"data row2 col0\" >20</td>\n",
       "                        <td id=\"T_dffa2030_dea8_11e9_870b_5cb901ac75b5row2_col1\" class=\"data row2 col1\" >24.4 %</td>\n",
       "            </tr>\n",
       "            <tr>\n",
       "                        <th id=\"T_dffa2030_dea8_11e9_870b_5cb901ac75b5level0_row3\" class=\"row_heading level0 row3\" >Hieroja</th>\n",
       "                        <td id=\"T_dffa2030_dea8_11e9_870b_5cb901ac75b5row3_col0\" class=\"data row3 col0\" >9</td>\n",
       "                        <td id=\"T_dffa2030_dea8_11e9_870b_5cb901ac75b5row3_col1\" class=\"data row3 col1\" >11.0 %</td>\n",
       "            </tr>\n",
       "    </tbody></table>"
      ],
      "text/plain": [
       "<pandas.io.formats.style.Styler at 0x22644cbe0f0>"
      ]
     },
     "execution_count": 4,
     "metadata": {},
     "output_type": "execute_result"
    }
   ],
   "source": [
    "# Valintojen lukumäärät count-funktiolla\n",
    "df1 = df[monivalinta].count().to_frame('lkm').sort_values(by = 'lkm', ascending = False)\n",
    "\n",
    "#shape[0] antaa datan rivien lukumäärän eli vastaajien lukumäärän\n",
    "n = df.shape[0]\n",
    "\n",
    "# Prosentit\n",
    "df1['% vastaajista'] = df1['lkm'] / n *100\n",
    "\n",
    "df1.index = ['Työterveyshuolto', 'Lomaosake', 'Kuntosali', 'Hieroja']\n",
    "\n",
    "# Prosenttilukujen ulkoasun viimeistely\n",
    "df1.style.format({'% vastaajista':'{:.1f} %'})"
   ]
  },
  {
   "cell_type": "code",
   "execution_count": 5,
   "metadata": {},
   "outputs": [
    {
     "data": {
      "text/plain": [
       "[Text(0, 0, '0 %'),\n",
       " Text(0, 0, '10 %'),\n",
       " Text(0, 0, '20 %'),\n",
       " Text(0, 0, '30 %'),\n",
       " Text(0, 0, '40 %'),\n",
       " Text(0, 0, '50 %'),\n",
       " Text(0, 0, '60 %'),\n",
       " Text(0, 0, '70 %')]"
      ]
     },
     "execution_count": 5,
     "metadata": {},
     "output_type": "execute_result"
    },
    {
     "data": {
      "image/png": "[encoded data removed]",
      "text/plain": [
       "<Figure size 432x288 with 1 Axes>"
      ]
     },
     "metadata": {
      "needs_background": "light"
     },
     "output_type": "display_data"
    }
   ],
   "source": [
    "# Vaakapylväskaavio\n",
    "ax1 = df1['% vastaajista'].plot.barh()\n",
    "\n",
    "# x-akselin otsikko\n",
    "ax1.set_xlabel('% vastaajista, n=' + str(n))\n",
    "\n",
    "# x-akselin prosenttilukujen ulkoasun viimeistely\n",
    "ax1.set_xticklabels(['{:.0f} %'.format(x) for x in ax1.get_xticks()])"
   ]
  },
  {
   "cell_type": "code",
   "execution_count": 6,
   "metadata": {},
   "outputs": [
    {
     "data": {
      "text/html": [
       "<style  type=\"text/css\" >\n",
       "</style><table id=\"T_e01bb4c6_dea8_11e9_83e6_5cb901ac75b5\" ><thead>    <tr>        <th class=\"blank level0\" ></th>        <th class=\"col_heading level0 col0\" >työterv</th>        <th class=\"col_heading level0 col1\" >lomaosa</th>        <th class=\"col_heading level0 col2\" >kuntosa</th>        <th class=\"col_heading level0 col3\" >hieroja</th>    </tr></thead><tbody>\n",
       "                <tr>\n",
       "                        <th id=\"T_e01bb4c6_dea8_11e9_83e6_5cb901ac75b5level0_row0\" class=\"row_heading level0 row0\" >Mies, n=63</th>\n",
       "                        <td id=\"T_e01bb4c6_dea8_11e9_83e6_5cb901ac75b5row0_col0\" class=\"data row0 col0\" >55.6 %</td>\n",
       "                        <td id=\"T_e01bb4c6_dea8_11e9_83e6_5cb901ac75b5row0_col1\" class=\"data row0 col1\" >25.4 %</td>\n",
       "                        <td id=\"T_e01bb4c6_dea8_11e9_83e6_5cb901ac75b5row0_col2\" class=\"data row0 col2\" >12.7 %</td>\n",
       "                        <td id=\"T_e01bb4c6_dea8_11e9_83e6_5cb901ac75b5row0_col3\" class=\"data row0 col3\" >20.6 %</td>\n",
       "            </tr>\n",
       "            <tr>\n",
       "                        <th id=\"T_e01bb4c6_dea8_11e9_83e6_5cb901ac75b5level0_row1\" class=\"row_heading level0 row1\" >Nainen, n=19</th>\n",
       "                        <td id=\"T_e01bb4c6_dea8_11e9_83e6_5cb901ac75b5row1_col0\" class=\"data row1 col0\" >63.2 %</td>\n",
       "                        <td id=\"T_e01bb4c6_dea8_11e9_83e6_5cb901ac75b5row1_col1\" class=\"data row1 col1\" >21.1 %</td>\n",
       "                        <td id=\"T_e01bb4c6_dea8_11e9_83e6_5cb901ac75b5row1_col2\" class=\"data row1 col2\" >5.3 %</td>\n",
       "                        <td id=\"T_e01bb4c6_dea8_11e9_83e6_5cb901ac75b5row1_col3\" class=\"data row1 col3\" >47.4 %</td>\n",
       "            </tr>\n",
       "    </tbody></table>"
      ],
      "text/plain": [
       "<pandas.io.formats.style.Styler at 0x22644c940f0>"
      ]
     },
     "execution_count": 6,
     "metadata": {},
     "output_type": "execute_result"
    }
   ],
   "source": [
    "# Valintojen lukumäärät sukupuolen mukaan\n",
    "df2 = df.groupby('sukup')[monivalinta].count()\n",
    "\n",
    "# Miesten ja naisten lukumäärät\n",
    "miehet = df['sukup'][df['sukup']==1].count()\n",
    "naiset = df['sukup'][df['sukup']==2].count()\n",
    "\n",
    "# Prosenttien laskenta (iloc[0] viittaa taulukon ensimmäiseen riviin ja iloc[1] toiseen riviin)\n",
    "df2.iloc[0] = df2.iloc[0] / miehet *100\n",
    "df2.iloc[1] = df2.iloc[1] / naiset *100\n",
    "\n",
    "\n",
    "# Riviotsikoiden viimeistely\n",
    "df2.index = ['Mies, n=' + str(miehet) , 'Nainen, n=' + str(naiset)]\n",
    "\n",
    "# Prosenttilukujen ulkoasun viimeistely\n",
    "df2.style.format('{:.1f} %')"
   ]
  },
  {
   "cell_type": "code",
   "execution_count": 7,
   "metadata": {},
   "outputs": [
    {
     "data": {
      "text/plain": [
       "[Text(0, 0, '0 %'),\n",
       " Text(0, 0, '10 %'),\n",
       " Text(0, 0, '20 %'),\n",
       " Text(0, 0, '30 %'),\n",
       " Text(0, 0, '40 %'),\n",
       " Text(0, 0, '50 %'),\n",
       " Text(0, 0, '60 %'),\n",
       " Text(0, 0, '70 %')]"
      ]
     },
     "execution_count": 7,
     "metadata": {},
     "output_type": "execute_result"
    },
    {
     "data": {
      "image/png": "[encoded data removed]",
      "text/plain": [
       "<Figure size 432x288 with 1 Axes>"
      ]
     },
     "metadata": {
      "needs_background": "light"
     },
     "output_type": "display_data"
    }
   ],
   "source": [
    "# Vaakapylväskaavio (legend='reverse' kääntää selitteen järjestyksen) \n",
    "ax2 = df2.plot.barh(legend='reverse')\n",
    "\n",
    "# x-akselin otsikko\n",
    "ax2.set_xlabel('% sukupuolesta')\n",
    "\n",
    "# x-akselin prosenttilukujen ulkoasun viimeistely\n",
    "ax2.set_xticklabels(['{:.0f} %'.format(x) for x in ax1.get_xticks()])"
   ]
  }
 ],
 "metadata": {
  "kernelspec": {
   "display_name": "Python 3",
   "language": "python",
   "name": "python3"
  },
  "language_info": {
   "codemirror_mode": {
    "name": "ipython",
    "version": 3
   },
   "file_extension": ".py",
   "mimetype": "text/x-python",
   "name": "python",
   "nbconvert_exporter": "python",
   "pygments_lexer": "ipython3",
   "version": "3.7.3"
  }
 },
 "nbformat": 4,
 "nbformat_minor": 2
}
