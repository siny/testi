{
 "cells": [
  {
   "cell_type": "markdown",
   "metadata": {},
   "source": [
    "<h2>Python esimerkkejä</h2>"
   ]
  },
  {
   "cell_type": "code",
   "execution_count": 1,
   "metadata": {
    "collapsed": true
   },
   "outputs": [],
   "source": [
    "#pandas on data-analytiikan peruskirjasto\n",
    "import pandas as pd\n",
    "\n",
    "#matplotlib.pyplot on tarpeen kaavioiden teossa\n",
    "import matplotlib.pyplot as plt\n",
    "\n",
    "#tämän ansiosta kaaviot tulostuvat näkyviin ilman tulostuskomentoa\n",
    "%matplotlib inline"
   ]
  },
  {
   "cell_type": "code",
   "execution_count": 2,
   "metadata": {},
   "outputs": [
    {
     "data": {
      "text/html": [
       "<div>\n",
       "<style>\n",
       "    .dataframe thead tr:only-child th {\n",
       "        text-align: right;\n",
       "    }\n",
       "\n",
       "    .dataframe thead th {\n",
       "        text-align: left;\n",
       "    }\n",
       "\n",
       "    .dataframe tbody tr th {\n",
       "        vertical-align: top;\n",
       "    }\n",
       "</style>\n",
       "<table border=\"1\" class=\"dataframe\">\n",
       "  <thead>\n",
       "    <tr style=\"text-align: right;\">\n",
       "      <th></th>\n",
       "      <th>nro</th>\n",
       "      <th>1 syötkö</th>\n",
       "      <th>2 euroa</th>\n",
       "      <th>3 asiakas</th>\n",
       "      <th>4 hinta</th>\n",
       "      <th>5 radio</th>\n",
       "      <th>6 radio-ohjelma</th>\n",
       "      <th>7 uutiset</th>\n",
       "      <th>8 uutisaika</th>\n",
       "      <th>9 sanomalehti</th>\n",
       "      <th>...</th>\n",
       "      <th>19 koristeellinen</th>\n",
       "      <th>20 jousi</th>\n",
       "      <th>21 jazz</th>\n",
       "      <th>22 syntymä</th>\n",
       "      <th>23 koulutus</th>\n",
       "      <th>24 kotitalous</th>\n",
       "      <th>25 koko</th>\n",
       "      <th>26 asuinalue</th>\n",
       "      <th>27 tulot</th>\n",
       "      <th>28 sukupuoli</th>\n",
       "    </tr>\n",
       "  </thead>\n",
       "  <tbody>\n",
       "    <tr>\n",
       "      <th>0</th>\n",
       "      <td>1</td>\n",
       "      <td>1</td>\n",
       "      <td>245</td>\n",
       "      <td>3</td>\n",
       "      <td>20.0</td>\n",
       "      <td>1</td>\n",
       "      <td>1.0</td>\n",
       "      <td>1</td>\n",
       "      <td>4.0</td>\n",
       "      <td>1</td>\n",
       "      <td>...</td>\n",
       "      <td>5</td>\n",
       "      <td>5</td>\n",
       "      <td>3</td>\n",
       "      <td>1968</td>\n",
       "      <td>5</td>\n",
       "      <td>2</td>\n",
       "      <td>2</td>\n",
       "      <td>2</td>\n",
       "      <td>7</td>\n",
       "      <td>2</td>\n",
       "    </tr>\n",
       "    <tr>\n",
       "      <th>1</th>\n",
       "      <td>2</td>\n",
       "      <td>1</td>\n",
       "      <td>110</td>\n",
       "      <td>3</td>\n",
       "      <td>11.0</td>\n",
       "      <td>1</td>\n",
       "      <td>3.0</td>\n",
       "      <td>1</td>\n",
       "      <td>4.0</td>\n",
       "      <td>1</td>\n",
       "      <td>...</td>\n",
       "      <td>1</td>\n",
       "      <td>2</td>\n",
       "      <td>4</td>\n",
       "      <td>1986</td>\n",
       "      <td>5</td>\n",
       "      <td>1</td>\n",
       "      <td>1</td>\n",
       "      <td>3</td>\n",
       "      <td>4</td>\n",
       "      <td>2</td>\n",
       "    </tr>\n",
       "    <tr>\n",
       "      <th>2</th>\n",
       "      <td>3</td>\n",
       "      <td>1</td>\n",
       "      <td>300</td>\n",
       "      <td>4</td>\n",
       "      <td>25.0</td>\n",
       "      <td>1</td>\n",
       "      <td>4.0</td>\n",
       "      <td>1</td>\n",
       "      <td>4.0</td>\n",
       "      <td>1</td>\n",
       "      <td>...</td>\n",
       "      <td>4</td>\n",
       "      <td>5</td>\n",
       "      <td>3</td>\n",
       "      <td>1978</td>\n",
       "      <td>6</td>\n",
       "      <td>2</td>\n",
       "      <td>2</td>\n",
       "      <td>2</td>\n",
       "      <td>7</td>\n",
       "      <td>2</td>\n",
       "    </tr>\n",
       "    <tr>\n",
       "      <th>3</th>\n",
       "      <td>4</td>\n",
       "      <td>1</td>\n",
       "      <td>135</td>\n",
       "      <td>3</td>\n",
       "      <td>15.0</td>\n",
       "      <td>1</td>\n",
       "      <td>3.0</td>\n",
       "      <td>1</td>\n",
       "      <td>4.0</td>\n",
       "      <td>1</td>\n",
       "      <td>...</td>\n",
       "      <td>2</td>\n",
       "      <td>1</td>\n",
       "      <td>4</td>\n",
       "      <td>1984</td>\n",
       "      <td>5</td>\n",
       "      <td>2</td>\n",
       "      <td>2</td>\n",
       "      <td>3</td>\n",
       "      <td>3</td>\n",
       "      <td>2</td>\n",
       "    </tr>\n",
       "    <tr>\n",
       "      <th>4</th>\n",
       "      <td>5</td>\n",
       "      <td>1</td>\n",
       "      <td>160</td>\n",
       "      <td>4</td>\n",
       "      <td>17.0</td>\n",
       "      <td>1</td>\n",
       "      <td>4.0</td>\n",
       "      <td>1</td>\n",
       "      <td>1.0</td>\n",
       "      <td>1</td>\n",
       "      <td>...</td>\n",
       "      <td>1</td>\n",
       "      <td>2</td>\n",
       "      <td>5</td>\n",
       "      <td>1981</td>\n",
       "      <td>5</td>\n",
       "      <td>2</td>\n",
       "      <td>2</td>\n",
       "      <td>3</td>\n",
       "      <td>4</td>\n",
       "      <td>1</td>\n",
       "    </tr>\n",
       "  </tbody>\n",
       "</table>\n",
       "<p>5 rows × 29 columns</p>\n",
       "</div>"
      ],
      "text/plain": [
       "   nro  1 syötkö  2 euroa  3 asiakas  4 hinta  5 radio  6 radio-ohjelma  \\\n",
       "0    1         1      245          3     20.0        1              1.0   \n",
       "1    2         1      110          3     11.0        1              3.0   \n",
       "2    3         1      300          4     25.0        1              4.0   \n",
       "3    4         1      135          3     15.0        1              3.0   \n",
       "4    5         1      160          4     17.0        1              4.0   \n",
       "\n",
       "   7 uutiset  8 uutisaika  9 sanomalehti      ...       19 koristeellinen  \\\n",
       "0          1          4.0              1      ...                       5   \n",
       "1          1          4.0              1      ...                       1   \n",
       "2          1          4.0              1      ...                       4   \n",
       "3          1          4.0              1      ...                       2   \n",
       "4          1          1.0              1      ...                       1   \n",
       "\n",
       "   20 jousi  21 jazz  22 syntymä  23 koulutus  24 kotitalous  25 koko  \\\n",
       "0         5        3        1968            5              2        2   \n",
       "1         2        4        1986            5              1        1   \n",
       "2         5        3        1978            6              2        2   \n",
       "3         1        4        1984            5              2        2   \n",
       "4         2        5        1981            5              2        2   \n",
       "\n",
       "   26 asuinalue  27 tulot  28 sukupuoli  \n",
       "0             2         7             2  \n",
       "1             3         4             2  \n",
       "2             2         7             2  \n",
       "3             3         3             2  \n",
       "4             3         4             1  \n",
       "\n",
       "[5 rows x 29 columns]"
      ]
     },
     "execution_count": 2,
     "metadata": {},
     "output_type": "execute_result"
    }
   ],
   "source": [
    "#excel-datan avaaminen df-nimiseen dataframeen\n",
    "df = pd.read_excel('http://taanila.fi/t1aineisto.xlsx')\n",
    "\n",
    "#datan 5 ensimmäistä riviä\n",
    "df.head()"
   ]
  },
  {
   "cell_type": "code",
   "execution_count": 3,
   "metadata": {},
   "outputs": [
    {
     "data": {
      "text/plain": [
       "nro                  400\n",
       "1 syötkö             400\n",
       "2 euroa              400\n",
       "3 asiakas            400\n",
       "4 hinta              340\n",
       "5 radio              400\n",
       "6 radio-ohjelma      385\n",
       "7 uutiset            400\n",
       "8 uutisaika          356\n",
       "9 sanomalehti        400\n",
       "10 lehden osasto     379\n",
       "11 metro             400\n",
       "12 järvi             400\n",
       "13 ajomatka          400\n",
       "14 pukeutuminen      400\n",
       "15 jälkiruoka        400\n",
       "16 pääruoka          400\n",
       "17 erikoisuus        400\n",
       "18 yksinkertainen    400\n",
       "19 koristeellinen    400\n",
       "20 jousi             400\n",
       "21 jazz              400\n",
       "22 syntymä           400\n",
       "23 koulutus          400\n",
       "24 kotitalous        400\n",
       "25 koko              400\n",
       "26 asuinalue         400\n",
       "27 tulot             400\n",
       "28 sukupuoli         400\n",
       "dtype: int64"
      ]
     },
     "execution_count": 3,
     "metadata": {},
     "output_type": "execute_result"
    }
   ],
   "source": [
    "#muuttujien nimet ja vastausten lukumäärät\n",
    "df.count()"
   ]
  },
  {
   "cell_type": "code",
   "execution_count": 4,
   "metadata": {
    "collapsed": true
   },
   "outputs": [],
   "source": [
    "#Luodaan uusi muuttuja, jossa vastaajat luokiteltu ei-potentiaalisiin,\n",
    "#epävarmoihin ja potentiaalisiin\n",
    "#Dictionary eli sanakirja aaltosulkeiden sisään\n",
    "df['vastaaja'] = df['3 asiakas'].replace({1:'Ei-pot.', 2:'Ei-pot.',\n",
    "                                         3:'Epävarma', 4:'Pot.', 5:'Pot.'})"
   ]
  },
  {
   "cell_type": "code",
   "execution_count": 5,
   "metadata": {
    "collapsed": true
   },
   "outputs": [],
   "source": [
    "#Lista hakasulkeiden sisään\n",
    "mielipiteet = ['Täysin eri mieltä', 'Jokseenkin eri mieltä',\n",
    "              'Ei samaa eikä eri mieltä', 'Jokseenkin samaa mieltä', 'Täysin samaa mieltä']"
   ]
  },
  {
   "cell_type": "code",
   "execution_count": 6,
   "metadata": {},
   "outputs": [
    {
     "data": {
      "text/html": [
       "<style  type=\"text/css\" >\n",
       "</style>  \n",
       "<table id=\"T_441feff6_5777_11e9_ac7b_8cdcd42d783e\" > \n",
       "<thead>    <tr> \n",
       "        <th class=\"index_name level0\" ></th> \n",
       "        <th class=\"col_heading level0 col0\" >lkm</th> \n",
       "        <th class=\"col_heading level0 col1\" >%</th> \n",
       "    </tr>    <tr> \n",
       "        <th class=\"index_name level0\" >vastaaja</th> \n",
       "        <th class=\"blank\" ></th> \n",
       "        <th class=\"blank\" ></th> \n",
       "    </tr></thead> \n",
       "<tbody>    <tr> \n",
       "        <th id=\"T_441feff6_5777_11e9_ac7b_8cdcd42d783elevel0_row0\" class=\"row_heading level0 row0\" >Ei-pot.</th> \n",
       "        <td id=\"T_441feff6_5777_11e9_ac7b_8cdcd42d783erow0_col0\" class=\"data row0 col0\" >129</td> \n",
       "        <td id=\"T_441feff6_5777_11e9_ac7b_8cdcd42d783erow0_col1\" class=\"data row0 col1\" >32.2 %</td> \n",
       "    </tr>    <tr> \n",
       "        <th id=\"T_441feff6_5777_11e9_ac7b_8cdcd42d783elevel0_row1\" class=\"row_heading level0 row1\" >Epävarma</th> \n",
       "        <td id=\"T_441feff6_5777_11e9_ac7b_8cdcd42d783erow1_col0\" class=\"data row1 col0\" >161</td> \n",
       "        <td id=\"T_441feff6_5777_11e9_ac7b_8cdcd42d783erow1_col1\" class=\"data row1 col1\" >40.2 %</td> \n",
       "    </tr>    <tr> \n",
       "        <th id=\"T_441feff6_5777_11e9_ac7b_8cdcd42d783elevel0_row2\" class=\"row_heading level0 row2\" >Pot.</th> \n",
       "        <td id=\"T_441feff6_5777_11e9_ac7b_8cdcd42d783erow2_col0\" class=\"data row2 col0\" >110</td> \n",
       "        <td id=\"T_441feff6_5777_11e9_ac7b_8cdcd42d783erow2_col1\" class=\"data row2 col1\" >27.5 %</td> \n",
       "    </tr></tbody> \n",
       "</table> "
      ],
      "text/plain": [
       "<pandas.io.formats.style.Styler at 0x1e0b98ad358>"
      ]
     },
     "execution_count": 6,
     "metadata": {},
     "output_type": "execute_result"
    }
   ],
   "source": [
    "#Lukumääriä ja prosentteja\n",
    "df1 = pd.crosstab(df['vastaaja'], 'lkm')\n",
    "df1['%'] = df1/df1.sum()*100\n",
    "\n",
    "#Devil is in the details\n",
    "df1.columns.name = ''\n",
    "df1.style.format({'%':'{:,.1f} %'})"
   ]
  },
  {
   "cell_type": "code",
   "execution_count": 7,
   "metadata": {},
   "outputs": [
    {
     "data": {
      "text/html": [
       "<style  type=\"text/css\" >\n",
       "</style>  \n",
       "<table id=\"T_44248790_5777_11e9_98e5_8cdcd42d783e\" > \n",
       "<thead>    <tr> \n",
       "        <th class=\"index_name level0\" >vastaaja</th> \n",
       "        <th class=\"col_heading level0 col0\" >Ei-pot.</th> \n",
       "        <th class=\"col_heading level0 col1\" >Epävarma</th> \n",
       "        <th class=\"col_heading level0 col2\" >Pot.</th> \n",
       "    </tr></thead> \n",
       "<tbody>    <tr> \n",
       "        <th id=\"T_44248790_5777_11e9_98e5_8cdcd42d783elevel0_row0\" class=\"row_heading level0 row0\" >Täysin eri mieltä</th> \n",
       "        <td id=\"T_44248790_5777_11e9_98e5_8cdcd42d783erow0_col0\" class=\"data row0 col0\" >59.7 %</td> \n",
       "        <td id=\"T_44248790_5777_11e9_98e5_8cdcd42d783erow0_col1\" class=\"data row0 col1\" >49.7 %</td> \n",
       "        <td id=\"T_44248790_5777_11e9_98e5_8cdcd42d783erow0_col2\" class=\"data row0 col2\" >1.8 %</td> \n",
       "    </tr>    <tr> \n",
       "        <th id=\"T_44248790_5777_11e9_98e5_8cdcd42d783elevel0_row1\" class=\"row_heading level0 row1\" >Jokseenkin eri mieltä</th> \n",
       "        <td id=\"T_44248790_5777_11e9_98e5_8cdcd42d783erow1_col0\" class=\"data row1 col0\" >31.8 %</td> \n",
       "        <td id=\"T_44248790_5777_11e9_98e5_8cdcd42d783erow1_col1\" class=\"data row1 col1\" >37.3 %</td> \n",
       "        <td id=\"T_44248790_5777_11e9_98e5_8cdcd42d783erow1_col2\" class=\"data row1 col2\" >2.7 %</td> \n",
       "    </tr>    <tr> \n",
       "        <th id=\"T_44248790_5777_11e9_98e5_8cdcd42d783elevel0_row2\" class=\"row_heading level0 row2\" >Ei samaa eikä eri mieltä</th> \n",
       "        <td id=\"T_44248790_5777_11e9_98e5_8cdcd42d783erow2_col0\" class=\"data row2 col0\" >3.1 %</td> \n",
       "        <td id=\"T_44248790_5777_11e9_98e5_8cdcd42d783erow2_col1\" class=\"data row2 col1\" >8.1 %</td> \n",
       "        <td id=\"T_44248790_5777_11e9_98e5_8cdcd42d783erow2_col2\" class=\"data row2 col2\" >0.0 %</td> \n",
       "    </tr>    <tr> \n",
       "        <th id=\"T_44248790_5777_11e9_98e5_8cdcd42d783elevel0_row3\" class=\"row_heading level0 row3\" >Jokseenkin samaa mieltä</th> \n",
       "        <td id=\"T_44248790_5777_11e9_98e5_8cdcd42d783erow3_col0\" class=\"data row3 col0\" >1.6 %</td> \n",
       "        <td id=\"T_44248790_5777_11e9_98e5_8cdcd42d783erow3_col1\" class=\"data row3 col1\" >2.5 %</td> \n",
       "        <td id=\"T_44248790_5777_11e9_98e5_8cdcd42d783erow3_col2\" class=\"data row3 col2\" >44.5 %</td> \n",
       "    </tr>    <tr> \n",
       "        <th id=\"T_44248790_5777_11e9_98e5_8cdcd42d783elevel0_row4\" class=\"row_heading level0 row4\" >Täysin samaa mieltä</th> \n",
       "        <td id=\"T_44248790_5777_11e9_98e5_8cdcd42d783erow4_col0\" class=\"data row4 col0\" >3.9 %</td> \n",
       "        <td id=\"T_44248790_5777_11e9_98e5_8cdcd42d783erow4_col1\" class=\"data row4 col1\" >2.5 %</td> \n",
       "        <td id=\"T_44248790_5777_11e9_98e5_8cdcd42d783erow4_col2\" class=\"data row4 col2\" >50.9 %</td> \n",
       "    </tr></tbody> \n",
       "</table> "
      ],
      "text/plain": [
       "<pandas.io.formats.style.Styler at 0x1e0badfba58>"
      ]
     },
     "execution_count": 7,
     "metadata": {},
     "output_type": "execute_result"
    }
   ],
   "source": [
    "#Ristiintauluikointi prosentteina\n",
    "df2 = pd.crosstab(df['15 jälkiruoka'], df['vastaaja'], normalize='columns')*100\n",
    "\n",
    "#Hyödynnetään aiemmin määriteltyä listaa\n",
    "df2.index = mielipiteet\n",
    "\n",
    "#Yhdellä desimaalilla ja prosenttimerkki perään\n",
    "df2.style.format('{:,.1f} %')"
   ]
  },
  {
   "cell_type": "code",
   "execution_count": 8,
   "metadata": {},
   "outputs": [
    {
     "data": {
      "text/html": [
       "<style  type=\"text/css\" >\n",
       "</style>  \n",
       "<table id=\"T_442830ca_5777_11e9_b7ca_8cdcd42d783e\" > \n",
       "<thead>    <tr> \n",
       "        <th class=\"index_name level0\" >vastaaja</th> \n",
       "        <th class=\"col_heading level0 col0\" >Ei-pot.</th> \n",
       "        <th class=\"col_heading level0 col1\" >Epävarma</th> \n",
       "        <th class=\"col_heading level0 col2\" >Pot.</th> \n",
       "    </tr></thead> \n",
       "<tbody>    <tr> \n",
       "        <th id=\"T_442830ca_5777_11e9_b7ca_8cdcd42d783elevel0_row0\" class=\"row_heading level0 row0\" >count</th> \n",
       "        <td id=\"T_442830ca_5777_11e9_b7ca_8cdcd42d783erow0_col0\" class=\"data row0 col0\" >72.0</td> \n",
       "        <td id=\"T_442830ca_5777_11e9_b7ca_8cdcd42d783erow0_col1\" class=\"data row0 col1\" >158.0</td> \n",
       "        <td id=\"T_442830ca_5777_11e9_b7ca_8cdcd42d783erow0_col2\" class=\"data row0 col2\" >110.0</td> \n",
       "    </tr>    <tr> \n",
       "        <th id=\"T_442830ca_5777_11e9_b7ca_8cdcd42d783elevel0_row1\" class=\"row_heading level0 row1\" >mean</th> \n",
       "        <td id=\"T_442830ca_5777_11e9_b7ca_8cdcd42d783erow1_col0\" class=\"data row1 col0\" >11.4</td> \n",
       "        <td id=\"T_442830ca_5777_11e9_b7ca_8cdcd42d783erow1_col1\" class=\"data row1 col1\" >14.3</td> \n",
       "        <td id=\"T_442830ca_5777_11e9_b7ca_8cdcd42d783erow1_col2\" class=\"data row1 col2\" >30.2</td> \n",
       "    </tr>    <tr> \n",
       "        <th id=\"T_442830ca_5777_11e9_b7ca_8cdcd42d783elevel0_row2\" class=\"row_heading level0 row2\" >std</th> \n",
       "        <td id=\"T_442830ca_5777_11e9_b7ca_8cdcd42d783erow2_col0\" class=\"data row2 col0\" >4.3</td> \n",
       "        <td id=\"T_442830ca_5777_11e9_b7ca_8cdcd42d783erow2_col1\" class=\"data row2 col1\" >3.0</td> \n",
       "        <td id=\"T_442830ca_5777_11e9_b7ca_8cdcd42d783erow2_col2\" class=\"data row2 col2\" >8.8</td> \n",
       "    </tr>    <tr> \n",
       "        <th id=\"T_442830ca_5777_11e9_b7ca_8cdcd42d783elevel0_row3\" class=\"row_heading level0 row3\" >min</th> \n",
       "        <td id=\"T_442830ca_5777_11e9_b7ca_8cdcd42d783erow3_col0\" class=\"data row3 col0\" >6.0</td> \n",
       "        <td id=\"T_442830ca_5777_11e9_b7ca_8cdcd42d783erow3_col1\" class=\"data row3 col1\" >7.0</td> \n",
       "        <td id=\"T_442830ca_5777_11e9_b7ca_8cdcd42d783erow3_col2\" class=\"data row3 col2\" >11.0</td> \n",
       "    </tr>    <tr> \n",
       "        <th id=\"T_442830ca_5777_11e9_b7ca_8cdcd42d783elevel0_row4\" class=\"row_heading level0 row4\" >25%</th> \n",
       "        <td id=\"T_442830ca_5777_11e9_b7ca_8cdcd42d783erow4_col0\" class=\"data row4 col0\" >8.0</td> \n",
       "        <td id=\"T_442830ca_5777_11e9_b7ca_8cdcd42d783erow4_col1\" class=\"data row4 col1\" >12.0</td> \n",
       "        <td id=\"T_442830ca_5777_11e9_b7ca_8cdcd42d783erow4_col2\" class=\"data row4 col2\" >24.0</td> \n",
       "    </tr>    <tr> \n",
       "        <th id=\"T_442830ca_5777_11e9_b7ca_8cdcd42d783elevel0_row5\" class=\"row_heading level0 row5\" >50%</th> \n",
       "        <td id=\"T_442830ca_5777_11e9_b7ca_8cdcd42d783erow5_col0\" class=\"data row5 col0\" >10.0</td> \n",
       "        <td id=\"T_442830ca_5777_11e9_b7ca_8cdcd42d783erow5_col1\" class=\"data row5 col1\" >14.0</td> \n",
       "        <td id=\"T_442830ca_5777_11e9_b7ca_8cdcd42d783erow5_col2\" class=\"data row5 col2\" >28.0</td> \n",
       "    </tr>    <tr> \n",
       "        <th id=\"T_442830ca_5777_11e9_b7ca_8cdcd42d783elevel0_row6\" class=\"row_heading level0 row6\" >75%</th> \n",
       "        <td id=\"T_442830ca_5777_11e9_b7ca_8cdcd42d783erow6_col0\" class=\"data row6 col0\" >13.2</td> \n",
       "        <td id=\"T_442830ca_5777_11e9_b7ca_8cdcd42d783erow6_col1\" class=\"data row6 col1\" >16.0</td> \n",
       "        <td id=\"T_442830ca_5777_11e9_b7ca_8cdcd42d783erow6_col2\" class=\"data row6 col2\" >35.0</td> \n",
       "    </tr>    <tr> \n",
       "        <th id=\"T_442830ca_5777_11e9_b7ca_8cdcd42d783elevel0_row7\" class=\"row_heading level0 row7\" >max</th> \n",
       "        <td id=\"T_442830ca_5777_11e9_b7ca_8cdcd42d783erow7_col0\" class=\"data row7 col0\" >26.0</td> \n",
       "        <td id=\"T_442830ca_5777_11e9_b7ca_8cdcd42d783erow7_col1\" class=\"data row7 col1\" >23.0</td> \n",
       "        <td id=\"T_442830ca_5777_11e9_b7ca_8cdcd42d783erow7_col2\" class=\"data row7 col2\" >60.0</td> \n",
       "    </tr></tbody> \n",
       "</table> "
      ],
      "text/plain": [
       "<pandas.io.formats.style.Styler at 0x1e0bb7bb9b0>"
      ]
     },
     "execution_count": 8,
     "metadata": {},
     "output_type": "execute_result"
    }
   ],
   "source": [
    "#Tilastollisia tunnuslukuja (T kääntää taulukon toisin päin)\n",
    "df3 = df.groupby(['vastaaja'])['4 hinta'].describe().T\n",
    "\n",
    "#Yhdellä desimaalilla\n",
    "df3.style.format('{:,.1f}')"
   ]
  },
  {
   "cell_type": "code",
   "execution_count": 9,
   "metadata": {},
   "outputs": [
    {
     "data": {
      "text/plain": [
       "Text(0,0.5,'Lukumäärä')"
      ]
     },
     "execution_count": 9,
     "metadata": {},
     "output_type": "execute_result"
    },
    {
     "data": {
      "image/png": "[encoded data removed]",
      "text/plain": [
       "<matplotlib.figure.Figure at 0x1e0bb8b8b38>"
      ]
     },
     "metadata": {},
     "output_type": "display_data"
    }
   ],
   "source": [
    "df.groupby(['vastaaja'])['4 hinta'].plot.hist()\n",
    "plt.legend()\n",
    "plt.xlabel('Aterian hinta')\n",
    "plt.ylabel('Lukumäärä')"
   ]
  }
 ],
 "metadata": {
  "kernelspec": {
   "display_name": "Python 3",
   "language": "python",
   "name": "python3"
  },
  "language_info": {
   "codemirror_mode": {
    "name": "ipython",
    "version": 3
   },
   "file_extension": ".py",
   "mimetype": "text/x-python",
   "name": "python",
   "nbconvert_exporter": "python",
   "pygments_lexer": "ipython3",
   "version": "3.6.3"
  }
 },
 "nbformat": 4,
 "nbformat_minor": 2
}
