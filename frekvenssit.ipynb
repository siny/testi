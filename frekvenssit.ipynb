{
 "cells": [
  {
   "cell_type": "markdown",
   "metadata": {},
   "source": [
    "# Frekvenssitaulukot Exceliin"
   ]
  },
  {
   "cell_type": "code",
   "execution_count": 1,
   "metadata": {},
   "outputs": [],
   "source": [
    "import pandas as pd\n",
    "\n",
    "# Avaan datan dataframeen\n",
    "df = pd.read_excel('http://taanila.fi/data1.xlsx')"
   ]
  },
  {
   "cell_type": "code",
   "execution_count": 2,
   "metadata": {},
   "outputs": [],
   "source": [
    "# Muodostan uuden dataframen ristiintaulukoitavista muuttujista\n",
    "columns = ['sukup', 'perhe', 'koulutus', 'johto', 'työtov',\n",
    "        'työymp', 'palkkat', 'työteht']\n",
    "df1 = pd.DataFrame(df, columns = columns)\n",
    "\n",
    "# Korvaan muuttujien numeroarvoja oikeilla nimillä\n",
    "df1['sukup'] = df1['sukup'].replace([1, 2], ['Mies', 'Nainen'])\n",
    "df1['perhe'] = df1['perhe'].replace([1, 2], ['Perheetön', 'Perheellinen'])"
   ]
  },
  {
   "cell_type": "code",
   "execution_count": 3,
   "metadata": {},
   "outputs": [],
   "source": [
    "# Alustan ExcelWriterin kirjoittamaan uuteen tiedostoon frekvenssit.xlsx\n",
    "writer = pd.ExcelWriter('frekvenssit.xlsx', engine='xlsxwriter')\n",
    "\n",
    "# Pidän kirjaa rivinumerosta rivi-muuttujan avulla\n",
    "rivi = 0\n",
    "\n",
    "# Käyn for-silmukalla läpi kaikki dataframen muuttujat (sarakkeet)\n",
    "for var in df1:\n",
    "    \n",
    "    # Lasken frekvenssit df2-nimiseen dataframeen\n",
    "    df2 = pd.crosstab(df1[var], 'lkm')\n",
    "    \n",
    "    # Lasken df2:een prosentit\n",
    "    df2['prosenttia'] = df2/df2.sum()\n",
    "    \n",
    "    # Lisään df2:een Yhteensä-rivin\n",
    "    df2.loc['Yhteensä'] = df2.sum()\n",
    "    \n",
    "    # Kirjoitan df2:een Frekvenssit-taulukkovälilehdelle\n",
    "    df2.to_excel(writer, sheet_name = 'Frekvenssit', startrow=rivi)\n",
    "    \n",
    "    # Kasvatan rivinumeroa; shape[0] antaa df2:n rivimäärän (shape[1] antaisi sarakkeiden määrän)\n",
    "    rivi = rivi + df2.shape[0] + 2\n",
    "    \n",
    "# Lisään C-sarakkeeseen prosenttimuotoilun\n",
    "format = writer.book.add_format({'num_format': '0.0%'})\n",
    "writer.sheets['Frekvenssit'].set_column('C:C', cell_format=format)\n",
    "\n",
    "# Tallennan Excel-tiedoston\n",
    "writer.save()"
   ]
  },
  {
   "cell_type": "markdown",
   "metadata": {},
   "source": [
    "Tämän jälkeen voin avata frekvenssit.xlsx -tiedoston Exceliin ja katsoa mitä sain aikaan."
   ]
  }
 ],
 "metadata": {
  "kernelspec": {
   "display_name": "Python 3",
   "language": "python",
   "name": "python3"
  },
  "language_info": {
   "codemirror_mode": {
    "name": "ipython",
    "version": 3
   },
   "file_extension": ".py",
   "mimetype": "text/x-python",
   "name": "python",
   "nbconvert_exporter": "python",
   "pygments_lexer": "ipython3",
   "version": "3.7.3"
  }
 },
 "nbformat": 4,
 "nbformat_minor": 2
}
