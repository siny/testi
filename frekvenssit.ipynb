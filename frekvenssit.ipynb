{
 "cells": [
  {
   "cell_type": "markdown",
   "metadata": {},
   "source": [
    "### Lasketaan frekevssit ja tallennetaan tulokset Excel-tiedostoon"
   ]
  },
  {
   "cell_type": "code",
   "execution_count": 1,
   "metadata": {
    "collapsed": true
   },
   "outputs": [],
   "source": [
    "import pandas as pd\n",
    "df=pd.read_excel('http://www.elisanet.fi/taanila/data1.xlsx',sheetname='Data')"
   ]
  },
  {
   "cell_type": "code",
   "execution_count": 4,
   "metadata": {
    "collapsed": false
   },
   "outputs": [],
   "source": [
    "#Alustan ExcelWriterin kirjoittamaan uuteen tiedostoon frekvenssit.xlsx\n",
    "writer = pd.ExcelWriter('frekvenssit.xlsx', engine='xlsxwriter')\n",
    "\n",
    "#Pidän kirjaa rivinumerosta rivi-muuttujan avulla. Python aloittaa rivinumeroinnin arvosta 0\n",
    "rivi=0\n",
    "\n",
    "#Käyn for-silmukalla läpi kaikki df:n muuttujat (sarakkeet)\n",
    "for var in df:\n",
    "    #Tallennan crosstab-toiminnon tuottamat frekvenssit df1-nimiseen dataframeen\n",
    "    df1=pd.crosstab(df[var],'lkm')\n",
    "    #Lasken df1-dataframeen prosentit\n",
    "    df1=df1.assign(prosenttia=df1/df1.sum())\n",
    "    #Lasken df1:n viimeiselle riville summat\n",
    "    df1.loc['Yhteensä']=df1.sum()\n",
    "    #Kirjoitan df1-dataframen Frekvenssit-taulukkovälilehdelle\n",
    "    df1.to_excel(writer, sheet_name='Frekvenssit', startrow=rivi)\n",
    "    #Kasvatan rivinumeroa, shape[0] antaa df1:n rivimäärän (shape[1] antaisi sarakkeiden määrän)\n",
    "    rivi=rivi+df1.shape[0]+2\n",
    "    \n",
    "#Lisään C-sarakkeeseen prosenttimuotoilun. None-tilalla voisi olla sarakkeen leveyttä kuvaava luku\n",
    "format = writer.book.add_format({'num_format': '0.0%'})\n",
    "writer.sheets['Frekvenssit'].set_column('C:C',None, format)\n",
    "\n",
    "#Tallennan Excel-tiedoston\n",
    "writer.save()\n"
   ]
  },
  {
   "cell_type": "markdown",
   "metadata": {},
   "source": [
    "Tämän jälkeen voin avata frekvenssit.xlsx -tiedoston Exceliin ja katsoa mitä kaikkea sain aikaan. Kuinkahan paljon kauemmin saman aikaansaaminen olisi kestänyt Excelillä?"
   ]
  }
 ],
 "metadata": {
  "kernelspec": {
   "display_name": "Python 3",
   "language": "python",
   "name": "python3"
  },
  "language_info": {
   "codemirror_mode": {
    "name": "ipython",
    "version": 3
   },
   "file_extension": ".py",
   "mimetype": "text/x-python",
   "name": "python",
   "nbconvert_exporter": "python",
   "pygments_lexer": "ipython3",
   "version": "3.6.0"
  }
 },
 "nbformat": 4,
 "nbformat_minor": 2
}
