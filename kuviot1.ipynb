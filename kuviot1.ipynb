{
 "cells": [
  {
   "cell_type": "markdown",
   "metadata": {},
   "source": [
    "# Matplotlib perusteita\n",
    "<ul><li>Jos teen kuvion suoraan dataframesta (df.plot...), niin käytän pandas-kirjaston matplotlibin pohjalta rakennettua \"viritelmää\" kuvion teosta.\n",
    "    <br>Lue lisää <a href=\"https://pandas.pydata.org/pandas-docs/stable/reference/api/pandas.DataFrame.plot.html\" target=\"_blank\">https://pandas.pydata.org/pandas-docs/stable/reference/api/pandas.DataFrame.plot.html</a></li>\n",
    "<li>matplotlib.pyplot sisältää komentoja kuvion muotoiluun. Aivan kaikkea näillä komennoilla ei saa tehtyä. \n",
    "    <br>Lue lisää <a href=\"https://matplotlib.org/tutorials/introductory/pyplot.html\" target=\"_blank\">https://matplotlib.org/tutorials/introductory/pyplot.html</a></li>\n",
    "<li>Vannoutuneet olio-ohjelmoijat käyttävät mieluummin kuvion luonnin palauttamaa Axes-luokan oliota kuvion muotoiluun.\n",
    "    <br>Lue lisää <a href=\"https://matplotlib.org/api/axes_api.html\" target=\"_blank\">https://matplotlib.org/api/axes_api.html</a></li></ul>"
   ]
  },
  {
   "cell_type": "code",
   "execution_count": 1,
   "metadata": {},
   "outputs": [],
   "source": [
    "#Tuon kirjastot:\n",
    "import pandas as pd\n",
    "import matplotlib.pyplot as plt\n",
    "%matplotlib inline"
   ]
  },
  {
   "cell_type": "code",
   "execution_count": 2,
   "metadata": {},
   "outputs": [
    {
     "data": {
      "text/html": [
       "<div>\n",
       "<style scoped>\n",
       "    .dataframe tbody tr th:only-of-type {\n",
       "        vertical-align: middle;\n",
       "    }\n",
       "\n",
       "    .dataframe tbody tr th {\n",
       "        vertical-align: top;\n",
       "    }\n",
       "\n",
       "    .dataframe thead th {\n",
       "        text-align: right;\n",
       "    }\n",
       "</style>\n",
       "<table border=\"1\" class=\"dataframe\">\n",
       "  <thead>\n",
       "    <tr style=\"text-align: right;\">\n",
       "      <th></th>\n",
       "      <th>Alue</th>\n",
       "      <th>Myynti</th>\n",
       "    </tr>\n",
       "    <tr>\n",
       "      <th>Alue</th>\n",
       "      <th></th>\n",
       "      <th></th>\n",
       "    </tr>\n",
       "  </thead>\n",
       "  <tbody>\n",
       "    <tr>\n",
       "      <th>Helsinki</th>\n",
       "      <td>Helsinki</td>\n",
       "      <td>1321847</td>\n",
       "    </tr>\n",
       "    <tr>\n",
       "      <th>Turku</th>\n",
       "      <td>Turku</td>\n",
       "      <td>852669</td>\n",
       "    </tr>\n",
       "    <tr>\n",
       "      <th>Tampere</th>\n",
       "      <td>Tampere</td>\n",
       "      <td>1032199</td>\n",
       "    </tr>\n",
       "    <tr>\n",
       "      <th>Oulu</th>\n",
       "      <td>Oulu</td>\n",
       "      <td>568230</td>\n",
       "    </tr>\n",
       "  </tbody>\n",
       "</table>\n",
       "</div>"
      ],
      "text/plain": [
       "              Alue   Myynti\n",
       "Alue                       \n",
       "Helsinki  Helsinki  1321847\n",
       "Turku        Turku   852669\n",
       "Tampere    Tampere  1032199\n",
       "Oulu          Oulu   568230"
      ]
     },
     "execution_count": 2,
     "metadata": {},
     "output_type": "execute_result"
    }
   ],
   "source": [
    "#Luon dataframen dictionarysta:\n",
    "raw_data={'Alue': ['Helsinki', 'Turku', 'Tampere', 'Oulu'], \n",
    "          'Myynti': [1321847, 852669, 1032199, 568230]}\n",
    "myynnit = pd.DataFrame(raw_data)\n",
    "\n",
    "#Teen kaupungeista dataframen indeksin:\n",
    "myynnit.index = myynnit['Alue']\n",
    "myynnit"
   ]
  },
  {
   "cell_type": "code",
   "execution_count": 3,
   "metadata": {},
   "outputs": [
    {
     "data": {
      "text/plain": [
       "<matplotlib.axes._subplots.AxesSubplot at 0x18f3ae19390>"
      ]
     },
     "execution_count": 3,
     "metadata": {},
     "output_type": "execute_result"
    },
    {
     "data": {
      "image/png": "[encoded data removed]",
      "text/plain": [
       "<Figure size 432x288 with 1 Axes>"
      ]
     },
     "metadata": {
      "needs_background": "light"
     },
     "output_type": "display_data"
    }
   ],
   "source": [
    "myynnit.plot.barh()"
   ]
  },
  {
   "cell_type": "code",
   "execution_count": 4,
   "metadata": {},
   "outputs": [
    {
     "data": {
      "text/plain": [
       "['bmh',\n",
       " 'classic',\n",
       " 'dark_background',\n",
       " 'fast',\n",
       " 'fivethirtyeight',\n",
       " 'ggplot',\n",
       " 'grayscale',\n",
       " 'seaborn-bright',\n",
       " 'seaborn-colorblind',\n",
       " 'seaborn-dark-palette',\n",
       " 'seaborn-dark',\n",
       " 'seaborn-darkgrid',\n",
       " 'seaborn-deep',\n",
       " 'seaborn-muted',\n",
       " 'seaborn-notebook',\n",
       " 'seaborn-paper',\n",
       " 'seaborn-pastel',\n",
       " 'seaborn-poster',\n",
       " 'seaborn-talk',\n",
       " 'seaborn-ticks',\n",
       " 'seaborn-white',\n",
       " 'seaborn-whitegrid',\n",
       " 'seaborn',\n",
       " 'Solarize_Light2',\n",
       " 'tableau-colorblind10',\n",
       " '_classic_test']"
      ]
     },
     "execution_count": 4,
     "metadata": {},
     "output_type": "execute_result"
    }
   ],
   "source": [
    "#Tyyleillä voin nopeasti muuttaa kaavion muotoiluasetuksia:\n",
    "plt.style.available"
   ]
  },
  {
   "cell_type": "code",
   "execution_count": 5,
   "metadata": {},
   "outputs": [
    {
     "data": {
      "text/plain": [
       "[Text(0, 0, '0.0'),\n",
       " Text(0, 0, '0.2'),\n",
       " Text(0, 0, '0.4'),\n",
       " Text(0, 0, '0.6'),\n",
       " Text(0, 0, '0.8'),\n",
       " Text(0, 0, '1.0'),\n",
       " Text(0, 0, '1.2'),\n",
       " Text(0, 0, '1.4')]"
      ]
     },
     "execution_count": 5,
     "metadata": {},
     "output_type": "execute_result"
    },
    {
     "data": {
      "image/png": "[encoded data removed]",
      "text/plain": [
       "<Figure size 432x288 with 1 Axes>"
      ]
     },
     "metadata": {},
     "output_type": "display_data"
    }
   ],
   "source": [
    "#Vaihdan tyyliasetuksen:\n",
    "plt.style.use('ggplot')\n",
    "\n",
    "#plot palauttaa Axes-luokan olion, joka mahdollistaa kuvion monipuolisen muotoilun:\n",
    "ax1=myynnit.sort_values(by='Myynti').plot.barh(title='Myynti vuonna 2017', legend=False)\n",
    "\n",
    "#Otsikot x-akselille ja y-akselille:\n",
    "ax1.set(xlabel='Miljoonaa euroa', ylabel='')\n",
    "\n",
    "#Haen x-akselin ticksit ja muotoilen miljooniksi yhdellä desimaalilla:\n",
    "ax1.set_xticklabels(['{:.1f}'.format(x/1000000) for x in ax1.get_xticks()])"
   ]
  },
  {
   "cell_type": "code",
   "execution_count": 6,
   "metadata": {},
   "outputs": [
    {
     "data": {
      "text/html": [
       "<div>\n",
       "<style scoped>\n",
       "    .dataframe tbody tr th:only-of-type {\n",
       "        vertical-align: middle;\n",
       "    }\n",
       "\n",
       "    .dataframe tbody tr th {\n",
       "        vertical-align: top;\n",
       "    }\n",
       "\n",
       "    .dataframe thead th {\n",
       "        text-align: right;\n",
       "    }\n",
       "</style>\n",
       "<table border=\"1\" class=\"dataframe\">\n",
       "  <thead>\n",
       "    <tr style=\"text-align: right;\">\n",
       "      <th></th>\n",
       "      <th>Alue</th>\n",
       "      <th>Myynti</th>\n",
       "      <th>%</th>\n",
       "    </tr>\n",
       "    <tr>\n",
       "      <th>Alue</th>\n",
       "      <th></th>\n",
       "      <th></th>\n",
       "      <th></th>\n",
       "    </tr>\n",
       "  </thead>\n",
       "  <tbody>\n",
       "    <tr>\n",
       "      <th>Helsinki</th>\n",
       "      <td>Helsinki</td>\n",
       "      <td>1321847</td>\n",
       "      <td>35.016325</td>\n",
       "    </tr>\n",
       "    <tr>\n",
       "      <th>Turku</th>\n",
       "      <td>Turku</td>\n",
       "      <td>852669</td>\n",
       "      <td>22.587587</td>\n",
       "    </tr>\n",
       "    <tr>\n",
       "      <th>Tampere</th>\n",
       "      <td>Tampere</td>\n",
       "      <td>1032199</td>\n",
       "      <td>27.343418</td>\n",
       "    </tr>\n",
       "    <tr>\n",
       "      <th>Oulu</th>\n",
       "      <td>Oulu</td>\n",
       "      <td>568230</td>\n",
       "      <td>15.052670</td>\n",
       "    </tr>\n",
       "  </tbody>\n",
       "</table>\n",
       "</div>"
      ],
      "text/plain": [
       "              Alue   Myynti          %\n",
       "Alue                                  \n",
       "Helsinki  Helsinki  1321847  35.016325\n",
       "Turku        Turku   852669  22.587587\n",
       "Tampere    Tampere  1032199  27.343418\n",
       "Oulu          Oulu   568230  15.052670"
      ]
     },
     "execution_count": 6,
     "metadata": {},
     "output_type": "execute_result"
    }
   ],
   "source": [
    "#Myynnit yhteensä:\n",
    "n=myynnit['Myynti'].sum()\n",
    "\n",
    "#Lisään sarakkeen, johon lasken prosenttiosuuden myynneistä yhteensä\n",
    "myynnit['%'] = myynnit['Myynti'] / n * 100\n",
    "myynnit"
   ]
  },
  {
   "cell_type": "code",
   "execution_count": 7,
   "metadata": {},
   "outputs": [
    {
     "data": {
      "text/plain": [
       "[Text(0, 0, '0 %'),\n",
       " Text(0, 0, '5 %'),\n",
       " Text(0, 0, '10 %'),\n",
       " Text(0, 0, '15 %'),\n",
       " Text(0, 0, '20 %'),\n",
       " Text(0, 0, '25 %'),\n",
       " Text(0, 0, '30 %'),\n",
       " Text(0, 0, '35 %'),\n",
       " Text(0, 0, '40 %')]"
      ]
     },
     "execution_count": 7,
     "metadata": {},
     "output_type": "execute_result"
    },
    {
     "data": {
      "image/png": "[encoded data removed]",
      "text/plain": [
       "<Figure size 432x288 with 1 Axes>"
      ]
     },
     "metadata": {},
     "output_type": "display_data"
    }
   ],
   "source": [
    "#width määrittää pylvään leveyden käytettävistä olevasta tilasta\n",
    "ax2=myynnit.sort_values(by='%')['%'].plot.barh(title='Osuus kokonaismyynnistä vuonna 2017', \n",
    "                                              legend=False, width=0.7, color='C0')\n",
    "ax2.set(xlabel='%', ylabel='')\n",
    "\n",
    "ax2.set_xticklabels(['{:.0f} %'.format(x) for x in ax2.get_xticks()])"
   ]
  },
  {
   "cell_type": "code",
   "execution_count": 8,
   "metadata": {},
   "outputs": [
    {
     "data": {
      "text/html": [
       "<div>\n",
       "<style scoped>\n",
       "    .dataframe tbody tr th:only-of-type {\n",
       "        vertical-align: middle;\n",
       "    }\n",
       "\n",
       "    .dataframe tbody tr th {\n",
       "        vertical-align: top;\n",
       "    }\n",
       "\n",
       "    .dataframe thead th {\n",
       "        text-align: right;\n",
       "    }\n",
       "</style>\n",
       "<table border=\"1\" class=\"dataframe\">\n",
       "  <thead>\n",
       "    <tr style=\"text-align: right;\">\n",
       "      <th></th>\n",
       "      <th>Alue</th>\n",
       "      <th>Myynti 2017</th>\n",
       "      <th>Myynti 2016</th>\n",
       "    </tr>\n",
       "    <tr>\n",
       "      <th>Alue</th>\n",
       "      <th></th>\n",
       "      <th></th>\n",
       "      <th></th>\n",
       "    </tr>\n",
       "  </thead>\n",
       "  <tbody>\n",
       "    <tr>\n",
       "      <th>Helsinki</th>\n",
       "      <td>Helsinki</td>\n",
       "      <td>1321847</td>\n",
       "      <td>1203434</td>\n",
       "    </tr>\n",
       "    <tr>\n",
       "      <th>Turku</th>\n",
       "      <td>Turku</td>\n",
       "      <td>852669</td>\n",
       "      <td>923450</td>\n",
       "    </tr>\n",
       "    <tr>\n",
       "      <th>Tampere</th>\n",
       "      <td>Tampere</td>\n",
       "      <td>1032199</td>\n",
       "      <td>1023563</td>\n",
       "    </tr>\n",
       "    <tr>\n",
       "      <th>Oulu</th>\n",
       "      <td>Oulu</td>\n",
       "      <td>568230</td>\n",
       "      <td>542399</td>\n",
       "    </tr>\n",
       "  </tbody>\n",
       "</table>\n",
       "</div>"
      ],
      "text/plain": [
       "              Alue  Myynti 2017  Myynti 2016\n",
       "Alue                                        \n",
       "Helsinki  Helsinki      1321847      1203434\n",
       "Turku        Turku       852669       923450\n",
       "Tampere    Tampere      1032199      1023563\n",
       "Oulu          Oulu       568230       542399"
      ]
     },
     "execution_count": 8,
     "metadata": {},
     "output_type": "execute_result"
    }
   ],
   "source": [
    "raw_data={'Alue': ['Helsinki', 'Turku', 'Tampere', 'Oulu'], \n",
    "          'Myynti 2017': [1321847, 852669, 1032199, 568230],\n",
    "          'Myynti 2016': [1203434, 923450, 1023563, 542399]}\n",
    "myynnit2 = pd.DataFrame(raw_data)\n",
    "myynnit2.index = myynnit2['Alue']\n",
    "myynnit2"
   ]
  },
  {
   "cell_type": "code",
   "execution_count": 9,
   "metadata": {},
   "outputs": [
    {
     "data": {
      "text/plain": [
       "[Text(0, 0.5, 'Euroa'), Text(0.5, 0, 'Alue')]"
      ]
     },
     "execution_count": 9,
     "metadata": {},
     "output_type": "execute_result"
    },
    {
     "data": {
      "image/png": "[encoded data removed]",
      "text/plain": [
       "<Figure size 720x432 with 1 Axes>"
      ]
     },
     "metadata": {},
     "output_type": "display_data"
    }
   ],
   "source": [
    "#figsize määrittää figure-olion koon. figure on suorakaide, jonka sisällä axes-olio sijaitsee.\n",
    "#rot määrittää luokka-akselin nimiöiden asennon asteina.\n",
    "#width määrittää pylväiden leveyden:\n",
    "ax3=myynnit2.plot.bar(figsize=(10,6), title='Myynti vuosina 2016 ja 2017', rot=0, width=0.7)\n",
    "\n",
    "ax3.set(xlabel='Alue', ylabel='Euroa')"
   ]
  },
  {
   "cell_type": "code",
   "execution_count": 10,
   "metadata": {},
   "outputs": [
    {
     "data": {
      "text/plain": [
       "[Text(0, 0.5, 'Euroa'), Text(0.5, 0, 'Alue')]"
      ]
     },
     "execution_count": 10,
     "metadata": {},
     "output_type": "execute_result"
    },
    {
     "data": {
      "image/png": "[encoded data removed]",
      "text/plain": [
       "<Figure size 720x432 with 1 Axes>"
      ]
     },
     "metadata": {},
     "output_type": "display_data"
    }
   ],
   "source": [
    "#legend='reverse' vaihtaa selitteen järjestyksen.\n",
    "#stacked=True pinoaa pylväät päällekkäin:\n",
    "ax4=myynnit2.plot.bar(figsize=(10,6), title='Myynti vuosina 2016 ja 2017', rot=0, width=0.7, \n",
    "                     legend='reverse', stacked=True)\n",
    "\n",
    "ax4.set(xlabel='Alue', ylabel='Euroa')"
   ]
  },
  {
   "cell_type": "code",
   "execution_count": 11,
   "metadata": {},
   "outputs": [
    {
     "data": {
      "text/html": [
       "<div>\n",
       "<style scoped>\n",
       "    .dataframe tbody tr th:only-of-type {\n",
       "        vertical-align: middle;\n",
       "    }\n",
       "\n",
       "    .dataframe tbody tr th {\n",
       "        vertical-align: top;\n",
       "    }\n",
       "\n",
       "    .dataframe thead th {\n",
       "        text-align: right;\n",
       "    }\n",
       "</style>\n",
       "<table border=\"1\" class=\"dataframe\">\n",
       "  <thead>\n",
       "    <tr style=\"text-align: right;\">\n",
       "      <th></th>\n",
       "      <th>nro</th>\n",
       "      <th>sukupuoli</th>\n",
       "      <th>ikä</th>\n",
       "      <th>perhe</th>\n",
       "      <th>koulutus</th>\n",
       "      <th>palvelusvuodet</th>\n",
       "      <th>palkka</th>\n",
       "      <th>tyytyväisyys johtoon</th>\n",
       "      <th>tyytyväisyys työtovereihin</th>\n",
       "      <th>tyytyväisyys työympäristöön</th>\n",
       "      <th>tyytyväisyys palkkaan</th>\n",
       "      <th>tyytyväisyys työtehtäviin</th>\n",
       "      <th>työterveyshuolto</th>\n",
       "      <th>lomaosake</th>\n",
       "      <th>kuntosali</th>\n",
       "      <th>hieroja</th>\n",
       "    </tr>\n",
       "  </thead>\n",
       "  <tbody>\n",
       "    <tr>\n",
       "      <th>0</th>\n",
       "      <td>1</td>\n",
       "      <td>1</td>\n",
       "      <td>38</td>\n",
       "      <td>1</td>\n",
       "      <td>1.0</td>\n",
       "      <td>22.0</td>\n",
       "      <td>3587</td>\n",
       "      <td>3</td>\n",
       "      <td>3.0</td>\n",
       "      <td>3</td>\n",
       "      <td>3</td>\n",
       "      <td>3</td>\n",
       "      <td>NaN</td>\n",
       "      <td>NaN</td>\n",
       "      <td>NaN</td>\n",
       "      <td>NaN</td>\n",
       "    </tr>\n",
       "    <tr>\n",
       "      <th>1</th>\n",
       "      <td>2</td>\n",
       "      <td>1</td>\n",
       "      <td>29</td>\n",
       "      <td>2</td>\n",
       "      <td>2.0</td>\n",
       "      <td>10.0</td>\n",
       "      <td>2963</td>\n",
       "      <td>1</td>\n",
       "      <td>5.0</td>\n",
       "      <td>2</td>\n",
       "      <td>1</td>\n",
       "      <td>3</td>\n",
       "      <td>NaN</td>\n",
       "      <td>NaN</td>\n",
       "      <td>NaN</td>\n",
       "      <td>NaN</td>\n",
       "    </tr>\n",
       "    <tr>\n",
       "      <th>2</th>\n",
       "      <td>3</td>\n",
       "      <td>1</td>\n",
       "      <td>30</td>\n",
       "      <td>1</td>\n",
       "      <td>1.0</td>\n",
       "      <td>7.0</td>\n",
       "      <td>1989</td>\n",
       "      <td>3</td>\n",
       "      <td>4.0</td>\n",
       "      <td>1</td>\n",
       "      <td>1</td>\n",
       "      <td>3</td>\n",
       "      <td>1.0</td>\n",
       "      <td>NaN</td>\n",
       "      <td>NaN</td>\n",
       "      <td>NaN</td>\n",
       "    </tr>\n",
       "    <tr>\n",
       "      <th>3</th>\n",
       "      <td>4</td>\n",
       "      <td>1</td>\n",
       "      <td>36</td>\n",
       "      <td>2</td>\n",
       "      <td>1.0</td>\n",
       "      <td>14.0</td>\n",
       "      <td>2144</td>\n",
       "      <td>3</td>\n",
       "      <td>3.0</td>\n",
       "      <td>3</td>\n",
       "      <td>3</td>\n",
       "      <td>3</td>\n",
       "      <td>1.0</td>\n",
       "      <td>NaN</td>\n",
       "      <td>NaN</td>\n",
       "      <td>NaN</td>\n",
       "    </tr>\n",
       "    <tr>\n",
       "      <th>4</th>\n",
       "      <td>5</td>\n",
       "      <td>1</td>\n",
       "      <td>24</td>\n",
       "      <td>1</td>\n",
       "      <td>2.0</td>\n",
       "      <td>4.0</td>\n",
       "      <td>2183</td>\n",
       "      <td>2</td>\n",
       "      <td>3.0</td>\n",
       "      <td>2</td>\n",
       "      <td>1</td>\n",
       "      <td>2</td>\n",
       "      <td>1.0</td>\n",
       "      <td>NaN</td>\n",
       "      <td>NaN</td>\n",
       "      <td>NaN</td>\n",
       "    </tr>\n",
       "  </tbody>\n",
       "</table>\n",
       "</div>"
      ],
      "text/plain": [
       "   nro  sukupuoli  ikä  perhe  koulutus  palvelusvuodet  palkka  \\\n",
       "0    1          1   38      1       1.0            22.0    3587   \n",
       "1    2          1   29      2       2.0            10.0    2963   \n",
       "2    3          1   30      1       1.0             7.0    1989   \n",
       "3    4          1   36      2       1.0            14.0    2144   \n",
       "4    5          1   24      1       2.0             4.0    2183   \n",
       "\n",
       "   tyytyväisyys johtoon  tyytyväisyys työtovereihin  \\\n",
       "0                     3                         3.0   \n",
       "1                     1                         5.0   \n",
       "2                     3                         4.0   \n",
       "3                     3                         3.0   \n",
       "4                     2                         3.0   \n",
       "\n",
       "   tyytyväisyys työympäristöön  tyytyväisyys palkkaan  \\\n",
       "0                            3                      3   \n",
       "1                            2                      1   \n",
       "2                            1                      1   \n",
       "3                            3                      3   \n",
       "4                            2                      1   \n",
       "\n",
       "   tyytyväisyys työtehtäviin  työterveyshuolto  lomaosake  kuntosali  hieroja  \n",
       "0                          3               NaN        NaN        NaN      NaN  \n",
       "1                          3               NaN        NaN        NaN      NaN  \n",
       "2                          3               1.0        NaN        NaN      NaN  \n",
       "3                          3               1.0        NaN        NaN      NaN  \n",
       "4                          2               1.0        NaN        NaN      NaN  "
      ]
     },
     "execution_count": 11,
     "metadata": {},
     "output_type": "execute_result"
    }
   ],
   "source": [
    "df = pd.read_excel('http://www.elisanet.fi/taanila/data1.xlsx', sheet_name = 'Data')\n",
    "df.head()"
   ]
  },
  {
   "cell_type": "code",
   "execution_count": 12,
   "metadata": {},
   "outputs": [
    {
     "data": {
      "text/html": [
       "<div>\n",
       "<style scoped>\n",
       "    .dataframe tbody tr th:only-of-type {\n",
       "        vertical-align: middle;\n",
       "    }\n",
       "\n",
       "    .dataframe tbody tr th {\n",
       "        vertical-align: top;\n",
       "    }\n",
       "\n",
       "    .dataframe thead th {\n",
       "        text-align: right;\n",
       "    }\n",
       "</style>\n",
       "<table border=\"1\" class=\"dataframe\">\n",
       "  <thead>\n",
       "    <tr style=\"text-align: right;\">\n",
       "      <th></th>\n",
       "      <th>mies</th>\n",
       "      <th>nainen</th>\n",
       "      <th>yhteensä</th>\n",
       "    </tr>\n",
       "  </thead>\n",
       "  <tbody>\n",
       "    <tr>\n",
       "      <th>peruskoulu</th>\n",
       "      <td>0.354839</td>\n",
       "      <td>0.263158</td>\n",
       "      <td>0.333333</td>\n",
       "    </tr>\n",
       "    <tr>\n",
       "      <th>2.aste</th>\n",
       "      <td>0.370968</td>\n",
       "      <td>0.368421</td>\n",
       "      <td>0.370370</td>\n",
       "    </tr>\n",
       "    <tr>\n",
       "      <th>korkeakoulu</th>\n",
       "      <td>0.241935</td>\n",
       "      <td>0.368421</td>\n",
       "      <td>0.271605</td>\n",
       "    </tr>\n",
       "    <tr>\n",
       "      <th>ylempi korkeakoulu</th>\n",
       "      <td>0.032258</td>\n",
       "      <td>0.000000</td>\n",
       "      <td>0.024691</td>\n",
       "    </tr>\n",
       "  </tbody>\n",
       "</table>\n",
       "</div>"
      ],
      "text/plain": [
       "                        mies    nainen  yhteensä\n",
       "peruskoulu          0.354839  0.263158  0.333333\n",
       "2.aste              0.370968  0.368421  0.370370\n",
       "korkeakoulu         0.241935  0.368421  0.271605\n",
       "ylempi korkeakoulu  0.032258  0.000000  0.024691"
      ]
     },
     "execution_count": 12,
     "metadata": {},
     "output_type": "execute_result"
    }
   ],
   "source": [
    "#Sukupuolen ja koulutuksen ristiintaulukointi:\n",
    "df1 = pd.crosstab(df['koulutus'], df['sukupuoli'], margins = True, normalize = 'columns')\n",
    "\n",
    "df1.index = ['peruskoulu','2.aste','korkeakoulu','ylempi korkeakoulu']\n",
    "df1.columns = ['mies','nainen','yhteensä']\n",
    "\n",
    "df1"
   ]
  },
  {
   "cell_type": "code",
   "execution_count": 13,
   "metadata": {},
   "outputs": [
    {
     "data": {
      "image/png": "[encoded data removed]",
      "text/plain": [
       "<Figure size 432x288 with 1 Axes>"
      ]
     },
     "metadata": {},
     "output_type": "display_data"
    }
   ],
   "source": [
    "#T vaihtaa sarakkeet riveiksi.\n",
    "#stacked=True pinoaa pylväät.\n",
    "ax5=df1[['mies','nainen']].T.plot.barh(stacked=True)\n",
    "\n",
    "ax5.set_xlabel('Prosenttia sukupuolesta')\n",
    "\n",
    "#selitteen sijoittelun voi määrittää tarkasti.\n",
    "#ncol=4, tarkoittaa, että selitteessä on neljä asiaa rinnakkain.\n",
    "ax5.legend(loc='upper center', bbox_to_anchor=(0.5, 1.2), ncol=4)\n",
    "\n",
    "ax5.set_xticklabels(['{:.0f} %'.format(x*100) for x in ax5.get_xticks()])\n",
    "\n",
    "#Kuvio on helppo tallentaa (gcf=get current figure):\n",
    "plt.gcf().savefig('kuva.png')"
   ]
  }
 ],
 "metadata": {
  "kernelspec": {
   "display_name": "Python 3",
   "language": "python",
   "name": "python3"
  },
  "language_info": {
   "codemirror_mode": {
    "name": "ipython",
    "version": 3
   },
   "file_extension": ".py",
   "mimetype": "text/x-python",
   "name": "python",
   "nbconvert_exporter": "python",
   "pygments_lexer": "ipython3",
   "version": "3.7.0"
  }
 },
 "nbformat": 4,
 "nbformat_minor": 2
}
