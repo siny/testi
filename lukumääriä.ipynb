{
 "cells": [
  {
   "cell_type": "markdown",
   "metadata": {},
   "source": [
    "<h1>Lukumäärä- ja prosentti-yhteenvedot</h1>"
   ]
  },
  {
   "cell_type": "code",
   "execution_count": 1,
   "metadata": {},
   "outputs": [],
   "source": [
    "#Tuon tarvittavat kirjastot\n",
    "import pandas as pd\n",
    "import matplotlib.pyplot as plt\n",
    "%matplotlib inline"
   ]
  },
  {
   "cell_type": "code",
   "execution_count": 2,
   "metadata": {},
   "outputs": [
    {
     "data": {
      "text/html": [
       "<div>\n",
       "<style scoped>\n",
       "    .dataframe tbody tr th:only-of-type {\n",
       "        vertical-align: middle;\n",
       "    }\n",
       "\n",
       "    .dataframe tbody tr th {\n",
       "        vertical-align: top;\n",
       "    }\n",
       "\n",
       "    .dataframe thead th {\n",
       "        text-align: right;\n",
       "    }\n",
       "</style>\n",
       "<table border=\"1\" class=\"dataframe\">\n",
       "  <thead>\n",
       "    <tr style=\"text-align: right;\">\n",
       "      <th></th>\n",
       "      <th>nro</th>\n",
       "      <th>sukup</th>\n",
       "      <th>ikä</th>\n",
       "      <th>perhe</th>\n",
       "      <th>koulutus</th>\n",
       "      <th>palveluv</th>\n",
       "      <th>palkka</th>\n",
       "      <th>johto</th>\n",
       "      <th>työtov</th>\n",
       "      <th>työymp</th>\n",
       "      <th>palkkat</th>\n",
       "      <th>työteht</th>\n",
       "      <th>työterv</th>\n",
       "      <th>lomaosa</th>\n",
       "      <th>kuntosa</th>\n",
       "      <th>hieroja</th>\n",
       "    </tr>\n",
       "  </thead>\n",
       "  <tbody>\n",
       "    <tr>\n",
       "      <th>0</th>\n",
       "      <td>1</td>\n",
       "      <td>1</td>\n",
       "      <td>38</td>\n",
       "      <td>1</td>\n",
       "      <td>1.0</td>\n",
       "      <td>22.0</td>\n",
       "      <td>3587</td>\n",
       "      <td>3</td>\n",
       "      <td>3.0</td>\n",
       "      <td>3</td>\n",
       "      <td>3</td>\n",
       "      <td>3</td>\n",
       "      <td>NaN</td>\n",
       "      <td>NaN</td>\n",
       "      <td>NaN</td>\n",
       "      <td>NaN</td>\n",
       "    </tr>\n",
       "    <tr>\n",
       "      <th>1</th>\n",
       "      <td>2</td>\n",
       "      <td>1</td>\n",
       "      <td>29</td>\n",
       "      <td>2</td>\n",
       "      <td>2.0</td>\n",
       "      <td>10.0</td>\n",
       "      <td>2963</td>\n",
       "      <td>1</td>\n",
       "      <td>5.0</td>\n",
       "      <td>2</td>\n",
       "      <td>1</td>\n",
       "      <td>3</td>\n",
       "      <td>NaN</td>\n",
       "      <td>NaN</td>\n",
       "      <td>NaN</td>\n",
       "      <td>NaN</td>\n",
       "    </tr>\n",
       "    <tr>\n",
       "      <th>2</th>\n",
       "      <td>3</td>\n",
       "      <td>1</td>\n",
       "      <td>30</td>\n",
       "      <td>1</td>\n",
       "      <td>1.0</td>\n",
       "      <td>7.0</td>\n",
       "      <td>1989</td>\n",
       "      <td>3</td>\n",
       "      <td>4.0</td>\n",
       "      <td>1</td>\n",
       "      <td>1</td>\n",
       "      <td>3</td>\n",
       "      <td>1.0</td>\n",
       "      <td>NaN</td>\n",
       "      <td>NaN</td>\n",
       "      <td>NaN</td>\n",
       "    </tr>\n",
       "    <tr>\n",
       "      <th>3</th>\n",
       "      <td>4</td>\n",
       "      <td>1</td>\n",
       "      <td>36</td>\n",
       "      <td>2</td>\n",
       "      <td>1.0</td>\n",
       "      <td>14.0</td>\n",
       "      <td>2144</td>\n",
       "      <td>3</td>\n",
       "      <td>3.0</td>\n",
       "      <td>3</td>\n",
       "      <td>3</td>\n",
       "      <td>3</td>\n",
       "      <td>1.0</td>\n",
       "      <td>NaN</td>\n",
       "      <td>NaN</td>\n",
       "      <td>NaN</td>\n",
       "    </tr>\n",
       "    <tr>\n",
       "      <th>4</th>\n",
       "      <td>5</td>\n",
       "      <td>1</td>\n",
       "      <td>24</td>\n",
       "      <td>1</td>\n",
       "      <td>2.0</td>\n",
       "      <td>4.0</td>\n",
       "      <td>2183</td>\n",
       "      <td>2</td>\n",
       "      <td>3.0</td>\n",
       "      <td>2</td>\n",
       "      <td>1</td>\n",
       "      <td>2</td>\n",
       "      <td>1.0</td>\n",
       "      <td>NaN</td>\n",
       "      <td>NaN</td>\n",
       "      <td>NaN</td>\n",
       "    </tr>\n",
       "  </tbody>\n",
       "</table>\n",
       "</div>"
      ],
      "text/plain": [
       "   nro  sukup  ikä  perhe  koulutus  palveluv  palkka  johto  työtov  työymp  \\\n",
       "0    1      1   38      1       1.0      22.0    3587      3     3.0       3   \n",
       "1    2      1   29      2       2.0      10.0    2963      1     5.0       2   \n",
       "2    3      1   30      1       1.0       7.0    1989      3     4.0       1   \n",
       "3    4      1   36      2       1.0      14.0    2144      3     3.0       3   \n",
       "4    5      1   24      1       2.0       4.0    2183      2     3.0       2   \n",
       "\n",
       "   palkkat  työteht  työterv  lomaosa  kuntosa  hieroja  \n",
       "0        3        3      NaN      NaN      NaN      NaN  \n",
       "1        1        3      NaN      NaN      NaN      NaN  \n",
       "2        1        3      1.0      NaN      NaN      NaN  \n",
       "3        3        3      1.0      NaN      NaN      NaN  \n",
       "4        1        2      1.0      NaN      NaN      NaN  "
      ]
     },
     "execution_count": 2,
     "metadata": {},
     "output_type": "execute_result"
    }
   ],
   "source": [
    "#Avaan datan\n",
    "df = pd.read_excel('http://taanila.fi/data1.xlsx')\n",
    "\n",
    "#Näytän 5 ensimmäistä riviä\n",
    "df.head()"
   ]
  },
  {
   "cell_type": "markdown",
   "metadata": {},
   "source": [
    "<h2>Muuttujien tekstimuotoiset arvot</h2>\n",
    "\n",
    "Muuttujien mahdolliset tektimuotoiset arvot kannattaa tallentaa lista-muuttujiin. Listoja on myöhemmin helppo lisätä tulostaulukoihin."
   ]
  },
  {
   "cell_type": "code",
   "execution_count": 3,
   "metadata": {},
   "outputs": [],
   "source": [
    "koulutus = ['Peruskoulu', '2. aste', 'Korkeakoulu', 'Ylempi korkeakoulu']\n",
    "\n",
    "perhe = ['Perheetön', 'Perheellinen']\n",
    "\n",
    "sukup = ['Mies', 'Nainen']\n",
    "\n",
    "tyytyväisyys = ['Erittäin tyytymätön', 'Jokseenkin tyytymätön', 'Ei tyytymätön eikä tyytyväinen', \n",
    "                'Jokseenkin tyytyväinen', 'Erittäin tyytyväinen']"
   ]
  },
  {
   "cell_type": "markdown",
   "metadata": {},
   "source": [
    "<h2>crosstab() laskee lukumäärät</h2>\n",
    "\n",
    "<b>crosstab()</b> palauttaa tuloksena dataframen. Voin helposti luoda dataframeen uuden sarakkeen, johon lasken prosentit. \n",
    "\n",
    "Kryptisen näköiseen <b>style.format()</b>-toimintoon kannattaa perehtyä huolella. Se ei vaikuta dataframen sisältöön, vaan ainoastaan tässä tulostetun version ulkoasuun.\n",
    "\n",
    "<b>plot</b> on nopein tapa numerotiedon esittämiseen kuviona. Tässä käytän vaakapylväitä (<b>barh</b>). plot palauttaa <b>axes</b>-tyyppisen olion, jota usein tarvitaan kuvion muotoiluun. Tässä tarvitsen axes-oliota arvoakselin lukujen muotoiluun."
   ]
  },
  {
   "cell_type": "code",
   "execution_count": 4,
   "metadata": {},
   "outputs": [
    {
     "data": {
      "text/html": [
       "<div>\n",
       "<style scoped>\n",
       "    .dataframe tbody tr th:only-of-type {\n",
       "        vertical-align: middle;\n",
       "    }\n",
       "\n",
       "    .dataframe tbody tr th {\n",
       "        vertical-align: top;\n",
       "    }\n",
       "\n",
       "    .dataframe thead th {\n",
       "        text-align: right;\n",
       "    }\n",
       "</style>\n",
       "<table border=\"1\" class=\"dataframe\">\n",
       "  <thead>\n",
       "    <tr style=\"text-align: right;\">\n",
       "      <th></th>\n",
       "      <th>n</th>\n",
       "    </tr>\n",
       "  </thead>\n",
       "  <tbody>\n",
       "    <tr>\n",
       "      <th>Peruskoulu</th>\n",
       "      <td>27</td>\n",
       "    </tr>\n",
       "    <tr>\n",
       "      <th>2. aste</th>\n",
       "      <td>30</td>\n",
       "    </tr>\n",
       "    <tr>\n",
       "      <th>Korkeakoulu</th>\n",
       "      <td>22</td>\n",
       "    </tr>\n",
       "    <tr>\n",
       "      <th>Ylempi korkeakoulu</th>\n",
       "      <td>2</td>\n",
       "    </tr>\n",
       "  </tbody>\n",
       "</table>\n",
       "</div>"
      ],
      "text/plain": [
       "                     n\n",
       "Peruskoulu          27\n",
       "2. aste             30\n",
       "Korkeakoulu         22\n",
       "Ylempi korkeakoulu   2"
      ]
     },
     "execution_count": 4,
     "metadata": {},
     "output_type": "execute_result"
    }
   ],
   "source": [
    "df1 = pd.crosstab(df['koulutus'], 'n')\n",
    "\n",
    "#Korvaan riviotsikot aiemmin määritellyllä koulutus-listalla\n",
    "df1.index = koulutus\n",
    "\n",
    "#Poistan vasemmasta yläkulmasta häiritsevän otsikon\n",
    "df1.columns.name = ''\n",
    "\n",
    "df1"
   ]
  },
  {
   "cell_type": "code",
   "execution_count": 5,
   "metadata": {},
   "outputs": [
    {
     "data": {
      "text/html": [
       "<style  type=\"text/css\" >\n",
       "</style><table id=\"T_6d480e52_6b75_11e9_a7b8_5cb901ac75b5\" ><thead>    <tr>        <th class=\"index_name level0\" ></th>        <th class=\"col_heading level0 col0\" >n</th>        <th class=\"col_heading level0 col1\" >%</th>    </tr></thead><tbody>\n",
       "                <tr>\n",
       "                        <th id=\"T_6d480e52_6b75_11e9_a7b8_5cb901ac75b5level0_row0\" class=\"row_heading level0 row0\" >Peruskoulu</th>\n",
       "                        <td id=\"T_6d480e52_6b75_11e9_a7b8_5cb901ac75b5row0_col0\" class=\"data row0 col0\" >27</td>\n",
       "                        <td id=\"T_6d480e52_6b75_11e9_a7b8_5cb901ac75b5row0_col1\" class=\"data row0 col1\" >33.3 %</td>\n",
       "            </tr>\n",
       "            <tr>\n",
       "                        <th id=\"T_6d480e52_6b75_11e9_a7b8_5cb901ac75b5level0_row1\" class=\"row_heading level0 row1\" >2. aste</th>\n",
       "                        <td id=\"T_6d480e52_6b75_11e9_a7b8_5cb901ac75b5row1_col0\" class=\"data row1 col0\" >30</td>\n",
       "                        <td id=\"T_6d480e52_6b75_11e9_a7b8_5cb901ac75b5row1_col1\" class=\"data row1 col1\" >37.0 %</td>\n",
       "            </tr>\n",
       "            <tr>\n",
       "                        <th id=\"T_6d480e52_6b75_11e9_a7b8_5cb901ac75b5level0_row2\" class=\"row_heading level0 row2\" >Korkeakoulu</th>\n",
       "                        <td id=\"T_6d480e52_6b75_11e9_a7b8_5cb901ac75b5row2_col0\" class=\"data row2 col0\" >22</td>\n",
       "                        <td id=\"T_6d480e52_6b75_11e9_a7b8_5cb901ac75b5row2_col1\" class=\"data row2 col1\" >27.2 %</td>\n",
       "            </tr>\n",
       "            <tr>\n",
       "                        <th id=\"T_6d480e52_6b75_11e9_a7b8_5cb901ac75b5level0_row3\" class=\"row_heading level0 row3\" >Ylempi korkeakoulu</th>\n",
       "                        <td id=\"T_6d480e52_6b75_11e9_a7b8_5cb901ac75b5row3_col0\" class=\"data row3 col0\" >2</td>\n",
       "                        <td id=\"T_6d480e52_6b75_11e9_a7b8_5cb901ac75b5row3_col1\" class=\"data row3 col1\" >2.5 %</td>\n",
       "            </tr>\n",
       "    </tbody></table>"
      ],
      "text/plain": [
       "<pandas.io.formats.style.Styler at 0x1d0c22da390>"
      ]
     },
     "execution_count": 5,
     "metadata": {},
     "output_type": "execute_result"
    }
   ],
   "source": [
    "#Lisään prosentti-sarakkeen\n",
    "df1['%'] = df1/df1.sum()*100\n",
    "\n",
    "#Muotoilen prosentit yhden desimaalin tarkkuuteen\n",
    "df1.style.format({'%': '{:.1f} %'})"
   ]
  },
  {
   "cell_type": "code",
   "execution_count": 6,
   "metadata": {
    "scrolled": false
   },
   "outputs": [
    {
     "data": {
      "text/plain": [
       "[Text(0, 0, '0 %'),\n",
       " Text(0, 0, '5 %'),\n",
       " Text(0, 0, '10 %'),\n",
       " Text(0, 0, '15 %'),\n",
       " Text(0, 0, '20 %'),\n",
       " Text(0, 0, '25 %'),\n",
       " Text(0, 0, '30 %'),\n",
       " Text(0, 0, '35 %'),\n",
       " Text(0, 0, '40 %')]"
      ]
     },
     "execution_count": 6,
     "metadata": {},
     "output_type": "execute_result"
    },
    {
     "data": {
      "image/png": "[encoded data removed]",
      "text/plain": [
       "<Figure size 432x288 with 1 Axes>"
      ]
     },
     "metadata": {
      "needs_background": "light"
     },
     "output_type": "display_data"
    }
   ],
   "source": [
    "#Pylväskuvio, jonka pylväiden väri on käytössä olevan teeman ensimmäinen väri (C0)\n",
    "#color = 'C0' määritystä ei tarvita kaikissa Pandas/Matplotlib-versioisssa\n",
    "ax = df1['%'].plot.barh(color = 'C0')\n",
    "\n",
    "#Muotoilen asteikon luvut haluamallani tavalla\n",
    "ax.set_xticklabels(['{:.0f} %'.format(x) for x in ax.get_xticks()])"
   ]
  },
  {
   "cell_type": "markdown",
   "metadata": {},
   "source": [
    "<h2>count() laskee monivalintojen yhteenvedot</h2>\n",
    "\n",
    "Monivalintojen yhteenveto sujuu esimerkiksi <b>count()</b>-funktiolla. count()-funktion tulos ei ole dataframe, mutta voin muuttaa sen dataframeksi. Samalla voin järjestää monivalinnan vaihtoehdot valintojen mukaiseen järjestykseen <b>sort_values</b>-funktiolla.\n",
    "\n",
    "Voin ryhmitellä tuloskset toisen muuttujan, esimerkiksi sukupuolen, mukaan <b>groupby()</b>-funktion avulla."
   ]
  },
  {
   "cell_type": "code",
   "execution_count": 7,
   "metadata": {},
   "outputs": [
    {
     "data": {
      "text/html": [
       "<style  type=\"text/css\" >\n",
       "</style><table id=\"T_6d755a0a_6b75_11e9_9bb0_5cb901ac75b5\" ><thead>    <tr>        <th class=\"blank level0\" ></th>        <th class=\"col_heading level0 col0\" >n</th>    </tr></thead><tbody>\n",
       "                <tr>\n",
       "                        <th id=\"T_6d755a0a_6b75_11e9_9bb0_5cb901ac75b5level0_row0\" class=\"row_heading level0 row0\" >työterv</th>\n",
       "                        <td id=\"T_6d755a0a_6b75_11e9_9bb0_5cb901ac75b5row0_col0\" class=\"data row0 col0\" >47</td>\n",
       "            </tr>\n",
       "            <tr>\n",
       "                        <th id=\"T_6d755a0a_6b75_11e9_9bb0_5cb901ac75b5level0_row1\" class=\"row_heading level0 row1\" >hieroja</th>\n",
       "                        <td id=\"T_6d755a0a_6b75_11e9_9bb0_5cb901ac75b5row1_col0\" class=\"data row1 col0\" >22</td>\n",
       "            </tr>\n",
       "            <tr>\n",
       "                        <th id=\"T_6d755a0a_6b75_11e9_9bb0_5cb901ac75b5level0_row2\" class=\"row_heading level0 row2\" >lomaosa</th>\n",
       "                        <td id=\"T_6d755a0a_6b75_11e9_9bb0_5cb901ac75b5row2_col0\" class=\"data row2 col0\" >20</td>\n",
       "            </tr>\n",
       "            <tr>\n",
       "                        <th id=\"T_6d755a0a_6b75_11e9_9bb0_5cb901ac75b5level0_row3\" class=\"row_heading level0 row3\" >kuntosa</th>\n",
       "                        <td id=\"T_6d755a0a_6b75_11e9_9bb0_5cb901ac75b5row3_col0\" class=\"data row3 col0\" >9</td>\n",
       "            </tr>\n",
       "    </tbody></table>"
      ],
      "text/plain": [
       "<pandas.io.formats.style.Styler at 0x1d0c2a4c208>"
      ]
     },
     "execution_count": 7,
     "metadata": {},
     "output_type": "execute_result"
    }
   ],
   "source": [
    "#Monivalintojen lukumäärät selviävät count()-funktiolla\n",
    "df2=df[['työterv', 'lomaosa', 'kuntosa', 'hieroja']].count()\n",
    "\n",
    "#Muutan series-tyyppisen listan dataframeksi ja järjestän lukumäärien mukaiseen järjestykseen\n",
    "df2 = df2.to_frame('n').sort_values(by = 'n', ascending = False)\n",
    "\n",
    "#Esitän ilman desimaaleja\n",
    "df2.style.format('{:.0f}')"
   ]
  },
  {
   "cell_type": "code",
   "execution_count": 8,
   "metadata": {},
   "outputs": [
    {
     "data": {
      "text/plain": [
       "Text(0.5, 0, 'Käyttäjien lukumäärä')"
      ]
     },
     "execution_count": 8,
     "metadata": {},
     "output_type": "execute_result"
    },
    {
     "data": {
      "image/png": "[encoded data removed]",
      "text/plain": [
       "<Figure size 432x288 with 1 Axes>"
      ]
     },
     "metadata": {
      "needs_background": "light"
     },
     "output_type": "display_data"
    }
   ],
   "source": [
    "#Edellinen pylväinä\n",
    "ax1 = df2.sort_values(by = 'n').plot.barh(color = 'C0')\n",
    "\n",
    "ax1.legend().set_visible(False)\n",
    "\n",
    "ax1.set_xlabel('Käyttäjien lukumäärä')"
   ]
  },
  {
   "cell_type": "code",
   "execution_count": 9,
   "metadata": {},
   "outputs": [
    {
     "data": {
      "text/html": [
       "<style  type=\"text/css\" >\n",
       "</style><table id=\"T_6da2a55a_6b75_11e9_a9c5_5cb901ac75b5\" ><thead>    <tr>        <th class=\"blank level0\" ></th>        <th class=\"col_heading level0 col0\" >työterv</th>        <th class=\"col_heading level0 col1\" >lomaosa</th>        <th class=\"col_heading level0 col2\" >kuntosa</th>        <th class=\"col_heading level0 col3\" >hieroja</th>    </tr></thead><tbody>\n",
       "                <tr>\n",
       "                        <th id=\"T_6da2a55a_6b75_11e9_a9c5_5cb901ac75b5level0_row0\" class=\"row_heading level0 row0\" >Mies</th>\n",
       "                        <td id=\"T_6da2a55a_6b75_11e9_a9c5_5cb901ac75b5row0_col0\" class=\"data row0 col0\" >35</td>\n",
       "                        <td id=\"T_6da2a55a_6b75_11e9_a9c5_5cb901ac75b5row0_col1\" class=\"data row0 col1\" >16</td>\n",
       "                        <td id=\"T_6da2a55a_6b75_11e9_a9c5_5cb901ac75b5row0_col2\" class=\"data row0 col2\" >8</td>\n",
       "                        <td id=\"T_6da2a55a_6b75_11e9_a9c5_5cb901ac75b5row0_col3\" class=\"data row0 col3\" >13</td>\n",
       "            </tr>\n",
       "            <tr>\n",
       "                        <th id=\"T_6da2a55a_6b75_11e9_a9c5_5cb901ac75b5level0_row1\" class=\"row_heading level0 row1\" >Nainen</th>\n",
       "                        <td id=\"T_6da2a55a_6b75_11e9_a9c5_5cb901ac75b5row1_col0\" class=\"data row1 col0\" >12</td>\n",
       "                        <td id=\"T_6da2a55a_6b75_11e9_a9c5_5cb901ac75b5row1_col1\" class=\"data row1 col1\" >4</td>\n",
       "                        <td id=\"T_6da2a55a_6b75_11e9_a9c5_5cb901ac75b5row1_col2\" class=\"data row1 col2\" >1</td>\n",
       "                        <td id=\"T_6da2a55a_6b75_11e9_a9c5_5cb901ac75b5row1_col3\" class=\"data row1 col3\" >9</td>\n",
       "            </tr>\n",
       "    </tbody></table>"
      ],
      "text/plain": [
       "<pandas.io.formats.style.Styler at 0x1d0c2a9a9e8>"
      ]
     },
     "execution_count": 9,
     "metadata": {},
     "output_type": "execute_result"
    }
   ],
   "source": [
    "#Monivalinnat sukupuolen mukaan\n",
    "df3 = df.groupby('sukup')['työterv', 'lomaosa', 'kuntosa', 'hieroja'].count()\n",
    "\n",
    "#Sukupuolet sukup-listasta, joka määriteltiin aikaisemmin\n",
    "df3.index = sukup\n",
    "\n",
    "df3.style.format('{:.0f}')"
   ]
  },
  {
   "cell_type": "code",
   "execution_count": 10,
   "metadata": {},
   "outputs": [
    {
     "data": {
      "text/plain": [
       "<matplotlib.legend.Legend at 0x1d0c26c69e8>"
      ]
     },
     "execution_count": 10,
     "metadata": {},
     "output_type": "execute_result"
    },
    {
     "data": {
      "image/png": "[encoded data removed]",
      "text/plain": [
       "<Figure size 432x288 with 1 Axes>"
      ]
     },
     "metadata": {
      "needs_background": "light"
     },
     "output_type": "display_data"
    }
   ],
   "source": [
    "#Edellinen pylväinä\n",
    "ax2 = df3.plot.barh()\n",
    "\n",
    "ax2.set_xlabel('Käyttäjien lukumäärä')\n",
    "\n",
    "#Tyylittelen selitteen värit samaan järjestykseen kuin pylväät\n",
    "handles, labels = ax2.get_legend_handles_labels()\n",
    "ax2.legend(reversed(handles), reversed(labels))"
   ]
  },
  {
   "cell_type": "markdown",
   "metadata": {},
   "source": [
    "<h2>crosstab() laskee ristiintaulukoinnit</h2>\n",
    "\n"
   ]
  },
  {
   "cell_type": "code",
   "execution_count": 11,
   "metadata": {},
   "outputs": [
    {
     "data": {
      "text/plain": [
       "sukup\n",
       "1    62\n",
       "2    19\n",
       "Name: koulutus, dtype: int64"
      ]
     },
     "execution_count": 11,
     "metadata": {},
     "output_type": "execute_result"
    }
   ],
   "source": [
    "#n-arvot seuraavaan\n",
    "df.groupby('sukup')['koulutus'].count()"
   ]
  },
  {
   "cell_type": "code",
   "execution_count": 12,
   "metadata": {},
   "outputs": [
    {
     "data": {
      "text/html": [
       "<style  type=\"text/css\" >\n",
       "</style><table id=\"T_6de7c8f4_6b75_11e9_a20b_5cb901ac75b5\" ><thead>    <tr>        <th class=\"blank level0\" ></th>        <th class=\"col_heading level0 col0\" >Mies (n=62)</th>        <th class=\"col_heading level0 col1\" >Nainen (n=19)</th>    </tr></thead><tbody>\n",
       "                <tr>\n",
       "                        <th id=\"T_6de7c8f4_6b75_11e9_a20b_5cb901ac75b5level0_row0\" class=\"row_heading level0 row0\" >Peruskoulu</th>\n",
       "                        <td id=\"T_6de7c8f4_6b75_11e9_a20b_5cb901ac75b5row0_col0\" class=\"data row0 col0\" >35.5 %</td>\n",
       "                        <td id=\"T_6de7c8f4_6b75_11e9_a20b_5cb901ac75b5row0_col1\" class=\"data row0 col1\" >26.3 %</td>\n",
       "            </tr>\n",
       "            <tr>\n",
       "                        <th id=\"T_6de7c8f4_6b75_11e9_a20b_5cb901ac75b5level0_row1\" class=\"row_heading level0 row1\" >2. aste</th>\n",
       "                        <td id=\"T_6de7c8f4_6b75_11e9_a20b_5cb901ac75b5row1_col0\" class=\"data row1 col0\" >37.1 %</td>\n",
       "                        <td id=\"T_6de7c8f4_6b75_11e9_a20b_5cb901ac75b5row1_col1\" class=\"data row1 col1\" >36.8 %</td>\n",
       "            </tr>\n",
       "            <tr>\n",
       "                        <th id=\"T_6de7c8f4_6b75_11e9_a20b_5cb901ac75b5level0_row2\" class=\"row_heading level0 row2\" >Korkeakoulu</th>\n",
       "                        <td id=\"T_6de7c8f4_6b75_11e9_a20b_5cb901ac75b5row2_col0\" class=\"data row2 col0\" >24.2 %</td>\n",
       "                        <td id=\"T_6de7c8f4_6b75_11e9_a20b_5cb901ac75b5row2_col1\" class=\"data row2 col1\" >36.8 %</td>\n",
       "            </tr>\n",
       "            <tr>\n",
       "                        <th id=\"T_6de7c8f4_6b75_11e9_a20b_5cb901ac75b5level0_row3\" class=\"row_heading level0 row3\" >Ylempi korkeakoulu</th>\n",
       "                        <td id=\"T_6de7c8f4_6b75_11e9_a20b_5cb901ac75b5row3_col0\" class=\"data row3 col0\" >3.2 %</td>\n",
       "                        <td id=\"T_6de7c8f4_6b75_11e9_a20b_5cb901ac75b5row3_col1\" class=\"data row3 col1\" >0.0 %</td>\n",
       "            </tr>\n",
       "    </tbody></table>"
      ],
      "text/plain": [
       "<pandas.io.formats.style.Styler at 0x1d0c2ad4470>"
      ]
     },
     "execution_count": 12,
     "metadata": {},
     "output_type": "execute_result"
    }
   ],
   "source": [
    "#Ristiintaulukoinnit crosstab-toiminnolla, prosentit sarakkeiden mukaan\n",
    "df4 = pd.crosstab(df['koulutus'], df['sukup'], normalize = 'columns')\n",
    "\n",
    "#Rivi (index) ja sarake (columns) -otsikot koulutus- ja sukup-listoista\n",
    "df4.index = koulutus\n",
    "\n",
    "df4.columns = ['Mies (n=62)', 'Nainen (n=19)']\n",
    "\n",
    "(df4*100).style.format('{:.1f} %')"
   ]
  },
  {
   "cell_type": "code",
   "execution_count": 13,
   "metadata": {},
   "outputs": [
    {
     "data": {
      "text/plain": [
       "<matplotlib.legend.Legend at 0x1d0c2b295f8>"
      ]
     },
     "execution_count": 13,
     "metadata": {},
     "output_type": "execute_result"
    },
    {
     "data": {
      "image/png": "[encoded data removed]",
      "text/plain": [
       "<Figure size 432x288 with 1 Axes>"
      ]
     },
     "metadata": {
      "needs_background": "light"
     },
     "output_type": "display_data"
    }
   ],
   "source": [
    "#Edellinen pylväinä\n",
    "ax3 = df4.plot.barh()\n",
    "\n",
    "ax3.set_xlabel('Prosenttia sukupuolesta')\n",
    "\n",
    "ax3.set_xticklabels(['{:.0f} %'.format(x*100) for x in ax3.get_xticks()])\n",
    "\n",
    "#Tyylittelen selitteen värit samaan järjestykseen kuin pylväät\n",
    "handles, labels = ax3.get_legend_handles_labels()\n",
    "ax3.legend(reversed(handles), reversed(labels))"
   ]
  },
  {
   "cell_type": "code",
   "execution_count": 14,
   "metadata": {},
   "outputs": [
    {
     "data": {
      "text/plain": [
       "[Text(0, 0, '0 %'),\n",
       " Text(0, 0, '20 %'),\n",
       " Text(0, 0, '40 %'),\n",
       " Text(0, 0, '60 %'),\n",
       " Text(0, 0, '80 %'),\n",
       " Text(0, 0, '100 %'),\n",
       " Text(0, 0, '120 %')]"
      ]
     },
     "execution_count": 14,
     "metadata": {},
     "output_type": "execute_result"
    },
    {
     "data": {
      "image/png": "[encoded data removed]",
      "text/plain": [
       "<Figure size 432x288 with 1 Axes>"
      ]
     },
     "metadata": {
      "needs_background": "light"
     },
     "output_type": "display_data"
    }
   ],
   "source": [
    "#Edellinen 100 % pinottuina vaakapylväinä, transpose vaihtaa arvosarjat ja kategoriat päittäin\n",
    "ax4 = df4.transpose().plot.barh(stacked = True)\n",
    "\n",
    "#plt.xlabel('Prosenttia sukupuolesta')\n",
    "ax4.set_xlabel('Prosenttia sukupuolesta')\n",
    "\n",
    "ax4.legend(loc=(-0.2, -0.25), ncol=4)\n",
    " \n",
    "ax4.set_xticklabels(['{:.0f} %'.format(x*100) for x in ax4.get_xticks()])"
   ]
  },
  {
   "cell_type": "code",
   "execution_count": 15,
   "metadata": {},
   "outputs": [
    {
     "data": {
      "text/html": [
       "<style  type=\"text/css\" >\n",
       "</style><table id=\"T_6e531074_6b75_11e9_9024_5cb901ac75b5\" ><thead>    <tr>        <th class=\"blank level0\" ></th>        <th class=\"col_heading level0 col0\" >johto</th>        <th class=\"col_heading level0 col1\" >työtov</th>        <th class=\"col_heading level0 col2\" >työymp</th>        <th class=\"col_heading level0 col3\" >palkkat</th>        <th class=\"col_heading level0 col4\" >työteht</th>    </tr></thead><tbody>\n",
       "                <tr>\n",
       "                        <th id=\"T_6e531074_6b75_11e9_9024_5cb901ac75b5level0_row0\" class=\"row_heading level0 row0\" >Erittäin tyytymätön</th>\n",
       "                        <td id=\"T_6e531074_6b75_11e9_9024_5cb901ac75b5row0_col0\" class=\"data row0 col0\" >8.5 %</td>\n",
       "                        <td id=\"T_6e531074_6b75_11e9_9024_5cb901ac75b5row0_col1\" class=\"data row0 col1\" >nan %</td>\n",
       "                        <td id=\"T_6e531074_6b75_11e9_9024_5cb901ac75b5row0_col2\" class=\"data row0 col2\" >11.0 %</td>\n",
       "                        <td id=\"T_6e531074_6b75_11e9_9024_5cb901ac75b5row0_col3\" class=\"data row0 col3\" >40.2 %</td>\n",
       "                        <td id=\"T_6e531074_6b75_11e9_9024_5cb901ac75b5row0_col4\" class=\"data row0 col4\" >6.1 %</td>\n",
       "            </tr>\n",
       "            <tr>\n",
       "                        <th id=\"T_6e531074_6b75_11e9_9024_5cb901ac75b5level0_row1\" class=\"row_heading level0 row1\" >Jokseenkin tyytymätön</th>\n",
       "                        <td id=\"T_6e531074_6b75_11e9_9024_5cb901ac75b5row1_col0\" class=\"data row1 col0\" >19.5 %</td>\n",
       "                        <td id=\"T_6e531074_6b75_11e9_9024_5cb901ac75b5row1_col1\" class=\"data row1 col1\" >3.7 %</td>\n",
       "                        <td id=\"T_6e531074_6b75_11e9_9024_5cb901ac75b5row1_col2\" class=\"data row1 col2\" >11.0 %</td>\n",
       "                        <td id=\"T_6e531074_6b75_11e9_9024_5cb901ac75b5row1_col3\" class=\"data row1 col3\" >23.2 %</td>\n",
       "                        <td id=\"T_6e531074_6b75_11e9_9024_5cb901ac75b5row1_col4\" class=\"data row1 col4\" >18.3 %</td>\n",
       "            </tr>\n",
       "            <tr>\n",
       "                        <th id=\"T_6e531074_6b75_11e9_9024_5cb901ac75b5level0_row2\" class=\"row_heading level0 row2\" >Ei tyytymätön eikä tyytyväinen</th>\n",
       "                        <td id=\"T_6e531074_6b75_11e9_9024_5cb901ac75b5row2_col0\" class=\"data row2 col0\" >36.6 %</td>\n",
       "                        <td id=\"T_6e531074_6b75_11e9_9024_5cb901ac75b5row2_col1\" class=\"data row2 col1\" >19.8 %</td>\n",
       "                        <td id=\"T_6e531074_6b75_11e9_9024_5cb901ac75b5row2_col2\" class=\"data row2 col2\" >36.6 %</td>\n",
       "                        <td id=\"T_6e531074_6b75_11e9_9024_5cb901ac75b5row2_col3\" class=\"data row2 col3\" >23.2 %</td>\n",
       "                        <td id=\"T_6e531074_6b75_11e9_9024_5cb901ac75b5row2_col4\" class=\"data row2 col4\" >35.4 %</td>\n",
       "            </tr>\n",
       "            <tr>\n",
       "                        <th id=\"T_6e531074_6b75_11e9_9024_5cb901ac75b5level0_row3\" class=\"row_heading level0 row3\" >Jokseenkin tyytyväinen</th>\n",
       "                        <td id=\"T_6e531074_6b75_11e9_9024_5cb901ac75b5row3_col0\" class=\"data row3 col0\" >28.0 %</td>\n",
       "                        <td id=\"T_6e531074_6b75_11e9_9024_5cb901ac75b5row3_col1\" class=\"data row3 col1\" >43.2 %</td>\n",
       "                        <td id=\"T_6e531074_6b75_11e9_9024_5cb901ac75b5row3_col2\" class=\"data row3 col2\" >28.0 %</td>\n",
       "                        <td id=\"T_6e531074_6b75_11e9_9024_5cb901ac75b5row3_col3\" class=\"data row3 col3\" >12.2 %</td>\n",
       "                        <td id=\"T_6e531074_6b75_11e9_9024_5cb901ac75b5row3_col4\" class=\"data row3 col4\" >30.5 %</td>\n",
       "            </tr>\n",
       "            <tr>\n",
       "                        <th id=\"T_6e531074_6b75_11e9_9024_5cb901ac75b5level0_row4\" class=\"row_heading level0 row4\" >Erittäin tyytyväinen</th>\n",
       "                        <td id=\"T_6e531074_6b75_11e9_9024_5cb901ac75b5row4_col0\" class=\"data row4 col0\" >7.3 %</td>\n",
       "                        <td id=\"T_6e531074_6b75_11e9_9024_5cb901ac75b5row4_col1\" class=\"data row4 col1\" >33.3 %</td>\n",
       "                        <td id=\"T_6e531074_6b75_11e9_9024_5cb901ac75b5row4_col2\" class=\"data row4 col2\" >13.4 %</td>\n",
       "                        <td id=\"T_6e531074_6b75_11e9_9024_5cb901ac75b5row4_col3\" class=\"data row4 col3\" >1.2 %</td>\n",
       "                        <td id=\"T_6e531074_6b75_11e9_9024_5cb901ac75b5row4_col4\" class=\"data row4 col4\" >9.8 %</td>\n",
       "            </tr>\n",
       "    </tbody></table>"
      ],
      "text/plain": [
       "<pandas.io.formats.style.Styler at 0x1d0c2b67cf8>"
      ]
     },
     "execution_count": 15,
     "metadata": {},
     "output_type": "execute_result"
    }
   ],
   "source": [
    "#Lasken lukumääriä value_counts()-funktiolla ja muutan tuloksen dataframeksi\n",
    "df5 = df['johto'].value_counts(sort = False, normalize = True).to_frame()\n",
    "\n",
    "#Lisään dataframeen uusia sarakkeita\n",
    "df5['työtov'] = df['työtov'].value_counts(sort = False, normalize = True)\n",
    "df5['työymp'] = df['työymp'].value_counts(sort = False, normalize = True)\n",
    "df5['palkkat'] = df['palkkat'].value_counts(sort = False, normalize = True)\n",
    "df5['työteht'] = df['työteht'].value_counts(sort = False, normalize = True)\n",
    "\n",
    "#Riviotsikot aiemmin määritellystä tyytyväisyys-listasta\n",
    "df5.index = tyytyväisyys\n",
    "\n",
    "(df5*100).style.format('{:.1f} %')"
   ]
  },
  {
   "cell_type": "markdown",
   "metadata": {},
   "source": [
    "Seuraavassa määriteltävistä väreistä lisätietoa https://htmlcolorcodes.com/\n",
    "\n",
    "Voit määrittää värit käyttäen värien nimiä tai hex-värikoodeja."
   ]
  },
  {
   "cell_type": "code",
   "execution_count": 16,
   "metadata": {},
   "outputs": [
    {
     "data": {
      "text/plain": [
       "[Text(0, 0, '0 %'),\n",
       " Text(0, 0, '20 %'),\n",
       " Text(0, 0, '40 %'),\n",
       " Text(0, 0, '60 %'),\n",
       " Text(0, 0, '80 %'),\n",
       " Text(0, 0, '100 %'),\n",
       " Text(0, 0, '120 %')]"
      ]
     },
     "execution_count": 16,
     "metadata": {},
     "output_type": "execute_result"
    },
    {
     "data": {
      "image/png": "[encoded data removed]",
      "text/plain": [
       "<Figure size 432x288 with 1 Axes>"
      ]
     },
     "metadata": {
      "needs_background": "light"
     },
     "output_type": "display_data"
    }
   ],
   "source": [
    "#Edellinen 100 % pinottuina pylväinä; värit voin itse määritellä\n",
    "ax5 = df5.transpose().plot.barh(stacked = True, \n",
    "                                color=['#C44E52','#D65F5F','grey','#4878CF','#4C72B0'])\n",
    "\n",
    "ax5.legend(loc=(-0.03, 1.1), ncol=2)\n",
    "\n",
    "ax5.set_xticklabels(['{:.0f} %'.format(x*100) for x in ax5.get_xticks()])"
   ]
  },
  {
   "cell_type": "code",
   "execution_count": 17,
   "metadata": {},
   "outputs": [
    {
     "data": {
      "text/html": [
       "<div>\n",
       "<style scoped>\n",
       "    .dataframe tbody tr th:only-of-type {\n",
       "        vertical-align: middle;\n",
       "    }\n",
       "\n",
       "    .dataframe tbody tr th {\n",
       "        vertical-align: top;\n",
       "    }\n",
       "\n",
       "    .dataframe thead th {\n",
       "        text-align: right;\n",
       "    }\n",
       "</style>\n",
       "<table border=\"1\" class=\"dataframe\">\n",
       "  <thead>\n",
       "    <tr style=\"text-align: right;\">\n",
       "      <th></th>\n",
       "      <th>n</th>\n",
       "    </tr>\n",
       "    <tr>\n",
       "      <th>palkkaluokka</th>\n",
       "      <th></th>\n",
       "    </tr>\n",
       "  </thead>\n",
       "  <tbody>\n",
       "    <tr>\n",
       "      <th>(1000, 2000]</th>\n",
       "      <td>19</td>\n",
       "    </tr>\n",
       "    <tr>\n",
       "      <th>(2000, 3000]</th>\n",
       "      <td>50</td>\n",
       "    </tr>\n",
       "    <tr>\n",
       "      <th>(3000, 4000]</th>\n",
       "      <td>8</td>\n",
       "    </tr>\n",
       "    <tr>\n",
       "      <th>(4000, 7000]</th>\n",
       "      <td>5</td>\n",
       "    </tr>\n",
       "  </tbody>\n",
       "</table>\n",
       "</div>"
      ],
      "text/plain": [
       "               n\n",
       "palkkaluokka    \n",
       "(1000, 2000]  19\n",
       "(2000, 3000]  50\n",
       "(3000, 4000]   8\n",
       "(4000, 7000]   5"
      ]
     },
     "execution_count": 17,
     "metadata": {},
     "output_type": "execute_result"
    }
   ],
   "source": [
    "#Määrittelen luokkarajat palkan luokittelemiseksi\n",
    "bins = [1000, 2000, 3000, 4000, 7000]\n",
    "\n",
    "#Lisään aineistoon ikäluokka-sarakkeen\n",
    "df['palkkaluokka'] = pd.cut(df['palkka'], bins = bins)\n",
    "\n",
    "#Palkkaluokkiin kuuluvien lukumäärät\n",
    "df6 = pd.crosstab(df['palkkaluokka'], 'n')\n",
    "df6.columns.name = ''\n",
    "df6"
   ]
  },
  {
   "cell_type": "code",
   "execution_count": 18,
   "metadata": {},
   "outputs": [
    {
     "data": {
      "text/plain": [
       "Text(0, 0.5, 'Lukumäärä')"
      ]
     },
     "execution_count": 18,
     "metadata": {},
     "output_type": "execute_result"
    },
    {
     "data": {
      "image/png": "[encoded data removed]",
      "text/plain": [
       "<Figure size 432x288 with 1 Axes>"
      ]
     },
     "metadata": {
      "needs_background": "light"
     },
     "output_type": "display_data"
    }
   ],
   "source": [
    "#Palkan luokittelu histogrammina\n",
    "ax6 = df['palkka'].plot.hist(bins)\n",
    "\n",
    "ax6.set_xlabel('Palkka')\n",
    "ax6.set_ylabel('Lukumäärä')"
   ]
  }
 ],
 "metadata": {
  "kernelspec": {
   "display_name": "Python 3",
   "language": "python",
   "name": "python3"
  },
  "language_info": {
   "codemirror_mode": {
    "name": "ipython",
    "version": 3
   },
   "file_extension": ".py",
   "mimetype": "text/x-python",
   "name": "python",
   "nbconvert_exporter": "python",
   "pygments_lexer": "ipython3",
   "version": "3.7.3"
  }
 },
 "nbformat": 4,
 "nbformat_minor": 2
}
