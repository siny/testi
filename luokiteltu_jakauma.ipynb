{
 "cells": [
  {
   "cell_type": "markdown",
   "metadata": {},
   "source": [
    "<h2>Luokiteltu jakauma</h2>\n",
    "\n",
    "Määrällisen muuttujan jakaumaan tutustun luokitellun jakauman avulla. Nopein tapa on <b>hist</b>-kaaviolajin käyttö."
   ]
  },
  {
   "cell_type": "code",
   "execution_count": 1,
   "metadata": {},
   "outputs": [],
   "source": [
    "import numpy as np\n",
    "import pandas as pd\n",
    "import matplotlib.pyplot as plt\n",
    "%matplotlib inline\n",
    "\n",
    "# Tyyli vaikuttaa kaavioiden ulkoasuun\n",
    "# Käytettävissä olevat tyylit voit listata komennolla plt.style.available\n",
    "plt.style.use('fivethirtyeight')"
   ]
  },
  {
   "cell_type": "code",
   "execution_count": 2,
   "metadata": {},
   "outputs": [
    {
     "data": {
      "text/html": [
       "<div>\n",
       "<style scoped>\n",
       "    .dataframe tbody tr th:only-of-type {\n",
       "        vertical-align: middle;\n",
       "    }\n",
       "\n",
       "    .dataframe tbody tr th {\n",
       "        vertical-align: top;\n",
       "    }\n",
       "\n",
       "    .dataframe thead th {\n",
       "        text-align: right;\n",
       "    }\n",
       "</style>\n",
       "<table border=\"1\" class=\"dataframe\">\n",
       "  <thead>\n",
       "    <tr style=\"text-align: right;\">\n",
       "      <th></th>\n",
       "      <th>nro</th>\n",
       "      <th>sukup</th>\n",
       "      <th>ikä</th>\n",
       "      <th>perhe</th>\n",
       "      <th>koulutus</th>\n",
       "      <th>palveluv</th>\n",
       "      <th>palkka</th>\n",
       "      <th>johto</th>\n",
       "      <th>työtov</th>\n",
       "      <th>työymp</th>\n",
       "      <th>palkkat</th>\n",
       "      <th>työteht</th>\n",
       "      <th>työterv</th>\n",
       "      <th>lomaosa</th>\n",
       "      <th>kuntosa</th>\n",
       "      <th>hieroja</th>\n",
       "    </tr>\n",
       "  </thead>\n",
       "  <tbody>\n",
       "    <tr>\n",
       "      <th>0</th>\n",
       "      <td>1</td>\n",
       "      <td>1</td>\n",
       "      <td>38</td>\n",
       "      <td>1</td>\n",
       "      <td>1.0</td>\n",
       "      <td>22.0</td>\n",
       "      <td>3587</td>\n",
       "      <td>3</td>\n",
       "      <td>3.0</td>\n",
       "      <td>3</td>\n",
       "      <td>3</td>\n",
       "      <td>3</td>\n",
       "      <td>NaN</td>\n",
       "      <td>NaN</td>\n",
       "      <td>NaN</td>\n",
       "      <td>NaN</td>\n",
       "    </tr>\n",
       "    <tr>\n",
       "      <th>1</th>\n",
       "      <td>2</td>\n",
       "      <td>1</td>\n",
       "      <td>29</td>\n",
       "      <td>2</td>\n",
       "      <td>2.0</td>\n",
       "      <td>10.0</td>\n",
       "      <td>2963</td>\n",
       "      <td>1</td>\n",
       "      <td>5.0</td>\n",
       "      <td>2</td>\n",
       "      <td>1</td>\n",
       "      <td>3</td>\n",
       "      <td>NaN</td>\n",
       "      <td>NaN</td>\n",
       "      <td>NaN</td>\n",
       "      <td>NaN</td>\n",
       "    </tr>\n",
       "    <tr>\n",
       "      <th>2</th>\n",
       "      <td>3</td>\n",
       "      <td>1</td>\n",
       "      <td>30</td>\n",
       "      <td>1</td>\n",
       "      <td>1.0</td>\n",
       "      <td>7.0</td>\n",
       "      <td>1989</td>\n",
       "      <td>3</td>\n",
       "      <td>4.0</td>\n",
       "      <td>1</td>\n",
       "      <td>1</td>\n",
       "      <td>3</td>\n",
       "      <td>1.0</td>\n",
       "      <td>NaN</td>\n",
       "      <td>NaN</td>\n",
       "      <td>NaN</td>\n",
       "    </tr>\n",
       "    <tr>\n",
       "      <th>3</th>\n",
       "      <td>4</td>\n",
       "      <td>1</td>\n",
       "      <td>36</td>\n",
       "      <td>2</td>\n",
       "      <td>1.0</td>\n",
       "      <td>14.0</td>\n",
       "      <td>2144</td>\n",
       "      <td>3</td>\n",
       "      <td>3.0</td>\n",
       "      <td>3</td>\n",
       "      <td>3</td>\n",
       "      <td>3</td>\n",
       "      <td>1.0</td>\n",
       "      <td>NaN</td>\n",
       "      <td>NaN</td>\n",
       "      <td>NaN</td>\n",
       "    </tr>\n",
       "    <tr>\n",
       "      <th>4</th>\n",
       "      <td>5</td>\n",
       "      <td>1</td>\n",
       "      <td>24</td>\n",
       "      <td>1</td>\n",
       "      <td>2.0</td>\n",
       "      <td>4.0</td>\n",
       "      <td>2183</td>\n",
       "      <td>2</td>\n",
       "      <td>3.0</td>\n",
       "      <td>2</td>\n",
       "      <td>1</td>\n",
       "      <td>2</td>\n",
       "      <td>1.0</td>\n",
       "      <td>NaN</td>\n",
       "      <td>NaN</td>\n",
       "      <td>NaN</td>\n",
       "    </tr>\n",
       "  </tbody>\n",
       "</table>\n",
       "</div>"
      ],
      "text/plain": [
       "   nro  sukup  ikä  perhe  koulutus  palveluv  palkka  johto  työtov  työymp  \\\n",
       "0    1      1   38      1       1.0      22.0    3587      3     3.0       3   \n",
       "1    2      1   29      2       2.0      10.0    2963      1     5.0       2   \n",
       "2    3      1   30      1       1.0       7.0    1989      3     4.0       1   \n",
       "3    4      1   36      2       1.0      14.0    2144      3     3.0       3   \n",
       "4    5      1   24      1       2.0       4.0    2183      2     3.0       2   \n",
       "\n",
       "   palkkat  työteht  työterv  lomaosa  kuntosa  hieroja  \n",
       "0        3        3      NaN      NaN      NaN      NaN  \n",
       "1        1        3      NaN      NaN      NaN      NaN  \n",
       "2        1        3      1.0      NaN      NaN      NaN  \n",
       "3        3        3      1.0      NaN      NaN      NaN  \n",
       "4        1        2      1.0      NaN      NaN      NaN  "
      ]
     },
     "execution_count": 2,
     "metadata": {},
     "output_type": "execute_result"
    }
   ],
   "source": [
    "# Datan avaaminen\n",
    "df = pd.read_excel('http://taanila.fi/data1.xlsx')\n",
    "\n",
    "# n-arvot\n",
    "n = df['palkka'].count()\n",
    "miehet = df['palkka'][df['sukup']==1].count()\n",
    "naiset = df['palkka'][df['sukup']==2].count()\n",
    "\n",
    "df.head()"
   ]
  },
  {
   "cell_type": "code",
   "execution_count": 3,
   "metadata": {},
   "outputs": [
    {
     "data": {
      "text/html": [
       "<style  type=\"text/css\" >\n",
       "</style><table id=\"T_cb427fec_de83_11e9_afeb_5cb901ac75b5\" ><thead>    <tr>        <th class=\"index_name level0\" ></th>        <th class=\"col_heading level0 col0\" >lkm</th>        <th class=\"col_heading level0 col1\" >%</th>    </tr>    <tr>        <th class=\"index_name level0\" >Palkkaluokka</th>        <th class=\"blank\" ></th>        <th class=\"blank\" ></th>    </tr></thead><tbody>\n",
       "                <tr>\n",
       "                        <th id=\"T_cb427fec_de83_11e9_afeb_5cb901ac75b5level0_row0\" class=\"row_heading level0 row0\" >(1000, 2000]</th>\n",
       "                        <td id=\"T_cb427fec_de83_11e9_afeb_5cb901ac75b5row0_col0\" class=\"data row0 col0\" >19</td>\n",
       "                        <td id=\"T_cb427fec_de83_11e9_afeb_5cb901ac75b5row0_col1\" class=\"data row0 col1\" >23.2 %</td>\n",
       "            </tr>\n",
       "            <tr>\n",
       "                        <th id=\"T_cb427fec_de83_11e9_afeb_5cb901ac75b5level0_row1\" class=\"row_heading level0 row1\" >(2000, 3000]</th>\n",
       "                        <td id=\"T_cb427fec_de83_11e9_afeb_5cb901ac75b5row1_col0\" class=\"data row1 col0\" >50</td>\n",
       "                        <td id=\"T_cb427fec_de83_11e9_afeb_5cb901ac75b5row1_col1\" class=\"data row1 col1\" >61.0 %</td>\n",
       "            </tr>\n",
       "            <tr>\n",
       "                        <th id=\"T_cb427fec_de83_11e9_afeb_5cb901ac75b5level0_row2\" class=\"row_heading level0 row2\" >(3000, 4000]</th>\n",
       "                        <td id=\"T_cb427fec_de83_11e9_afeb_5cb901ac75b5row2_col0\" class=\"data row2 col0\" >8</td>\n",
       "                        <td id=\"T_cb427fec_de83_11e9_afeb_5cb901ac75b5row2_col1\" class=\"data row2 col1\" >9.8 %</td>\n",
       "            </tr>\n",
       "            <tr>\n",
       "                        <th id=\"T_cb427fec_de83_11e9_afeb_5cb901ac75b5level0_row3\" class=\"row_heading level0 row3\" >(4000, 7000]</th>\n",
       "                        <td id=\"T_cb427fec_de83_11e9_afeb_5cb901ac75b5row3_col0\" class=\"data row3 col0\" >5</td>\n",
       "                        <td id=\"T_cb427fec_de83_11e9_afeb_5cb901ac75b5row3_col1\" class=\"data row3 col1\" >6.1 %</td>\n",
       "            </tr>\n",
       "    </tbody></table>"
      ],
      "text/plain": [
       "<pandas.io.formats.style.Styler at 0x20024e63908>"
      ]
     },
     "execution_count": 3,
     "metadata": {},
     "output_type": "execute_result"
    }
   ],
   "source": [
    "# Määrittelen luokkarajat palkan luokittelemiseksi \n",
    "# Vaihtoehtoisesti voin antaa luokkien lukumäärän\n",
    "bins = [1000, 2000, 3000, 4000, 7000]\n",
    "\n",
    "# Lisään dataan palkkaluokka-sarakkeen\n",
    "df['Palkkaluokka'] = pd.cut(df['palkka'], bins = bins)\n",
    "\n",
    "# Palkkaluokkiin kuuluvien lukumäärät\n",
    "df1 = pd.crosstab(df['Palkkaluokka'], 'lkm')\n",
    "\n",
    "# Häiritsevän otsikon poistaminen\n",
    "df1.columns.name = ''\n",
    "\n",
    "# Prosentit\n",
    "df1['%'] = df1/n*100\n",
    "\n",
    "# Prosenttilukujen ulkoasun viimeistely\n",
    "df1.style.format({'%': '{:.1f} %'})"
   ]
  },
  {
   "cell_type": "code",
   "execution_count": 4,
   "metadata": {},
   "outputs": [
    {
     "data": {
      "text/plain": [
       "[Text(0, 0, '0 %'),\n",
       " Text(0, 0, '10 %'),\n",
       " Text(0, 0, '20 %'),\n",
       " Text(0, 0, '30 %'),\n",
       " Text(0, 0, '40 %'),\n",
       " Text(0, 0, '50 %'),\n",
       " Text(0, 0, '60 %'),\n",
       " Text(0, 0, '70 %')]"
      ]
     },
     "execution_count": 4,
     "metadata": {},
     "output_type": "execute_result"
    },
    {
     "data": {
      "image/png": "[encoded data removed]",
      "text/plain": [
       "<Figure size 432x288 with 1 Axes>"
      ]
     },
     "metadata": {
      "needs_background": "light"
     },
     "output_type": "display_data"
    }
   ],
   "source": [
    "# Prosentit pystypylväskaaviona\n",
    "# width=1 laittaa pylväät kiinni toisiinsa\n",
    "ax1 = df1['%'].plot.bar(width=1, rot=45)\n",
    "\n",
    "# y-akselin otsikko\n",
    "ax1.set_ylabel('Prosenttia, n='+str(n))\n",
    "\n",
    "# y-akselin prosenttilukujen ulkoasun viimeistely\n",
    "ax1.set_yticklabels(['{:.0f} %'.format(y) for y in ax1.get_yticks()])"
   ]
  },
  {
   "cell_type": "code",
   "execution_count": 5,
   "metadata": {},
   "outputs": [
    {
     "data": {
      "text/plain": [
       "Text(0, 0.5, 'Lukumäärä')"
      ]
     },
     "execution_count": 5,
     "metadata": {},
     "output_type": "execute_result"
    },
    {
     "data": {
      "image/png": "[encoded data removed]",
      "text/plain": [
       "<Figure size 432x288 with 1 Axes>"
      ]
     },
     "metadata": {
      "needs_background": "light"
     },
     "output_type": "display_data"
    }
   ],
   "source": [
    "# Nopein tapa luokitellun jakauman tarkasteluun on hist-kaavio\n",
    "# Vertaa edelliseen kaavioon!\n",
    "\n",
    "# Luokiteltu jakauma\n",
    "ax2 = df['palkka'].hist(bins=bins)\n",
    "\n",
    "# x- ja y-akselien otsikot\n",
    "ax2.set_xlabel('Palkka')\n",
    "ax2.set_ylabel('Lukumäärä')"
   ]
  },
  {
   "cell_type": "code",
   "execution_count": 6,
   "metadata": {},
   "outputs": [
    {
     "data": {
      "text/plain": [
       "[Text(0, 0, '0 %'),\n",
       " Text(0, 0, '10 %'),\n",
       " Text(0, 0, '20 %'),\n",
       " Text(0, 0, '30 %'),\n",
       " Text(0, 0, '40 %'),\n",
       " Text(0, 0, '50 %'),\n",
       " Text(0, 0, '60 %'),\n",
       " Text(0, 0, '70 %')]"
      ]
     },
     "execution_count": 6,
     "metadata": {},
     "output_type": "execute_result"
    },
    {
     "data": {
      "image/png": "[encoded data removed]",
      "text/plain": [
       "<Figure size 432x288 with 1 Axes>"
      ]
     },
     "metadata": {
      "needs_background": "light"
     },
     "output_type": "display_data"
    }
   ],
   "source": [
    "# np.ones kikalla prosentit hist-kaavioon\n",
    "# np.ones tuottaa n kpl ykkösiä, jolloin jokaiselle luokalle tulee painoksi 1/n\n",
    "\n",
    "# Histogrammi, jossa y-akselilla prosentit\n",
    "ax3 = df['palkka'].hist(bins=bins, weights=np.ones(n)/n)\n",
    "\n",
    "# Akselien otsikot\n",
    "ax3.set_xlabel('Palkka')\n",
    "ax3.set_ylabel('Prosenttia, n='+str(n))\n",
    "\n",
    "# y-akselin prosenttilukujen ulkoasun viimeistely\n",
    "ax3.set_yticklabels(['{:.0f} %'.format(y*100) for y in ax3.get_yticks()])"
   ]
  },
  {
   "cell_type": "code",
   "execution_count": 7,
   "metadata": {},
   "outputs": [
    {
     "data": {
      "text/html": [
       "<style  type=\"text/css\" >\n",
       "</style><table id=\"T_cbcc1ade_de83_11e9_825d_5cb901ac75b5\" ><thead>    <tr>        <th class=\"blank level0\" ></th>        <th class=\"col_heading level0 col0\" >Mies, n=63</th>        <th class=\"col_heading level0 col1\" >Nainen, n=19</th>    </tr>    <tr>        <th class=\"index_name level0\" >Palkkaluokka</th>        <th class=\"blank\" ></th>        <th class=\"blank\" ></th>    </tr></thead><tbody>\n",
       "                <tr>\n",
       "                        <th id=\"T_cbcc1ade_de83_11e9_825d_5cb901ac75b5level0_row0\" class=\"row_heading level0 row0\" >(1000, 2000]</th>\n",
       "                        <td id=\"T_cbcc1ade_de83_11e9_825d_5cb901ac75b5row0_col0\" class=\"data row0 col0\" >20.6 %</td>\n",
       "                        <td id=\"T_cbcc1ade_de83_11e9_825d_5cb901ac75b5row0_col1\" class=\"data row0 col1\" >31.6 %</td>\n",
       "            </tr>\n",
       "            <tr>\n",
       "                        <th id=\"T_cbcc1ade_de83_11e9_825d_5cb901ac75b5level0_row1\" class=\"row_heading level0 row1\" >(2000, 3000]</th>\n",
       "                        <td id=\"T_cbcc1ade_de83_11e9_825d_5cb901ac75b5row1_col0\" class=\"data row1 col0\" >58.7 %</td>\n",
       "                        <td id=\"T_cbcc1ade_de83_11e9_825d_5cb901ac75b5row1_col1\" class=\"data row1 col1\" >68.4 %</td>\n",
       "            </tr>\n",
       "            <tr>\n",
       "                        <th id=\"T_cbcc1ade_de83_11e9_825d_5cb901ac75b5level0_row2\" class=\"row_heading level0 row2\" >(3000, 4000]</th>\n",
       "                        <td id=\"T_cbcc1ade_de83_11e9_825d_5cb901ac75b5row2_col0\" class=\"data row2 col0\" >12.7 %</td>\n",
       "                        <td id=\"T_cbcc1ade_de83_11e9_825d_5cb901ac75b5row2_col1\" class=\"data row2 col1\" >0.0 %</td>\n",
       "            </tr>\n",
       "            <tr>\n",
       "                        <th id=\"T_cbcc1ade_de83_11e9_825d_5cb901ac75b5level0_row3\" class=\"row_heading level0 row3\" >(4000, 7000]</th>\n",
       "                        <td id=\"T_cbcc1ade_de83_11e9_825d_5cb901ac75b5row3_col0\" class=\"data row3 col0\" >7.9 %</td>\n",
       "                        <td id=\"T_cbcc1ade_de83_11e9_825d_5cb901ac75b5row3_col1\" class=\"data row3 col1\" >0.0 %</td>\n",
       "            </tr>\n",
       "    </tbody></table>"
      ],
      "text/plain": [
       "<pandas.io.formats.style.Styler at 0x200254c6b38>"
      ]
     },
     "execution_count": 7,
     "metadata": {},
     "output_type": "execute_result"
    }
   ],
   "source": [
    "# Luokiteltu jakauma sukupuolittain\n",
    "df2 = pd.crosstab(df['Palkkaluokka'], df['sukup'], normalize='columns')\n",
    "\n",
    "# Sarakeotsikot\n",
    "df2.columns = ['Mies, n='+str(miehet), 'Nainen, n='+str(naiset)]\n",
    "\n",
    "# Prosenttilukujen ulkoasun viimeistely\n",
    "(df2*100).style.format('{:.1f} %')"
   ]
  },
  {
   "cell_type": "code",
   "execution_count": 8,
   "metadata": {},
   "outputs": [
    {
     "data": {
      "text/plain": [
       "[Text(0, 0, '0 %'),\n",
       " Text(0, 0, '10 %'),\n",
       " Text(0, 0, '20 %'),\n",
       " Text(0, 0, '30 %'),\n",
       " Text(0, 0, '40 %'),\n",
       " Text(0, 0, '50 %'),\n",
       " Text(0, 0, '60 %'),\n",
       " Text(0, 0, '70 %')]"
      ]
     },
     "execution_count": 8,
     "metadata": {},
     "output_type": "execute_result"
    },
    {
     "data": {
      "image/png": "[encoded data removed]",
      "text/plain": [
       "<Figure size 432x288 with 1 Axes>"
      ]
     },
     "metadata": {
      "needs_background": "light"
     },
     "output_type": "display_data"
    }
   ],
   "source": [
    "# Miesten luokiteltu jakauma\n",
    "ax4 = df[df['sukup']==1]['palkka'].hist(bins=bins, weights=np.ones(miehet)/miehet)\n",
    "\n",
    "# Akselien otsikot\n",
    "ax4.set_xlabel('Palkka')\n",
    "ax4.set_ylabel('Prosenttia, n='+str(miehet))\n",
    "\n",
    "# y-akselin prosenttilukujen ulkoasun viimeistely\n",
    "ax4.set_yticklabels(['{:.0f} %'.format(y*100) for y in ax4.get_yticks()])"
   ]
  },
  {
   "cell_type": "code",
   "execution_count": 9,
   "metadata": {},
   "outputs": [
    {
     "data": {
      "text/plain": [
       "[Text(0, 0, '0 %'),\n",
       " Text(0, 0, '10 %'),\n",
       " Text(0, 0, '20 %'),\n",
       " Text(0, 0, '30 %'),\n",
       " Text(0, 0, '40 %'),\n",
       " Text(0, 0, '50 %'),\n",
       " Text(0, 0, '60 %'),\n",
       " Text(0, 0, '70 %'),\n",
       " Text(0, 0, '80 %')]"
      ]
     },
     "execution_count": 9,
     "metadata": {},
     "output_type": "execute_result"
    },
    {
     "data": {
      "image/png": "[encoded data removed]",
      "text/plain": [
       "<Figure size 432x288 with 1 Axes>"
      ]
     },
     "metadata": {
      "needs_background": "light"
     },
     "output_type": "display_data"
    }
   ],
   "source": [
    "# Naisten luokiteltu jakauma\n",
    "ax5 = df[df['sukup']==2]['palkka'].hist(bins=bins, weights=np.ones(naiset)/naiset)\n",
    "\n",
    "# Akselien otsikot\n",
    "ax5.set_xlabel('Palkka')\n",
    "ax5.set_ylabel('Prosenttia, n='+str(naiset))\n",
    "\n",
    "# y-akselin prosenttilukujen ulkoasun viimeistely\n",
    "ax5.set_yticklabels(['{:.0f} %'.format(y*100) for y in ax5.get_yticks()])"
   ]
  }
 ],
 "metadata": {
  "kernelspec": {
   "display_name": "Python 3",
   "language": "python",
   "name": "python3"
  },
  "language_info": {
   "codemirror_mode": {
    "name": "ipython",
    "version": 3
   },
   "file_extension": ".py",
   "mimetype": "text/x-python",
   "name": "python",
   "nbconvert_exporter": "python",
   "pygments_lexer": "ipython3",
   "version": "3.7.2"
  }
 },
 "nbformat": 4,
 "nbformat_minor": 2
}
