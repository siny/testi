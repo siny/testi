{
 "cells": [
  {
   "cell_type": "code",
   "execution_count": 1,
   "metadata": {},
   "outputs": [],
   "source": [
    "# Tuon tarvittavat kirjastot\n",
    "import numpy as np\n",
    "import pandas as pd\n",
    "import matplotlib.pyplot as plt\n",
    "\n",
    "# Kaavioiden automaattitulostus notebookiin ja kaavioiden tyyli\n",
    "%matplotlib inline\n",
    "plt.style.use('seaborn-whitegrid')"
   ]
  },
  {
   "cell_type": "markdown",
   "metadata": {},
   "source": [
    "<h2>Datan avaaminen, dataan tutustuminen ja datan valmistelu</h2>\n",
    "\n",
    "<ul><li><b>head()</b> ja <b>tail()</b> näyttävät data ensimmäisiä rivejä ja viimeisiä rivejä. Sulkuihin voin lisätä näytettävien rivien lukumäärän (oletus on viisi riviä).</li>\n",
    "    <li><b>columns</b> näyttää sarakkeiden (muuttujien) nimet.</li>\n",
    "    <li><b>count()</b> näyttää muuttujien arvojen lukumäärät.</li>\n",
    "    <li><b>np.unique()</b> näyttää muuttujien ainutkertaiset arvot.</li>\n",
    "    <li>Jos muuttujien numeroarvoilla on sanalliset nimet, niin ne kannattaa määritellä listoiksi. Listat on myöhemmin helppo sijoittaa tulostaulukoihin.</li>\n",
    "    <li><b>replace()</b>-funktiolla voin korvata muuttujien arvoja toisilla arvoilla.</li>\n",
    "    <li><b>rename()</b>-funktiolla voin nimetä muuttujia uudelleen.</li>"
   ]
  },
  {
   "cell_type": "code",
   "execution_count": 2,
   "metadata": {},
   "outputs": [
    {
     "data": {
      "text/html": [
       "<div>\n",
       "<style scoped>\n",
       "    .dataframe tbody tr th:only-of-type {\n",
       "        vertical-align: middle;\n",
       "    }\n",
       "\n",
       "    .dataframe tbody tr th {\n",
       "        vertical-align: top;\n",
       "    }\n",
       "\n",
       "    .dataframe thead th {\n",
       "        text-align: right;\n",
       "    }\n",
       "</style>\n",
       "<table border=\"1\" class=\"dataframe\">\n",
       "  <thead>\n",
       "    <tr style=\"text-align: right;\">\n",
       "      <th></th>\n",
       "      <th>nro</th>\n",
       "      <th>sukup</th>\n",
       "      <th>ikä</th>\n",
       "      <th>perhe</th>\n",
       "      <th>koulutus</th>\n",
       "      <th>palveluv</th>\n",
       "      <th>palkka</th>\n",
       "      <th>johto</th>\n",
       "      <th>työtov</th>\n",
       "      <th>työymp</th>\n",
       "      <th>palkkat</th>\n",
       "      <th>työteht</th>\n",
       "      <th>työterv</th>\n",
       "      <th>lomaosa</th>\n",
       "      <th>kuntosa</th>\n",
       "      <th>hieroja</th>\n",
       "    </tr>\n",
       "  </thead>\n",
       "  <tbody>\n",
       "    <tr>\n",
       "      <th>0</th>\n",
       "      <td>1</td>\n",
       "      <td>1</td>\n",
       "      <td>38</td>\n",
       "      <td>1</td>\n",
       "      <td>1.0</td>\n",
       "      <td>22.0</td>\n",
       "      <td>3587</td>\n",
       "      <td>3</td>\n",
       "      <td>3.0</td>\n",
       "      <td>3</td>\n",
       "      <td>3</td>\n",
       "      <td>3</td>\n",
       "      <td>NaN</td>\n",
       "      <td>NaN</td>\n",
       "      <td>NaN</td>\n",
       "      <td>NaN</td>\n",
       "    </tr>\n",
       "    <tr>\n",
       "      <th>1</th>\n",
       "      <td>2</td>\n",
       "      <td>1</td>\n",
       "      <td>29</td>\n",
       "      <td>2</td>\n",
       "      <td>2.0</td>\n",
       "      <td>10.0</td>\n",
       "      <td>2963</td>\n",
       "      <td>1</td>\n",
       "      <td>5.0</td>\n",
       "      <td>2</td>\n",
       "      <td>1</td>\n",
       "      <td>3</td>\n",
       "      <td>NaN</td>\n",
       "      <td>NaN</td>\n",
       "      <td>NaN</td>\n",
       "      <td>NaN</td>\n",
       "    </tr>\n",
       "    <tr>\n",
       "      <th>2</th>\n",
       "      <td>3</td>\n",
       "      <td>1</td>\n",
       "      <td>30</td>\n",
       "      <td>1</td>\n",
       "      <td>1.0</td>\n",
       "      <td>7.0</td>\n",
       "      <td>1989</td>\n",
       "      <td>3</td>\n",
       "      <td>4.0</td>\n",
       "      <td>1</td>\n",
       "      <td>1</td>\n",
       "      <td>3</td>\n",
       "      <td>1.0</td>\n",
       "      <td>NaN</td>\n",
       "      <td>NaN</td>\n",
       "      <td>NaN</td>\n",
       "    </tr>\n",
       "    <tr>\n",
       "      <th>3</th>\n",
       "      <td>4</td>\n",
       "      <td>1</td>\n",
       "      <td>36</td>\n",
       "      <td>2</td>\n",
       "      <td>1.0</td>\n",
       "      <td>14.0</td>\n",
       "      <td>2144</td>\n",
       "      <td>3</td>\n",
       "      <td>3.0</td>\n",
       "      <td>3</td>\n",
       "      <td>3</td>\n",
       "      <td>3</td>\n",
       "      <td>1.0</td>\n",
       "      <td>NaN</td>\n",
       "      <td>NaN</td>\n",
       "      <td>NaN</td>\n",
       "    </tr>\n",
       "    <tr>\n",
       "      <th>4</th>\n",
       "      <td>5</td>\n",
       "      <td>1</td>\n",
       "      <td>24</td>\n",
       "      <td>1</td>\n",
       "      <td>2.0</td>\n",
       "      <td>4.0</td>\n",
       "      <td>2183</td>\n",
       "      <td>2</td>\n",
       "      <td>3.0</td>\n",
       "      <td>2</td>\n",
       "      <td>1</td>\n",
       "      <td>2</td>\n",
       "      <td>1.0</td>\n",
       "      <td>NaN</td>\n",
       "      <td>NaN</td>\n",
       "      <td>NaN</td>\n",
       "    </tr>\n",
       "  </tbody>\n",
       "</table>\n",
       "</div>"
      ],
      "text/plain": [
       "   nro  sukup  ikä  perhe  koulutus  palveluv  palkka  johto  työtov  työymp  \\\n",
       "0    1      1   38      1       1.0      22.0    3587      3     3.0       3   \n",
       "1    2      1   29      2       2.0      10.0    2963      1     5.0       2   \n",
       "2    3      1   30      1       1.0       7.0    1989      3     4.0       1   \n",
       "3    4      1   36      2       1.0      14.0    2144      3     3.0       3   \n",
       "4    5      1   24      1       2.0       4.0    2183      2     3.0       2   \n",
       "\n",
       "   palkkat  työteht  työterv  lomaosa  kuntosa  hieroja  \n",
       "0        3        3      NaN      NaN      NaN      NaN  \n",
       "1        1        3      NaN      NaN      NaN      NaN  \n",
       "2        1        3      1.0      NaN      NaN      NaN  \n",
       "3        3        3      1.0      NaN      NaN      NaN  \n",
       "4        1        2      1.0      NaN      NaN      NaN  "
      ]
     },
     "execution_count": 2,
     "metadata": {},
     "output_type": "execute_result"
    }
   ],
   "source": [
    "# Avaan Excel-datan dataframeen ja katson viisi ensimmäistä riviä\n",
    "df = pd.read_excel('http://taanila.fi/data1.xlsx')\n",
    "df.head()"
   ]
  },
  {
   "cell_type": "code",
   "execution_count": 3,
   "metadata": {},
   "outputs": [
    {
     "data": {
      "text/html": [
       "<div>\n",
       "<style scoped>\n",
       "    .dataframe tbody tr th:only-of-type {\n",
       "        vertical-align: middle;\n",
       "    }\n",
       "\n",
       "    .dataframe tbody tr th {\n",
       "        vertical-align: top;\n",
       "    }\n",
       "\n",
       "    .dataframe thead th {\n",
       "        text-align: right;\n",
       "    }\n",
       "</style>\n",
       "<table border=\"1\" class=\"dataframe\">\n",
       "  <thead>\n",
       "    <tr style=\"text-align: right;\">\n",
       "      <th></th>\n",
       "      <th>nro</th>\n",
       "      <th>sukup</th>\n",
       "      <th>ikä</th>\n",
       "      <th>perhe</th>\n",
       "      <th>koulutus</th>\n",
       "      <th>palveluv</th>\n",
       "      <th>palkka</th>\n",
       "      <th>johto</th>\n",
       "      <th>työtov</th>\n",
       "      <th>työymp</th>\n",
       "      <th>palkkat</th>\n",
       "      <th>työteht</th>\n",
       "      <th>työterv</th>\n",
       "      <th>lomaosa</th>\n",
       "      <th>kuntosa</th>\n",
       "      <th>hieroja</th>\n",
       "    </tr>\n",
       "  </thead>\n",
       "  <tbody>\n",
       "    <tr>\n",
       "      <th>77</th>\n",
       "      <td>78</td>\n",
       "      <td>1</td>\n",
       "      <td>22</td>\n",
       "      <td>1</td>\n",
       "      <td>3.0</td>\n",
       "      <td>0.0</td>\n",
       "      <td>1598</td>\n",
       "      <td>4</td>\n",
       "      <td>4.0</td>\n",
       "      <td>4</td>\n",
       "      <td>3</td>\n",
       "      <td>4</td>\n",
       "      <td>NaN</td>\n",
       "      <td>1.0</td>\n",
       "      <td>1.0</td>\n",
       "      <td>NaN</td>\n",
       "    </tr>\n",
       "    <tr>\n",
       "      <th>78</th>\n",
       "      <td>79</td>\n",
       "      <td>1</td>\n",
       "      <td>33</td>\n",
       "      <td>1</td>\n",
       "      <td>1.0</td>\n",
       "      <td>2.0</td>\n",
       "      <td>1638</td>\n",
       "      <td>1</td>\n",
       "      <td>3.0</td>\n",
       "      <td>2</td>\n",
       "      <td>1</td>\n",
       "      <td>2</td>\n",
       "      <td>1.0</td>\n",
       "      <td>NaN</td>\n",
       "      <td>NaN</td>\n",
       "      <td>NaN</td>\n",
       "    </tr>\n",
       "    <tr>\n",
       "      <th>79</th>\n",
       "      <td>80</td>\n",
       "      <td>1</td>\n",
       "      <td>27</td>\n",
       "      <td>1</td>\n",
       "      <td>2.0</td>\n",
       "      <td>7.0</td>\n",
       "      <td>2612</td>\n",
       "      <td>3</td>\n",
       "      <td>4.0</td>\n",
       "      <td>3</td>\n",
       "      <td>3</td>\n",
       "      <td>3</td>\n",
       "      <td>1.0</td>\n",
       "      <td>NaN</td>\n",
       "      <td>1.0</td>\n",
       "      <td>NaN</td>\n",
       "    </tr>\n",
       "    <tr>\n",
       "      <th>80</th>\n",
       "      <td>81</td>\n",
       "      <td>1</td>\n",
       "      <td>35</td>\n",
       "      <td>2</td>\n",
       "      <td>2.0</td>\n",
       "      <td>16.0</td>\n",
       "      <td>2808</td>\n",
       "      <td>3</td>\n",
       "      <td>4.0</td>\n",
       "      <td>3</td>\n",
       "      <td>3</td>\n",
       "      <td>3</td>\n",
       "      <td>NaN</td>\n",
       "      <td>NaN</td>\n",
       "      <td>NaN</td>\n",
       "      <td>NaN</td>\n",
       "    </tr>\n",
       "    <tr>\n",
       "      <th>81</th>\n",
       "      <td>82</td>\n",
       "      <td>2</td>\n",
       "      <td>35</td>\n",
       "      <td>2</td>\n",
       "      <td>3.0</td>\n",
       "      <td>15.0</td>\n",
       "      <td>2183</td>\n",
       "      <td>3</td>\n",
       "      <td>4.0</td>\n",
       "      <td>4</td>\n",
       "      <td>3</td>\n",
       "      <td>4</td>\n",
       "      <td>1.0</td>\n",
       "      <td>NaN</td>\n",
       "      <td>NaN</td>\n",
       "      <td>NaN</td>\n",
       "    </tr>\n",
       "  </tbody>\n",
       "</table>\n",
       "</div>"
      ],
      "text/plain": [
       "    nro  sukup  ikä  perhe  koulutus  palveluv  palkka  johto  työtov  työymp  \\\n",
       "77   78      1   22      1       3.0       0.0    1598      4     4.0       4   \n",
       "78   79      1   33      1       1.0       2.0    1638      1     3.0       2   \n",
       "79   80      1   27      1       2.0       7.0    2612      3     4.0       3   \n",
       "80   81      1   35      2       2.0      16.0    2808      3     4.0       3   \n",
       "81   82      2   35      2       3.0      15.0    2183      3     4.0       4   \n",
       "\n",
       "    palkkat  työteht  työterv  lomaosa  kuntosa  hieroja  \n",
       "77        3        4      NaN      1.0      1.0      NaN  \n",
       "78        1        2      1.0      NaN      NaN      NaN  \n",
       "79        3        3      1.0      NaN      1.0      NaN  \n",
       "80        3        3      NaN      NaN      NaN      NaN  \n",
       "81        3        4      1.0      NaN      NaN      NaN  "
      ]
     },
     "execution_count": 3,
     "metadata": {},
     "output_type": "execute_result"
    }
   ],
   "source": [
    "# Datan viisi viimeistä riviä\n",
    "df.tail()"
   ]
  },
  {
   "cell_type": "code",
   "execution_count": 4,
   "metadata": {},
   "outputs": [
    {
     "data": {
      "text/plain": [
       "Index(['nro', 'sukup', 'ikä', 'perhe', 'koulutus', 'palveluv', 'palkka',\n",
       "       'johto', 'työtov', 'työymp', 'palkkat', 'työteht', 'työterv', 'lomaosa',\n",
       "       'kuntosa', 'hieroja'],\n",
       "      dtype='object')"
      ]
     },
     "execution_count": 4,
     "metadata": {},
     "output_type": "execute_result"
    }
   ],
   "source": [
    "# Datan sarakkeet (muuttujat)\n",
    "df.columns"
   ]
  },
  {
   "cell_type": "code",
   "execution_count": 5,
   "metadata": {},
   "outputs": [
    {
     "data": {
      "text/plain": [
       "nro         82\n",
       "sukup       82\n",
       "ikä         82\n",
       "perhe       82\n",
       "koulutus    81\n",
       "palveluv    80\n",
       "palkka      82\n",
       "johto       82\n",
       "työtov      81\n",
       "työymp      82\n",
       "palkkat     82\n",
       "työteht     82\n",
       "työterv     47\n",
       "lomaosa     20\n",
       "kuntosa      9\n",
       "hieroja     22\n",
       "dtype: int64"
      ]
     },
     "execution_count": 5,
     "metadata": {},
     "output_type": "execute_result"
    }
   ],
   "source": [
    "# Arvojen lukumäärät sarakkeissa\n",
    "df.count()"
   ]
  },
  {
   "cell_type": "code",
   "execution_count": 6,
   "metadata": {},
   "outputs": [
    {
     "name": "stdout",
     "output_type": "stream",
     "text": [
      "nro [ 1  2  3  4  5  6  7  8  9 10 11 12 13 14 15 16 17 18 19 20 21 22 23 24\n",
      " 25 26 27 28 29 30 31 32 33 34 35 36 37 38 39 40 41 42 43 44 45 46 47 48\n",
      " 49 50 51 52 53 54 55 56 57 58 59 60 61 62 63 64 65 66 67 68 69 70 71 72\n",
      " 73 74 75 76 77 78 79 80 81 82]\n",
      "sukup [1 2]\n",
      "ikä [20 21 22 24 25 26 27 28 29 30 31 32 33 34 35 36 37 38 39 40 41 42 43 44\n",
      " 45 46 47 49 50 51 52 53 55 56 58 59 61]\n",
      "perhe [1 2]\n",
      "koulutus [ 1.  2.  3.  4. nan]\n",
      "palveluv [ 0.  1.  2.  3.  4.  5.  6.  7.  8.  9. 10. 12. 13. 14. 15. 16. 17. 18.\n",
      " 19. 20. 21. 22. 23. 24. 27. 28. 35. 36. nan nan]\n",
      "palkka [1521 1559 1598 1638 1715 1872 1910 1949 1989 2027 2066 2106 2144 2183\n",
      " 2223 2261 2300 2340 2417 2457 2495 2534 2574 2612 2651 2691 2729 2768\n",
      " 2808 2846 2925 2963 3119 3393 3470 3510 3587 4446 4874 5069 5225 6278]\n",
      "johto [1 2 3 4 5]\n",
      "työtov [ 2.  3.  4.  5. nan]\n",
      "työymp [1 2 3 4 5]\n",
      "palkkat [1 2 3 4 5]\n",
      "työteht [1 2 3 4 5]\n",
      "työterv [ 1. nan nan nan nan nan nan nan nan nan nan nan nan nan nan nan nan nan\n",
      " nan nan nan nan nan nan nan nan nan nan nan nan nan nan nan nan nan nan]\n",
      "lomaosa [ 1. nan nan nan nan nan nan nan nan nan nan nan nan nan nan nan nan nan\n",
      " nan nan nan nan nan nan nan nan nan nan nan nan nan nan nan nan nan nan\n",
      " nan nan nan nan nan nan nan nan nan nan nan nan nan nan nan nan nan nan\n",
      " nan nan nan nan nan nan nan nan nan]\n",
      "kuntosa [ 1. nan nan nan nan nan nan nan nan nan nan nan nan nan nan nan nan nan\n",
      " nan nan nan nan nan nan nan nan nan nan nan nan nan nan nan nan nan nan\n",
      " nan nan nan nan nan nan nan nan nan nan nan nan nan nan nan nan nan nan\n",
      " nan nan nan nan nan nan nan nan nan nan nan nan nan nan nan nan nan nan\n",
      " nan nan]\n",
      "hieroja [ 1. nan nan nan nan nan nan nan nan nan nan nan nan nan nan nan nan nan\n",
      " nan nan nan nan nan nan nan nan nan nan nan nan nan nan nan nan nan nan\n",
      " nan nan nan nan nan nan nan nan nan nan nan nan nan nan nan nan nan nan\n",
      " nan nan nan nan nan nan nan]\n"
     ]
    }
   ],
   "source": [
    "# Ainutkertaiset arvot sarakkeissa; myös puuttuvat arvot (nan) selviävät tästä\n",
    "for var in df:\n",
    "    print(var, np.unique(df[var]))"
   ]
  },
  {
   "cell_type": "code",
   "execution_count": 7,
   "metadata": {},
   "outputs": [],
   "source": [
    "# Näitä listoja hyödynnän taulukoiden ja kuvioiden viimeistelyssä\n",
    "# Datassa arvot ovat numeroina\n",
    "\n",
    "koulutus = ['Peruskoulu', '2. aste', 'Korkeakoulu', 'Ylempi korkeakoulu']\n",
    "\n",
    "perhe = ['Perheetön', 'Perheellinen']\n",
    "\n",
    "sukup = ['Mies', 'Nainen']\n",
    "\n",
    "tyytyväisyys = ['Erittäin tyytymätön', 'Jokseenkin tyytymätön', 'Ei tyytymätön eikä tyytyväinen', \n",
    "                'Jokseenkin tyytyväinen', 'Erittäin tyytyväinen']"
   ]
  },
  {
   "cell_type": "code",
   "execution_count": 8,
   "metadata": {},
   "outputs": [
    {
     "data": {
      "text/html": [
       "<div>\n",
       "<style scoped>\n",
       "    .dataframe tbody tr th:only-of-type {\n",
       "        vertical-align: middle;\n",
       "    }\n",
       "\n",
       "    .dataframe tbody tr th {\n",
       "        vertical-align: top;\n",
       "    }\n",
       "\n",
       "    .dataframe thead th {\n",
       "        text-align: right;\n",
       "    }\n",
       "</style>\n",
       "<table border=\"1\" class=\"dataframe\">\n",
       "  <thead>\n",
       "    <tr style=\"text-align: right;\">\n",
       "      <th></th>\n",
       "      <th>nro</th>\n",
       "      <th>sukup</th>\n",
       "      <th>ikä</th>\n",
       "      <th>perhe</th>\n",
       "      <th>koulutus</th>\n",
       "      <th>palveluv</th>\n",
       "      <th>palkka</th>\n",
       "      <th>johto</th>\n",
       "      <th>työtov</th>\n",
       "      <th>työymp</th>\n",
       "      <th>palkkat</th>\n",
       "      <th>työteht</th>\n",
       "      <th>työterv</th>\n",
       "      <th>lomaosa</th>\n",
       "      <th>kuntosa</th>\n",
       "      <th>hieroja</th>\n",
       "      <th>sukup2</th>\n",
       "    </tr>\n",
       "  </thead>\n",
       "  <tbody>\n",
       "    <tr>\n",
       "      <th>0</th>\n",
       "      <td>1</td>\n",
       "      <td>1</td>\n",
       "      <td>38</td>\n",
       "      <td>1</td>\n",
       "      <td>1.0</td>\n",
       "      <td>22.0</td>\n",
       "      <td>3587</td>\n",
       "      <td>3</td>\n",
       "      <td>3.0</td>\n",
       "      <td>3</td>\n",
       "      <td>3</td>\n",
       "      <td>3</td>\n",
       "      <td>NaN</td>\n",
       "      <td>NaN</td>\n",
       "      <td>NaN</td>\n",
       "      <td>NaN</td>\n",
       "      <td>Mies</td>\n",
       "    </tr>\n",
       "    <tr>\n",
       "      <th>1</th>\n",
       "      <td>2</td>\n",
       "      <td>1</td>\n",
       "      <td>29</td>\n",
       "      <td>2</td>\n",
       "      <td>2.0</td>\n",
       "      <td>10.0</td>\n",
       "      <td>2963</td>\n",
       "      <td>1</td>\n",
       "      <td>5.0</td>\n",
       "      <td>2</td>\n",
       "      <td>1</td>\n",
       "      <td>3</td>\n",
       "      <td>NaN</td>\n",
       "      <td>NaN</td>\n",
       "      <td>NaN</td>\n",
       "      <td>NaN</td>\n",
       "      <td>Mies</td>\n",
       "    </tr>\n",
       "    <tr>\n",
       "      <th>2</th>\n",
       "      <td>3</td>\n",
       "      <td>1</td>\n",
       "      <td>30</td>\n",
       "      <td>1</td>\n",
       "      <td>1.0</td>\n",
       "      <td>7.0</td>\n",
       "      <td>1989</td>\n",
       "      <td>3</td>\n",
       "      <td>4.0</td>\n",
       "      <td>1</td>\n",
       "      <td>1</td>\n",
       "      <td>3</td>\n",
       "      <td>1.0</td>\n",
       "      <td>NaN</td>\n",
       "      <td>NaN</td>\n",
       "      <td>NaN</td>\n",
       "      <td>Mies</td>\n",
       "    </tr>\n",
       "    <tr>\n",
       "      <th>3</th>\n",
       "      <td>4</td>\n",
       "      <td>1</td>\n",
       "      <td>36</td>\n",
       "      <td>2</td>\n",
       "      <td>1.0</td>\n",
       "      <td>14.0</td>\n",
       "      <td>2144</td>\n",
       "      <td>3</td>\n",
       "      <td>3.0</td>\n",
       "      <td>3</td>\n",
       "      <td>3</td>\n",
       "      <td>3</td>\n",
       "      <td>1.0</td>\n",
       "      <td>NaN</td>\n",
       "      <td>NaN</td>\n",
       "      <td>NaN</td>\n",
       "      <td>Mies</td>\n",
       "    </tr>\n",
       "    <tr>\n",
       "      <th>4</th>\n",
       "      <td>5</td>\n",
       "      <td>1</td>\n",
       "      <td>24</td>\n",
       "      <td>1</td>\n",
       "      <td>2.0</td>\n",
       "      <td>4.0</td>\n",
       "      <td>2183</td>\n",
       "      <td>2</td>\n",
       "      <td>3.0</td>\n",
       "      <td>2</td>\n",
       "      <td>1</td>\n",
       "      <td>2</td>\n",
       "      <td>1.0</td>\n",
       "      <td>NaN</td>\n",
       "      <td>NaN</td>\n",
       "      <td>NaN</td>\n",
       "      <td>Mies</td>\n",
       "    </tr>\n",
       "    <tr>\n",
       "      <th>5</th>\n",
       "      <td>6</td>\n",
       "      <td>2</td>\n",
       "      <td>31</td>\n",
       "      <td>2</td>\n",
       "      <td>2.0</td>\n",
       "      <td>14.0</td>\n",
       "      <td>1910</td>\n",
       "      <td>4</td>\n",
       "      <td>4.0</td>\n",
       "      <td>5</td>\n",
       "      <td>2</td>\n",
       "      <td>4</td>\n",
       "      <td>1.0</td>\n",
       "      <td>1.0</td>\n",
       "      <td>NaN</td>\n",
       "      <td>NaN</td>\n",
       "      <td>Nainen</td>\n",
       "    </tr>\n",
       "  </tbody>\n",
       "</table>\n",
       "</div>"
      ],
      "text/plain": [
       "   nro  sukup  ikä  perhe  koulutus  palveluv  palkka  johto  työtov  työymp  \\\n",
       "0    1      1   38      1       1.0      22.0    3587      3     3.0       3   \n",
       "1    2      1   29      2       2.0      10.0    2963      1     5.0       2   \n",
       "2    3      1   30      1       1.0       7.0    1989      3     4.0       1   \n",
       "3    4      1   36      2       1.0      14.0    2144      3     3.0       3   \n",
       "4    5      1   24      1       2.0       4.0    2183      2     3.0       2   \n",
       "5    6      2   31      2       2.0      14.0    1910      4     4.0       5   \n",
       "\n",
       "   palkkat  työteht  työterv  lomaosa  kuntosa  hieroja  sukup2  \n",
       "0        3        3      NaN      NaN      NaN      NaN    Mies  \n",
       "1        1        3      NaN      NaN      NaN      NaN    Mies  \n",
       "2        1        3      1.0      NaN      NaN      NaN    Mies  \n",
       "3        3        3      1.0      NaN      NaN      NaN    Mies  \n",
       "4        1        2      1.0      NaN      NaN      NaN    Mies  \n",
       "5        2        4      1.0      1.0      NaN      NaN  Nainen  "
      ]
     },
     "execution_count": 8,
     "metadata": {},
     "output_type": "execute_result"
    }
   ],
   "source": [
    "# Voin tehdä uusia muuttujia uudelleen koodaamalla olemassa olevia\n",
    "df['sukup2']=df['sukup'].replace({1 : 'Mies', 2 : 'Nainen'})\n",
    "df.head(6)"
   ]
  },
  {
   "cell_type": "code",
   "execution_count": 9,
   "metadata": {},
   "outputs": [
    {
     "data": {
      "text/html": [
       "<div>\n",
       "<style scoped>\n",
       "    .dataframe tbody tr th:only-of-type {\n",
       "        vertical-align: middle;\n",
       "    }\n",
       "\n",
       "    .dataframe tbody tr th {\n",
       "        vertical-align: top;\n",
       "    }\n",
       "\n",
       "    .dataframe thead th {\n",
       "        text-align: right;\n",
       "    }\n",
       "</style>\n",
       "<table border=\"1\" class=\"dataframe\">\n",
       "  <thead>\n",
       "    <tr style=\"text-align: right;\">\n",
       "      <th></th>\n",
       "      <th>nro</th>\n",
       "      <th>sukup</th>\n",
       "      <th>ikä</th>\n",
       "      <th>perhe</th>\n",
       "      <th>koulutus</th>\n",
       "      <th>palveluv</th>\n",
       "      <th>palkka</th>\n",
       "      <th>johto</th>\n",
       "      <th>työtov</th>\n",
       "      <th>työymp</th>\n",
       "      <th>palkkat</th>\n",
       "      <th>työteht</th>\n",
       "      <th>työterv</th>\n",
       "      <th>lomaosa</th>\n",
       "      <th>kuntosa</th>\n",
       "      <th>hieroja</th>\n",
       "      <th>sukup_teksti</th>\n",
       "    </tr>\n",
       "  </thead>\n",
       "  <tbody>\n",
       "    <tr>\n",
       "      <th>0</th>\n",
       "      <td>1</td>\n",
       "      <td>1</td>\n",
       "      <td>38</td>\n",
       "      <td>1</td>\n",
       "      <td>1.0</td>\n",
       "      <td>22.0</td>\n",
       "      <td>3587</td>\n",
       "      <td>3</td>\n",
       "      <td>3.0</td>\n",
       "      <td>3</td>\n",
       "      <td>3</td>\n",
       "      <td>3</td>\n",
       "      <td>NaN</td>\n",
       "      <td>NaN</td>\n",
       "      <td>NaN</td>\n",
       "      <td>NaN</td>\n",
       "      <td>Mies</td>\n",
       "    </tr>\n",
       "    <tr>\n",
       "      <th>1</th>\n",
       "      <td>2</td>\n",
       "      <td>1</td>\n",
       "      <td>29</td>\n",
       "      <td>2</td>\n",
       "      <td>2.0</td>\n",
       "      <td>10.0</td>\n",
       "      <td>2963</td>\n",
       "      <td>1</td>\n",
       "      <td>5.0</td>\n",
       "      <td>2</td>\n",
       "      <td>1</td>\n",
       "      <td>3</td>\n",
       "      <td>NaN</td>\n",
       "      <td>NaN</td>\n",
       "      <td>NaN</td>\n",
       "      <td>NaN</td>\n",
       "      <td>Mies</td>\n",
       "    </tr>\n",
       "    <tr>\n",
       "      <th>2</th>\n",
       "      <td>3</td>\n",
       "      <td>1</td>\n",
       "      <td>30</td>\n",
       "      <td>1</td>\n",
       "      <td>1.0</td>\n",
       "      <td>7.0</td>\n",
       "      <td>1989</td>\n",
       "      <td>3</td>\n",
       "      <td>4.0</td>\n",
       "      <td>1</td>\n",
       "      <td>1</td>\n",
       "      <td>3</td>\n",
       "      <td>1.0</td>\n",
       "      <td>NaN</td>\n",
       "      <td>NaN</td>\n",
       "      <td>NaN</td>\n",
       "      <td>Mies</td>\n",
       "    </tr>\n",
       "    <tr>\n",
       "      <th>3</th>\n",
       "      <td>4</td>\n",
       "      <td>1</td>\n",
       "      <td>36</td>\n",
       "      <td>2</td>\n",
       "      <td>1.0</td>\n",
       "      <td>14.0</td>\n",
       "      <td>2144</td>\n",
       "      <td>3</td>\n",
       "      <td>3.0</td>\n",
       "      <td>3</td>\n",
       "      <td>3</td>\n",
       "      <td>3</td>\n",
       "      <td>1.0</td>\n",
       "      <td>NaN</td>\n",
       "      <td>NaN</td>\n",
       "      <td>NaN</td>\n",
       "      <td>Mies</td>\n",
       "    </tr>\n",
       "    <tr>\n",
       "      <th>4</th>\n",
       "      <td>5</td>\n",
       "      <td>1</td>\n",
       "      <td>24</td>\n",
       "      <td>1</td>\n",
       "      <td>2.0</td>\n",
       "      <td>4.0</td>\n",
       "      <td>2183</td>\n",
       "      <td>2</td>\n",
       "      <td>3.0</td>\n",
       "      <td>2</td>\n",
       "      <td>1</td>\n",
       "      <td>2</td>\n",
       "      <td>1.0</td>\n",
       "      <td>NaN</td>\n",
       "      <td>NaN</td>\n",
       "      <td>NaN</td>\n",
       "      <td>Mies</td>\n",
       "    </tr>\n",
       "  </tbody>\n",
       "</table>\n",
       "</div>"
      ],
      "text/plain": [
       "   nro  sukup  ikä  perhe  koulutus  palveluv  palkka  johto  työtov  työymp  \\\n",
       "0    1      1   38      1       1.0      22.0    3587      3     3.0       3   \n",
       "1    2      1   29      2       2.0      10.0    2963      1     5.0       2   \n",
       "2    3      1   30      1       1.0       7.0    1989      3     4.0       1   \n",
       "3    4      1   36      2       1.0      14.0    2144      3     3.0       3   \n",
       "4    5      1   24      1       2.0       4.0    2183      2     3.0       2   \n",
       "\n",
       "   palkkat  työteht  työterv  lomaosa  kuntosa  hieroja sukup_teksti  \n",
       "0        3        3      NaN      NaN      NaN      NaN         Mies  \n",
       "1        1        3      NaN      NaN      NaN      NaN         Mies  \n",
       "2        1        3      1.0      NaN      NaN      NaN         Mies  \n",
       "3        3        3      1.0      NaN      NaN      NaN         Mies  \n",
       "4        1        2      1.0      NaN      NaN      NaN         Mies  "
      ]
     },
     "execution_count": 9,
     "metadata": {},
     "output_type": "execute_result"
    }
   ],
   "source": [
    "# Tarvittaessa voin vaihtaa muuttujien nimiä\n",
    "df.rename(columns = {'sukup2': 'sukup_teksti'}, inplace = True)\n",
    "\n",
    "df.head()"
   ]
  },
  {
   "cell_type": "markdown",
   "metadata": {},
   "source": [
    "<h2>Lukumääriä ja prosentteja</h2>\n",
    "\n",
    "<ul><li>Frekvenssitaulukot ja ristiintaulukoinnit saan yleensä helpoimmin <b>crosstab</b>-funktiolla.</li>\n",
    "    <li>Monivalintojen lukumäärät lasken <b>count</b>-funktiolla.</li>\n",
    "    <li>Useamman mielipideasteikollisen muuttujan yhteenveto samaan taulukkoon onnistuu \n",
    "        <b>value_counts</b>-funktiolla.</li>\n",
    "    <li>Kaavioiksi sopii vaakapylväät (<b>barh</b>) ja pystypylväät (<b>bar</b>)</li></ul>"
   ]
  },
  {
   "cell_type": "code",
   "execution_count": 10,
   "metadata": {},
   "outputs": [
    {
     "data": {
      "text/html": [
       "<div>\n",
       "<style scoped>\n",
       "    .dataframe tbody tr th:only-of-type {\n",
       "        vertical-align: middle;\n",
       "    }\n",
       "\n",
       "    .dataframe tbody tr th {\n",
       "        vertical-align: top;\n",
       "    }\n",
       "\n",
       "    .dataframe thead th {\n",
       "        text-align: right;\n",
       "    }\n",
       "</style>\n",
       "<table border=\"1\" class=\"dataframe\">\n",
       "  <thead>\n",
       "    <tr style=\"text-align: right;\">\n",
       "      <th></th>\n",
       "      <th>n</th>\n",
       "    </tr>\n",
       "  </thead>\n",
       "  <tbody>\n",
       "    <tr>\n",
       "      <th>Peruskoulu</th>\n",
       "      <td>27</td>\n",
       "    </tr>\n",
       "    <tr>\n",
       "      <th>2. aste</th>\n",
       "      <td>30</td>\n",
       "    </tr>\n",
       "    <tr>\n",
       "      <th>Korkeakoulu</th>\n",
       "      <td>22</td>\n",
       "    </tr>\n",
       "    <tr>\n",
       "      <th>Ylempi korkeakoulu</th>\n",
       "      <td>2</td>\n",
       "    </tr>\n",
       "  </tbody>\n",
       "</table>\n",
       "</div>"
      ],
      "text/plain": [
       "                     n\n",
       "Peruskoulu          27\n",
       "2. aste             30\n",
       "Korkeakoulu         22\n",
       "Ylempi korkeakoulu   2"
      ]
     },
     "execution_count": 10,
     "metadata": {},
     "output_type": "execute_result"
    }
   ],
   "source": [
    "# crosstab() sopii lukumäärien laskemiseen\n",
    "df1 = pd.crosstab(df['koulutus'], 'n')\n",
    "\n",
    "# Korvaan riviotsikot aiemmin määritellyllä koulutus-listalla\n",
    "df1.index = koulutus\n",
    "\n",
    "# Poistan vasemmasta yläkulmasta häiritsevän otsikon\n",
    "df1.columns.name = ''\n",
    "\n",
    "df1"
   ]
  },
  {
   "cell_type": "code",
   "execution_count": 11,
   "metadata": {},
   "outputs": [
    {
     "data": {
      "text/html": [
       "<style  type=\"text/css\" >\n",
       "</style><table id=\"T_a50814a8_11cc_11ea_9d32_d8fc933d7534\" ><thead>    <tr>        <th class=\"index_name level0\" ></th>        <th class=\"col_heading level0 col0\" >n</th>        <th class=\"col_heading level0 col1\" >%</th>    </tr></thead><tbody>\n",
       "                <tr>\n",
       "                        <th id=\"T_a50814a8_11cc_11ea_9d32_d8fc933d7534level0_row0\" class=\"row_heading level0 row0\" >Peruskoulu</th>\n",
       "                        <td id=\"T_a50814a8_11cc_11ea_9d32_d8fc933d7534row0_col0\" class=\"data row0 col0\" >27</td>\n",
       "                        <td id=\"T_a50814a8_11cc_11ea_9d32_d8fc933d7534row0_col1\" class=\"data row0 col1\" >33.3 %</td>\n",
       "            </tr>\n",
       "            <tr>\n",
       "                        <th id=\"T_a50814a8_11cc_11ea_9d32_d8fc933d7534level0_row1\" class=\"row_heading level0 row1\" >2. aste</th>\n",
       "                        <td id=\"T_a50814a8_11cc_11ea_9d32_d8fc933d7534row1_col0\" class=\"data row1 col0\" >30</td>\n",
       "                        <td id=\"T_a50814a8_11cc_11ea_9d32_d8fc933d7534row1_col1\" class=\"data row1 col1\" >37.0 %</td>\n",
       "            </tr>\n",
       "            <tr>\n",
       "                        <th id=\"T_a50814a8_11cc_11ea_9d32_d8fc933d7534level0_row2\" class=\"row_heading level0 row2\" >Korkeakoulu</th>\n",
       "                        <td id=\"T_a50814a8_11cc_11ea_9d32_d8fc933d7534row2_col0\" class=\"data row2 col0\" >22</td>\n",
       "                        <td id=\"T_a50814a8_11cc_11ea_9d32_d8fc933d7534row2_col1\" class=\"data row2 col1\" >27.2 %</td>\n",
       "            </tr>\n",
       "            <tr>\n",
       "                        <th id=\"T_a50814a8_11cc_11ea_9d32_d8fc933d7534level0_row3\" class=\"row_heading level0 row3\" >Ylempi korkeakoulu</th>\n",
       "                        <td id=\"T_a50814a8_11cc_11ea_9d32_d8fc933d7534row3_col0\" class=\"data row3 col0\" >2</td>\n",
       "                        <td id=\"T_a50814a8_11cc_11ea_9d32_d8fc933d7534row3_col1\" class=\"data row3 col1\" >2.5 %</td>\n",
       "            </tr>\n",
       "    </tbody></table>"
      ],
      "text/plain": [
       "<pandas.io.formats.style.Styler at 0x1900a7ddc18>"
      ]
     },
     "execution_count": 11,
     "metadata": {},
     "output_type": "execute_result"
    }
   ],
   "source": [
    "# Lasken prosentit\n",
    "df1['%'] = df1/df1.sum()*100\n",
    "\n",
    "# Muotoilen prosentit yhden desimaalin tarkkuuteen\n",
    "# Suomen kielessä lukuarvon ja prosenttimerkin välissä on välilyönti\n",
    "df1.style.format({'%': '{:.1f} %'})"
   ]
  },
  {
   "cell_type": "code",
   "execution_count": 12,
   "metadata": {
    "scrolled": true
   },
   "outputs": [
    {
     "data": {
      "text/plain": [
       "[Text(0, 0, '0 %'),\n",
       " Text(0, 0, '5 %'),\n",
       " Text(0, 0, '10 %'),\n",
       " Text(0, 0, '15 %'),\n",
       " Text(0, 0, '20 %'),\n",
       " Text(0, 0, '25 %'),\n",
       " Text(0, 0, '30 %'),\n",
       " Text(0, 0, '35 %'),\n",
       " Text(0, 0, '40 %')]"
      ]
     },
     "execution_count": 12,
     "metadata": {},
     "output_type": "execute_result"
    },
    {
     "data": {
      "image/png": "[encoded data removed]",
      "text/plain": [
       "<Figure size 432x288 with 1 Axes>"
      ]
     },
     "metadata": {
      "needs_background": "light"
     },
     "output_type": "display_data"
    }
   ],
   "source": [
    "# Pylväskaavio, jonka pylväiden väri on käytössä olevan teeman ensimmäinen väri C0\n",
    "# color = 'C0' määritystä ei tarvita kaikissa Pandas/Matplotlib-versioisssa\n",
    "ax1 = df1['%'].plot.barh(color = 'C0')\n",
    "\n",
    "# x-akselin ticksien tuunaus\n",
    "ax1.set_xticklabels(['{:.0f} %'.format(x) for x in ax1.get_xticks()])"
   ]
  },
  {
   "cell_type": "code",
   "execution_count": 13,
   "metadata": {},
   "outputs": [
    {
     "data": {
      "text/html": [
       "<style  type=\"text/css\" >\n",
       "</style><table id=\"T_a555a398_11cc_11ea_b6f1_d8fc933d7534\" ><thead>    <tr>        <th class=\"blank level0\" ></th>        <th class=\"col_heading level0 col0\" >n</th>    </tr></thead><tbody>\n",
       "                <tr>\n",
       "                        <th id=\"T_a555a398_11cc_11ea_b6f1_d8fc933d7534level0_row0\" class=\"row_heading level0 row0\" >työterv</th>\n",
       "                        <td id=\"T_a555a398_11cc_11ea_b6f1_d8fc933d7534row0_col0\" class=\"data row0 col0\" >47</td>\n",
       "            </tr>\n",
       "            <tr>\n",
       "                        <th id=\"T_a555a398_11cc_11ea_b6f1_d8fc933d7534level0_row1\" class=\"row_heading level0 row1\" >hieroja</th>\n",
       "                        <td id=\"T_a555a398_11cc_11ea_b6f1_d8fc933d7534row1_col0\" class=\"data row1 col0\" >22</td>\n",
       "            </tr>\n",
       "            <tr>\n",
       "                        <th id=\"T_a555a398_11cc_11ea_b6f1_d8fc933d7534level0_row2\" class=\"row_heading level0 row2\" >lomaosa</th>\n",
       "                        <td id=\"T_a555a398_11cc_11ea_b6f1_d8fc933d7534row2_col0\" class=\"data row2 col0\" >20</td>\n",
       "            </tr>\n",
       "            <tr>\n",
       "                        <th id=\"T_a555a398_11cc_11ea_b6f1_d8fc933d7534level0_row3\" class=\"row_heading level0 row3\" >kuntosa</th>\n",
       "                        <td id=\"T_a555a398_11cc_11ea_b6f1_d8fc933d7534row3_col0\" class=\"data row3 col0\" >9</td>\n",
       "            </tr>\n",
       "    </tbody></table>"
      ],
      "text/plain": [
       "<pandas.io.formats.style.Styler at 0x1900a772e10>"
      ]
     },
     "execution_count": 13,
     "metadata": {},
     "output_type": "execute_result"
    }
   ],
   "source": [
    "# Monivalintojen lukumäärät selviävät count()-funktiolla\n",
    "df2 = df[['työterv', 'lomaosa', 'kuntosa', 'hieroja']].count()\n",
    "\n",
    "# Muutan series-tyyppisen listan dataframeksi ja järjestän lukumäärien mukaiseen järjestykseen\n",
    "df2 = df2.to_frame('n').sort_values(by = 'n', ascending = False)\n",
    "\n",
    "# Esitän ilman desimaaleja:\n",
    "df2.style.format('{:.0f}')"
   ]
  },
  {
   "cell_type": "code",
   "execution_count": 14,
   "metadata": {},
   "outputs": [
    {
     "data": {
      "text/plain": [
       "Text(0.5, 0, 'Käyttäjien lukumäärä')"
      ]
     },
     "execution_count": 14,
     "metadata": {},
     "output_type": "execute_result"
    },
    {
     "data": {
      "image/png": "[encoded data removed]",
      "text/plain": [
       "<Figure size 432x288 with 1 Axes>"
      ]
     },
     "metadata": {
      "needs_background": "light"
     },
     "output_type": "display_data"
    }
   ],
   "source": [
    "# Edellinen pylväinä\n",
    "ax2 = df2.sort_values(by = 'n').plot.barh(color = 'C0')\n",
    "\n",
    "ax2.legend().set_visible(False)\n",
    "\n",
    "ax2.set_xlabel('Käyttäjien lukumäärä')"
   ]
  },
  {
   "cell_type": "code",
   "execution_count": 15,
   "metadata": {},
   "outputs": [
    {
     "data": {
      "text/html": [
       "<style  type=\"text/css\" >\n",
       "</style><table id=\"T_a59080a2_11cc_11ea_a986_d8fc933d7534\" ><thead>    <tr>        <th class=\"blank level0\" ></th>        <th class=\"col_heading level0 col0\" >työterv</th>        <th class=\"col_heading level0 col1\" >lomaosa</th>        <th class=\"col_heading level0 col2\" >kuntosa</th>        <th class=\"col_heading level0 col3\" >hieroja</th>    </tr></thead><tbody>\n",
       "                <tr>\n",
       "                        <th id=\"T_a59080a2_11cc_11ea_a986_d8fc933d7534level0_row0\" class=\"row_heading level0 row0\" >Mies</th>\n",
       "                        <td id=\"T_a59080a2_11cc_11ea_a986_d8fc933d7534row0_col0\" class=\"data row0 col0\" >35</td>\n",
       "                        <td id=\"T_a59080a2_11cc_11ea_a986_d8fc933d7534row0_col1\" class=\"data row0 col1\" >16</td>\n",
       "                        <td id=\"T_a59080a2_11cc_11ea_a986_d8fc933d7534row0_col2\" class=\"data row0 col2\" >8</td>\n",
       "                        <td id=\"T_a59080a2_11cc_11ea_a986_d8fc933d7534row0_col3\" class=\"data row0 col3\" >13</td>\n",
       "            </tr>\n",
       "            <tr>\n",
       "                        <th id=\"T_a59080a2_11cc_11ea_a986_d8fc933d7534level0_row1\" class=\"row_heading level0 row1\" >Nainen</th>\n",
       "                        <td id=\"T_a59080a2_11cc_11ea_a986_d8fc933d7534row1_col0\" class=\"data row1 col0\" >12</td>\n",
       "                        <td id=\"T_a59080a2_11cc_11ea_a986_d8fc933d7534row1_col1\" class=\"data row1 col1\" >4</td>\n",
       "                        <td id=\"T_a59080a2_11cc_11ea_a986_d8fc933d7534row1_col2\" class=\"data row1 col2\" >1</td>\n",
       "                        <td id=\"T_a59080a2_11cc_11ea_a986_d8fc933d7534row1_col3\" class=\"data row1 col3\" >9</td>\n",
       "            </tr>\n",
       "    </tbody></table>"
      ],
      "text/plain": [
       "<pandas.io.formats.style.Styler at 0x1900af14e10>"
      ]
     },
     "execution_count": 15,
     "metadata": {},
     "output_type": "execute_result"
    }
   ],
   "source": [
    "# Monivalinnat sukupuolen mukaan\n",
    "df3 = df.groupby('sukup')['työterv', 'lomaosa', 'kuntosa', 'hieroja'].count()\n",
    "\n",
    "# Sukupuolet sukup-listasta, joka määriteltiin aikaisemmin\n",
    "df3.index = sukup\n",
    "\n",
    "# Loppusilaus\n",
    "df3.style.format('{:.0f}')"
   ]
  },
  {
   "cell_type": "code",
   "execution_count": 16,
   "metadata": {},
   "outputs": [
    {
     "data": {
      "text/plain": [
       "Text(0.5, 0, 'Käyttäjien lukumäärä')"
      ]
     },
     "execution_count": 16,
     "metadata": {},
     "output_type": "execute_result"
    },
    {
     "data": {
      "image/png": "[encoded data removed]",
      "text/plain": [
       "<Figure size 432x288 with 1 Axes>"
      ]
     },
     "metadata": {
      "needs_background": "light"
     },
     "output_type": "display_data"
    }
   ],
   "source": [
    "# Edellinen pylväinä\n",
    "# legend='reverse' kääntää selitteen värien järjestyksen\n",
    "ax3 = df3.plot.barh(legend='reverse')\n",
    "\n",
    "ax3.set_xlabel('Käyttäjien lukumäärä')"
   ]
  },
  {
   "cell_type": "code",
   "execution_count": 17,
   "metadata": {},
   "outputs": [
    {
     "data": {
      "text/html": [
       "<style  type=\"text/css\" >\n",
       "</style><table id=\"T_a5d8ec02_11cc_11ea_97b6_d8fc933d7534\" ><thead>    <tr>        <th class=\"blank level0\" ></th>        <th class=\"col_heading level0 col0\" >Mies</th>        <th class=\"col_heading level0 col1\" >Nainen</th>    </tr></thead><tbody>\n",
       "                <tr>\n",
       "                        <th id=\"T_a5d8ec02_11cc_11ea_97b6_d8fc933d7534level0_row0\" class=\"row_heading level0 row0\" >Peruskoulu</th>\n",
       "                        <td id=\"T_a5d8ec02_11cc_11ea_97b6_d8fc933d7534row0_col0\" class=\"data row0 col0\" >35.5 %</td>\n",
       "                        <td id=\"T_a5d8ec02_11cc_11ea_97b6_d8fc933d7534row0_col1\" class=\"data row0 col1\" >26.3 %</td>\n",
       "            </tr>\n",
       "            <tr>\n",
       "                        <th id=\"T_a5d8ec02_11cc_11ea_97b6_d8fc933d7534level0_row1\" class=\"row_heading level0 row1\" >2. aste</th>\n",
       "                        <td id=\"T_a5d8ec02_11cc_11ea_97b6_d8fc933d7534row1_col0\" class=\"data row1 col0\" >37.1 %</td>\n",
       "                        <td id=\"T_a5d8ec02_11cc_11ea_97b6_d8fc933d7534row1_col1\" class=\"data row1 col1\" >36.8 %</td>\n",
       "            </tr>\n",
       "            <tr>\n",
       "                        <th id=\"T_a5d8ec02_11cc_11ea_97b6_d8fc933d7534level0_row2\" class=\"row_heading level0 row2\" >Korkeakoulu</th>\n",
       "                        <td id=\"T_a5d8ec02_11cc_11ea_97b6_d8fc933d7534row2_col0\" class=\"data row2 col0\" >24.2 %</td>\n",
       "                        <td id=\"T_a5d8ec02_11cc_11ea_97b6_d8fc933d7534row2_col1\" class=\"data row2 col1\" >36.8 %</td>\n",
       "            </tr>\n",
       "            <tr>\n",
       "                        <th id=\"T_a5d8ec02_11cc_11ea_97b6_d8fc933d7534level0_row3\" class=\"row_heading level0 row3\" >Ylempi korkeakoulu</th>\n",
       "                        <td id=\"T_a5d8ec02_11cc_11ea_97b6_d8fc933d7534row3_col0\" class=\"data row3 col0\" >3.2 %</td>\n",
       "                        <td id=\"T_a5d8ec02_11cc_11ea_97b6_d8fc933d7534row3_col1\" class=\"data row3 col1\" >0.0 %</td>\n",
       "            </tr>\n",
       "    </tbody></table>"
      ],
      "text/plain": [
       "<pandas.io.formats.style.Styler at 0x1900b006b38>"
      ]
     },
     "execution_count": 17,
     "metadata": {},
     "output_type": "execute_result"
    }
   ],
   "source": [
    "# Ristiintaulukoinnit crosstab-toiminnolla, prosentit sarakkeiden mukaan\n",
    "df4 = pd.crosstab(df['koulutus'], df['sukup'], normalize = 'columns')\n",
    "\n",
    "# Rivi (index) ja sarake (columns) -otsikot koulutus- ja sukup-listoista\n",
    "df4.index = koulutus\n",
    "df4.columns = sukup\n",
    "\n",
    "# Prosenttilukujen ulkoasun tuunaus\n",
    "(df4*100).style.format('{:.1f} %')"
   ]
  },
  {
   "cell_type": "code",
   "execution_count": 18,
   "metadata": {},
   "outputs": [
    {
     "data": {
      "text/plain": [
       "[Text(0, 0, '0 %'),\n",
       " Text(0, 0, '5 %'),\n",
       " Text(0, 0, '10 %'),\n",
       " Text(0, 0, '15 %'),\n",
       " Text(0, 0, '20 %'),\n",
       " Text(0, 0, '25 %'),\n",
       " Text(0, 0, '30 %'),\n",
       " Text(0, 0, '35 %'),\n",
       " Text(0, 0, '40 %')]"
      ]
     },
     "execution_count": 18,
     "metadata": {},
     "output_type": "execute_result"
    },
    {
     "data": {
      "image/png": "[encoded data removed]",
      "text/plain": [
       "<Figure size 432x288 with 1 Axes>"
      ]
     },
     "metadata": {
      "needs_background": "light"
     },
     "output_type": "display_data"
    }
   ],
   "source": [
    "# Edellinen pylväinä\n",
    "ax4 = df4.plot.barh(legend='reverse')\n",
    "\n",
    "ax4.set_xlabel('Prosenttia sukupuolesta')\n",
    "\n",
    "# x-akselin ticksien tuunaus\n",
    "ax4.set_xticklabels(['{:.0f} %'.format(x*100) for x in ax4.get_xticks()])"
   ]
  },
  {
   "cell_type": "code",
   "execution_count": 19,
   "metadata": {},
   "outputs": [
    {
     "data": {
      "text/plain": [
       "[Text(0, 0, '0 %'),\n",
       " Text(0, 0, '20 %'),\n",
       " Text(0, 0, '40 %'),\n",
       " Text(0, 0, '60 %'),\n",
       " Text(0, 0, '80 %'),\n",
       " Text(0, 0, '100 %'),\n",
       " Text(0, 0, '120 %')]"
      ]
     },
     "execution_count": 19,
     "metadata": {},
     "output_type": "execute_result"
    },
    {
     "data": {
      "image/png": "[encoded data removed]",
      "text/plain": [
       "<Figure size 432x288 with 1 Axes>"
      ]
     },
     "metadata": {
      "needs_background": "light"
     },
     "output_type": "display_data"
    }
   ],
   "source": [
    "# Edellinen 100 % pinottuina vaakapylväinä. T vaihtaa arvosarjat ja kategoriat päittäin\n",
    "ax5 = df4.T.plot.barh(stacked = True)\n",
    "\n",
    "ax5.set_xlabel('Prosenttia sukupuolesta')\n",
    "\n",
    "# Selitteen paikan ja sarakkeiden määrän asettaminen\n",
    "ax5.legend(loc=(-0.1,-0.3), ncol=4)\n",
    "\n",
    "# x-akselin ticksien tuunaus\n",
    "ax5.set_xticklabels(['{:.0f} %'.format(x*100) for x in ax5.get_xticks()])"
   ]
  },
  {
   "cell_type": "code",
   "execution_count": 20,
   "metadata": {},
   "outputs": [
    {
     "data": {
      "text/html": [
       "<style  type=\"text/css\" >\n",
       "</style><table id=\"T_a6741dfa_11cc_11ea_bf61_d8fc933d7534\" ><thead>    <tr>        <th class=\"blank level0\" ></th>        <th class=\"col_heading level0 col0\" >johto</th>        <th class=\"col_heading level0 col1\" >työtov</th>        <th class=\"col_heading level0 col2\" >työymp</th>        <th class=\"col_heading level0 col3\" >palkkat</th>        <th class=\"col_heading level0 col4\" >työteht</th>    </tr></thead><tbody>\n",
       "                <tr>\n",
       "                        <th id=\"T_a6741dfa_11cc_11ea_bf61_d8fc933d7534level0_row0\" class=\"row_heading level0 row0\" >Erittäin tyytymätön</th>\n",
       "                        <td id=\"T_a6741dfa_11cc_11ea_bf61_d8fc933d7534row0_col0\" class=\"data row0 col0\" >8.5 %</td>\n",
       "                        <td id=\"T_a6741dfa_11cc_11ea_bf61_d8fc933d7534row0_col1\" class=\"data row0 col1\" >nan %</td>\n",
       "                        <td id=\"T_a6741dfa_11cc_11ea_bf61_d8fc933d7534row0_col2\" class=\"data row0 col2\" >11.0 %</td>\n",
       "                        <td id=\"T_a6741dfa_11cc_11ea_bf61_d8fc933d7534row0_col3\" class=\"data row0 col3\" >40.2 %</td>\n",
       "                        <td id=\"T_a6741dfa_11cc_11ea_bf61_d8fc933d7534row0_col4\" class=\"data row0 col4\" >6.1 %</td>\n",
       "            </tr>\n",
       "            <tr>\n",
       "                        <th id=\"T_a6741dfa_11cc_11ea_bf61_d8fc933d7534level0_row1\" class=\"row_heading level0 row1\" >Jokseenkin tyytymätön</th>\n",
       "                        <td id=\"T_a6741dfa_11cc_11ea_bf61_d8fc933d7534row1_col0\" class=\"data row1 col0\" >19.5 %</td>\n",
       "                        <td id=\"T_a6741dfa_11cc_11ea_bf61_d8fc933d7534row1_col1\" class=\"data row1 col1\" >3.7 %</td>\n",
       "                        <td id=\"T_a6741dfa_11cc_11ea_bf61_d8fc933d7534row1_col2\" class=\"data row1 col2\" >11.0 %</td>\n",
       "                        <td id=\"T_a6741dfa_11cc_11ea_bf61_d8fc933d7534row1_col3\" class=\"data row1 col3\" >23.2 %</td>\n",
       "                        <td id=\"T_a6741dfa_11cc_11ea_bf61_d8fc933d7534row1_col4\" class=\"data row1 col4\" >18.3 %</td>\n",
       "            </tr>\n",
       "            <tr>\n",
       "                        <th id=\"T_a6741dfa_11cc_11ea_bf61_d8fc933d7534level0_row2\" class=\"row_heading level0 row2\" >Ei tyytymätön eikä tyytyväinen</th>\n",
       "                        <td id=\"T_a6741dfa_11cc_11ea_bf61_d8fc933d7534row2_col0\" class=\"data row2 col0\" >36.6 %</td>\n",
       "                        <td id=\"T_a6741dfa_11cc_11ea_bf61_d8fc933d7534row2_col1\" class=\"data row2 col1\" >19.8 %</td>\n",
       "                        <td id=\"T_a6741dfa_11cc_11ea_bf61_d8fc933d7534row2_col2\" class=\"data row2 col2\" >36.6 %</td>\n",
       "                        <td id=\"T_a6741dfa_11cc_11ea_bf61_d8fc933d7534row2_col3\" class=\"data row2 col3\" >23.2 %</td>\n",
       "                        <td id=\"T_a6741dfa_11cc_11ea_bf61_d8fc933d7534row2_col4\" class=\"data row2 col4\" >35.4 %</td>\n",
       "            </tr>\n",
       "            <tr>\n",
       "                        <th id=\"T_a6741dfa_11cc_11ea_bf61_d8fc933d7534level0_row3\" class=\"row_heading level0 row3\" >Jokseenkin tyytyväinen</th>\n",
       "                        <td id=\"T_a6741dfa_11cc_11ea_bf61_d8fc933d7534row3_col0\" class=\"data row3 col0\" >28.0 %</td>\n",
       "                        <td id=\"T_a6741dfa_11cc_11ea_bf61_d8fc933d7534row3_col1\" class=\"data row3 col1\" >43.2 %</td>\n",
       "                        <td id=\"T_a6741dfa_11cc_11ea_bf61_d8fc933d7534row3_col2\" class=\"data row3 col2\" >28.0 %</td>\n",
       "                        <td id=\"T_a6741dfa_11cc_11ea_bf61_d8fc933d7534row3_col3\" class=\"data row3 col3\" >12.2 %</td>\n",
       "                        <td id=\"T_a6741dfa_11cc_11ea_bf61_d8fc933d7534row3_col4\" class=\"data row3 col4\" >30.5 %</td>\n",
       "            </tr>\n",
       "            <tr>\n",
       "                        <th id=\"T_a6741dfa_11cc_11ea_bf61_d8fc933d7534level0_row4\" class=\"row_heading level0 row4\" >Erittäin tyytyväinen</th>\n",
       "                        <td id=\"T_a6741dfa_11cc_11ea_bf61_d8fc933d7534row4_col0\" class=\"data row4 col0\" >7.3 %</td>\n",
       "                        <td id=\"T_a6741dfa_11cc_11ea_bf61_d8fc933d7534row4_col1\" class=\"data row4 col1\" >33.3 %</td>\n",
       "                        <td id=\"T_a6741dfa_11cc_11ea_bf61_d8fc933d7534row4_col2\" class=\"data row4 col2\" >13.4 %</td>\n",
       "                        <td id=\"T_a6741dfa_11cc_11ea_bf61_d8fc933d7534row4_col3\" class=\"data row4 col3\" >1.2 %</td>\n",
       "                        <td id=\"T_a6741dfa_11cc_11ea_bf61_d8fc933d7534row4_col4\" class=\"data row4 col4\" >9.8 %</td>\n",
       "            </tr>\n",
       "    </tbody></table>"
      ],
      "text/plain": [
       "<pandas.io.formats.style.Styler at 0x1900b122c50>"
      ]
     },
     "execution_count": 20,
     "metadata": {},
     "output_type": "execute_result"
    }
   ],
   "source": [
    "# Lasken lukumääriä value_counts()-funktiolla ja muutan tuloksen dataframeksi\n",
    "# 'normalize=True' esittää lukumäärät prosentteina\n",
    "df5 = df['johto'].value_counts(sort = False, normalize = True).to_frame()\n",
    "\n",
    "# Lisään dataframeen uusia sarakkeita\n",
    "df5['työtov'] = df['työtov'].value_counts(sort = False, normalize = True)\n",
    "df5['työymp'] = df['työymp'].value_counts(sort = False, normalize = True)\n",
    "df5['palkkat'] = df['palkkat'].value_counts(sort = False, normalize = True)\n",
    "df5['työteht'] = df['työteht'].value_counts(sort = False, normalize = True)\n",
    "\n",
    "# Riviotsikot aiemmin määritellystä tyytyväisyys-listasta\n",
    "df5.index = tyytyväisyys\n",
    "\n",
    "# prosenttilukujen ulkoasun tuunaus\n",
    "(df5*100).style.format('{:.1f} %')"
   ]
  },
  {
   "cell_type": "markdown",
   "metadata": {},
   "source": [
    "Seuraavassa määriteltävistä väreistä lisätietoa https://htmlcolorcodes.com/\n",
    "\n",
    "Voit määrittää värit käyttäen värien nimiä tai hex-värikoodeja."
   ]
  },
  {
   "cell_type": "code",
   "execution_count": 21,
   "metadata": {},
   "outputs": [
    {
     "data": {
      "text/plain": [
       "[Text(0, 0, '0 %'),\n",
       " Text(0, 0, '20 %'),\n",
       " Text(0, 0, '40 %'),\n",
       " Text(0, 0, '60 %'),\n",
       " Text(0, 0, '80 %'),\n",
       " Text(0, 0, '100 %'),\n",
       " Text(0, 0, '120 %')]"
      ]
     },
     "execution_count": 21,
     "metadata": {},
     "output_type": "execute_result"
    },
    {
     "data": {
      "image/png": "[encoded data removed]",
      "text/plain": [
       "<Figure size 432x288 with 1 Axes>"
      ]
     },
     "metadata": {
      "needs_background": "light"
     },
     "output_type": "display_data"
    }
   ],
   "source": [
    "# Edellinen 100 % pinottuina pylväinä; värit voin itse määritellä\n",
    "ax6 = df5.T.plot.barh(stacked = True, color=['maroon','red','gray','blue','navy'])\n",
    "\n",
    "# Selitteen paikan ja sarakkeiden määrän asettaminen\n",
    "ax6.legend(loc=(-0.05,-0.35), ncol=2)\n",
    "\n",
    "# x-akselin ticksien tuunaus\n",
    "ax6.set_xticklabels(['{:.0f} %'.format(x*100) for x in ax6.get_xticks()])"
   ]
  },
  {
   "cell_type": "markdown",
   "metadata": {},
   "source": [
    "<h2>Luokiteltu jakauma</h2>\n",
    "\n",
    "<ul><li>Tallennan luokat dataan pandas-kirjaston <b>cut</b>-funktiolla. Parametrina annan luokkien rajakohdat\n",
    "    (<b>bins</b>) tai luokkien lukumäärän.</li>\n",
    "    <li>Histogrammin voin tehdä suoraan luokittelemattomasta datasta <b>hist</b>-funktiolla.\n",
    "        Tässäkin annan luokkien rajakohdat (<b>bins</b>) tai luokkien lukumäärän.</li></ul>"
   ]
  },
  {
   "cell_type": "code",
   "execution_count": 22,
   "metadata": {},
   "outputs": [
    {
     "data": {
      "text/html": [
       "<div>\n",
       "<style scoped>\n",
       "    .dataframe tbody tr th:only-of-type {\n",
       "        vertical-align: middle;\n",
       "    }\n",
       "\n",
       "    .dataframe tbody tr th {\n",
       "        vertical-align: top;\n",
       "    }\n",
       "\n",
       "    .dataframe thead th {\n",
       "        text-align: right;\n",
       "    }\n",
       "</style>\n",
       "<table border=\"1\" class=\"dataframe\">\n",
       "  <thead>\n",
       "    <tr style=\"text-align: right;\">\n",
       "      <th></th>\n",
       "      <th>n</th>\n",
       "    </tr>\n",
       "    <tr>\n",
       "      <th>palkkaluokka</th>\n",
       "      <th></th>\n",
       "    </tr>\n",
       "  </thead>\n",
       "  <tbody>\n",
       "    <tr>\n",
       "      <th>(1000, 2000]</th>\n",
       "      <td>19</td>\n",
       "    </tr>\n",
       "    <tr>\n",
       "      <th>(2000, 3000]</th>\n",
       "      <td>50</td>\n",
       "    </tr>\n",
       "    <tr>\n",
       "      <th>(3000, 4000]</th>\n",
       "      <td>8</td>\n",
       "    </tr>\n",
       "    <tr>\n",
       "      <th>(4000, 7000]</th>\n",
       "      <td>5</td>\n",
       "    </tr>\n",
       "  </tbody>\n",
       "</table>\n",
       "</div>"
      ],
      "text/plain": [
       "               n\n",
       "palkkaluokka    \n",
       "(1000, 2000]  19\n",
       "(2000, 3000]  50\n",
       "(3000, 4000]   8\n",
       "(4000, 7000]   5"
      ]
     },
     "execution_count": 22,
     "metadata": {},
     "output_type": "execute_result"
    }
   ],
   "source": [
    "# Määrittelen luokkarajat palkan luokittelemiseksi\n",
    "bins = [1000, 2000, 3000, 4000, 7000]\n",
    "\n",
    "# Lisään aineistoon ikäluokka-sarakkeen\n",
    "df['palkkaluokka'] = pd.cut(df['palkka'], bins = bins)\n",
    "\n",
    "# Palkkaluokkiin kuuluvien lukumäärät\n",
    "df6 = pd.crosstab(df['palkkaluokka'], 'n')\n",
    "df6.columns.name = ''\n",
    "df6"
   ]
  },
  {
   "cell_type": "code",
   "execution_count": 23,
   "metadata": {},
   "outputs": [
    {
     "data": {
      "text/plain": [
       "Text(0, 0.5, 'Lukumäärä')"
      ]
     },
     "execution_count": 23,
     "metadata": {},
     "output_type": "execute_result"
    },
    {
     "data": {
      "image/png": "[encoded data removed]",
      "text/plain": [
       "<Figure size 432x288 with 1 Axes>"
      ]
     },
     "metadata": {
      "needs_background": "light"
     },
     "output_type": "display_data"
    }
   ],
   "source": [
    "# Palkan luokittelu histogrammina\n",
    "ax7 = df['palkka'].plot.hist(bins)\n",
    "\n",
    "ax7.set_xlabel('Palkka')\n",
    "ax7.set_ylabel('Lukumäärä')"
   ]
  },
  {
   "cell_type": "markdown",
   "metadata": {},
   "source": [
    "<h2>Tilastolliset tunnusluvut</h2>\n",
    "\n",
    "<ul><li>Keskeiset tunnusluvut <b>describe()</b>-funktiolla.</li>\n",
    "    <li><b>pivot_table()</b> laskee oletuksena keskiarvot, mutta lisäparametreilla voin määrittää muitakin\n",
    "        tunnuslukuja laskettaviksi.</li>\n",
    "    <li>Ruutu- ja janakaavio eli <b>boxplot</b> havainnollistaa hyvin viiden luvun yhteenvedon\n",
    "        (pienin, alaneljännes, mediaani, yläneljännes, suurin).</li></ul>"
   ]
  },
  {
   "cell_type": "code",
   "execution_count": 24,
   "metadata": {},
   "outputs": [
    {
     "data": {
      "text/html": [
       "<style  type=\"text/css\" >\n",
       "</style><table id=\"T_a7099a8c_11cc_11ea_b8d0_d8fc933d7534\" ><thead>    <tr>        <th class=\"blank level0\" ></th>        <th class=\"col_heading level0 col0\" >ikä</th>        <th class=\"col_heading level0 col1\" >palveluv</th>        <th class=\"col_heading level0 col2\" >palkka</th>        <th class=\"col_heading level0 col3\" >johto</th>        <th class=\"col_heading level0 col4\" >työtov</th>        <th class=\"col_heading level0 col5\" >työymp</th>        <th class=\"col_heading level0 col6\" >palkkat</th>        <th class=\"col_heading level0 col7\" >työteht</th>    </tr></thead><tbody>\n",
       "                <tr>\n",
       "                        <th id=\"T_a7099a8c_11cc_11ea_b8d0_d8fc933d7534level0_row0\" class=\"row_heading level0 row0\" >count</th>\n",
       "                        <td id=\"T_a7099a8c_11cc_11ea_b8d0_d8fc933d7534row0_col0\" class=\"data row0 col0\" >82.00</td>\n",
       "                        <td id=\"T_a7099a8c_11cc_11ea_b8d0_d8fc933d7534row0_col1\" class=\"data row0 col1\" >80.00</td>\n",
       "                        <td id=\"T_a7099a8c_11cc_11ea_b8d0_d8fc933d7534row0_col2\" class=\"data row0 col2\" >82.00</td>\n",
       "                        <td id=\"T_a7099a8c_11cc_11ea_b8d0_d8fc933d7534row0_col3\" class=\"data row0 col3\" >82.00</td>\n",
       "                        <td id=\"T_a7099a8c_11cc_11ea_b8d0_d8fc933d7534row0_col4\" class=\"data row0 col4\" >81.00</td>\n",
       "                        <td id=\"T_a7099a8c_11cc_11ea_b8d0_d8fc933d7534row0_col5\" class=\"data row0 col5\" >82.00</td>\n",
       "                        <td id=\"T_a7099a8c_11cc_11ea_b8d0_d8fc933d7534row0_col6\" class=\"data row0 col6\" >82.00</td>\n",
       "                        <td id=\"T_a7099a8c_11cc_11ea_b8d0_d8fc933d7534row0_col7\" class=\"data row0 col7\" >82.00</td>\n",
       "            </tr>\n",
       "            <tr>\n",
       "                        <th id=\"T_a7099a8c_11cc_11ea_b8d0_d8fc933d7534level0_row1\" class=\"row_heading level0 row1\" >mean</th>\n",
       "                        <td id=\"T_a7099a8c_11cc_11ea_b8d0_d8fc933d7534row1_col0\" class=\"data row1 col0\" >37.95</td>\n",
       "                        <td id=\"T_a7099a8c_11cc_11ea_b8d0_d8fc933d7534row1_col1\" class=\"data row1 col1\" >12.18</td>\n",
       "                        <td id=\"T_a7099a8c_11cc_11ea_b8d0_d8fc933d7534row1_col2\" class=\"data row1 col2\" >2563.88</td>\n",
       "                        <td id=\"T_a7099a8c_11cc_11ea_b8d0_d8fc933d7534row1_col3\" class=\"data row1 col3\" >3.06</td>\n",
       "                        <td id=\"T_a7099a8c_11cc_11ea_b8d0_d8fc933d7534row1_col4\" class=\"data row1 col4\" >4.06</td>\n",
       "                        <td id=\"T_a7099a8c_11cc_11ea_b8d0_d8fc933d7534row1_col5\" class=\"data row1 col5\" >3.22</td>\n",
       "                        <td id=\"T_a7099a8c_11cc_11ea_b8d0_d8fc933d7534row1_col6\" class=\"data row1 col6\" >2.11</td>\n",
       "                        <td id=\"T_a7099a8c_11cc_11ea_b8d0_d8fc933d7534row1_col7\" class=\"data row1 col7\" >3.20</td>\n",
       "            </tr>\n",
       "            <tr>\n",
       "                        <th id=\"T_a7099a8c_11cc_11ea_b8d0_d8fc933d7534level0_row2\" class=\"row_heading level0 row2\" >std</th>\n",
       "                        <td id=\"T_a7099a8c_11cc_11ea_b8d0_d8fc933d7534row2_col0\" class=\"data row2 col0\" >9.77</td>\n",
       "                        <td id=\"T_a7099a8c_11cc_11ea_b8d0_d8fc933d7534row2_col1\" class=\"data row2 col1\" >8.81</td>\n",
       "                        <td id=\"T_a7099a8c_11cc_11ea_b8d0_d8fc933d7534row2_col2\" class=\"data row2 col2\" >849.35</td>\n",
       "                        <td id=\"T_a7099a8c_11cc_11ea_b8d0_d8fc933d7534row2_col3\" class=\"data row2 col3\" >1.06</td>\n",
       "                        <td id=\"T_a7099a8c_11cc_11ea_b8d0_d8fc933d7534row2_col4\" class=\"data row2 col4\" >0.83</td>\n",
       "                        <td id=\"T_a7099a8c_11cc_11ea_b8d0_d8fc933d7534row2_col5\" class=\"data row2 col5\" >1.15</td>\n",
       "                        <td id=\"T_a7099a8c_11cc_11ea_b8d0_d8fc933d7534row2_col6\" class=\"data row2 col6\" >1.11</td>\n",
       "                        <td id=\"T_a7099a8c_11cc_11ea_b8d0_d8fc933d7534row2_col7\" class=\"data row2 col7\" >1.05</td>\n",
       "            </tr>\n",
       "            <tr>\n",
       "                        <th id=\"T_a7099a8c_11cc_11ea_b8d0_d8fc933d7534level0_row3\" class=\"row_heading level0 row3\" >min</th>\n",
       "                        <td id=\"T_a7099a8c_11cc_11ea_b8d0_d8fc933d7534row3_col0\" class=\"data row3 col0\" >20.00</td>\n",
       "                        <td id=\"T_a7099a8c_11cc_11ea_b8d0_d8fc933d7534row3_col1\" class=\"data row3 col1\" >0.00</td>\n",
       "                        <td id=\"T_a7099a8c_11cc_11ea_b8d0_d8fc933d7534row3_col2\" class=\"data row3 col2\" >1521.00</td>\n",
       "                        <td id=\"T_a7099a8c_11cc_11ea_b8d0_d8fc933d7534row3_col3\" class=\"data row3 col3\" >1.00</td>\n",
       "                        <td id=\"T_a7099a8c_11cc_11ea_b8d0_d8fc933d7534row3_col4\" class=\"data row3 col4\" >2.00</td>\n",
       "                        <td id=\"T_a7099a8c_11cc_11ea_b8d0_d8fc933d7534row3_col5\" class=\"data row3 col5\" >1.00</td>\n",
       "                        <td id=\"T_a7099a8c_11cc_11ea_b8d0_d8fc933d7534row3_col6\" class=\"data row3 col6\" >1.00</td>\n",
       "                        <td id=\"T_a7099a8c_11cc_11ea_b8d0_d8fc933d7534row3_col7\" class=\"data row3 col7\" >1.00</td>\n",
       "            </tr>\n",
       "            <tr>\n",
       "                        <th id=\"T_a7099a8c_11cc_11ea_b8d0_d8fc933d7534level0_row4\" class=\"row_heading level0 row4\" >25%</th>\n",
       "                        <td id=\"T_a7099a8c_11cc_11ea_b8d0_d8fc933d7534row4_col0\" class=\"data row4 col0\" >31.00</td>\n",
       "                        <td id=\"T_a7099a8c_11cc_11ea_b8d0_d8fc933d7534row4_col1\" class=\"data row4 col1\" >3.75</td>\n",
       "                        <td id=\"T_a7099a8c_11cc_11ea_b8d0_d8fc933d7534row4_col2\" class=\"data row4 col2\" >2027.00</td>\n",
       "                        <td id=\"T_a7099a8c_11cc_11ea_b8d0_d8fc933d7534row4_col3\" class=\"data row4 col3\" >2.00</td>\n",
       "                        <td id=\"T_a7099a8c_11cc_11ea_b8d0_d8fc933d7534row4_col4\" class=\"data row4 col4\" >4.00</td>\n",
       "                        <td id=\"T_a7099a8c_11cc_11ea_b8d0_d8fc933d7534row4_col5\" class=\"data row4 col5\" >3.00</td>\n",
       "                        <td id=\"T_a7099a8c_11cc_11ea_b8d0_d8fc933d7534row4_col6\" class=\"data row4 col6\" >1.00</td>\n",
       "                        <td id=\"T_a7099a8c_11cc_11ea_b8d0_d8fc933d7534row4_col7\" class=\"data row4 col7\" >3.00</td>\n",
       "            </tr>\n",
       "            <tr>\n",
       "                        <th id=\"T_a7099a8c_11cc_11ea_b8d0_d8fc933d7534level0_row5\" class=\"row_heading level0 row5\" >50%</th>\n",
       "                        <td id=\"T_a7099a8c_11cc_11ea_b8d0_d8fc933d7534row5_col0\" class=\"data row5 col0\" >37.50</td>\n",
       "                        <td id=\"T_a7099a8c_11cc_11ea_b8d0_d8fc933d7534row5_col1\" class=\"data row5 col1\" >12.50</td>\n",
       "                        <td id=\"T_a7099a8c_11cc_11ea_b8d0_d8fc933d7534row5_col2\" class=\"data row5 col2\" >2320.00</td>\n",
       "                        <td id=\"T_a7099a8c_11cc_11ea_b8d0_d8fc933d7534row5_col3\" class=\"data row5 col3\" >3.00</td>\n",
       "                        <td id=\"T_a7099a8c_11cc_11ea_b8d0_d8fc933d7534row5_col4\" class=\"data row5 col4\" >4.00</td>\n",
       "                        <td id=\"T_a7099a8c_11cc_11ea_b8d0_d8fc933d7534row5_col5\" class=\"data row5 col5\" >3.00</td>\n",
       "                        <td id=\"T_a7099a8c_11cc_11ea_b8d0_d8fc933d7534row5_col6\" class=\"data row5 col6\" >2.00</td>\n",
       "                        <td id=\"T_a7099a8c_11cc_11ea_b8d0_d8fc933d7534row5_col7\" class=\"data row5 col7\" >3.00</td>\n",
       "            </tr>\n",
       "            <tr>\n",
       "                        <th id=\"T_a7099a8c_11cc_11ea_b8d0_d8fc933d7534level0_row6\" class=\"row_heading level0 row6\" >75%</th>\n",
       "                        <td id=\"T_a7099a8c_11cc_11ea_b8d0_d8fc933d7534row6_col0\" class=\"data row6 col0\" >44.00</td>\n",
       "                        <td id=\"T_a7099a8c_11cc_11ea_b8d0_d8fc933d7534row6_col1\" class=\"data row6 col1\" >18.25</td>\n",
       "                        <td id=\"T_a7099a8c_11cc_11ea_b8d0_d8fc933d7534row6_col2\" class=\"data row6 col2\" >2808.00</td>\n",
       "                        <td id=\"T_a7099a8c_11cc_11ea_b8d0_d8fc933d7534row6_col3\" class=\"data row6 col3\" >4.00</td>\n",
       "                        <td id=\"T_a7099a8c_11cc_11ea_b8d0_d8fc933d7534row6_col4\" class=\"data row6 col4\" >5.00</td>\n",
       "                        <td id=\"T_a7099a8c_11cc_11ea_b8d0_d8fc933d7534row6_col5\" class=\"data row6 col5\" >4.00</td>\n",
       "                        <td id=\"T_a7099a8c_11cc_11ea_b8d0_d8fc933d7534row6_col6\" class=\"data row6 col6\" >3.00</td>\n",
       "                        <td id=\"T_a7099a8c_11cc_11ea_b8d0_d8fc933d7534row6_col7\" class=\"data row6 col7\" >4.00</td>\n",
       "            </tr>\n",
       "            <tr>\n",
       "                        <th id=\"T_a7099a8c_11cc_11ea_b8d0_d8fc933d7534level0_row7\" class=\"row_heading level0 row7\" >max</th>\n",
       "                        <td id=\"T_a7099a8c_11cc_11ea_b8d0_d8fc933d7534row7_col0\" class=\"data row7 col0\" >61.00</td>\n",
       "                        <td id=\"T_a7099a8c_11cc_11ea_b8d0_d8fc933d7534row7_col1\" class=\"data row7 col1\" >36.00</td>\n",
       "                        <td id=\"T_a7099a8c_11cc_11ea_b8d0_d8fc933d7534row7_col2\" class=\"data row7 col2\" >6278.00</td>\n",
       "                        <td id=\"T_a7099a8c_11cc_11ea_b8d0_d8fc933d7534row7_col3\" class=\"data row7 col3\" >5.00</td>\n",
       "                        <td id=\"T_a7099a8c_11cc_11ea_b8d0_d8fc933d7534row7_col4\" class=\"data row7 col4\" >5.00</td>\n",
       "                        <td id=\"T_a7099a8c_11cc_11ea_b8d0_d8fc933d7534row7_col5\" class=\"data row7 col5\" >5.00</td>\n",
       "                        <td id=\"T_a7099a8c_11cc_11ea_b8d0_d8fc933d7534row7_col6\" class=\"data row7 col6\" >5.00</td>\n",
       "                        <td id=\"T_a7099a8c_11cc_11ea_b8d0_d8fc933d7534row7_col7\" class=\"data row7 col7\" >5.00</td>\n",
       "            </tr>\n",
       "    </tbody></table>"
      ],
      "text/plain": [
       "<pandas.io.formats.style.Styler at 0x1900a7ddd30>"
      ]
     },
     "execution_count": 24,
     "metadata": {},
     "output_type": "execute_result"
    }
   ],
   "source": [
    "# Tunnuslukuja kahden desimaalin tarkkuudella\n",
    "df[['ikä', 'palveluv', 'palkka', 'johto', 'työtov', \n",
    "    'työymp', 'palkkat', 'työteht']].describe().style.format('{:.2f}')"
   ]
  },
  {
   "cell_type": "code",
   "execution_count": 25,
   "metadata": {},
   "outputs": [
    {
     "data": {
      "text/html": [
       "<style  type=\"text/css\" >\n",
       "</style><table id=\"T_a711711a_11cc_11ea_b5a8_d8fc933d7534\" ><thead>    <tr>        <th class=\"blank\" ></th>        <th class=\"index_name level0\" >koulutus</th>        <th class=\"col_heading level0 col0\" >1.0</th>        <th class=\"col_heading level0 col1\" >2.0</th>        <th class=\"col_heading level0 col2\" >3.0</th>        <th class=\"col_heading level0 col3\" >4.0</th>    </tr>    <tr>        <th class=\"index_name level0\" >sukup</th>        <th class=\"index_name level1\" >perhe</th>        <th class=\"blank\" ></th>        <th class=\"blank\" ></th>        <th class=\"blank\" ></th>        <th class=\"blank\" ></th>    </tr></thead><tbody>\n",
       "                <tr>\n",
       "                        <th id=\"T_a711711a_11cc_11ea_b5a8_d8fc933d7534level0_row0\" class=\"row_heading level0 row0\" rowspan=2>1</th>\n",
       "                        <th id=\"T_a711711a_11cc_11ea_b5a8_d8fc933d7534level1_row0\" class=\"row_heading level1 row0\" >1</th>\n",
       "                        <td id=\"T_a711711a_11cc_11ea_b5a8_d8fc933d7534row0_col0\" class=\"data row0 col0\" >2196</td>\n",
       "                        <td id=\"T_a711711a_11cc_11ea_b5a8_d8fc933d7534row0_col1\" class=\"data row0 col1\" >2086</td>\n",
       "                        <td id=\"T_a711711a_11cc_11ea_b5a8_d8fc933d7534row0_col2\" class=\"data row0 col2\" >2730</td>\n",
       "                        <td id=\"T_a711711a_11cc_11ea_b5a8_d8fc933d7534row0_col3\" class=\"data row0 col3\" >5225</td>\n",
       "            </tr>\n",
       "            <tr>\n",
       "                                <th id=\"T_a711711a_11cc_11ea_b5a8_d8fc933d7534level1_row1\" class=\"row_heading level1 row1\" >2</th>\n",
       "                        <td id=\"T_a711711a_11cc_11ea_b5a8_d8fc933d7534row1_col0\" class=\"data row1 col0\" >2462</td>\n",
       "                        <td id=\"T_a711711a_11cc_11ea_b5a8_d8fc933d7534row1_col1\" class=\"data row1 col1\" >2871</td>\n",
       "                        <td id=\"T_a711711a_11cc_11ea_b5a8_d8fc933d7534row1_col2\" class=\"data row1 col2\" >3353</td>\n",
       "                        <td id=\"T_a711711a_11cc_11ea_b5a8_d8fc933d7534row1_col3\" class=\"data row1 col3\" >5069</td>\n",
       "            </tr>\n",
       "            <tr>\n",
       "                        <th id=\"T_a711711a_11cc_11ea_b5a8_d8fc933d7534level0_row2\" class=\"row_heading level0 row2\" rowspan=2>2</th>\n",
       "                        <th id=\"T_a711711a_11cc_11ea_b5a8_d8fc933d7534level1_row2\" class=\"row_heading level1 row2\" >1</th>\n",
       "                        <td id=\"T_a711711a_11cc_11ea_b5a8_d8fc933d7534row2_col0\" class=\"data row2 col0\" >2223</td>\n",
       "                        <td id=\"T_a711711a_11cc_11ea_b5a8_d8fc933d7534row2_col1\" class=\"data row2 col1\" >1715</td>\n",
       "                        <td id=\"T_a711711a_11cc_11ea_b5a8_d8fc933d7534row2_col2\" class=\"data row2 col2\" >1872</td>\n",
       "                        <td id=\"T_a711711a_11cc_11ea_b5a8_d8fc933d7534row2_col3\" class=\"data row2 col3\" >nan</td>\n",
       "            </tr>\n",
       "            <tr>\n",
       "                                <th id=\"T_a711711a_11cc_11ea_b5a8_d8fc933d7534level1_row3\" class=\"row_heading level1 row3\" >2</th>\n",
       "                        <td id=\"T_a711711a_11cc_11ea_b5a8_d8fc933d7534row3_col0\" class=\"data row3 col0\" >2096</td>\n",
       "                        <td id=\"T_a711711a_11cc_11ea_b5a8_d8fc933d7534row3_col1\" class=\"data row3 col1\" >2294</td>\n",
       "                        <td id=\"T_a711711a_11cc_11ea_b5a8_d8fc933d7534row3_col2\" class=\"data row3 col2\" >2411</td>\n",
       "                        <td id=\"T_a711711a_11cc_11ea_b5a8_d8fc933d7534row3_col3\" class=\"data row3 col3\" >nan</td>\n",
       "            </tr>\n",
       "    </tbody></table>"
      ],
      "text/plain": [
       "<pandas.io.formats.style.Styler at 0x1900c2760f0>"
      ]
     },
     "execution_count": 25,
     "metadata": {},
     "output_type": "execute_result"
    }
   ],
   "source": [
    "# pivot_table tuottaa oletuksena keskiarvoja:\n",
    "df7 = df.pivot_table(values = 'palkka', index = ['sukup', 'perhe'], columns = 'koulutus')\n",
    "\n",
    "df7.style.format('{:.0f}')"
   ]
  },
  {
   "cell_type": "code",
   "execution_count": 26,
   "metadata": {},
   "outputs": [
    {
     "data": {
      "text/html": [
       "<style  type=\"text/css\" >\n",
       "</style><table id=\"T_a718fb18_11cc_11ea_b5cb_d8fc933d7534\" ><thead>    <tr>        <th class=\"blank\" ></th>        <th class=\"blank level0\" ></th>        <th class=\"col_heading level0 col0\" >Peruskoulu</th>        <th class=\"col_heading level0 col1\" >2. aste</th>        <th class=\"col_heading level0 col2\" >Korkeakoulu</th>        <th class=\"col_heading level0 col3\" >Ylempi korkeakoulu</th>    </tr>    <tr>        <th class=\"index_name level0\" >sukup</th>        <th class=\"index_name level1\" >perhe</th>        <th class=\"blank\" ></th>        <th class=\"blank\" ></th>        <th class=\"blank\" ></th>        <th class=\"blank\" ></th>    </tr></thead><tbody>\n",
       "                <tr>\n",
       "                        <th id=\"T_a718fb18_11cc_11ea_b5cb_d8fc933d7534level0_row0\" class=\"row_heading level0 row0\" rowspan=2>Mies</th>\n",
       "                        <th id=\"T_a718fb18_11cc_11ea_b5cb_d8fc933d7534level1_row0\" class=\"row_heading level1 row0\" >Perheetön</th>\n",
       "                        <td id=\"T_a718fb18_11cc_11ea_b5cb_d8fc933d7534row0_col0\" class=\"data row0 col0\" >2196</td>\n",
       "                        <td id=\"T_a718fb18_11cc_11ea_b5cb_d8fc933d7534row0_col1\" class=\"data row0 col1\" >2086</td>\n",
       "                        <td id=\"T_a718fb18_11cc_11ea_b5cb_d8fc933d7534row0_col2\" class=\"data row0 col2\" >2730</td>\n",
       "                        <td id=\"T_a718fb18_11cc_11ea_b5cb_d8fc933d7534row0_col3\" class=\"data row0 col3\" >5225</td>\n",
       "            </tr>\n",
       "            <tr>\n",
       "                                <th id=\"T_a718fb18_11cc_11ea_b5cb_d8fc933d7534level1_row1\" class=\"row_heading level1 row1\" >Perheellinen</th>\n",
       "                        <td id=\"T_a718fb18_11cc_11ea_b5cb_d8fc933d7534row1_col0\" class=\"data row1 col0\" >2462</td>\n",
       "                        <td id=\"T_a718fb18_11cc_11ea_b5cb_d8fc933d7534row1_col1\" class=\"data row1 col1\" >2871</td>\n",
       "                        <td id=\"T_a718fb18_11cc_11ea_b5cb_d8fc933d7534row1_col2\" class=\"data row1 col2\" >3353</td>\n",
       "                        <td id=\"T_a718fb18_11cc_11ea_b5cb_d8fc933d7534row1_col3\" class=\"data row1 col3\" >5069</td>\n",
       "            </tr>\n",
       "            <tr>\n",
       "                        <th id=\"T_a718fb18_11cc_11ea_b5cb_d8fc933d7534level0_row2\" class=\"row_heading level0 row2\" rowspan=2>Nainen</th>\n",
       "                        <th id=\"T_a718fb18_11cc_11ea_b5cb_d8fc933d7534level1_row2\" class=\"row_heading level1 row2\" >Perheetön</th>\n",
       "                        <td id=\"T_a718fb18_11cc_11ea_b5cb_d8fc933d7534row2_col0\" class=\"data row2 col0\" >2223</td>\n",
       "                        <td id=\"T_a718fb18_11cc_11ea_b5cb_d8fc933d7534row2_col1\" class=\"data row2 col1\" >1715</td>\n",
       "                        <td id=\"T_a718fb18_11cc_11ea_b5cb_d8fc933d7534row2_col2\" class=\"data row2 col2\" >1872</td>\n",
       "                        <td id=\"T_a718fb18_11cc_11ea_b5cb_d8fc933d7534row2_col3\" class=\"data row2 col3\" >nan</td>\n",
       "            </tr>\n",
       "            <tr>\n",
       "                                <th id=\"T_a718fb18_11cc_11ea_b5cb_d8fc933d7534level1_row3\" class=\"row_heading level1 row3\" >Perheellinen</th>\n",
       "                        <td id=\"T_a718fb18_11cc_11ea_b5cb_d8fc933d7534row3_col0\" class=\"data row3 col0\" >2096</td>\n",
       "                        <td id=\"T_a718fb18_11cc_11ea_b5cb_d8fc933d7534row3_col1\" class=\"data row3 col1\" >2294</td>\n",
       "                        <td id=\"T_a718fb18_11cc_11ea_b5cb_d8fc933d7534row3_col2\" class=\"data row3 col2\" >2411</td>\n",
       "                        <td id=\"T_a718fb18_11cc_11ea_b5cb_d8fc933d7534row3_col3\" class=\"data row3 col3\" >nan</td>\n",
       "            </tr>\n",
       "    </tbody></table>"
      ],
      "text/plain": [
       "<pandas.io.formats.style.Styler at 0x1900c276be0>"
      ]
     },
     "execution_count": 26,
     "metadata": {},
     "output_type": "execute_result"
    }
   ],
   "source": [
    "# Hierarkisen indeksin arvot aiemmin määritellyistä sukup- ja perhe-listoista\n",
    "df7.index = df7.index.set_levels(sukup, level=0)\n",
    "df7.index = df7.index.set_levels(perhe, level=1)\n",
    "df7.columns = koulutus\n",
    "\n",
    "df7.style.format('{:.0f}')"
   ]
  },
  {
   "cell_type": "code",
   "execution_count": 27,
   "metadata": {},
   "outputs": [
    {
     "data": {
      "text/html": [
       "<style  type=\"text/css\" >\n",
       "</style><table id=\"T_a7252ae6_11cc_11ea_b144_d8fc933d7534\" ><thead>    <tr>        <th class=\"blank level0\" ></th>        <th class=\"col_heading level0 col0\" >pienin</th>        <th class=\"col_heading level0 col1\" >mediaani</th>        <th class=\"col_heading level0 col2\" >keskiarvo</th>        <th class=\"col_heading level0 col3\" >suurin</th>    </tr></thead><tbody>\n",
       "                <tr>\n",
       "                        <th id=\"T_a7252ae6_11cc_11ea_b144_d8fc933d7534level0_row0\" class=\"row_heading level0 row0\" >Peruskoulu</th>\n",
       "                        <td id=\"T_a7252ae6_11cc_11ea_b144_d8fc933d7534row0_col0\" class=\"data row0 col0\" >1638</td>\n",
       "                        <td id=\"T_a7252ae6_11cc_11ea_b144_d8fc933d7534row0_col1\" class=\"data row0 col1\" >2144</td>\n",
       "                        <td id=\"T_a7252ae6_11cc_11ea_b144_d8fc933d7534row0_col2\" class=\"data row0 col2\" >2310</td>\n",
       "                        <td id=\"T_a7252ae6_11cc_11ea_b144_d8fc933d7534row0_col3\" class=\"data row0 col3\" >3587</td>\n",
       "            </tr>\n",
       "            <tr>\n",
       "                        <th id=\"T_a7252ae6_11cc_11ea_b144_d8fc933d7534level0_row1\" class=\"row_heading level0 row1\" >2. aste</th>\n",
       "                        <td id=\"T_a7252ae6_11cc_11ea_b144_d8fc933d7534row1_col0\" class=\"data row1 col0\" >1521</td>\n",
       "                        <td id=\"T_a7252ae6_11cc_11ea_b144_d8fc933d7534row1_col1\" class=\"data row1 col1\" >2378</td>\n",
       "                        <td id=\"T_a7252ae6_11cc_11ea_b144_d8fc933d7534row1_col2\" class=\"data row1 col2\" >2403</td>\n",
       "                        <td id=\"T_a7252ae6_11cc_11ea_b144_d8fc933d7534row1_col3\" class=\"data row1 col3\" >3510</td>\n",
       "            </tr>\n",
       "            <tr>\n",
       "                        <th id=\"T_a7252ae6_11cc_11ea_b144_d8fc933d7534level0_row2\" class=\"row_heading level0 row2\" >Korkeakoulu</th>\n",
       "                        <td id=\"T_a7252ae6_11cc_11ea_b144_d8fc933d7534row2_col0\" class=\"data row2 col0\" >1559</td>\n",
       "                        <td id=\"T_a7252ae6_11cc_11ea_b144_d8fc933d7534row2_col1\" class=\"data row2 col1\" >2710</td>\n",
       "                        <td id=\"T_a7252ae6_11cc_11ea_b144_d8fc933d7534row2_col2\" class=\"data row2 col2\" >2887</td>\n",
       "                        <td id=\"T_a7252ae6_11cc_11ea_b144_d8fc933d7534row2_col3\" class=\"data row2 col3\" >6278</td>\n",
       "            </tr>\n",
       "            <tr>\n",
       "                        <th id=\"T_a7252ae6_11cc_11ea_b144_d8fc933d7534level0_row3\" class=\"row_heading level0 row3\" >Ylempi korkeakoulu</th>\n",
       "                        <td id=\"T_a7252ae6_11cc_11ea_b144_d8fc933d7534row3_col0\" class=\"data row3 col0\" >5069</td>\n",
       "                        <td id=\"T_a7252ae6_11cc_11ea_b144_d8fc933d7534row3_col1\" class=\"data row3 col1\" >5147</td>\n",
       "                        <td id=\"T_a7252ae6_11cc_11ea_b144_d8fc933d7534row3_col2\" class=\"data row3 col2\" >5147</td>\n",
       "                        <td id=\"T_a7252ae6_11cc_11ea_b144_d8fc933d7534row3_col3\" class=\"data row3 col3\" >5225</td>\n",
       "            </tr>\n",
       "    </tbody></table>"
      ],
      "text/plain": [
       "<pandas.io.formats.style.Styler at 0x1900c26cf98>"
      ]
     },
     "execution_count": 27,
     "metadata": {},
     "output_type": "execute_result"
    }
   ],
   "source": [
    "# pivot-taulukossa voi käyttää monenlaisia funktioita\n",
    "df8 = df.pivot_table(values = 'palkka', index = 'koulutus', \n",
    "                     aggfunc = ['min', 'median', 'mean', 'max'])\n",
    "\n",
    "df8.index = koulutus\n",
    "df8.columns = ['pienin', 'mediaani', 'keskiarvo', 'suurin']\n",
    "\n",
    "df8.style.format('{:.0f}')"
   ]
  },
  {
   "cell_type": "code",
   "execution_count": 28,
   "metadata": {},
   "outputs": [
    {
     "data": {
      "text/plain": [
       "[Text(0, 0, 'Peruskoulu'),\n",
       " Text(0, 0, '2. aste'),\n",
       " Text(0, 0, 'Korkeakoulu'),\n",
       " Text(0, 0, 'Ylempi korkeakoulu')]"
      ]
     },
     "execution_count": 28,
     "metadata": {},
     "output_type": "execute_result"
    },
    {
     "data": {
      "image/png": "[encoded data removed]",
      "text/plain": [
       "<Figure size 432x288 with 1 Axes>"
      ]
     },
     "metadata": {
      "needs_background": "light"
     },
     "output_type": "display_data"
    }
   ],
   "source": [
    "# Ruutu- ja janakaavio on kätevä jakaumien vertailussa\n",
    "ax8 = df.boxplot('palkka', by = 'koulutus')\n",
    "\n",
    "# boxplot tuottaa otsikoita, jotka poistan\n",
    "ax8.set_title('')\n",
    "ax8.get_figure().suptitle('')\n",
    "\n",
    "ax8.set_xlabel('Koulutus')\n",
    "ax8.set_ylabel('Palkka')\n",
    "ax8.set_xticklabels(koulutus)"
   ]
  },
  {
   "cell_type": "markdown",
   "metadata": {},
   "source": [
    "<h2>Korrelaatio</h2>\n",
    "\n",
    "<ul><li>Korrelaatiokertoimet <b>corr()</b>-funktiolla</li>\n",
    "    <li>Visuaalinen tarkastelu <b>scatter</b>-kaaviolla</li></ul>"
   ]
  },
  {
   "cell_type": "code",
   "execution_count": 29,
   "metadata": {},
   "outputs": [
    {
     "data": {
      "text/html": [
       "<style  type=\"text/css\" >\n",
       "</style><table id=\"T_a75ef5e6_11cc_11ea_81e4_d8fc933d7534\" ><thead>    <tr>        <th class=\"blank level0\" ></th>        <th class=\"col_heading level0 col0\" >ikä</th>        <th class=\"col_heading level0 col1\" >palveluv</th>        <th class=\"col_heading level0 col2\" >palkka</th>    </tr></thead><tbody>\n",
       "                <tr>\n",
       "                        <th id=\"T_a75ef5e6_11cc_11ea_81e4_d8fc933d7534level0_row0\" class=\"row_heading level0 row0\" >ikä</th>\n",
       "                        <td id=\"T_a75ef5e6_11cc_11ea_81e4_d8fc933d7534row0_col0\" class=\"data row0 col0\" >1.00</td>\n",
       "                        <td id=\"T_a75ef5e6_11cc_11ea_81e4_d8fc933d7534row0_col1\" class=\"data row0 col1\" >0.53</td>\n",
       "                        <td id=\"T_a75ef5e6_11cc_11ea_81e4_d8fc933d7534row0_col2\" class=\"data row0 col2\" >0.30</td>\n",
       "            </tr>\n",
       "            <tr>\n",
       "                        <th id=\"T_a75ef5e6_11cc_11ea_81e4_d8fc933d7534level0_row1\" class=\"row_heading level0 row1\" >palveluv</th>\n",
       "                        <td id=\"T_a75ef5e6_11cc_11ea_81e4_d8fc933d7534row1_col0\" class=\"data row1 col0\" >0.53</td>\n",
       "                        <td id=\"T_a75ef5e6_11cc_11ea_81e4_d8fc933d7534row1_col1\" class=\"data row1 col1\" >1.00</td>\n",
       "                        <td id=\"T_a75ef5e6_11cc_11ea_81e4_d8fc933d7534row1_col2\" class=\"data row1 col2\" >0.24</td>\n",
       "            </tr>\n",
       "            <tr>\n",
       "                        <th id=\"T_a75ef5e6_11cc_11ea_81e4_d8fc933d7534level0_row2\" class=\"row_heading level0 row2\" >palkka</th>\n",
       "                        <td id=\"T_a75ef5e6_11cc_11ea_81e4_d8fc933d7534row2_col0\" class=\"data row2 col0\" >0.30</td>\n",
       "                        <td id=\"T_a75ef5e6_11cc_11ea_81e4_d8fc933d7534row2_col1\" class=\"data row2 col1\" >0.24</td>\n",
       "                        <td id=\"T_a75ef5e6_11cc_11ea_81e4_d8fc933d7534row2_col2\" class=\"data row2 col2\" >1.00</td>\n",
       "            </tr>\n",
       "    </tbody></table>"
      ],
      "text/plain": [
       "<pandas.io.formats.style.Styler at 0x1900c26ce80>"
      ]
     },
     "execution_count": 29,
     "metadata": {},
     "output_type": "execute_result"
    }
   ],
   "source": [
    "# Korrelaatiokertoimia kahden desimaalin tarkkuudella\n",
    "df[['ikä', 'palveluv', 'palkka']].corr().style.format('{:.2f}')"
   ]
  },
  {
   "cell_type": "code",
   "execution_count": 30,
   "metadata": {},
   "outputs": [
    {
     "data": {
      "text/plain": [
       "<matplotlib.axes._subplots.AxesSubplot at 0x1900c324a90>"
      ]
     },
     "execution_count": 30,
     "metadata": {},
     "output_type": "execute_result"
    },
    {
     "data": {
      "image/png": "[encoded data removed]",
      "text/plain": [
       "<Figure size 432x288 with 1 Axes>"
      ]
     },
     "metadata": {
      "needs_background": "light"
     },
     "output_type": "display_data"
    }
   ],
   "source": [
    "# Iän ja palkan riippuvuus hajontakaaviona\n",
    "df.plot.scatter('ikä', 'palkka')"
   ]
  }
 ],
 "metadata": {
  "kernelspec": {
   "display_name": "Python 3",
   "language": "python",
   "name": "python3"
  },
  "language_info": {
   "codemirror_mode": {
    "name": "ipython",
    "version": 3
   },
   "file_extension": ".py",
   "mimetype": "text/x-python",
   "name": "python",
   "nbconvert_exporter": "python",
   "pygments_lexer": "ipython3",
   "version": "3.7.3"
  }
 },
 "nbformat": 4,
 "nbformat_minor": 2
}
