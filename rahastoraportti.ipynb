{
 "cells": [
  {
   "cell_type": "code",
   "execution_count": 1,
   "metadata": {
    "scrolled": true
   },
   "outputs": [
    {
     "data": {
      "text/html": [
       "<div>\n",
       "<style scoped>\n",
       "    .dataframe tbody tr th:only-of-type {\n",
       "        vertical-align: middle;\n",
       "    }\n",
       "\n",
       "    .dataframe tbody tr th {\n",
       "        vertical-align: top;\n",
       "    }\n",
       "\n",
       "    .dataframe thead th {\n",
       "        text-align: right;\n",
       "    }\n",
       "</style>\n",
       "<table border=\"1\" class=\"dataframe\">\n",
       "  <thead>\n",
       "    <tr style=\"text-align: right;\">\n",
       "      <th></th>\n",
       "      <th>Rahaston nimi</th>\n",
       "      <th>5 vuoden tuotto (% vuodessa)</th>\n",
       "      <th>3 vuoden tuotto (% vuodessa)</th>\n",
       "      <th>1 vuoden tuotto</th>\n",
       "      <th>6 kuukauden tuotto</th>\n",
       "      <th>Hallin. ja säilytyspalkkio (% vuodessa)</th>\n",
       "      <th>Rahastoluokka</th>\n",
       "    </tr>\n",
       "  </thead>\n",
       "  <tbody>\n",
       "    <tr>\n",
       "      <th>0</th>\n",
       "      <td>Aktia Emerging Market Equity Select</td>\n",
       "      <td>NaN</td>\n",
       "      <td>0.045360</td>\n",
       "      <td>0.131277</td>\n",
       "      <td>0.036917</td>\n",
       "      <td>0.0130</td>\n",
       "      <td>EQ_EMER_GLOBAL</td>\n",
       "    </tr>\n",
       "    <tr>\n",
       "      <th>1</th>\n",
       "      <td>Alexandria Emerging Markets Manager</td>\n",
       "      <td>0.036559</td>\n",
       "      <td>0.012926</td>\n",
       "      <td>0.055690</td>\n",
       "      <td>0.025792</td>\n",
       "      <td>0.0100</td>\n",
       "      <td>EQ_EMER_GLOBAL</td>\n",
       "    </tr>\n",
       "    <tr>\n",
       "      <th>2</th>\n",
       "      <td>Danske Invest Global Emerging Markets</td>\n",
       "      <td>0.017142</td>\n",
       "      <td>-0.001951</td>\n",
       "      <td>-0.036157</td>\n",
       "      <td>-0.014143</td>\n",
       "      <td>0.0163</td>\n",
       "      <td>EQ_EMER_GLOBAL</td>\n",
       "    </tr>\n",
       "    <tr>\n",
       "      <th>3</th>\n",
       "      <td>Danske Invest Global Emerging Markets, EUR</td>\n",
       "      <td>NaN</td>\n",
       "      <td>-0.001207</td>\n",
       "      <td>-0.040070</td>\n",
       "      <td>-0.023915</td>\n",
       "      <td>0.0192</td>\n",
       "      <td>EQ_EMER_GLOBAL</td>\n",
       "    </tr>\n",
       "    <tr>\n",
       "      <th>4</th>\n",
       "      <td>Danske Invest Kehitt. Osakemarkkinat</td>\n",
       "      <td>0.055280</td>\n",
       "      <td>0.045666</td>\n",
       "      <td>0.072944</td>\n",
       "      <td>0.040017</td>\n",
       "      <td>0.0050</td>\n",
       "      <td>EQ_EMER_GLOBAL</td>\n",
       "    </tr>\n",
       "  </tbody>\n",
       "</table>\n",
       "</div>"
      ],
      "text/plain": [
       "                                Rahaston nimi  5 vuoden tuotto (% vuodessa)  \\\n",
       "0         Aktia Emerging Market Equity Select                           NaN   \n",
       "1         Alexandria Emerging Markets Manager                      0.036559   \n",
       "2       Danske Invest Global Emerging Markets                      0.017142   \n",
       "3  Danske Invest Global Emerging Markets, EUR                           NaN   \n",
       "4        Danske Invest Kehitt. Osakemarkkinat                      0.055280   \n",
       "\n",
       "   3 vuoden tuotto (% vuodessa)  1 vuoden tuotto  6 kuukauden tuotto  \\\n",
       "0                      0.045360         0.131277            0.036917   \n",
       "1                      0.012926         0.055690            0.025792   \n",
       "2                     -0.001951        -0.036157           -0.014143   \n",
       "3                     -0.001207        -0.040070           -0.023915   \n",
       "4                      0.045666         0.072944            0.040017   \n",
       "\n",
       "   Hallin. ja säilytyspalkkio (% vuodessa)   Rahastoluokka  \n",
       "0                                   0.0130  EQ_EMER_GLOBAL  \n",
       "1                                   0.0100  EQ_EMER_GLOBAL  \n",
       "2                                   0.0163  EQ_EMER_GLOBAL  \n",
       "3                                   0.0192  EQ_EMER_GLOBAL  \n",
       "4                                   0.0050  EQ_EMER_GLOBAL  "
      ]
     },
     "execution_count": 1,
     "metadata": {},
     "output_type": "execute_result"
    }
   ],
   "source": [
    "import pandas as pd\n",
    "import matplotlib.pyplot as plt\n",
    "%matplotlib inline\n",
    "\n",
    "df=pd.read_excel('http://myy.haaga-helia.fi/~taaak/a/t2aineisto.xlsx')\n",
    "df.head()"
   ]
  },
  {
   "cell_type": "code",
   "execution_count": 2,
   "metadata": {},
   "outputs": [
    {
     "data": {
      "text/html": [
       "<div>\n",
       "<style scoped>\n",
       "    .dataframe tbody tr th:only-of-type {\n",
       "        vertical-align: middle;\n",
       "    }\n",
       "\n",
       "    .dataframe tbody tr th {\n",
       "        vertical-align: top;\n",
       "    }\n",
       "\n",
       "    .dataframe thead th {\n",
       "        text-align: right;\n",
       "    }\n",
       "</style>\n",
       "<table border=\"1\" class=\"dataframe\">\n",
       "  <thead>\n",
       "    <tr style=\"text-align: right;\">\n",
       "      <th></th>\n",
       "      <th>nimi</th>\n",
       "      <th>t5</th>\n",
       "      <th>t3</th>\n",
       "      <th>t1</th>\n",
       "      <th>tp</th>\n",
       "      <th>palkkio</th>\n",
       "      <th>luokka</th>\n",
       "    </tr>\n",
       "  </thead>\n",
       "  <tbody>\n",
       "    <tr>\n",
       "      <th>0</th>\n",
       "      <td>Aktia Emerging Market Equity Select</td>\n",
       "      <td>NaN</td>\n",
       "      <td>0.045360</td>\n",
       "      <td>0.131277</td>\n",
       "      <td>0.036917</td>\n",
       "      <td>0.0130</td>\n",
       "      <td>EQ_EMER_GLOBAL</td>\n",
       "    </tr>\n",
       "    <tr>\n",
       "      <th>1</th>\n",
       "      <td>Alexandria Emerging Markets Manager</td>\n",
       "      <td>0.036559</td>\n",
       "      <td>0.012926</td>\n",
       "      <td>0.055690</td>\n",
       "      <td>0.025792</td>\n",
       "      <td>0.0100</td>\n",
       "      <td>EQ_EMER_GLOBAL</td>\n",
       "    </tr>\n",
       "    <tr>\n",
       "      <th>2</th>\n",
       "      <td>Danske Invest Global Emerging Markets</td>\n",
       "      <td>0.017142</td>\n",
       "      <td>-0.001951</td>\n",
       "      <td>-0.036157</td>\n",
       "      <td>-0.014143</td>\n",
       "      <td>0.0163</td>\n",
       "      <td>EQ_EMER_GLOBAL</td>\n",
       "    </tr>\n",
       "    <tr>\n",
       "      <th>3</th>\n",
       "      <td>Danske Invest Global Emerging Markets, EUR</td>\n",
       "      <td>NaN</td>\n",
       "      <td>-0.001207</td>\n",
       "      <td>-0.040070</td>\n",
       "      <td>-0.023915</td>\n",
       "      <td>0.0192</td>\n",
       "      <td>EQ_EMER_GLOBAL</td>\n",
       "    </tr>\n",
       "    <tr>\n",
       "      <th>4</th>\n",
       "      <td>Danske Invest Kehitt. Osakemarkkinat</td>\n",
       "      <td>0.055280</td>\n",
       "      <td>0.045666</td>\n",
       "      <td>0.072944</td>\n",
       "      <td>0.040017</td>\n",
       "      <td>0.0050</td>\n",
       "      <td>EQ_EMER_GLOBAL</td>\n",
       "    </tr>\n",
       "  </tbody>\n",
       "</table>\n",
       "</div>"
      ],
      "text/plain": [
       "                                         nimi        t5        t3        t1  \\\n",
       "0         Aktia Emerging Market Equity Select       NaN  0.045360  0.131277   \n",
       "1         Alexandria Emerging Markets Manager  0.036559  0.012926  0.055690   \n",
       "2       Danske Invest Global Emerging Markets  0.017142 -0.001951 -0.036157   \n",
       "3  Danske Invest Global Emerging Markets, EUR       NaN -0.001207 -0.040070   \n",
       "4        Danske Invest Kehitt. Osakemarkkinat  0.055280  0.045666  0.072944   \n",
       "\n",
       "         tp  palkkio          luokka  \n",
       "0  0.036917   0.0130  EQ_EMER_GLOBAL  \n",
       "1  0.025792   0.0100  EQ_EMER_GLOBAL  \n",
       "2 -0.014143   0.0163  EQ_EMER_GLOBAL  \n",
       "3 -0.023915   0.0192  EQ_EMER_GLOBAL  \n",
       "4  0.040017   0.0050  EQ_EMER_GLOBAL  "
      ]
     },
     "execution_count": 2,
     "metadata": {},
     "output_type": "execute_result"
    }
   ],
   "source": [
    "#Vaihdetaan sarakkeiden nimet\n",
    "df.columns=['nimi', 't5', 't3', 't1', 'tp', 'palkkio', 'luokka']\n",
    "df.head()"
   ]
  },
  {
   "cell_type": "code",
   "execution_count": 3,
   "metadata": {},
   "outputs": [
    {
     "data": {
      "text/plain": [
       "EQ_EUROPE         142\n",
       "EQ_NORAM           77\n",
       "EQ_EMER_GLOBAL     73\n",
       "EQ_FINLAND         41\n",
       "Name: luokka, dtype: int64"
      ]
     },
     "execution_count": 3,
     "metadata": {},
     "output_type": "execute_result"
    }
   ],
   "source": [
    "#Rahastojen määrä kussakin rahastoluokassa\n",
    "df['luokka'].value_counts()"
   ]
  },
  {
   "cell_type": "code",
   "execution_count": 4,
   "metadata": {},
   "outputs": [
    {
     "data": {
      "text/html": [
       "<div>\n",
       "<style scoped>\n",
       "    .dataframe tbody tr th:only-of-type {\n",
       "        vertical-align: middle;\n",
       "    }\n",
       "\n",
       "    .dataframe tbody tr th {\n",
       "        vertical-align: top;\n",
       "    }\n",
       "\n",
       "    .dataframe thead th {\n",
       "        text-align: right;\n",
       "    }\n",
       "</style>\n",
       "<table border=\"1\" class=\"dataframe\">\n",
       "  <thead>\n",
       "    <tr style=\"text-align: right;\">\n",
       "      <th></th>\n",
       "      <th>count</th>\n",
       "      <th>mean</th>\n",
       "      <th>std</th>\n",
       "      <th>min</th>\n",
       "      <th>25%</th>\n",
       "      <th>50%</th>\n",
       "      <th>75%</th>\n",
       "      <th>max</th>\n",
       "    </tr>\n",
       "    <tr>\n",
       "      <th>luokka</th>\n",
       "      <th></th>\n",
       "      <th></th>\n",
       "      <th></th>\n",
       "      <th></th>\n",
       "      <th></th>\n",
       "      <th></th>\n",
       "      <th></th>\n",
       "      <th></th>\n",
       "    </tr>\n",
       "  </thead>\n",
       "  <tbody>\n",
       "    <tr>\n",
       "      <th>EQ_EMER_GLOBAL</th>\n",
       "      <td>51.0</td>\n",
       "      <td>0.049918</td>\n",
       "      <td>0.020092</td>\n",
       "      <td>0.010063</td>\n",
       "      <td>0.038140</td>\n",
       "      <td>0.050515</td>\n",
       "      <td>0.058881</td>\n",
       "      <td>0.093202</td>\n",
       "    </tr>\n",
       "    <tr>\n",
       "      <th>EQ_EUROPE</th>\n",
       "      <td>111.0</td>\n",
       "      <td>0.085051</td>\n",
       "      <td>0.031595</td>\n",
       "      <td>0.004001</td>\n",
       "      <td>0.064800</td>\n",
       "      <td>0.080392</td>\n",
       "      <td>0.102164</td>\n",
       "      <td>0.173155</td>\n",
       "    </tr>\n",
       "    <tr>\n",
       "      <th>EQ_FINLAND</th>\n",
       "      <td>33.0</td>\n",
       "      <td>0.128186</td>\n",
       "      <td>0.021212</td>\n",
       "      <td>0.092797</td>\n",
       "      <td>0.112911</td>\n",
       "      <td>0.127783</td>\n",
       "      <td>0.149171</td>\n",
       "      <td>0.161031</td>\n",
       "    </tr>\n",
       "    <tr>\n",
       "      <th>EQ_NORAM</th>\n",
       "      <td>57.0</td>\n",
       "      <td>0.114756</td>\n",
       "      <td>0.022440</td>\n",
       "      <td>0.066151</td>\n",
       "      <td>0.097372</td>\n",
       "      <td>0.117612</td>\n",
       "      <td>0.127692</td>\n",
       "      <td>0.187256</td>\n",
       "    </tr>\n",
       "  </tbody>\n",
       "</table>\n",
       "</div>"
      ],
      "text/plain": [
       "                count      mean       std       min       25%       50%  \\\n",
       "luokka                                                                    \n",
       "EQ_EMER_GLOBAL   51.0  0.049918  0.020092  0.010063  0.038140  0.050515   \n",
       "EQ_EUROPE       111.0  0.085051  0.031595  0.004001  0.064800  0.080392   \n",
       "EQ_FINLAND       33.0  0.128186  0.021212  0.092797  0.112911  0.127783   \n",
       "EQ_NORAM         57.0  0.114756  0.022440  0.066151  0.097372  0.117612   \n",
       "\n",
       "                     75%       max  \n",
       "luokka                              \n",
       "EQ_EMER_GLOBAL  0.058881  0.093202  \n",
       "EQ_EUROPE       0.102164  0.173155  \n",
       "EQ_FINLAND      0.149171  0.161031  \n",
       "EQ_NORAM        0.127692  0.187256  "
      ]
     },
     "execution_count": 4,
     "metadata": {},
     "output_type": "execute_result"
    }
   ],
   "source": [
    "#5 vuoden tuoton tunnusluvut rahastoluokittain\n",
    "df['t5'].groupby(df['luokka']).describe()"
   ]
  },
  {
   "cell_type": "code",
   "execution_count": 15,
   "metadata": {},
   "outputs": [
    {
     "data": {
      "text/plain": [
       "<matplotlib.axes._subplots.AxesSubplot at 0x1ad1d3ca208>"
      ]
     },
     "execution_count": 15,
     "metadata": {},
     "output_type": "execute_result"
    },
    {
     "data": {
      "image/png": "[encoded data removed]",
      "text/plain": [
       "<matplotlib.figure.Figure at 0x1ad1d3649e8>"
      ]
     },
     "metadata": {},
     "output_type": "display_data"
    }
   ],
   "source": [
    "#Viiden vuoden tuottojen keskiarvot rahastoluokittain\n",
    "df['t5'].groupby(df['luokka']).mean().plot(kind='bar', color='green')"
   ]
  },
  {
   "cell_type": "code",
   "execution_count": 16,
   "metadata": {},
   "outputs": [
    {
     "data": {
      "text/plain": [
       "<matplotlib.axes._subplots.AxesSubplot at 0x1ad1d3e59e8>"
      ]
     },
     "execution_count": 16,
     "metadata": {},
     "output_type": "execute_result"
    },
    {
     "data": {
      "image/png": "[encoded data removed]",
      "text/plain": [
       "<matplotlib.figure.Figure at 0x1ad1d41ada0>"
      ]
     },
     "metadata": {},
     "output_type": "display_data"
    }
   ],
   "source": [
    "#Vuoden tuottojen keskiarvot rahastoluokittain\n",
    "df['t1'].groupby(df['luokka']).mean().plot(kind='bar', color='green')"
   ]
  },
  {
   "cell_type": "code",
   "execution_count": 7,
   "metadata": {},
   "outputs": [
    {
     "data": {
      "text/plain": [
       "<matplotlib.axes._subplots.AxesSubplot at 0x1ad1b8c2048>"
      ]
     },
     "execution_count": 7,
     "metadata": {},
     "output_type": "execute_result"
    },
    {
     "data": {
      "image/png": "[encoded data removed]",
      "text/plain": [
       "<matplotlib.figure.Figure at 0x1ad1b4d4160>"
      ]
     },
     "metadata": {},
     "output_type": "display_data"
    }
   ],
   "source": [
    "#5 vuoden tuottojen jakauma rahastoluokittain\n",
    "df.boxplot(column='t5', by='luokka')"
   ]
  },
  {
   "cell_type": "code",
   "execution_count": 8,
   "metadata": {},
   "outputs": [
    {
     "data": {
      "text/html": [
       "<div>\n",
       "<style scoped>\n",
       "    .dataframe tbody tr th:only-of-type {\n",
       "        vertical-align: middle;\n",
       "    }\n",
       "\n",
       "    .dataframe tbody tr th {\n",
       "        vertical-align: top;\n",
       "    }\n",
       "\n",
       "    .dataframe thead th {\n",
       "        text-align: right;\n",
       "    }\n",
       "</style>\n",
       "<table border=\"1\" class=\"dataframe\">\n",
       "  <thead>\n",
       "    <tr style=\"text-align: right;\">\n",
       "      <th></th>\n",
       "      <th>t1</th>\n",
       "      <th>palkkio</th>\n",
       "    </tr>\n",
       "  </thead>\n",
       "  <tbody>\n",
       "    <tr>\n",
       "      <th>t1</th>\n",
       "      <td>1.000000</td>\n",
       "      <td>-0.009209</td>\n",
       "    </tr>\n",
       "    <tr>\n",
       "      <th>palkkio</th>\n",
       "      <td>-0.009209</td>\n",
       "      <td>1.000000</td>\n",
       "    </tr>\n",
       "  </tbody>\n",
       "</table>\n",
       "</div>"
      ],
      "text/plain": [
       "               t1   palkkio\n",
       "t1       1.000000 -0.009209\n",
       "palkkio -0.009209  1.000000"
      ]
     },
     "execution_count": 8,
     "metadata": {},
     "output_type": "execute_result"
    }
   ],
   "source": [
    "#Vuoden tuottojen ja hoitokulujen korrelaatio\n",
    "df[['t1', 'palkkio']].corr()"
   ]
  },
  {
   "cell_type": "code",
   "execution_count": 9,
   "metadata": {},
   "outputs": [
    {
     "data": {
      "text/html": [
       "<div>\n",
       "<style scoped>\n",
       "    .dataframe tbody tr th:only-of-type {\n",
       "        vertical-align: middle;\n",
       "    }\n",
       "\n",
       "    .dataframe tbody tr th {\n",
       "        vertical-align: top;\n",
       "    }\n",
       "\n",
       "    .dataframe thead th {\n",
       "        text-align: right;\n",
       "    }\n",
       "</style>\n",
       "<table border=\"1\" class=\"dataframe\">\n",
       "  <thead>\n",
       "    <tr style=\"text-align: right;\">\n",
       "      <th></th>\n",
       "      <th></th>\n",
       "      <th>t1</th>\n",
       "      <th>palkkio</th>\n",
       "    </tr>\n",
       "    <tr>\n",
       "      <th>luokka</th>\n",
       "      <th></th>\n",
       "      <th></th>\n",
       "      <th></th>\n",
       "    </tr>\n",
       "  </thead>\n",
       "  <tbody>\n",
       "    <tr>\n",
       "      <th rowspan=\"2\" valign=\"top\">EQ_EMER_GLOBAL</th>\n",
       "      <th>t1</th>\n",
       "      <td>1.000000</td>\n",
       "      <td>-0.250190</td>\n",
       "    </tr>\n",
       "    <tr>\n",
       "      <th>palkkio</th>\n",
       "      <td>-0.250190</td>\n",
       "      <td>1.000000</td>\n",
       "    </tr>\n",
       "    <tr>\n",
       "      <th rowspan=\"2\" valign=\"top\">EQ_EUROPE</th>\n",
       "      <th>t1</th>\n",
       "      <td>1.000000</td>\n",
       "      <td>0.074487</td>\n",
       "    </tr>\n",
       "    <tr>\n",
       "      <th>palkkio</th>\n",
       "      <td>0.074487</td>\n",
       "      <td>1.000000</td>\n",
       "    </tr>\n",
       "    <tr>\n",
       "      <th rowspan=\"2\" valign=\"top\">EQ_FINLAND</th>\n",
       "      <th>t1</th>\n",
       "      <td>1.000000</td>\n",
       "      <td>-0.466711</td>\n",
       "    </tr>\n",
       "    <tr>\n",
       "      <th>palkkio</th>\n",
       "      <td>-0.466711</td>\n",
       "      <td>1.000000</td>\n",
       "    </tr>\n",
       "    <tr>\n",
       "      <th rowspan=\"2\" valign=\"top\">EQ_NORAM</th>\n",
       "      <th>t1</th>\n",
       "      <td>1.000000</td>\n",
       "      <td>0.027261</td>\n",
       "    </tr>\n",
       "    <tr>\n",
       "      <th>palkkio</th>\n",
       "      <td>0.027261</td>\n",
       "      <td>1.000000</td>\n",
       "    </tr>\n",
       "  </tbody>\n",
       "</table>\n",
       "</div>"
      ],
      "text/plain": [
       "                              t1   palkkio\n",
       "luokka                                    \n",
       "EQ_EMER_GLOBAL t1       1.000000 -0.250190\n",
       "               palkkio -0.250190  1.000000\n",
       "EQ_EUROPE      t1       1.000000  0.074487\n",
       "               palkkio  0.074487  1.000000\n",
       "EQ_FINLAND     t1       1.000000 -0.466711\n",
       "               palkkio -0.466711  1.000000\n",
       "EQ_NORAM       t1       1.000000  0.027261\n",
       "               palkkio  0.027261  1.000000"
      ]
     },
     "execution_count": 9,
     "metadata": {},
     "output_type": "execute_result"
    }
   ],
   "source": [
    "#Vuoden tuottojen ja hoitokulujen korrelaatio rahastoluokittain\n",
    "df[['t1', 'palkkio']].groupby(df['luokka']).corr()"
   ]
  },
  {
   "cell_type": "code",
   "execution_count": 10,
   "metadata": {},
   "outputs": [
    {
     "data": {
      "text/html": [
       "<div>\n",
       "<style scoped>\n",
       "    .dataframe tbody tr th:only-of-type {\n",
       "        vertical-align: middle;\n",
       "    }\n",
       "\n",
       "    .dataframe tbody tr th {\n",
       "        vertical-align: top;\n",
       "    }\n",
       "\n",
       "    .dataframe thead th {\n",
       "        text-align: right;\n",
       "    }\n",
       "</style>\n",
       "<table border=\"1\" class=\"dataframe\">\n",
       "  <thead>\n",
       "    <tr style=\"text-align: right;\">\n",
       "      <th></th>\n",
       "      <th>t1</th>\n",
       "      <th>palkkio</th>\n",
       "      <th>luokka</th>\n",
       "    </tr>\n",
       "  </thead>\n",
       "  <tbody>\n",
       "    <tr>\n",
       "      <th>0</th>\n",
       "      <td>0.131277</td>\n",
       "      <td>0.0130</td>\n",
       "      <td>EQ_EMER_GLOBAL</td>\n",
       "    </tr>\n",
       "    <tr>\n",
       "      <th>1</th>\n",
       "      <td>0.055690</td>\n",
       "      <td>0.0100</td>\n",
       "      <td>EQ_EMER_GLOBAL</td>\n",
       "    </tr>\n",
       "    <tr>\n",
       "      <th>2</th>\n",
       "      <td>-0.036157</td>\n",
       "      <td>0.0163</td>\n",
       "      <td>EQ_EMER_GLOBAL</td>\n",
       "    </tr>\n",
       "    <tr>\n",
       "      <th>3</th>\n",
       "      <td>-0.040070</td>\n",
       "      <td>0.0192</td>\n",
       "      <td>EQ_EMER_GLOBAL</td>\n",
       "    </tr>\n",
       "    <tr>\n",
       "      <th>4</th>\n",
       "      <td>0.072944</td>\n",
       "      <td>0.0050</td>\n",
       "      <td>EQ_EMER_GLOBAL</td>\n",
       "    </tr>\n",
       "  </tbody>\n",
       "</table>\n",
       "</div>"
      ],
      "text/plain": [
       "         t1  palkkio          luokka\n",
       "0  0.131277   0.0130  EQ_EMER_GLOBAL\n",
       "1  0.055690   0.0100  EQ_EMER_GLOBAL\n",
       "2 -0.036157   0.0163  EQ_EMER_GLOBAL\n",
       "3 -0.040070   0.0192  EQ_EMER_GLOBAL\n",
       "4  0.072944   0.0050  EQ_EMER_GLOBAL"
      ]
     },
     "execution_count": 10,
     "metadata": {},
     "output_type": "execute_result"
    }
   ],
   "source": [
    "#Osa-aineisto, jossa vuoden tuotot, hoitokulut ja rahastoluokka; puuttuvia arvoja sisältävät rivit poistettu\n",
    "df1=df[['t1','palkkio','luokka']].dropna()\n",
    "df1.head()"
   ]
  },
  {
   "cell_type": "code",
   "execution_count": 11,
   "metadata": {},
   "outputs": [
    {
     "data": {
      "text/plain": [
       "(-0.009209004360211208, 0.869453487608243)"
      ]
     },
     "execution_count": 11,
     "metadata": {},
     "output_type": "execute_result"
    }
   ],
   "source": [
    "#Korrelaatiokerroin ja p-arvo\n",
    "import scipy.stats\n",
    "scipy.stats.pearsonr(df1['t1'], df1['palkkio'])"
   ]
  },
  {
   "cell_type": "code",
   "execution_count": 12,
   "metadata": {},
   "outputs": [
    {
     "name": "stdout",
     "output_type": "stream",
     "text": [
      "EQ_EMER_GLOBAL (-0.25019049788557834, 0.036716691224622997)\n",
      "EQ_EUROPE (0.07448733749907611, 0.3870025342697202)\n",
      "EQ_FINLAND (-0.46671138276680413, 0.0027440367411678554)\n",
      "EQ_NORAM (0.027260936819367768, 0.8164102763201186)\n"
     ]
    }
   ],
   "source": [
    "#Korrelaatiokertoimet ja p-arvot rahastoluokittain\n",
    "luokat=df1['luokka'].unique()\n",
    "for value in luokat:\n",
    "    dfluokka=df1[df1['luokka']==value]\n",
    "    print(value, scipy.stats.pearsonr(dfluokka['t1'], dfluokka['palkkio']))"
   ]
  },
  {
   "cell_type": "code",
   "execution_count": 13,
   "metadata": {},
   "outputs": [
    {
     "data": {
      "text/plain": [
       "(0, 0.03)"
      ]
     },
     "execution_count": 13,
     "metadata": {},
     "output_type": "execute_result"
    },
    {
     "data": {
      "image/png": "[encoded data removed]",
      "text/plain": [
       "<matplotlib.figure.Figure at 0x1ad1b92e978>"
      ]
     },
     "metadata": {},
     "output_type": "display_data"
    }
   ],
   "source": [
    "plt.scatter(df1['palkkio'], df1['t1'])\n",
    "plt.xlabel('palkkio')\n",
    "plt.ylabel('vuoden tuotto')\n",
    "plt.xlim(0,0.03)"
   ]
  },
  {
   "cell_type": "code",
   "execution_count": 14,
   "metadata": {},
   "outputs": [
    {
     "data": {
      "text/plain": [
       "(0, 0.025)"
      ]
     },
     "execution_count": 14,
     "metadata": {},
     "output_type": "execute_result"
    },
    {
     "data": {
      "image/png": "[encoded data removed]",
      "text/plain": [
       "<matplotlib.figure.Figure at 0x1ad1d3741d0>"
      ]
     },
     "metadata": {},
     "output_type": "display_data"
    }
   ],
   "source": [
    "df_finland= df[df['luokka']=='EQ_FINLAND']\n",
    "plt.scatter(df_finland['palkkio'], df_finland['t1'])\n",
    "plt.xlabel('palkkio')\n",
    "plt.ylabel('vuoden tuotto')\n",
    "plt.xlim(0,0.025)"
   ]
  },
  {
   "cell_type": "code",
   "execution_count": null,
   "metadata": {},
   "outputs": [],
   "source": []
  }
 ],
 "metadata": {
  "kernelspec": {
   "display_name": "Python 3",
   "language": "python",
   "name": "python3"
  },
  "language_info": {
   "codemirror_mode": {
    "name": "ipython",
    "version": 3
   },
   "file_extension": ".py",
   "mimetype": "text/x-python",
   "name": "python",
   "nbconvert_exporter": "python",
   "pygments_lexer": "ipython3",
   "version": "3.6.4"
  }
 },
 "nbformat": 4,
 "nbformat_minor": 2
}
