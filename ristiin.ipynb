{
 "cells": [
  {
   "cell_type": "markdown",
   "metadata": {},
   "source": [
    "<h1>Ristiintaulukointi</h1>\n",
    "\n",
    "Kahden kategorisen muuttujan riippuvuuden tarkasteluun"
   ]
  },
  {
   "cell_type": "code",
   "execution_count": 1,
   "metadata": {},
   "outputs": [],
   "source": [
    "import pandas as pd\n",
    "import matplotlib.pyplot as plt\n",
    "%matplotlib inline\n",
    "\n",
    "# Tyyli vaikuttaa kaavioiden ulkoasuun\n",
    "# Käytettävissä olevat tyylit voit listata komennolla plt.style.available\n",
    "plt.style.use('seaborn-whitegrid')"
   ]
  },
  {
   "cell_type": "code",
   "execution_count": 2,
   "metadata": {},
   "outputs": [
    {
     "data": {
      "text/html": [
       "<div>\n",
       "<style scoped>\n",
       "    .dataframe tbody tr th:only-of-type {\n",
       "        vertical-align: middle;\n",
       "    }\n",
       "\n",
       "    .dataframe tbody tr th {\n",
       "        vertical-align: top;\n",
       "    }\n",
       "\n",
       "    .dataframe thead th {\n",
       "        text-align: right;\n",
       "    }\n",
       "</style>\n",
       "<table border=\"1\" class=\"dataframe\">\n",
       "  <thead>\n",
       "    <tr style=\"text-align: right;\">\n",
       "      <th></th>\n",
       "      <th>nro</th>\n",
       "      <th>sukup</th>\n",
       "      <th>ikä</th>\n",
       "      <th>perhe</th>\n",
       "      <th>koulutus</th>\n",
       "      <th>palveluv</th>\n",
       "      <th>palkka</th>\n",
       "      <th>johto</th>\n",
       "      <th>työtov</th>\n",
       "      <th>työymp</th>\n",
       "      <th>palkkat</th>\n",
       "      <th>työteht</th>\n",
       "      <th>työterv</th>\n",
       "      <th>lomaosa</th>\n",
       "      <th>kuntosa</th>\n",
       "      <th>hieroja</th>\n",
       "    </tr>\n",
       "  </thead>\n",
       "  <tbody>\n",
       "    <tr>\n",
       "      <th>0</th>\n",
       "      <td>1</td>\n",
       "      <td>1</td>\n",
       "      <td>38</td>\n",
       "      <td>1</td>\n",
       "      <td>1.0</td>\n",
       "      <td>22.0</td>\n",
       "      <td>3587</td>\n",
       "      <td>3</td>\n",
       "      <td>3.0</td>\n",
       "      <td>3</td>\n",
       "      <td>3</td>\n",
       "      <td>3</td>\n",
       "      <td>NaN</td>\n",
       "      <td>NaN</td>\n",
       "      <td>NaN</td>\n",
       "      <td>NaN</td>\n",
       "    </tr>\n",
       "    <tr>\n",
       "      <th>1</th>\n",
       "      <td>2</td>\n",
       "      <td>1</td>\n",
       "      <td>29</td>\n",
       "      <td>2</td>\n",
       "      <td>2.0</td>\n",
       "      <td>10.0</td>\n",
       "      <td>2963</td>\n",
       "      <td>1</td>\n",
       "      <td>5.0</td>\n",
       "      <td>2</td>\n",
       "      <td>1</td>\n",
       "      <td>3</td>\n",
       "      <td>NaN</td>\n",
       "      <td>NaN</td>\n",
       "      <td>NaN</td>\n",
       "      <td>NaN</td>\n",
       "    </tr>\n",
       "    <tr>\n",
       "      <th>2</th>\n",
       "      <td>3</td>\n",
       "      <td>1</td>\n",
       "      <td>30</td>\n",
       "      <td>1</td>\n",
       "      <td>1.0</td>\n",
       "      <td>7.0</td>\n",
       "      <td>1989</td>\n",
       "      <td>3</td>\n",
       "      <td>4.0</td>\n",
       "      <td>1</td>\n",
       "      <td>1</td>\n",
       "      <td>3</td>\n",
       "      <td>1.0</td>\n",
       "      <td>NaN</td>\n",
       "      <td>NaN</td>\n",
       "      <td>NaN</td>\n",
       "    </tr>\n",
       "    <tr>\n",
       "      <th>3</th>\n",
       "      <td>4</td>\n",
       "      <td>1</td>\n",
       "      <td>36</td>\n",
       "      <td>2</td>\n",
       "      <td>1.0</td>\n",
       "      <td>14.0</td>\n",
       "      <td>2144</td>\n",
       "      <td>3</td>\n",
       "      <td>3.0</td>\n",
       "      <td>3</td>\n",
       "      <td>3</td>\n",
       "      <td>3</td>\n",
       "      <td>1.0</td>\n",
       "      <td>NaN</td>\n",
       "      <td>NaN</td>\n",
       "      <td>NaN</td>\n",
       "    </tr>\n",
       "    <tr>\n",
       "      <th>4</th>\n",
       "      <td>5</td>\n",
       "      <td>1</td>\n",
       "      <td>24</td>\n",
       "      <td>1</td>\n",
       "      <td>2.0</td>\n",
       "      <td>4.0</td>\n",
       "      <td>2183</td>\n",
       "      <td>2</td>\n",
       "      <td>3.0</td>\n",
       "      <td>2</td>\n",
       "      <td>1</td>\n",
       "      <td>2</td>\n",
       "      <td>1.0</td>\n",
       "      <td>NaN</td>\n",
       "      <td>NaN</td>\n",
       "      <td>NaN</td>\n",
       "    </tr>\n",
       "  </tbody>\n",
       "</table>\n",
       "</div>"
      ],
      "text/plain": [
       "   nro  sukup  ikä  perhe  koulutus  palveluv  palkka  johto  työtov  työymp  \\\n",
       "0    1      1   38      1       1.0      22.0    3587      3     3.0       3   \n",
       "1    2      1   29      2       2.0      10.0    2963      1     5.0       2   \n",
       "2    3      1   30      1       1.0       7.0    1989      3     4.0       1   \n",
       "3    4      1   36      2       1.0      14.0    2144      3     3.0       3   \n",
       "4    5      1   24      1       2.0       4.0    2183      2     3.0       2   \n",
       "\n",
       "   palkkat  työteht  työterv  lomaosa  kuntosa  hieroja  \n",
       "0        3        3      NaN      NaN      NaN      NaN  \n",
       "1        1        3      NaN      NaN      NaN      NaN  \n",
       "2        1        3      1.0      NaN      NaN      NaN  \n",
       "3        3        3      1.0      NaN      NaN      NaN  \n",
       "4        1        2      1.0      NaN      NaN      NaN  "
      ]
     },
     "execution_count": 2,
     "metadata": {},
     "output_type": "execute_result"
    }
   ],
   "source": [
    "# Datan avaaminen\n",
    "df = pd.read_excel('http://taanila.fi/data1.xlsx')\n",
    "df.head()"
   ]
  },
  {
   "cell_type": "code",
   "execution_count": 3,
   "metadata": {},
   "outputs": [],
   "source": [
    "# Listat muuttujien tekstimuotoisista arvoista\n",
    "koulutus = ['Peruskoulu', '2. aste', 'Korkeakoulu', 'Ylempi korkeakoulu']\n",
    "sukup = ['Mies', 'Nainen']"
   ]
  },
  {
   "cell_type": "code",
   "execution_count": 4,
   "metadata": {},
   "outputs": [
    {
     "data": {
      "text/html": [
       "<div>\n",
       "<style scoped>\n",
       "    .dataframe tbody tr th:only-of-type {\n",
       "        vertical-align: middle;\n",
       "    }\n",
       "\n",
       "    .dataframe tbody tr th {\n",
       "        vertical-align: top;\n",
       "    }\n",
       "\n",
       "    .dataframe thead th {\n",
       "        text-align: right;\n",
       "    }\n",
       "</style>\n",
       "<table border=\"1\" class=\"dataframe\">\n",
       "  <thead>\n",
       "    <tr style=\"text-align: right;\">\n",
       "      <th></th>\n",
       "      <th>Mies</th>\n",
       "      <th>Nainen</th>\n",
       "    </tr>\n",
       "  </thead>\n",
       "  <tbody>\n",
       "    <tr>\n",
       "      <th>Peruskoulu</th>\n",
       "      <td>22</td>\n",
       "      <td>5</td>\n",
       "    </tr>\n",
       "    <tr>\n",
       "      <th>2. aste</th>\n",
       "      <td>23</td>\n",
       "      <td>7</td>\n",
       "    </tr>\n",
       "    <tr>\n",
       "      <th>Korkeakoulu</th>\n",
       "      <td>15</td>\n",
       "      <td>7</td>\n",
       "    </tr>\n",
       "    <tr>\n",
       "      <th>Ylempi korkeakoulu</th>\n",
       "      <td>2</td>\n",
       "      <td>0</td>\n",
       "    </tr>\n",
       "  </tbody>\n",
       "</table>\n",
       "</div>"
      ],
      "text/plain": [
       "                    Mies  Nainen\n",
       "Peruskoulu            22       5\n",
       "2. aste               23       7\n",
       "Korkeakoulu           15       7\n",
       "Ylempi korkeakoulu     2       0"
      ]
     },
     "execution_count": 4,
     "metadata": {},
     "output_type": "execute_result"
    }
   ],
   "source": [
    "# Ristiintaulukointi lukumäärinä\n",
    "df1 = pd.crosstab(df['koulutus'], df['sukup'])\n",
    "\n",
    "# Otsikot kuntoon\n",
    "df1.index = koulutus\n",
    "df1.columns = sukup\n",
    "\n",
    "df1"
   ]
  },
  {
   "cell_type": "code",
   "execution_count": 5,
   "metadata": {},
   "outputs": [
    {
     "data": {
      "text/html": [
       "<style  type=\"text/css\" >\n",
       "</style><table id=\"T_12c36328_f198_11e9_bfbd_00e18c75b321\" ><thead>    <tr>        <th class=\"blank level0\" ></th>        <th class=\"col_heading level0 col0\" >Mies, n=62</th>        <th class=\"col_heading level0 col1\" >Nainen, n=19</th>    </tr></thead><tbody>\n",
       "                <tr>\n",
       "                        <th id=\"T_12c36328_f198_11e9_bfbd_00e18c75b321level0_row0\" class=\"row_heading level0 row0\" >Peruskoulu</th>\n",
       "                        <td id=\"T_12c36328_f198_11e9_bfbd_00e18c75b321row0_col0\" class=\"data row0 col0\" >35.5 %</td>\n",
       "                        <td id=\"T_12c36328_f198_11e9_bfbd_00e18c75b321row0_col1\" class=\"data row0 col1\" >26.3 %</td>\n",
       "            </tr>\n",
       "            <tr>\n",
       "                        <th id=\"T_12c36328_f198_11e9_bfbd_00e18c75b321level0_row1\" class=\"row_heading level0 row1\" >2. aste</th>\n",
       "                        <td id=\"T_12c36328_f198_11e9_bfbd_00e18c75b321row1_col0\" class=\"data row1 col0\" >37.1 %</td>\n",
       "                        <td id=\"T_12c36328_f198_11e9_bfbd_00e18c75b321row1_col1\" class=\"data row1 col1\" >36.8 %</td>\n",
       "            </tr>\n",
       "            <tr>\n",
       "                        <th id=\"T_12c36328_f198_11e9_bfbd_00e18c75b321level0_row2\" class=\"row_heading level0 row2\" >Korkeakoulu</th>\n",
       "                        <td id=\"T_12c36328_f198_11e9_bfbd_00e18c75b321row2_col0\" class=\"data row2 col0\" >24.2 %</td>\n",
       "                        <td id=\"T_12c36328_f198_11e9_bfbd_00e18c75b321row2_col1\" class=\"data row2 col1\" >36.8 %</td>\n",
       "            </tr>\n",
       "            <tr>\n",
       "                        <th id=\"T_12c36328_f198_11e9_bfbd_00e18c75b321level0_row3\" class=\"row_heading level0 row3\" >Ylempi korkeakoulu</th>\n",
       "                        <td id=\"T_12c36328_f198_11e9_bfbd_00e18c75b321row3_col0\" class=\"data row3 col0\" >3.2 %</td>\n",
       "                        <td id=\"T_12c36328_f198_11e9_bfbd_00e18c75b321row3_col1\" class=\"data row3 col1\" >0.0 %</td>\n",
       "            </tr>\n",
       "    </tbody></table>"
      ],
      "text/plain": [
       "<pandas.io.formats.style.Styler at 0x1963f7f1128>"
      ]
     },
     "execution_count": 5,
     "metadata": {},
     "output_type": "execute_result"
    }
   ],
   "source": [
    "# Ristiintaulukointi; prosentit (normalize) sarakkeiden kokonaissummista\n",
    "df2 = pd.crosstab(df['koulutus'], df['sukup'], normalize = 'columns')\n",
    "\n",
    "# Riviotsikot koulutus-listasta\n",
    "df2.index = koulutus\n",
    "\n",
    "# Kikkailen n-arvot sarakeotsikoihin\n",
    "miehet = df['koulutus'][df['sukup']==1].count()\n",
    "naiset = df['koulutus'][df['sukup']==2].count()\n",
    "df2.columns = ['Mies, n=' + str(miehet),'Nainen, n=' + str(naiset)]\n",
    "\n",
    "# Prosenttilukujen ulkoasun viimeistely\n",
    "(df2*100).style.format('{:.1f} %')"
   ]
  },
  {
   "cell_type": "code",
   "execution_count": 6,
   "metadata": {},
   "outputs": [
    {
     "data": {
      "text/plain": [
       "[Text(0, 0, '0 %'),\n",
       " Text(0, 0, '5 %'),\n",
       " Text(0, 0, '10 %'),\n",
       " Text(0, 0, '15 %'),\n",
       " Text(0, 0, '20 %'),\n",
       " Text(0, 0, '25 %'),\n",
       " Text(0, 0, '30 %'),\n",
       " Text(0, 0, '35 %'),\n",
       " Text(0, 0, '40 %')]"
      ]
     },
     "execution_count": 6,
     "metadata": {},
     "output_type": "execute_result"
    },
    {
     "data": {
      "image/png": "[encoded data removed]",
      "text/plain": [
       "<Figure size 432x288 with 1 Axes>"
      ]
     },
     "metadata": {
      "needs_background": "light"
     },
     "output_type": "display_data"
    }
   ],
   "source": [
    "# Edellinen pylväinä; legend='reverse' kääntää selitteen järjestyksen\n",
    "ax1 = df2.plot.barh(legend='reverse')\n",
    "\n",
    "# x-akselin otsikko\n",
    "ax1.set_xlabel('Prosenttia sukupuolesta')\n",
    "\n",
    "# x-akselin prosenttilukujen ulkoasun viimeistely\n",
    "ax1.set_xticklabels(['{:.0f} %'.format(x*100) for x in ax1.get_xticks()])"
   ]
  },
  {
   "cell_type": "code",
   "execution_count": 7,
   "metadata": {},
   "outputs": [
    {
     "data": {
      "text/plain": [
       "[Text(0, 0, '0 %'),\n",
       " Text(0, 0, '20 %'),\n",
       " Text(0, 0, '40 %'),\n",
       " Text(0, 0, '60 %'),\n",
       " Text(0, 0, '80 %'),\n",
       " Text(0, 0, '100 %'),\n",
       " Text(0, 0, '120 %')]"
      ]
     },
     "execution_count": 7,
     "metadata": {},
     "output_type": "execute_result"
    },
    {
     "data": {
      "image/png": "[encoded data removed]",
      "text/plain": [
       "<Figure size 432x288 with 1 Axes>"
      ]
     },
     "metadata": {
      "needs_background": "light"
     },
     "output_type": "display_data"
    }
   ],
   "source": [
    "# Edellinen 100 % pinottuina vaakapylväinä, T vaihtaa arvosarjat ja kategoriat päittäin\n",
    "ax2 = df2.T.plot.barh(stacked = True)\n",
    "\n",
    "# x-akselin otsikko\n",
    "ax2.set_xlabel('Prosenttia sukupuolesta')\n",
    "\n",
    "# Selitteen sijoittelu suhteessa origoon, selitteitä 4 vierekkäin\n",
    "ax2.legend(loc=(-0.14, -0.25), ncol=4)\n",
    " \n",
    "# x-akselin prosenttilukujen ulkoasun viimeistely\n",
    "ax2.set_xticklabels(['{:.0f} %'.format(x*100) for x in ax2.get_xticks()])"
   ]
  },
  {
   "cell_type": "markdown",
   "metadata": {},
   "source": [
    "<h2>Onko ristiintaulukoinnissa havaittu riippuvuus tilastollisesti merkitsevää?</h2>\n",
    "\n",
    "Otoksessa havaitut riippuvuudet voivat olla liian pieniä, jotta niitä voisi yleistää laajempaan perusjoukkoon, josta otos on otettu. Kyseessä voi olla otantavirheen (sattuman) aiheuttama riippuvuus.\n",
    "\n",
    "Riippuvuutta sanotaan merkitseväksi, jos sen perusteella voidaan tehdä yleistys laajempaan perusjoukkoon, josta otos on otettu. Riippuvuuden merkitsevyyttä voit testata laskemalla niin kutsuttu <b>p-arvo</b>. Mitä pienempi p-arvo, sitä merkitsevämpi riippuvuus. Yleensä alle 0,05 (5 %) suuruisia p-arvoja pidetään osoituksena merkitsevästä riippuvuudesta.\n",
    "\n",
    "Ristiintaulukointiin liittyvän p-arvon voit laskea khiin neliö -testillä (chi2_contngency)."
   ]
  },
  {
   "cell_type": "code",
   "execution_count": 8,
   "metadata": {},
   "outputs": [
    {
     "data": {
      "text/plain": [
       "(1.836533415650563, 0.6070173075042058, 3, array([[20.66666667,  6.33333333],\n",
       "        [22.96296296,  7.03703704],\n",
       "        [16.83950617,  5.16049383],\n",
       "        [ 1.5308642 ,  0.4691358 ]]))"
      ]
     },
     "execution_count": 8,
     "metadata": {},
     "output_type": "execute_result"
    }
   ],
   "source": [
    "from scipy.stats import chi2_contingency\n",
    "chi2_contingency(pd.crosstab(df['koulutus'], df['sukup']))"
   ]
  },
  {
   "cell_type": "markdown",
   "metadata": {},
   "source": [
    "Khiin neliö -testin tulos: Riippuvuus ei ole merkitsevää (khiin neliö 1.84, p=0.607, df=3).\n",
    "\n",
    "Tulosteessa näkyvillä myös odotetut frekvenssit (laskennalliset frekvenssit hypoteettisessa tilanteessa, jossa ei ole lainkaan riippuvuutta)."
   ]
  },
  {
   "cell_type": "markdown",
   "metadata": {},
   "source": [
    "<h2>Lisätietoa merkitsevyystestauksesta</h2>\n",
    "\n",
    "Tietoa khiin neliö -testistä:\n",
    "https://tilastoapu.wordpress.com/2011/10/14/6-ristiintaulukointi-ja-khiin-nelio-testi/\n",
    "\n",
    "Lisätietoa p-arvoista:\n",
    "https://tilastoapu.wordpress.com/2012/02/14/p-arvo/\n",
    "\n",
    "p-arvoja Pythonilla eri testaustilanteisiin:\n",
    "https://nbviewer.jupyter.org/github/taanila/tilastoapu/blob/master/p.ipynb"
   ]
  }
 ],
 "metadata": {
  "kernelspec": {
   "display_name": "Python 3",
   "language": "python",
   "name": "python3"
  },
  "language_info": {
   "codemirror_mode": {
    "name": "ipython",
    "version": 3
   },
   "file_extension": ".py",
   "mimetype": "text/x-python",
   "name": "python",
   "nbconvert_exporter": "python",
   "pygments_lexer": "ipython3",
   "version": "3.7.2"
  }
 },
 "nbformat": 4,
 "nbformat_minor": 2
}
