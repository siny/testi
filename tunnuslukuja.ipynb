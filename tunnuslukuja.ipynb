{
 "cells": [
  {
   "cell_type": "markdown",
   "metadata": {},
   "source": [
    "<h1>Tunnuslukuja</h1>\n",
    "\n",
    "Määrällisille muuttujille lasketaan tyypillisesti keskiarvo, keskihajonta ja viiden luvun yhteenveto.\n",
    "\n",
    "Määrällisten muuttujien välisiä riippuvuuksia mitataan korrelaatiokertoimilla.\n",
    "\n",
    "Muistettavat funktiot <b>describe(), pivot_table(), boxplot(), corr(), plot.scatter()</b>"
   ]
  },
  {
   "cell_type": "code",
   "execution_count": 1,
   "metadata": {},
   "outputs": [],
   "source": [
    "#Tuon tarvittavat kirjastot\n",
    "import pandas as pd\n",
    "import numpy as np\n",
    "import matplotlib.pyplot as plt\n",
    "%matplotlib inline"
   ]
  },
  {
   "cell_type": "code",
   "execution_count": 2,
   "metadata": {},
   "outputs": [
    {
     "data": {
      "text/html": [
       "<div>\n",
       "<style scoped>\n",
       "    .dataframe tbody tr th:only-of-type {\n",
       "        vertical-align: middle;\n",
       "    }\n",
       "\n",
       "    .dataframe tbody tr th {\n",
       "        vertical-align: top;\n",
       "    }\n",
       "\n",
       "    .dataframe thead th {\n",
       "        text-align: right;\n",
       "    }\n",
       "</style>\n",
       "<table border=\"1\" class=\"dataframe\">\n",
       "  <thead>\n",
       "    <tr style=\"text-align: right;\">\n",
       "      <th></th>\n",
       "      <th>nro</th>\n",
       "      <th>sukup</th>\n",
       "      <th>ikä</th>\n",
       "      <th>perhe</th>\n",
       "      <th>koulutus</th>\n",
       "      <th>palveluv</th>\n",
       "      <th>palkka</th>\n",
       "      <th>johto</th>\n",
       "      <th>työtov</th>\n",
       "      <th>työymp</th>\n",
       "      <th>palkkat</th>\n",
       "      <th>työteht</th>\n",
       "      <th>työterv</th>\n",
       "      <th>lomaosa</th>\n",
       "      <th>kuntosa</th>\n",
       "      <th>hieroja</th>\n",
       "    </tr>\n",
       "  </thead>\n",
       "  <tbody>\n",
       "    <tr>\n",
       "      <th>0</th>\n",
       "      <td>1</td>\n",
       "      <td>1</td>\n",
       "      <td>38</td>\n",
       "      <td>1</td>\n",
       "      <td>1.0</td>\n",
       "      <td>22.0</td>\n",
       "      <td>3587</td>\n",
       "      <td>3</td>\n",
       "      <td>3.0</td>\n",
       "      <td>3</td>\n",
       "      <td>3</td>\n",
       "      <td>3</td>\n",
       "      <td>NaN</td>\n",
       "      <td>NaN</td>\n",
       "      <td>NaN</td>\n",
       "      <td>NaN</td>\n",
       "    </tr>\n",
       "    <tr>\n",
       "      <th>1</th>\n",
       "      <td>2</td>\n",
       "      <td>1</td>\n",
       "      <td>29</td>\n",
       "      <td>2</td>\n",
       "      <td>2.0</td>\n",
       "      <td>10.0</td>\n",
       "      <td>2963</td>\n",
       "      <td>1</td>\n",
       "      <td>5.0</td>\n",
       "      <td>2</td>\n",
       "      <td>1</td>\n",
       "      <td>3</td>\n",
       "      <td>NaN</td>\n",
       "      <td>NaN</td>\n",
       "      <td>NaN</td>\n",
       "      <td>NaN</td>\n",
       "    </tr>\n",
       "    <tr>\n",
       "      <th>2</th>\n",
       "      <td>3</td>\n",
       "      <td>1</td>\n",
       "      <td>30</td>\n",
       "      <td>1</td>\n",
       "      <td>1.0</td>\n",
       "      <td>7.0</td>\n",
       "      <td>1989</td>\n",
       "      <td>3</td>\n",
       "      <td>4.0</td>\n",
       "      <td>1</td>\n",
       "      <td>1</td>\n",
       "      <td>3</td>\n",
       "      <td>1.0</td>\n",
       "      <td>NaN</td>\n",
       "      <td>NaN</td>\n",
       "      <td>NaN</td>\n",
       "    </tr>\n",
       "    <tr>\n",
       "      <th>3</th>\n",
       "      <td>4</td>\n",
       "      <td>1</td>\n",
       "      <td>36</td>\n",
       "      <td>2</td>\n",
       "      <td>1.0</td>\n",
       "      <td>14.0</td>\n",
       "      <td>2144</td>\n",
       "      <td>3</td>\n",
       "      <td>3.0</td>\n",
       "      <td>3</td>\n",
       "      <td>3</td>\n",
       "      <td>3</td>\n",
       "      <td>1.0</td>\n",
       "      <td>NaN</td>\n",
       "      <td>NaN</td>\n",
       "      <td>NaN</td>\n",
       "    </tr>\n",
       "    <tr>\n",
       "      <th>4</th>\n",
       "      <td>5</td>\n",
       "      <td>1</td>\n",
       "      <td>24</td>\n",
       "      <td>1</td>\n",
       "      <td>2.0</td>\n",
       "      <td>4.0</td>\n",
       "      <td>2183</td>\n",
       "      <td>2</td>\n",
       "      <td>3.0</td>\n",
       "      <td>2</td>\n",
       "      <td>1</td>\n",
       "      <td>2</td>\n",
       "      <td>1.0</td>\n",
       "      <td>NaN</td>\n",
       "      <td>NaN</td>\n",
       "      <td>NaN</td>\n",
       "    </tr>\n",
       "  </tbody>\n",
       "</table>\n",
       "</div>"
      ],
      "text/plain": [
       "   nro  sukup  ikä  perhe  koulutus  palveluv  palkka  johto  työtov  työymp  \\\n",
       "0    1      1   38      1       1.0      22.0    3587      3     3.0       3   \n",
       "1    2      1   29      2       2.0      10.0    2963      1     5.0       2   \n",
       "2    3      1   30      1       1.0       7.0    1989      3     4.0       1   \n",
       "3    4      1   36      2       1.0      14.0    2144      3     3.0       3   \n",
       "4    5      1   24      1       2.0       4.0    2183      2     3.0       2   \n",
       "\n",
       "   palkkat  työteht  työterv  lomaosa  kuntosa  hieroja  \n",
       "0        3        3      NaN      NaN      NaN      NaN  \n",
       "1        1        3      NaN      NaN      NaN      NaN  \n",
       "2        1        3      1.0      NaN      NaN      NaN  \n",
       "3        3        3      1.0      NaN      NaN      NaN  \n",
       "4        1        2      1.0      NaN      NaN      NaN  "
      ]
     },
     "execution_count": 2,
     "metadata": {},
     "output_type": "execute_result"
    }
   ],
   "source": [
    "#Avaan Excel-datan dataframeen ja näytän viisi ensimmäistä riviä\n",
    "df = pd.read_excel('http://taanila.fi/data1.xlsx')\n",
    "df.head()"
   ]
  },
  {
   "cell_type": "code",
   "execution_count": 3,
   "metadata": {},
   "outputs": [],
   "source": [
    "#Määritän muutamia listoja, joita tarvitsen jatkossa\n",
    "koulutus = ['Peruskoulu', '2. aste', 'Korkeakoulu', 'Ylempi korkeakoulu']\n",
    "perhe = ['Perheetön', 'Perheellinen']\n",
    "sukup = ['Mies', 'Nainen']"
   ]
  },
  {
   "cell_type": "markdown",
   "metadata": {},
   "source": [
    "<h2>describe() laskee tunnusluvut</h2>"
   ]
  },
  {
   "cell_type": "code",
   "execution_count": 4,
   "metadata": {},
   "outputs": [
    {
     "data": {
      "text/html": [
       "<style  type=\"text/css\" >\n",
       "</style><table id=\"T_b4ac4ee2_6b75_11e9_8516_5cb901ac75b5\" ><thead>    <tr>        <th class=\"blank level0\" ></th>        <th class=\"col_heading level0 col0\" >ikä</th>        <th class=\"col_heading level0 col1\" >palveluv</th>        <th class=\"col_heading level0 col2\" >palkka</th>        <th class=\"col_heading level0 col3\" >johto</th>        <th class=\"col_heading level0 col4\" >työtov</th>        <th class=\"col_heading level0 col5\" >työymp</th>        <th class=\"col_heading level0 col6\" >palkkat</th>        <th class=\"col_heading level0 col7\" >työteht</th>    </tr></thead><tbody>\n",
       "                <tr>\n",
       "                        <th id=\"T_b4ac4ee2_6b75_11e9_8516_5cb901ac75b5level0_row0\" class=\"row_heading level0 row0\" >count</th>\n",
       "                        <td id=\"T_b4ac4ee2_6b75_11e9_8516_5cb901ac75b5row0_col0\" class=\"data row0 col0\" >82.00</td>\n",
       "                        <td id=\"T_b4ac4ee2_6b75_11e9_8516_5cb901ac75b5row0_col1\" class=\"data row0 col1\" >80.00</td>\n",
       "                        <td id=\"T_b4ac4ee2_6b75_11e9_8516_5cb901ac75b5row0_col2\" class=\"data row0 col2\" >82.00</td>\n",
       "                        <td id=\"T_b4ac4ee2_6b75_11e9_8516_5cb901ac75b5row0_col3\" class=\"data row0 col3\" >82.00</td>\n",
       "                        <td id=\"T_b4ac4ee2_6b75_11e9_8516_5cb901ac75b5row0_col4\" class=\"data row0 col4\" >81.00</td>\n",
       "                        <td id=\"T_b4ac4ee2_6b75_11e9_8516_5cb901ac75b5row0_col5\" class=\"data row0 col5\" >82.00</td>\n",
       "                        <td id=\"T_b4ac4ee2_6b75_11e9_8516_5cb901ac75b5row0_col6\" class=\"data row0 col6\" >82.00</td>\n",
       "                        <td id=\"T_b4ac4ee2_6b75_11e9_8516_5cb901ac75b5row0_col7\" class=\"data row0 col7\" >82.00</td>\n",
       "            </tr>\n",
       "            <tr>\n",
       "                        <th id=\"T_b4ac4ee2_6b75_11e9_8516_5cb901ac75b5level0_row1\" class=\"row_heading level0 row1\" >mean</th>\n",
       "                        <td id=\"T_b4ac4ee2_6b75_11e9_8516_5cb901ac75b5row1_col0\" class=\"data row1 col0\" >37.95</td>\n",
       "                        <td id=\"T_b4ac4ee2_6b75_11e9_8516_5cb901ac75b5row1_col1\" class=\"data row1 col1\" >12.18</td>\n",
       "                        <td id=\"T_b4ac4ee2_6b75_11e9_8516_5cb901ac75b5row1_col2\" class=\"data row1 col2\" >2563.88</td>\n",
       "                        <td id=\"T_b4ac4ee2_6b75_11e9_8516_5cb901ac75b5row1_col3\" class=\"data row1 col3\" >3.06</td>\n",
       "                        <td id=\"T_b4ac4ee2_6b75_11e9_8516_5cb901ac75b5row1_col4\" class=\"data row1 col4\" >4.06</td>\n",
       "                        <td id=\"T_b4ac4ee2_6b75_11e9_8516_5cb901ac75b5row1_col5\" class=\"data row1 col5\" >3.22</td>\n",
       "                        <td id=\"T_b4ac4ee2_6b75_11e9_8516_5cb901ac75b5row1_col6\" class=\"data row1 col6\" >2.11</td>\n",
       "                        <td id=\"T_b4ac4ee2_6b75_11e9_8516_5cb901ac75b5row1_col7\" class=\"data row1 col7\" >3.20</td>\n",
       "            </tr>\n",
       "            <tr>\n",
       "                        <th id=\"T_b4ac4ee2_6b75_11e9_8516_5cb901ac75b5level0_row2\" class=\"row_heading level0 row2\" >std</th>\n",
       "                        <td id=\"T_b4ac4ee2_6b75_11e9_8516_5cb901ac75b5row2_col0\" class=\"data row2 col0\" >9.77</td>\n",
       "                        <td id=\"T_b4ac4ee2_6b75_11e9_8516_5cb901ac75b5row2_col1\" class=\"data row2 col1\" >8.81</td>\n",
       "                        <td id=\"T_b4ac4ee2_6b75_11e9_8516_5cb901ac75b5row2_col2\" class=\"data row2 col2\" >849.35</td>\n",
       "                        <td id=\"T_b4ac4ee2_6b75_11e9_8516_5cb901ac75b5row2_col3\" class=\"data row2 col3\" >1.06</td>\n",
       "                        <td id=\"T_b4ac4ee2_6b75_11e9_8516_5cb901ac75b5row2_col4\" class=\"data row2 col4\" >0.83</td>\n",
       "                        <td id=\"T_b4ac4ee2_6b75_11e9_8516_5cb901ac75b5row2_col5\" class=\"data row2 col5\" >1.15</td>\n",
       "                        <td id=\"T_b4ac4ee2_6b75_11e9_8516_5cb901ac75b5row2_col6\" class=\"data row2 col6\" >1.11</td>\n",
       "                        <td id=\"T_b4ac4ee2_6b75_11e9_8516_5cb901ac75b5row2_col7\" class=\"data row2 col7\" >1.05</td>\n",
       "            </tr>\n",
       "            <tr>\n",
       "                        <th id=\"T_b4ac4ee2_6b75_11e9_8516_5cb901ac75b5level0_row3\" class=\"row_heading level0 row3\" >min</th>\n",
       "                        <td id=\"T_b4ac4ee2_6b75_11e9_8516_5cb901ac75b5row3_col0\" class=\"data row3 col0\" >20.00</td>\n",
       "                        <td id=\"T_b4ac4ee2_6b75_11e9_8516_5cb901ac75b5row3_col1\" class=\"data row3 col1\" >0.00</td>\n",
       "                        <td id=\"T_b4ac4ee2_6b75_11e9_8516_5cb901ac75b5row3_col2\" class=\"data row3 col2\" >1521.00</td>\n",
       "                        <td id=\"T_b4ac4ee2_6b75_11e9_8516_5cb901ac75b5row3_col3\" class=\"data row3 col3\" >1.00</td>\n",
       "                        <td id=\"T_b4ac4ee2_6b75_11e9_8516_5cb901ac75b5row3_col4\" class=\"data row3 col4\" >2.00</td>\n",
       "                        <td id=\"T_b4ac4ee2_6b75_11e9_8516_5cb901ac75b5row3_col5\" class=\"data row3 col5\" >1.00</td>\n",
       "                        <td id=\"T_b4ac4ee2_6b75_11e9_8516_5cb901ac75b5row3_col6\" class=\"data row3 col6\" >1.00</td>\n",
       "                        <td id=\"T_b4ac4ee2_6b75_11e9_8516_5cb901ac75b5row3_col7\" class=\"data row3 col7\" >1.00</td>\n",
       "            </tr>\n",
       "            <tr>\n",
       "                        <th id=\"T_b4ac4ee2_6b75_11e9_8516_5cb901ac75b5level0_row4\" class=\"row_heading level0 row4\" >25%</th>\n",
       "                        <td id=\"T_b4ac4ee2_6b75_11e9_8516_5cb901ac75b5row4_col0\" class=\"data row4 col0\" >31.00</td>\n",
       "                        <td id=\"T_b4ac4ee2_6b75_11e9_8516_5cb901ac75b5row4_col1\" class=\"data row4 col1\" >3.75</td>\n",
       "                        <td id=\"T_b4ac4ee2_6b75_11e9_8516_5cb901ac75b5row4_col2\" class=\"data row4 col2\" >2027.00</td>\n",
       "                        <td id=\"T_b4ac4ee2_6b75_11e9_8516_5cb901ac75b5row4_col3\" class=\"data row4 col3\" >2.00</td>\n",
       "                        <td id=\"T_b4ac4ee2_6b75_11e9_8516_5cb901ac75b5row4_col4\" class=\"data row4 col4\" >4.00</td>\n",
       "                        <td id=\"T_b4ac4ee2_6b75_11e9_8516_5cb901ac75b5row4_col5\" class=\"data row4 col5\" >3.00</td>\n",
       "                        <td id=\"T_b4ac4ee2_6b75_11e9_8516_5cb901ac75b5row4_col6\" class=\"data row4 col6\" >1.00</td>\n",
       "                        <td id=\"T_b4ac4ee2_6b75_11e9_8516_5cb901ac75b5row4_col7\" class=\"data row4 col7\" >3.00</td>\n",
       "            </tr>\n",
       "            <tr>\n",
       "                        <th id=\"T_b4ac4ee2_6b75_11e9_8516_5cb901ac75b5level0_row5\" class=\"row_heading level0 row5\" >50%</th>\n",
       "                        <td id=\"T_b4ac4ee2_6b75_11e9_8516_5cb901ac75b5row5_col0\" class=\"data row5 col0\" >37.50</td>\n",
       "                        <td id=\"T_b4ac4ee2_6b75_11e9_8516_5cb901ac75b5row5_col1\" class=\"data row5 col1\" >12.50</td>\n",
       "                        <td id=\"T_b4ac4ee2_6b75_11e9_8516_5cb901ac75b5row5_col2\" class=\"data row5 col2\" >2320.00</td>\n",
       "                        <td id=\"T_b4ac4ee2_6b75_11e9_8516_5cb901ac75b5row5_col3\" class=\"data row5 col3\" >3.00</td>\n",
       "                        <td id=\"T_b4ac4ee2_6b75_11e9_8516_5cb901ac75b5row5_col4\" class=\"data row5 col4\" >4.00</td>\n",
       "                        <td id=\"T_b4ac4ee2_6b75_11e9_8516_5cb901ac75b5row5_col5\" class=\"data row5 col5\" >3.00</td>\n",
       "                        <td id=\"T_b4ac4ee2_6b75_11e9_8516_5cb901ac75b5row5_col6\" class=\"data row5 col6\" >2.00</td>\n",
       "                        <td id=\"T_b4ac4ee2_6b75_11e9_8516_5cb901ac75b5row5_col7\" class=\"data row5 col7\" >3.00</td>\n",
       "            </tr>\n",
       "            <tr>\n",
       "                        <th id=\"T_b4ac4ee2_6b75_11e9_8516_5cb901ac75b5level0_row6\" class=\"row_heading level0 row6\" >75%</th>\n",
       "                        <td id=\"T_b4ac4ee2_6b75_11e9_8516_5cb901ac75b5row6_col0\" class=\"data row6 col0\" >44.00</td>\n",
       "                        <td id=\"T_b4ac4ee2_6b75_11e9_8516_5cb901ac75b5row6_col1\" class=\"data row6 col1\" >18.25</td>\n",
       "                        <td id=\"T_b4ac4ee2_6b75_11e9_8516_5cb901ac75b5row6_col2\" class=\"data row6 col2\" >2808.00</td>\n",
       "                        <td id=\"T_b4ac4ee2_6b75_11e9_8516_5cb901ac75b5row6_col3\" class=\"data row6 col3\" >4.00</td>\n",
       "                        <td id=\"T_b4ac4ee2_6b75_11e9_8516_5cb901ac75b5row6_col4\" class=\"data row6 col4\" >5.00</td>\n",
       "                        <td id=\"T_b4ac4ee2_6b75_11e9_8516_5cb901ac75b5row6_col5\" class=\"data row6 col5\" >4.00</td>\n",
       "                        <td id=\"T_b4ac4ee2_6b75_11e9_8516_5cb901ac75b5row6_col6\" class=\"data row6 col6\" >3.00</td>\n",
       "                        <td id=\"T_b4ac4ee2_6b75_11e9_8516_5cb901ac75b5row6_col7\" class=\"data row6 col7\" >4.00</td>\n",
       "            </tr>\n",
       "            <tr>\n",
       "                        <th id=\"T_b4ac4ee2_6b75_11e9_8516_5cb901ac75b5level0_row7\" class=\"row_heading level0 row7\" >max</th>\n",
       "                        <td id=\"T_b4ac4ee2_6b75_11e9_8516_5cb901ac75b5row7_col0\" class=\"data row7 col0\" >61.00</td>\n",
       "                        <td id=\"T_b4ac4ee2_6b75_11e9_8516_5cb901ac75b5row7_col1\" class=\"data row7 col1\" >36.00</td>\n",
       "                        <td id=\"T_b4ac4ee2_6b75_11e9_8516_5cb901ac75b5row7_col2\" class=\"data row7 col2\" >6278.00</td>\n",
       "                        <td id=\"T_b4ac4ee2_6b75_11e9_8516_5cb901ac75b5row7_col3\" class=\"data row7 col3\" >5.00</td>\n",
       "                        <td id=\"T_b4ac4ee2_6b75_11e9_8516_5cb901ac75b5row7_col4\" class=\"data row7 col4\" >5.00</td>\n",
       "                        <td id=\"T_b4ac4ee2_6b75_11e9_8516_5cb901ac75b5row7_col5\" class=\"data row7 col5\" >5.00</td>\n",
       "                        <td id=\"T_b4ac4ee2_6b75_11e9_8516_5cb901ac75b5row7_col6\" class=\"data row7 col6\" >5.00</td>\n",
       "                        <td id=\"T_b4ac4ee2_6b75_11e9_8516_5cb901ac75b5row7_col7\" class=\"data row7 col7\" >5.00</td>\n",
       "            </tr>\n",
       "    </tbody></table>"
      ],
      "text/plain": [
       "<pandas.io.formats.style.Styler at 0x19b46177c88>"
      ]
     },
     "execution_count": 4,
     "metadata": {},
     "output_type": "execute_result"
    }
   ],
   "source": [
    "#Tunnuslukuja kahden desimaalin tarkkuudella\n",
    "df[['ikä', 'palveluv', 'palkka', 'johto', 'työtov', 'työymp', \n",
    "    'palkkat', 'työteht']].describe().style.format('{:.2f}')"
   ]
  },
  {
   "cell_type": "markdown",
   "metadata": {},
   "source": [
    "<h2>pivot_table() on monipuolinen raportointityökalu</h2>"
   ]
  },
  {
   "cell_type": "code",
   "execution_count": 5,
   "metadata": {},
   "outputs": [
    {
     "data": {
      "text/html": [
       "<style  type=\"text/css\" >\n",
       "</style><table id=\"T_b4b5d822_6b75_11e9_9a3a_5cb901ac75b5\" ><thead>    <tr>        <th class=\"blank\" ></th>        <th class=\"index_name level0\" >koulutus</th>        <th class=\"col_heading level0 col0\" >1.0</th>        <th class=\"col_heading level0 col1\" >2.0</th>        <th class=\"col_heading level0 col2\" >3.0</th>        <th class=\"col_heading level0 col3\" >4.0</th>    </tr>    <tr>        <th class=\"index_name level0\" >sukup</th>        <th class=\"index_name level1\" >perhe</th>        <th class=\"blank\" ></th>        <th class=\"blank\" ></th>        <th class=\"blank\" ></th>        <th class=\"blank\" ></th>    </tr></thead><tbody>\n",
       "                <tr>\n",
       "                        <th id=\"T_b4b5d822_6b75_11e9_9a3a_5cb901ac75b5level0_row0\" class=\"row_heading level0 row0\" rowspan=2>1</th>\n",
       "                        <th id=\"T_b4b5d822_6b75_11e9_9a3a_5cb901ac75b5level1_row0\" class=\"row_heading level1 row0\" >1</th>\n",
       "                        <td id=\"T_b4b5d822_6b75_11e9_9a3a_5cb901ac75b5row0_col0\" class=\"data row0 col0\" >2196</td>\n",
       "                        <td id=\"T_b4b5d822_6b75_11e9_9a3a_5cb901ac75b5row0_col1\" class=\"data row0 col1\" >2086</td>\n",
       "                        <td id=\"T_b4b5d822_6b75_11e9_9a3a_5cb901ac75b5row0_col2\" class=\"data row0 col2\" >2730</td>\n",
       "                        <td id=\"T_b4b5d822_6b75_11e9_9a3a_5cb901ac75b5row0_col3\" class=\"data row0 col3\" >5225</td>\n",
       "            </tr>\n",
       "            <tr>\n",
       "                                <th id=\"T_b4b5d822_6b75_11e9_9a3a_5cb901ac75b5level1_row1\" class=\"row_heading level1 row1\" >2</th>\n",
       "                        <td id=\"T_b4b5d822_6b75_11e9_9a3a_5cb901ac75b5row1_col0\" class=\"data row1 col0\" >2462</td>\n",
       "                        <td id=\"T_b4b5d822_6b75_11e9_9a3a_5cb901ac75b5row1_col1\" class=\"data row1 col1\" >2871</td>\n",
       "                        <td id=\"T_b4b5d822_6b75_11e9_9a3a_5cb901ac75b5row1_col2\" class=\"data row1 col2\" >3353</td>\n",
       "                        <td id=\"T_b4b5d822_6b75_11e9_9a3a_5cb901ac75b5row1_col3\" class=\"data row1 col3\" >5069</td>\n",
       "            </tr>\n",
       "            <tr>\n",
       "                        <th id=\"T_b4b5d822_6b75_11e9_9a3a_5cb901ac75b5level0_row2\" class=\"row_heading level0 row2\" rowspan=2>2</th>\n",
       "                        <th id=\"T_b4b5d822_6b75_11e9_9a3a_5cb901ac75b5level1_row2\" class=\"row_heading level1 row2\" >1</th>\n",
       "                        <td id=\"T_b4b5d822_6b75_11e9_9a3a_5cb901ac75b5row2_col0\" class=\"data row2 col0\" >2223</td>\n",
       "                        <td id=\"T_b4b5d822_6b75_11e9_9a3a_5cb901ac75b5row2_col1\" class=\"data row2 col1\" >1715</td>\n",
       "                        <td id=\"T_b4b5d822_6b75_11e9_9a3a_5cb901ac75b5row2_col2\" class=\"data row2 col2\" >1872</td>\n",
       "                        <td id=\"T_b4b5d822_6b75_11e9_9a3a_5cb901ac75b5row2_col3\" class=\"data row2 col3\" >nan</td>\n",
       "            </tr>\n",
       "            <tr>\n",
       "                                <th id=\"T_b4b5d822_6b75_11e9_9a3a_5cb901ac75b5level1_row3\" class=\"row_heading level1 row3\" >2</th>\n",
       "                        <td id=\"T_b4b5d822_6b75_11e9_9a3a_5cb901ac75b5row3_col0\" class=\"data row3 col0\" >2096</td>\n",
       "                        <td id=\"T_b4b5d822_6b75_11e9_9a3a_5cb901ac75b5row3_col1\" class=\"data row3 col1\" >2294</td>\n",
       "                        <td id=\"T_b4b5d822_6b75_11e9_9a3a_5cb901ac75b5row3_col2\" class=\"data row3 col2\" >2411</td>\n",
       "                        <td id=\"T_b4b5d822_6b75_11e9_9a3a_5cb901ac75b5row3_col3\" class=\"data row3 col3\" >nan</td>\n",
       "            </tr>\n",
       "    </tbody></table>"
      ],
      "text/plain": [
       "<pandas.io.formats.style.Styler at 0x19b46918ef0>"
      ]
     },
     "execution_count": 5,
     "metadata": {},
     "output_type": "execute_result"
    }
   ],
   "source": [
    "#pivot_table tuottaa oletuksena keskiarvoja\n",
    "df1 = df.pivot_table(values = 'palkka', index = ['sukup', 'perhe'], columns = 'koulutus')\n",
    "\n",
    "#Palkkakeskiarvot ilman desimaaleja\n",
    "df1.style.format('{:.0f}')"
   ]
  },
  {
   "cell_type": "code",
   "execution_count": 6,
   "metadata": {},
   "outputs": [
    {
     "data": {
      "text/html": [
       "<style  type=\"text/css\" >\n",
       "</style><table id=\"T_b4bcfe80_6b75_11e9_990c_5cb901ac75b5\" ><thead>    <tr>        <th class=\"blank\" ></th>        <th class=\"blank level0\" ></th>        <th class=\"col_heading level0 col0\" >Peruskoulu</th>        <th class=\"col_heading level0 col1\" >2. aste</th>        <th class=\"col_heading level0 col2\" >Korkeakoulu</th>        <th class=\"col_heading level0 col3\" >Ylempi korkeakoulu</th>    </tr>    <tr>        <th class=\"index_name level0\" >sukup</th>        <th class=\"index_name level1\" >perhe</th>        <th class=\"blank\" ></th>        <th class=\"blank\" ></th>        <th class=\"blank\" ></th>        <th class=\"blank\" ></th>    </tr></thead><tbody>\n",
       "                <tr>\n",
       "                        <th id=\"T_b4bcfe80_6b75_11e9_990c_5cb901ac75b5level0_row0\" class=\"row_heading level0 row0\" rowspan=2>Mies</th>\n",
       "                        <th id=\"T_b4bcfe80_6b75_11e9_990c_5cb901ac75b5level1_row0\" class=\"row_heading level1 row0\" >Perheetön</th>\n",
       "                        <td id=\"T_b4bcfe80_6b75_11e9_990c_5cb901ac75b5row0_col0\" class=\"data row0 col0\" >2196</td>\n",
       "                        <td id=\"T_b4bcfe80_6b75_11e9_990c_5cb901ac75b5row0_col1\" class=\"data row0 col1\" >2086</td>\n",
       "                        <td id=\"T_b4bcfe80_6b75_11e9_990c_5cb901ac75b5row0_col2\" class=\"data row0 col2\" >2730</td>\n",
       "                        <td id=\"T_b4bcfe80_6b75_11e9_990c_5cb901ac75b5row0_col3\" class=\"data row0 col3\" >5225</td>\n",
       "            </tr>\n",
       "            <tr>\n",
       "                                <th id=\"T_b4bcfe80_6b75_11e9_990c_5cb901ac75b5level1_row1\" class=\"row_heading level1 row1\" >Perheellinen</th>\n",
       "                        <td id=\"T_b4bcfe80_6b75_11e9_990c_5cb901ac75b5row1_col0\" class=\"data row1 col0\" >2462</td>\n",
       "                        <td id=\"T_b4bcfe80_6b75_11e9_990c_5cb901ac75b5row1_col1\" class=\"data row1 col1\" >2871</td>\n",
       "                        <td id=\"T_b4bcfe80_6b75_11e9_990c_5cb901ac75b5row1_col2\" class=\"data row1 col2\" >3353</td>\n",
       "                        <td id=\"T_b4bcfe80_6b75_11e9_990c_5cb901ac75b5row1_col3\" class=\"data row1 col3\" >5069</td>\n",
       "            </tr>\n",
       "            <tr>\n",
       "                        <th id=\"T_b4bcfe80_6b75_11e9_990c_5cb901ac75b5level0_row2\" class=\"row_heading level0 row2\" rowspan=2>Nainen</th>\n",
       "                        <th id=\"T_b4bcfe80_6b75_11e9_990c_5cb901ac75b5level1_row2\" class=\"row_heading level1 row2\" >Perheetön</th>\n",
       "                        <td id=\"T_b4bcfe80_6b75_11e9_990c_5cb901ac75b5row2_col0\" class=\"data row2 col0\" >2223</td>\n",
       "                        <td id=\"T_b4bcfe80_6b75_11e9_990c_5cb901ac75b5row2_col1\" class=\"data row2 col1\" >1715</td>\n",
       "                        <td id=\"T_b4bcfe80_6b75_11e9_990c_5cb901ac75b5row2_col2\" class=\"data row2 col2\" >1872</td>\n",
       "                        <td id=\"T_b4bcfe80_6b75_11e9_990c_5cb901ac75b5row2_col3\" class=\"data row2 col3\" >nan</td>\n",
       "            </tr>\n",
       "            <tr>\n",
       "                                <th id=\"T_b4bcfe80_6b75_11e9_990c_5cb901ac75b5level1_row3\" class=\"row_heading level1 row3\" >Perheellinen</th>\n",
       "                        <td id=\"T_b4bcfe80_6b75_11e9_990c_5cb901ac75b5row3_col0\" class=\"data row3 col0\" >2096</td>\n",
       "                        <td id=\"T_b4bcfe80_6b75_11e9_990c_5cb901ac75b5row3_col1\" class=\"data row3 col1\" >2294</td>\n",
       "                        <td id=\"T_b4bcfe80_6b75_11e9_990c_5cb901ac75b5row3_col2\" class=\"data row3 col2\" >2411</td>\n",
       "                        <td id=\"T_b4bcfe80_6b75_11e9_990c_5cb901ac75b5row3_col3\" class=\"data row3 col3\" >nan</td>\n",
       "            </tr>\n",
       "    </tbody></table>"
      ],
      "text/plain": [
       "<pandas.io.formats.style.Styler at 0x19b46914fd0>"
      ]
     },
     "execution_count": 6,
     "metadata": {},
     "output_type": "execute_result"
    }
   ],
   "source": [
    "#Hierarkisen indeksin arvot aiemmin määritellyistä sukup- ja perhe-listoista\n",
    "df1.index = df1.index.set_levels(sukup, level=0)\n",
    "df1.index = df1.index.set_levels(perhe, level=1)\n",
    "\n",
    "#Sarakeotsikot aiemmin määritellystä koulutus-listasta\n",
    "df1.columns = koulutus\n",
    "\n",
    "#Tulokset ilman desimaaleja\n",
    "df1.style.format('{:.0f}')"
   ]
  },
  {
   "cell_type": "code",
   "execution_count": 7,
   "metadata": {},
   "outputs": [
    {
     "data": {
      "text/html": [
       "<style  type=\"text/css\" >\n",
       "</style><table id=\"T_b4cdaea4_6b75_11e9_9a65_5cb901ac75b5\" ><thead>    <tr>        <th class=\"blank level0\" ></th>        <th class=\"col_heading level0 col0\" >pienin</th>        <th class=\"col_heading level0 col1\" >mediaani</th>        <th class=\"col_heading level0 col2\" >keskiarvo</th>        <th class=\"col_heading level0 col3\" >suurin</th>    </tr></thead><tbody>\n",
       "                <tr>\n",
       "                        <th id=\"T_b4cdaea4_6b75_11e9_9a65_5cb901ac75b5level0_row0\" class=\"row_heading level0 row0\" >Peruskoulu</th>\n",
       "                        <td id=\"T_b4cdaea4_6b75_11e9_9a65_5cb901ac75b5row0_col0\" class=\"data row0 col0\" >1638</td>\n",
       "                        <td id=\"T_b4cdaea4_6b75_11e9_9a65_5cb901ac75b5row0_col1\" class=\"data row0 col1\" >2144</td>\n",
       "                        <td id=\"T_b4cdaea4_6b75_11e9_9a65_5cb901ac75b5row0_col2\" class=\"data row0 col2\" >2310</td>\n",
       "                        <td id=\"T_b4cdaea4_6b75_11e9_9a65_5cb901ac75b5row0_col3\" class=\"data row0 col3\" >3587</td>\n",
       "            </tr>\n",
       "            <tr>\n",
       "                        <th id=\"T_b4cdaea4_6b75_11e9_9a65_5cb901ac75b5level0_row1\" class=\"row_heading level0 row1\" >2. aste</th>\n",
       "                        <td id=\"T_b4cdaea4_6b75_11e9_9a65_5cb901ac75b5row1_col0\" class=\"data row1 col0\" >1521</td>\n",
       "                        <td id=\"T_b4cdaea4_6b75_11e9_9a65_5cb901ac75b5row1_col1\" class=\"data row1 col1\" >2378</td>\n",
       "                        <td id=\"T_b4cdaea4_6b75_11e9_9a65_5cb901ac75b5row1_col2\" class=\"data row1 col2\" >2403</td>\n",
       "                        <td id=\"T_b4cdaea4_6b75_11e9_9a65_5cb901ac75b5row1_col3\" class=\"data row1 col3\" >3510</td>\n",
       "            </tr>\n",
       "            <tr>\n",
       "                        <th id=\"T_b4cdaea4_6b75_11e9_9a65_5cb901ac75b5level0_row2\" class=\"row_heading level0 row2\" >Korkeakoulu</th>\n",
       "                        <td id=\"T_b4cdaea4_6b75_11e9_9a65_5cb901ac75b5row2_col0\" class=\"data row2 col0\" >1559</td>\n",
       "                        <td id=\"T_b4cdaea4_6b75_11e9_9a65_5cb901ac75b5row2_col1\" class=\"data row2 col1\" >2710</td>\n",
       "                        <td id=\"T_b4cdaea4_6b75_11e9_9a65_5cb901ac75b5row2_col2\" class=\"data row2 col2\" >2887</td>\n",
       "                        <td id=\"T_b4cdaea4_6b75_11e9_9a65_5cb901ac75b5row2_col3\" class=\"data row2 col3\" >6278</td>\n",
       "            </tr>\n",
       "            <tr>\n",
       "                        <th id=\"T_b4cdaea4_6b75_11e9_9a65_5cb901ac75b5level0_row3\" class=\"row_heading level0 row3\" >Ylempi korkeakoulu</th>\n",
       "                        <td id=\"T_b4cdaea4_6b75_11e9_9a65_5cb901ac75b5row3_col0\" class=\"data row3 col0\" >5069</td>\n",
       "                        <td id=\"T_b4cdaea4_6b75_11e9_9a65_5cb901ac75b5row3_col1\" class=\"data row3 col1\" >5147</td>\n",
       "                        <td id=\"T_b4cdaea4_6b75_11e9_9a65_5cb901ac75b5row3_col2\" class=\"data row3 col2\" >5147</td>\n",
       "                        <td id=\"T_b4cdaea4_6b75_11e9_9a65_5cb901ac75b5row3_col3\" class=\"data row3 col3\" >5225</td>\n",
       "            </tr>\n",
       "    </tbody></table>"
      ],
      "text/plain": [
       "<pandas.io.formats.style.Styler at 0x19b46914940>"
      ]
     },
     "execution_count": 7,
     "metadata": {},
     "output_type": "execute_result"
    }
   ],
   "source": [
    "#Pivot-taulukossa voi käyttää monenlaisia funktioita\n",
    "df2 = df.pivot_table(values = 'palkka', index = 'koulutus', \n",
    "                     aggfunc = [np.min, np.median, np.mean, np.max])\n",
    "\n",
    "df2.index = koulutus\n",
    "\n",
    "df2.columns = ['pienin', 'mediaani', 'keskiarvo', 'suurin']\n",
    "\n",
    "df2.style.format('{:.0f}')"
   ]
  },
  {
   "cell_type": "markdown",
   "metadata": {},
   "source": [
    "<h2>boxplot() havainnollistaa viiden luvun yhteenvedon</h2>"
   ]
  },
  {
   "cell_type": "code",
   "execution_count": 8,
   "metadata": {},
   "outputs": [
    {
     "data": {
      "text/plain": [
       "[Text(0, 0, 'Peruskoulu'),\n",
       " Text(0, 0, '2. aste'),\n",
       " Text(0, 0, 'Korkeakoulu'),\n",
       " Text(0, 0, 'Ylempi korkeakoulu')]"
      ]
     },
     "execution_count": 8,
     "metadata": {},
     "output_type": "execute_result"
    },
    {
     "data": {
      "image/png": "[encoded data removed]",
      "text/plain": [
       "<Figure size 432x288 with 1 Axes>"
      ]
     },
     "metadata": {
      "needs_background": "light"
     },
     "output_type": "display_data"
    }
   ],
   "source": [
    "#boxplot (ruutu- ja janakaavio) on kätevä jakaumien vertailussa\n",
    "ax = df.boxplot('palkka', by = 'koulutus')\n",
    "\n",
    "#boxplot tuottaa otsikoita, jotka poistan\n",
    "ax.set_title('')\n",
    "ax.get_figure().suptitle('')\n",
    "\n",
    "#Akselien otsikot\n",
    "ax.set_xlabel('Koulutus')\n",
    "ax.set_ylabel('Palkka')\n",
    "\n",
    "#x-akselin arvoiksi koulutus-listan arvot:\n",
    "ax.set_xticklabels(koulutus)"
   ]
  },
  {
   "cell_type": "markdown",
   "metadata": {},
   "source": [
    "<h2>Riippuvuuksien tarkastelu</h2>\n",
    "\n",
    "<b>corr()</b>-funktio laskee korrelaatiot ja <b>plot.scatter()</b> havainnollistaa riippuvuutta."
   ]
  },
  {
   "cell_type": "code",
   "execution_count": 9,
   "metadata": {},
   "outputs": [
    {
     "data": {
      "text/html": [
       "<style  type=\"text/css\" >\n",
       "</style><table id=\"T_b5106f74_6b75_11e9_8fa0_5cb901ac75b5\" ><thead>    <tr>        <th class=\"blank level0\" ></th>        <th class=\"col_heading level0 col0\" >ikä</th>        <th class=\"col_heading level0 col1\" >palveluv</th>        <th class=\"col_heading level0 col2\" >palkka</th>    </tr></thead><tbody>\n",
       "                <tr>\n",
       "                        <th id=\"T_b5106f74_6b75_11e9_8fa0_5cb901ac75b5level0_row0\" class=\"row_heading level0 row0\" >ikä</th>\n",
       "                        <td id=\"T_b5106f74_6b75_11e9_8fa0_5cb901ac75b5row0_col0\" class=\"data row0 col0\" >1.00</td>\n",
       "                        <td id=\"T_b5106f74_6b75_11e9_8fa0_5cb901ac75b5row0_col1\" class=\"data row0 col1\" >0.53</td>\n",
       "                        <td id=\"T_b5106f74_6b75_11e9_8fa0_5cb901ac75b5row0_col2\" class=\"data row0 col2\" >0.30</td>\n",
       "            </tr>\n",
       "            <tr>\n",
       "                        <th id=\"T_b5106f74_6b75_11e9_8fa0_5cb901ac75b5level0_row1\" class=\"row_heading level0 row1\" >palveluv</th>\n",
       "                        <td id=\"T_b5106f74_6b75_11e9_8fa0_5cb901ac75b5row1_col0\" class=\"data row1 col0\" >0.53</td>\n",
       "                        <td id=\"T_b5106f74_6b75_11e9_8fa0_5cb901ac75b5row1_col1\" class=\"data row1 col1\" >1.00</td>\n",
       "                        <td id=\"T_b5106f74_6b75_11e9_8fa0_5cb901ac75b5row1_col2\" class=\"data row1 col2\" >0.24</td>\n",
       "            </tr>\n",
       "            <tr>\n",
       "                        <th id=\"T_b5106f74_6b75_11e9_8fa0_5cb901ac75b5level0_row2\" class=\"row_heading level0 row2\" >palkka</th>\n",
       "                        <td id=\"T_b5106f74_6b75_11e9_8fa0_5cb901ac75b5row2_col0\" class=\"data row2 col0\" >0.30</td>\n",
       "                        <td id=\"T_b5106f74_6b75_11e9_8fa0_5cb901ac75b5row2_col1\" class=\"data row2 col1\" >0.24</td>\n",
       "                        <td id=\"T_b5106f74_6b75_11e9_8fa0_5cb901ac75b5row2_col2\" class=\"data row2 col2\" >1.00</td>\n",
       "            </tr>\n",
       "    </tbody></table>"
      ],
      "text/plain": [
       "<pandas.io.formats.style.Styler at 0x19b4652a390>"
      ]
     },
     "execution_count": 9,
     "metadata": {},
     "output_type": "execute_result"
    }
   ],
   "source": [
    "#Korrelaatiokertoimia kahden desimaalin tarkkuudella\n",
    "df[['ikä', 'palveluv', 'palkka']].corr().style.format('{:.2f}')"
   ]
  },
  {
   "cell_type": "code",
   "execution_count": 10,
   "metadata": {},
   "outputs": [
    {
     "data": {
      "text/plain": [
       "<matplotlib.axes._subplots.AxesSubplot at 0x19b46ca10f0>"
      ]
     },
     "execution_count": 10,
     "metadata": {},
     "output_type": "execute_result"
    },
    {
     "data": {
      "image/png": "[encoded data removed]",
      "text/plain": [
       "<Figure size 432x288 with 1 Axes>"
      ]
     },
     "metadata": {
      "needs_background": "light"
     },
     "output_type": "display_data"
    }
   ],
   "source": [
    "#Iän ja palkan riippuvuus hajontakaaviona\n",
    "df.plot.scatter('ikä', 'palkka')"
   ]
  }
 ],
 "metadata": {
  "kernelspec": {
   "display_name": "Python 3",
   "language": "python",
   "name": "python3"
  },
  "language_info": {
   "codemirror_mode": {
    "name": "ipython",
    "version": 3
   },
   "file_extension": ".py",
   "mimetype": "text/x-python",
   "name": "python",
   "nbconvert_exporter": "python",
   "pygments_lexer": "ipython3",
   "version": "3.7.3"
  }
 },
 "nbformat": 4,
 "nbformat_minor": 2
}
