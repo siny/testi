{
 "cells": [
  {
   "cell_type": "markdown",
   "metadata": {},
   "source": [
    "# Lasken tunnuslukuja ja tallennan tulokset Excel-tiedostoon"
   ]
  },
  {
   "cell_type": "code",
   "execution_count": 1,
   "metadata": {},
   "outputs": [],
   "source": [
    "import pandas as pd\n",
    "\n",
    "df = pd.read_excel('http://taanila.fi/data1.xlsx')"
   ]
  },
  {
   "cell_type": "code",
   "execution_count": 2,
   "metadata": {},
   "outputs": [],
   "source": [
    "#alustan ExcelWriterin kirjoittamaan uuteen tiedostoon tunnusluvut.xlsx\n",
    "writer = pd.ExcelWriter('tunnusluvut.xlsx', engine = 'xlsxwriter')\n",
    "\n",
    "#lasken tunnusluvut dataframen muuttujille ja kirjoitan ne Tunnusluvut-taulukkovälilehdelle\n",
    "df.describe().to_excel(writer, sheet_name = 'Tunnusluvut')\n",
    "\n",
    "#lasken korrelaatiot ja kirjoitan ne Korrelaatiot-taulukkovälilehdelle\n",
    "df.corr().to_excel(writer, sheet_name = 'Korrelaatiot')\n",
    "\n",
    "#tallennan Excel-tiedoston\n",
    "writer.save()"
   ]
  },
  {
   "cell_type": "markdown",
   "metadata": {},
   "source": [
    "Tämän jälkeen voin avata tunnusluvut.xlsx -tiedoston Exceliin ja katsoa mitä kaikkea sain aikaan."
   ]
  }
 ],
 "metadata": {
  "kernelspec": {
   "display_name": "Python 3",
   "language": "python",
   "name": "python3"
  },
  "language_info": {
   "codemirror_mode": {
    "name": "ipython",
    "version": 3
   },
   "file_extension": ".py",
   "mimetype": "text/x-python",
   "name": "python",
   "nbconvert_exporter": "python",
   "pygments_lexer": "ipython3",
   "version": "3.7.2"
  }
 },
 "nbformat": 4,
 "nbformat_minor": 2
}
