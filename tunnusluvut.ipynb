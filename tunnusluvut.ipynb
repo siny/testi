{
 "cells": [
  {
   "cell_type": "markdown",
   "metadata": {},
   "source": [
    "# Tilastolliset tunnusluvut ja korrelaatiot Exceliin"
   ]
  },
  {
   "cell_type": "code",
   "execution_count": 4,
   "metadata": {},
   "outputs": [],
   "source": [
    "import pandas as pd\n",
    "\n",
    "# Avaan datan dataframeen\n",
    "df = pd.read_excel('http://taanila.fi/data1.xlsx')"
   ]
  },
  {
   "cell_type": "code",
   "execution_count": 6,
   "metadata": {},
   "outputs": [],
   "source": [
    "# Alustan ExcelWriterin kirjoittamaan uuteen tiedostoon tunnusluvut.xlsx\n",
    "writer = pd.ExcelWriter('tunnusluvut.xlsx', engine = 'xlsxwriter')\n",
    "\n",
    "# Lasken tunnusluvut dataframen muuttujille ja kirjoitan ne Tunnusluvut-taulukkovälilehdelle\n",
    "df.describe().to_excel(writer, sheet_name = 'Tunnusluvut')\n",
    "\n",
    "# Lasken korrelaatiot ja kirjoitan ne Korrelaatiot-taulukkovälilehdelle\n",
    "df.corr().to_excel(writer, sheet_name = 'Korrelaatiot')\n",
    "\n",
    "# Tallennan Excel-tiedoston\n",
    "writer.save()"
   ]
  },
  {
   "cell_type": "markdown",
   "metadata": {},
   "source": [
    "Tämän jälkeen voin avata tunnusluvut.xlsx -tiedoston Exceliin ja katsoa mitä sain aikaan."
   ]
  }
 ],
 "metadata": {
  "kernelspec": {
   "display_name": "Python 3",
   "language": "python",
   "name": "python3"
  },
  "language_info": {
   "codemirror_mode": {
    "name": "ipython",
    "version": 3
   },
   "file_extension": ".py",
   "mimetype": "text/x-python",
   "name": "python",
   "nbconvert_exporter": "python",
   "pygments_lexer": "ipython3",
   "version": "3.7.3"
  }
 },
 "nbformat": 4,
 "nbformat_minor": 2
}
