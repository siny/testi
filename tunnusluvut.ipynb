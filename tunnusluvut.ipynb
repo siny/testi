{
 "cells": [
  {
   "cell_type": "markdown",
   "metadata": {},
   "source": [
    "# Lasketaan tunnuslukuja ja tallennetaan tulokset Excel-tiedostoon"
   ]
  },
  {
   "cell_type": "markdown",
   "metadata": {},
   "source": [
    "https://pythonaki.wordpress.com/2017/12/17/tunnuslukuja-exceliin/"
   ]
  },
  {
   "cell_type": "code",
   "execution_count": 1,
   "metadata": {},
   "outputs": [],
   "source": [
    "import pandas as pd\n",
    "\n",
    "df = pd.read_excel('http://www.elisanet.fi/taanila/data1.xlsx', sheet_name = 'Data')"
   ]
  },
  {
   "cell_type": "code",
   "execution_count": 2,
   "metadata": {},
   "outputs": [],
   "source": [
    "#Alustan ExcelWriterin kirjoittamaan uuteen tiedostoon tunnusluvut.xlsx\n",
    "writer = pd.ExcelWriter('tunnusluvut.xlsx', engine = 'xlsxwriter')\n",
    "\n",
    "#Lasken tunnusluvut df-dataframen muuttujille ja kirjoitan ne Tunnusluvut-taulukkovälilehdelle\n",
    "df.describe().to_excel(writer, sheet_name = 'Tunnusluvut')\n",
    "\n",
    "#Lasken korrelaatiot ja kirjoitan ne Korrelaatiot-taulukkovälilehdelle\n",
    "df.corr().to_excel(writer, sheet_name = 'Korrelaatiot')\n",
    "\n",
    "#Tallennan Excel-tiedoston\n",
    "writer.save()"
   ]
  },
  {
   "cell_type": "markdown",
   "metadata": {},
   "source": [
    "Tämän jälkeen voin avata tunnusluvut.xlsx -tiedoston Exceliin ja katsoa mitä kaikkea sain aikaan. Kuinkahan paljon kauemmin saman aikaansaaminen olisi kestänyt Excelillä?"
   ]
  }
 ],
 "metadata": {
  "kernelspec": {
   "display_name": "Python 3",
   "language": "python",
   "name": "python3"
  },
  "language_info": {
   "codemirror_mode": {
    "name": "ipython",
    "version": 3
   },
   "file_extension": ".py",
   "mimetype": "text/x-python",
   "name": "python",
   "nbconvert_exporter": "python",
   "pygments_lexer": "ipython3",
   "version": "3.6.4"
  }
 },
 "nbformat": 4,
 "nbformat_minor": 2
}
